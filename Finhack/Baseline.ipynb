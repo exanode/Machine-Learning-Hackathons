{
 "cells": [
  {
   "cell_type": "code",
   "execution_count": 1,
   "metadata": {},
   "outputs": [],
   "source": [
    "import numpy as np\n",
    "import pandas as pd\n",
    "import matplotlib.pyplot as plt\n",
    "import seaborn as sns\n",
    "sns.set(style = 'whitegrid')\n",
    "\n",
    "import os\n",
    "\n",
    "data_path = 'C:\\\\Users\\\\sunil\\\\Projects\\\\Analytics vidya\\\\Finhack\\\\Data\\\\'\n",
    "submission_path = 'C:\\\\Users\\\\sunil\\\\Projects\\\\Analytics vidya\\\\Finhack\\\\Data\\\\submission\\\\'\n",
    "from sklearn.preprocessing import LabelEncoder\n",
    "le = LabelEncoder()\n",
    "\n",
    "from lightgbm import LGBMClassifier\n",
    "from sklearn.model_selection import train_test_split\n",
    "from sklearn.linear_model import LogisticRegression\n",
    "from sklearn.metrics import f1_score"
   ]
  },
  {
   "cell_type": "code",
   "execution_count": 2,
   "metadata": {},
   "outputs": [],
   "source": [
    "pd.set_option('display.max_columns', 100)"
   ]
  },
  {
   "cell_type": "code",
   "execution_count": 3,
   "metadata": {},
   "outputs": [
    {
     "name": "stdout",
     "output_type": "stream",
     "text": [
      "Wall time: 2min 30s\n"
     ]
    }
   ],
   "source": [
    "%%time\n",
    "train_data = pd.read_excel(data_path + 'Train\\\\Train\\\\train_Data.xlsx')\n",
    "train_bureau = pd.read_excel(data_path + 'Train\\\\Train\\\\train_bureau.xlsx')\n",
    "\n",
    "test_data = pd.read_excel(data_path + 'Test\\\\test_Data.xlsx')\n",
    "test_bureau = pd.read_excel(data_path + 'Test\\\\test_bureau.xlsx')"
   ]
  },
  {
   "cell_type": "code",
   "execution_count": 4,
   "metadata": {},
   "outputs": [],
   "source": [
    "sample_sub = pd.read_csv(data_path + 'sample_submission_ejm25Dc.csv')"
   ]
  },
  {
   "cell_type": "code",
   "execution_count": 6,
   "metadata": {},
   "outputs": [],
   "source": [
    "target = 'Top-up Month'\n",
    "ID = 'ID'\n",
    "d_date = 'DisbursalDate'\n",
    "m_date = 'MaturityDAte'\n",
    "a_date = 'AuthDate'\n",
    "features = [col for col in train_data.columns if col not in [target, ID, d_date, m_date, a_date]]"
   ]
  },
  {
   "cell_type": "code",
   "execution_count": 7,
   "metadata": {},
   "outputs": [
    {
     "data": {
      "text/plain": [
       "array([' > 48 Months', 'No Top-up Service', '12-18 Months',\n",
       "       '36-48 Months', '18-24 Months', '24-30 Months', '30-36 Months'],\n",
       "      dtype=object)"
      ]
     },
     "execution_count": 7,
     "metadata": {},
     "output_type": "execute_result"
    }
   ],
   "source": [
    "train_data[target].unique()"
   ]
  },
  {
   "cell_type": "code",
   "execution_count": 8,
   "metadata": {},
   "outputs": [],
   "source": [
    "train_target = [' > 48 Months', 'No Top-up Service', '12-18 Months','36-48 Months',\n",
    "                '18-24 Months', '24-30 Months', '30-36 Months']\n",
    "map_ls = [0, 1, 2, 3, 4, 5, 6]\n",
    "map_dict = dict(zip(train_target, map_ls))\n",
    "reverse_map_dict = dict(zip(map_ls, train_target))\n",
    "train_data[target] = train_data[target].map(map_dict)"
   ]
  },
  {
   "cell_type": "code",
   "execution_count": 157,
   "metadata": {},
   "outputs": [],
   "source": [
    "df = pd.concat( [train_data, test_data], axis = 0).reset_index(drop = True)"
   ]
  },
  {
   "cell_type": "code",
   "execution_count": 160,
   "metadata": {},
   "outputs": [],
   "source": [
    "df['Area'].fillna(value = df['Area'].mode()[0], inplace = True)\n",
    "df['ManufacturerID'].fillna(value = df['ManufacturerID'].mode()[0], inplace = True)\n",
    "df['SEX'].fillna(value = df['SEX'].mode()[0], inplace = True)\n",
    "df['AGE'].fillna(value = df['AGE'].mode()[0], inplace = True)\n",
    "df['MonthlyIncome'].fillna(value = df['MonthlyIncome'].mode()[0], inplace = True)\n",
    "df['City'].fillna(value = df['City'].mode()[0], inplace = True)\n",
    "df['City'].fillna(value = df['City'].mode()[0], inplace = True)\n",
    "df['ZiPCODE'].fillna(value = df['ZiPCODE'].mode()[0], inplace = True)"
   ]
  },
  {
   "cell_type": "code",
   "execution_count": 161,
   "metadata": {},
   "outputs": [],
   "source": [
    "cat_cols = [ 'Frequency', 'InstlmentMode', 'LoanStatus', 'PaymentMode','Area', \n",
    "            'DisbursalDate','AssetID', 'ManufacturerID', 'SupplierID', 'LTV', \n",
    "            'SEX', 'City', 'State', 'ZiPCODE']"
   ]
  },
  {
   "cell_type": "code",
   "execution_count": 162,
   "metadata": {},
   "outputs": [],
   "source": [
    "df[cat_cols] = df[cat_cols].apply(le.fit_transform)"
   ]
  },
  {
   "cell_type": "code",
   "execution_count": 163,
   "metadata": {},
   "outputs": [],
   "source": [
    "train_proc, test_proc = df.iloc[:train_data.shape[0]], df.iloc[train_data.shape[0]:]"
   ]
  },
  {
   "cell_type": "code",
   "execution_count": 164,
   "metadata": {},
   "outputs": [],
   "source": [
    "trn, val = train_test_split(train_proc, test_size=0.2, random_state = 1, stratify = train_proc[target])\n",
    "\n",
    "###### Input to our model will be the features\n",
    "X_trn, X_val = trn[features], val[features]\n",
    "\n",
    "###### Output of our model will be the TARGET_COL\n",
    "y_trn, y_val = trn[target], val[target]\n",
    "\n",
    "##### Features for the test data that we will be predicting\n",
    "X_test = test_proc[features]"
   ]
  },
  {
   "cell_type": "code",
   "execution_count": 191,
   "metadata": {},
   "outputs": [
    {
     "name": "stderr",
     "output_type": "stream",
     "text": [
      "C:\\Users\\sunil\\anaconda3\\lib\\site-packages\\sklearn\\linear_model\\_sag.py:330: ConvergenceWarning: The max_iter was reached which means the coef_ did not converge\n",
      "  \"the coef_ did not converge\", ConvergenceWarning)\n"
     ]
    },
    {
     "data": {
      "text/plain": [
       "0.1295141776593355"
      ]
     },
     "execution_count": 191,
     "metadata": {},
     "output_type": "execute_result"
    }
   ],
   "source": [
    "lr = LogisticRegression(random_state = 1, solver = 'saga', max_iter = 100)\n",
    "_ = lr.fit(X_trn, y_trn)\n",
    "\n",
    "preds_val = lr.predict(X_val)\n",
    "\n",
    "f1_score(y_val, preds_val, average='macro')"
   ]
  },
  {
   "cell_type": "code",
   "execution_count": 180,
   "metadata": {},
   "outputs": [
    {
     "data": {
      "text/plain": [
       "0.19121508839603177"
      ]
     },
     "execution_count": 180,
     "metadata": {},
     "output_type": "execute_result"
    }
   ],
   "source": [
    "clf = LGBMClassifier(random_state = 1,)\n",
    "_ = clf.fit(X_trn, y_trn)\n",
    "\n",
    "preds_val = clf.predict(X_val)\n",
    "\n",
    "f1_score(y_val, preds_val, average='macro')"
   ]
  },
  {
   "cell_type": "code",
   "execution_count": null,
   "metadata": {},
   "outputs": [],
   "source": [
    "preds = clf.predic(X_test)"
   ]
  },
  {
   "cell_type": "code",
   "execution_count": 182,
   "metadata": {},
   "outputs": [],
   "source": [
    "sample_sub[target] = preds"
   ]
  },
  {
   "cell_type": "code",
   "execution_count": 183,
   "metadata": {},
   "outputs": [],
   "source": [
    "sample_sub[target] = sample_sub[target].map(reverse_map_dict)"
   ]
  },
  {
   "cell_type": "code",
   "execution_count": 184,
   "metadata": {},
   "outputs": [],
   "source": [
    "sample_sub.to_csv(submission_path + 'LGBM_baseline_without_merge.csv', index = False)"
   ]
  },
  {
   "cell_type": "code",
   "execution_count": 185,
   "metadata": {},
   "outputs": [
    {
     "data": {
      "text/html": [
       "<div>\n",
       "<style scoped>\n",
       "    .dataframe tbody tr th:only-of-type {\n",
       "        vertical-align: middle;\n",
       "    }\n",
       "\n",
       "    .dataframe tbody tr th {\n",
       "        vertical-align: top;\n",
       "    }\n",
       "\n",
       "    .dataframe thead th {\n",
       "        text-align: right;\n",
       "    }\n",
       "</style>\n",
       "<table border=\"1\" class=\"dataframe\">\n",
       "  <thead>\n",
       "    <tr style=\"text-align: right;\">\n",
       "      <th></th>\n",
       "      <th>ID</th>\n",
       "      <th>Top-up Month</th>\n",
       "    </tr>\n",
       "  </thead>\n",
       "  <tbody>\n",
       "    <tr>\n",
       "      <th>0</th>\n",
       "      <td>4</td>\n",
       "      <td>No Top-up Service</td>\n",
       "    </tr>\n",
       "    <tr>\n",
       "      <th>1</th>\n",
       "      <td>5</td>\n",
       "      <td>No Top-up Service</td>\n",
       "    </tr>\n",
       "    <tr>\n",
       "      <th>2</th>\n",
       "      <td>6</td>\n",
       "      <td>No Top-up Service</td>\n",
       "    </tr>\n",
       "    <tr>\n",
       "      <th>3</th>\n",
       "      <td>25</td>\n",
       "      <td>No Top-up Service</td>\n",
       "    </tr>\n",
       "    <tr>\n",
       "      <th>4</th>\n",
       "      <td>119</td>\n",
       "      <td>No Top-up Service</td>\n",
       "    </tr>\n",
       "    <tr>\n",
       "      <th>...</th>\n",
       "      <td>...</td>\n",
       "      <td>...</td>\n",
       "    </tr>\n",
       "    <tr>\n",
       "      <th>14740</th>\n",
       "      <td>143396</td>\n",
       "      <td>No Top-up Service</td>\n",
       "    </tr>\n",
       "    <tr>\n",
       "      <th>14741</th>\n",
       "      <td>143397</td>\n",
       "      <td>No Top-up Service</td>\n",
       "    </tr>\n",
       "    <tr>\n",
       "      <th>14742</th>\n",
       "      <td>143398</td>\n",
       "      <td>No Top-up Service</td>\n",
       "    </tr>\n",
       "    <tr>\n",
       "      <th>14743</th>\n",
       "      <td>143399</td>\n",
       "      <td>No Top-up Service</td>\n",
       "    </tr>\n",
       "    <tr>\n",
       "      <th>14744</th>\n",
       "      <td>143400</td>\n",
       "      <td>No Top-up Service</td>\n",
       "    </tr>\n",
       "  </tbody>\n",
       "</table>\n",
       "<p>14745 rows × 2 columns</p>\n",
       "</div>"
      ],
      "text/plain": [
       "           ID       Top-up Month\n",
       "0           4  No Top-up Service\n",
       "1           5  No Top-up Service\n",
       "2           6  No Top-up Service\n",
       "3          25  No Top-up Service\n",
       "4         119  No Top-up Service\n",
       "...       ...                ...\n",
       "14740  143396  No Top-up Service\n",
       "14741  143397  No Top-up Service\n",
       "14742  143398  No Top-up Service\n",
       "14743  143399  No Top-up Service\n",
       "14744  143400  No Top-up Service\n",
       "\n",
       "[14745 rows x 2 columns]"
      ]
     },
     "execution_count": 185,
     "metadata": {},
     "output_type": "execute_result"
    }
   ],
   "source": [
    "sample_sub"
   ]
  },
  {
   "cell_type": "markdown",
   "metadata": {},
   "source": [
    "---\n",
    "# Merged"
   ]
  },
  {
   "cell_type": "code",
   "execution_count": 9,
   "metadata": {},
   "outputs": [],
   "source": [
    "merged_train = pd.merge(left=train_data, right=train_bureau, left_on='ID', right_on='ID')\n",
    "merged_test = pd.merge(left=test_data, right=test_bureau, left_on='ID', right_on='ID')"
   ]
  },
  {
   "cell_type": "code",
   "execution_count": 10,
   "metadata": {},
   "outputs": [],
   "source": [
    "df = pd.concat( [merged_train, merged_test], axis = 0).reset_index(drop = 0)"
   ]
  },
  {
   "cell_type": "code",
   "execution_count": 11,
   "metadata": {},
   "outputs": [],
   "source": [
    "cat_cols = [ 'Frequency', 'InstlmentMode', 'LoanStatus', 'PaymentMode','Area', \n",
    "            'DisbursalDate','AssetID', 'ManufacturerID', 'SupplierID', 'LTV', \n",
    "            'SEX', 'City', 'State', 'ZiPCODE', 'Frequency', 'InstlmentMode', \n",
    "            'LoanStatus', 'PaymentMode','BranchID', 'Area', 'Tenure','AssetID', \n",
    "            'ManufacturerID', 'SupplierID', 'LTV', 'SEX','AGE', 'City', 'State',\n",
    "            'ZiPCODE', 'Top-up Month','SELF-INDICATOR', 'MATCH-TYPE','ACCT-TYPE', 'OWNERSHIP-IND', 'ACCOUNT-STATUS']"
   ]
  },
  {
   "cell_type": "code",
   "execution_count": 20,
   "metadata": {},
   "outputs": [],
   "source": [
    "df['Area'].fillna(value = df['Area'].mode()[0], inplace = True)\n",
    "df['ManufacturerID'].fillna(value = df['ManufacturerID'].mode()[0], inplace = True)\n",
    "df['SEX'].fillna(value = df['SEX'].mode()[0], inplace = True)\n",
    "df['AGE'].fillna(value = df['AGE'].mode()[0], inplace = True)\n",
    "df['MonthlyIncome'].fillna(value = df['MonthlyIncome'].mode()[0], inplace = True)\n",
    "df['City'].fillna(value = df['City'].mode()[0], inplace = True)\n",
    "df['ZiPCODE'].fillna(value = df['ZiPCODE'].mode()[0], inplace = True)\n",
    "df['MaturityDAte'].fillna(value = df['MaturityDAte'].mode()[0], inplace = True)\n",
    "df['DISBURSED-AMT/HIGH CREDIT'].fillna(value = df['DISBURSED-AMT/HIGH CREDIT'].mode()[0], inplace = True)\n",
    "df['CURRENT-BAL'].fillna(value = df['CURRENT-BAL'].mode()[0], inplace = True)\n",
    "df['WRITE-OFF-AMT'].fillna(value = df['WRITE-OFF-AMT'].mode()[0], inplace = True)\n",
    "df['CURRENT-BAL'].fillna(value = df['CURRENT-BAL'].mode()[0], inplace = True)\n",
    "df['OVERDUE-AMT'].fillna(value = df['OVERDUE-AMT'].mode()[0], inplace = True)"
   ]
  },
  {
   "cell_type": "code",
   "execution_count": null,
   "metadata": {},
   "outputs": [],
   "source": [
    "'ASSET_CLASS','REPORTED DATE - HIST', 'DPD - HIST', 'CUR BAL - HIST', 'AMT OVERDUE - HIST', 'AMT PAID - HIST', 'TENURE'"
   ]
  },
  {
   "cell_type": "code",
   "execution_count": 34,
   "metadata": {},
   "outputs": [],
   "source": [
    "target = 'Top-up Month'\n",
    "ID = 'ID'\n",
    "d_date = 'DisbursalDate'\n",
    "m_date = 'MaturityDAte'\n",
    "a_date = 'AuthDate'\n",
    "m_d_date = 'DATE-REPORTED'\n",
    "m_dd_date = 'DISBURSED-DT'\n",
    "m_c_date = 'CLOSE-DT'\n",
    "m_l_date = 'LAST-PAYMENT-DATE'\n",
    "m_ddd_date = 'DISBURSED-AMT/HIGH CREDIT'\n",
    "\n",
    "features = [col for col in df.columns if col not in [target, ID, d_date, m_date, a_date, m_d_date, m_dd_date, m_ddd_date, m_c_date, m_l_date, 'ASSET_CLASS','REPORTED DATE - HIST', 'DPD - HIST', 'CUR BAL - HIST', 'AMT OVERDUE - HIST', 'AMT PAID - HIST', 'TENURE', 'CREDIT-LIMIT/SANC AMT', 'INSTALLMENT-AMT', 'INSTALLMENT-FREQUENCY', 'CONTRIBUTOR-TYPE', 'CURRENT-BAL', 'OVERDUE-AMT']]"
   ]
  },
  {
   "cell_type": "code",
   "execution_count": 35,
   "metadata": {},
   "outputs": [
    {
     "data": {
      "text/plain": [
       "('CONTRIBUTOR-TYPE', 'CURRENT-BAL', 'OVERDUE-AMT')"
      ]
     },
     "execution_count": 35,
     "metadata": {},
     "output_type": "execute_result"
    }
   ],
   "source": [
    "'CONTRIBUTOR-TYPE', 'CURRENT-BAL', 'OVERDUE-AMT'"
   ]
  },
  {
   "cell_type": "code",
   "execution_count": 36,
   "metadata": {},
   "outputs": [],
   "source": [
    "df[cat_cols] = df[cat_cols].apply(le.fit_transform)"
   ]
  },
  {
   "cell_type": "code",
   "execution_count": 37,
   "metadata": {},
   "outputs": [],
   "source": [
    "train_proc, test_proc = df.iloc[:merged_train.shape[0]], df.iloc[merged_train.shape[0]:]"
   ]
  },
  {
   "cell_type": "code",
   "execution_count": 38,
   "metadata": {},
   "outputs": [],
   "source": [
    "trn, val = train_test_split(train_proc, test_size=0.2, random_state = 1, stratify = train_proc[target])\n",
    "\n",
    "###### Input to our model will be the features\n",
    "X_trn, X_val = trn[features], val[features]\n",
    "\n",
    "###### Output of our model will be the TARGET_COL\n",
    "y_trn, y_val = trn[target], val[target]\n",
    "\n",
    "##### Features for the test data that we will be predicting\n",
    "X_test = test_proc[features]"
   ]
  },
  {
   "cell_type": "code",
   "execution_count": 39,
   "metadata": {},
   "outputs": [
    {
     "data": {
      "text/plain": [
       "0.5545859918373336"
      ]
     },
     "execution_count": 39,
     "metadata": {},
     "output_type": "execute_result"
    }
   ],
   "source": [
    "clf = LGBMClassifier(random_state = 1,)\n",
    "_ = clf.fit(X_trn, y_trn)\n",
    "\n",
    "preds_val = clf.predict(X_val)\n",
    "\n",
    "f1_score(y_val, preds_val, average='macro')"
   ]
  },
  {
   "cell_type": "code",
   "execution_count": 41,
   "metadata": {},
   "outputs": [],
   "source": [
    "preds = clf.predict(X_test)"
   ]
  },
  {
   "cell_type": "code",
   "execution_count": 44,
   "metadata": {},
   "outputs": [],
   "source": [
    "merged_test['preds'] = preds"
   ]
  },
  {
   "cell_type": "code",
   "execution_count": null,
   "metadata": {},
   "outputs": [],
   "source": [
    "source.groupby(['Country','City'])['Short name'].agg(pd.Series.mode).to_frame()"
   ]
  },
  {
   "cell_type": "code",
   "execution_count": 58,
   "metadata": {},
   "outputs": [],
   "source": [
    "id_pred_dict = round(merged_test.groupby('ID')['preds'].median()).to_dict()"
   ]
  },
  {
   "cell_type": "code",
   "execution_count": 237,
   "metadata": {},
   "outputs": [
    {
     "data": {
      "text/plain": [
       "(14745, 25)"
      ]
     },
     "execution_count": 237,
     "metadata": {},
     "output_type": "execute_result"
    }
   ],
   "source": [
    "test_data.shape"
   ]
  },
  {
   "cell_type": "code",
   "execution_count": 59,
   "metadata": {},
   "outputs": [],
   "source": [
    "sample_sub[target] = sample_sub['ID'].apply(lambda x: id_pred_dict[x])"
   ]
  },
  {
   "cell_type": "code",
   "execution_count": 60,
   "metadata": {},
   "outputs": [],
   "source": [
    "sample_sub[target] = sample_sub[target].map(reverse_map_dict)"
   ]
  },
  {
   "cell_type": "code",
   "execution_count": 63,
   "metadata": {},
   "outputs": [],
   "source": [
    "sample_sub.to_csv(submission_path + 'LGBM_baseline_without_merge.csv', index = False)"
   ]
  },
  {
   "cell_type": "code",
   "execution_count": 61,
   "metadata": {},
   "outputs": [
    {
     "data": {
      "text/plain": [
       "No Top-up Service    13686\n",
       "12-18 Months           503\n",
       " > 48 Months           239\n",
       "30-36 Months           140\n",
       "24-30 Months            81\n",
       "36-48 Months            63\n",
       "18-24 Months            33\n",
       "Name: Top-up Month, dtype: int64"
      ]
     },
     "execution_count": 61,
     "metadata": {},
     "output_type": "execute_result"
    }
   ],
   "source": [
    "sample_sub[target].value_counts()"
   ]
  },
  {
   "cell_type": "code",
   "execution_count": null,
   "metadata": {},
   "outputs": [],
   "source": []
  }
 ],
 "metadata": {
  "kernelspec": {
   "display_name": "Python 3",
   "language": "python",
   "name": "python3"
  },
  "language_info": {
   "codemirror_mode": {
    "name": "ipython",
    "version": 3
   },
   "file_extension": ".py",
   "mimetype": "text/x-python",
   "name": "python",
   "nbconvert_exporter": "python",
   "pygments_lexer": "ipython3",
   "version": "3.7.6"
  }
 },
 "nbformat": 4,
 "nbformat_minor": 4
}
