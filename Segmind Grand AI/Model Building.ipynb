{
 "cells": [
  {
   "cell_type": "code",
   "execution_count": 2,
   "metadata": {},
   "outputs": [],
   "source": [
    "import os \n",
    "import pandas as pd\n",
    "import numpy as np\n",
    "\n",
    "path = os.getcwd()\n",
    "\n",
    "from sklearn.model_selection import train_test_split\n",
    "\n",
    "from sklearn.linear_model import LinearRegression\n",
    "from sklearn.tree import DecisionTreeRegressor\n",
    "from sklearn.ensemble import RandomForestRegressor, AdaBoostRegressor, BaggingRegressor\n",
    "from lightgbm import LGBMRegressor\n",
    "from xgboost import XGBRegressor\n",
    "from catboost import CatBoostRegressor\n",
    "\n",
    "from sklearn.model_selection import StratifiedKFold, KFold\n",
    "from sklearn.preprocessing import StandardScaler, LabelEncoder\n",
    "le = LabelEncoder()\n",
    "\n",
    "from sklearn.metrics import mean_squared_error, mean_absolute_error, mean_squared_log_error\n",
    "\n",
    "import seaborn as sns\n",
    "import matplotlib.pyplot as plt"
   ]
  },
  {
   "cell_type": "code",
   "execution_count": 3,
   "metadata": {},
   "outputs": [],
   "source": [
    "path = 'C:\\\\Users\\\\sunil\\\\Projects\\\\Dockship\\\\segmind_grand_ai_challenge_2021-dataset'"
   ]
  },
  {
   "cell_type": "code",
   "execution_count": 4,
   "metadata": {},
   "outputs": [
    {
     "name": "stderr",
     "output_type": "stream",
     "text": [
      "C:\\Users\\sunil\\anaconda3\\lib\\site-packages\\IPython\\core\\interactiveshell.py:3063: DtypeWarning: Columns (7) have mixed types.Specify dtype option on import or set low_memory=False.\n",
      "  interactivity=interactivity, compiler=compiler, result=result)\n"
     ]
    }
   ],
   "source": [
    "train = pd.read_csv(path + \"\\\\dataset\\\\TRAIN.csv\")\n",
    "test = pd.read_csv(path + \"\\\\dataset\\\\TEST.csv\")\n",
    "ss = pd.read_csv(path + \"\\\\dataset\\\\sample_submission.csv\")\n",
    "shop = pd.read_csv(path + \"\\\\dataset\\\\store.csv\")"
   ]
  },
  {
   "cell_type": "code",
   "execution_count": 5,
   "metadata": {},
   "outputs": [],
   "source": [
    "train['Date'] = pd.to_datetime(train['Date'])\n",
    "test['Date'] = pd.to_datetime(test['Date'])\n",
    "\n",
    "train['year'] = train['Date'].dt.year\n",
    "train['month'] = train['Date'].dt.month\n",
    "train['day'] = train['Date'].dt.day\n",
    "train['dayofweek'] = train['Date'].dt.dayofweek\n",
    "train['week'] = train['Date'].dt.week\n",
    "\n",
    "test['year'] = test['Date'].dt.year\n",
    "test['month'] = test['Date'].dt.month\n",
    "test['day'] = test['Date'].dt.day\n",
    "test['dayofweek'] = test['Date'].dt.dayofweek\n",
    "test['week'] = test['Date'].dt.week\n",
    "\n",
    "train['StateHoliday'].replace({0 : 0, '0':0, 'a':1, 'b':2, 'c':3}, inplace = True)\n",
    "test['StateHoliday'].replace({0 : 0, '0':0, 'a':1, 'b':2, 'c':3}, inplace = True)"
   ]
  },
  {
   "cell_type": "code",
   "execution_count": 6,
   "metadata": {},
   "outputs": [],
   "source": [
    "# Merging\n",
    "\n",
    "store_type = dict(zip(shop['Store'], shop['StoreType']))\n",
    "store_ass = dict(zip(shop['Store'], shop['Assortment']))\n",
    "store_com = dict(zip(shop['Store'], shop['CompetitionDistance']))\n",
    "store_month = dict(zip(shop['Store'], shop['CompetitionOpenSinceMonth']))\n",
    "store_year = dict(zip(shop['Store'], shop['CompetitionOpenSinceYear']))\n",
    "store_p2 = dict(zip(shop['Store'], shop['Promo2']))\n",
    "store_pweek = dict(zip(shop['Store'], shop['Promo2SinceWeek']))\n",
    "store_pyear = dict(zip(shop['Store'], shop['Promo2SinceYear']))\n",
    "store_pi = dict(zip(shop['Store'], shop['PromoInterval']))\n",
    "\n",
    "train['Store_Type'] = train['Store'].map(store_type)\n",
    "train['Store_Assortment'] = train['Store'].map(store_ass)\n",
    "train['Store_distance'] = train['Store'].map(store_com)\n",
    "train['Store_CompetitionOpenSinceMonth'] = train['Store'].map(store_month)\n",
    "train['Store_CompetitionOpenSinceYear'] = train['Store'].map(store_year)\n",
    "train['Store_Promo2'] = train['Store'].map(store_p2)\n",
    "train['Store_Promo2SinceWeek'] = train['Store'].map(store_pweek)\n",
    "train['Store_Promo2SinceYear'] = train['Store'].map(store_pyear)\n",
    "train['Store_PromoInterval'] = train['Store'].map(store_pi)\n",
    "\n",
    "\n",
    "test['Store_Type'] = test['Store'].map(store_type)\n",
    "test['Store_Assortment'] = test['Store'].map(store_ass)\n",
    "test['Store_distance'] = test['Store'].map(store_com)\n",
    "test['Store_CompetitionOpenSinceMonth'] = test['Store'].map(store_month)\n",
    "test['Store_CompetitionOpenSinceYear'] = test['Store'].map(store_year)\n",
    "test['Store_Promo2'] = test['Store'].map(store_p2)\n",
    "test['Store_Promo2SinceWeek'] = test['Store'].map(store_pweek)\n",
    "test['Store_Promo2SinceYear'] = test['Store'].map(store_pyear)\n",
    "test['Store_PromoInterval'] = test['Store'].map(store_pi)\n",
    "\n",
    "\n",
    "train['Store_Assortment'].unique()\n",
    "train['Store_Assortment'].replace({'a':1, 'b':2, 'c':3}, inplace = True)\n",
    "test['Store_Assortment'].replace({'a':1, 'b':2, 'c':3}, inplace = True)\n",
    "\n",
    "\n",
    "a = [0, 'Jan,Apr,Jul,Oct', 'Feb,May,Aug,Nov', 'Mar,Jun,Sept,Dec']\n",
    "b = [0, 1, 2, 3]\n",
    "\n",
    "train['Store_PromoInterval'].replace(dict(zip(a, b)), inplace = True)\n",
    "test['Store_PromoInterval'].replace(dict(zip(a, b)), inplace = True)\n",
    "\n",
    "train['Store_Type'].replace({'a':1, 'b':2, 'c':3, 'd':4}, inplace = True)\n",
    "test['Store_Type'].replace({'a':1, 'b':2, 'c':3, 'd':4}, inplace = True)\n",
    "\n",
    "train.fillna(0, inplace = True)\n",
    "test.fillna(0, inplace = True)"
   ]
  },
  {
   "cell_type": "code",
   "execution_count": 7,
   "metadata": {},
   "outputs": [],
   "source": [
    "# Changing Datatype\n",
    "\n",
    "int8_cols = ['DayOfWeek', 'Open', 'Promo','StateHoliday', 'SchoolHoliday', \n",
    "'month', 'day', 'dayofweek','week', 'Store_Type', 'Store_Assortment',\n",
    "'Store_CompetitionOpenSinceMonth','Store_Promo2', \n",
    "'Store_Promo2SinceWeek','Store_PromoInterval']\n",
    "\n",
    "int16_cols = ['Customers', 'year', 'Store', 'Store_CompetitionOpenSinceYear', 'Store_Promo2SinceYear']\n",
    "\n",
    "int32_cols = ['Sales', 'Store_distance']\n",
    "\n",
    "def int8(x):\n",
    "    train[x] = train[x].astype('int8')\n",
    "    \n",
    "    test[x] = test[x].astype('int8')\n",
    "\n",
    "def int16(x):\n",
    "    train[x] = train[x].astype('int16')\n",
    "    if x != 'Customers':\n",
    "        test[x] = test[x].astype('int16')\n",
    "\n",
    "def int32(x):\n",
    "    train[x] = train[x].astype('int32')\n",
    "    if x != 'Sales':\n",
    "        test[x] = test[x].astype('int32')\n",
    "\n",
    "for col in int8_cols:\n",
    "    int8(col)\n",
    "\n",
    "for col in int16_cols:\n",
    "    int16(col)\n",
    "\n",
    "for col in int32_cols:\n",
    "    int32(col)"
   ]
  },
  {
   "cell_type": "code",
   "execution_count": 8,
   "metadata": {},
   "outputs": [],
   "source": [
    "# Dropping Samples with Open=0\n",
    "\n",
    "index = train[ train['Open'] == 0].index\n",
    "train.drop(index, inplace = True, axis = 0)"
   ]
  },
  {
   "cell_type": "code",
   "execution_count": 9,
   "metadata": {},
   "outputs": [],
   "source": [
    "train['Sales'] = np.sqrt(train['Sales'])"
   ]
  },
  {
   "cell_type": "code",
   "execution_count": 10,
   "metadata": {},
   "outputs": [
    {
     "data": {
      "text/plain": [
       "0.0"
      ]
     },
     "execution_count": 10,
     "metadata": {},
     "output_type": "execute_result"
    }
   ],
   "source": [
    "np.sqrt(0)"
   ]
  },
  {
   "cell_type": "code",
   "execution_count": 11,
   "metadata": {},
   "outputs": [],
   "source": [
    "target = 'Sales'\n",
    "date = 'Date'\n",
    "customer = 'Customers'\n",
    "\n",
    "cat_cols = ['Store', 'DayOfWeek', 'Open', 'Promo',\n",
    "       'StateHoliday', 'SchoolHoliday', 'year', 'month', 'day', 'dayofweek',\n",
    "       'week', 'Store_Type', 'Store_Assortment',\n",
    "       'Store_CompetitionOpenSinceMonth', 'Store_CompetitionOpenSinceYear',\n",
    "       'Store_Promo2', 'Store_Promo2SinceWeek', 'Store_Promo2SinceYear',\n",
    "       'Store_PromoInterval']\n",
    "\n",
    "features = [col for col in train.columns if col not in [target, date, customer]]"
   ]
  },
  {
   "cell_type": "code",
   "execution_count": 12,
   "metadata": {},
   "outputs": [],
   "source": [
    "trn, val = train_test_split(train, test_size = 0.2, random_state = 1999)\n",
    "\n",
    "##### Input for model\n",
    "X_trn, X_val = trn[features], val[features]\n",
    "\n",
    "##### Target column\n",
    "y_trn, y_val = trn[target], val[target]\n",
    "\n",
    "##### Features for test data that we will be predicting\n",
    "X_test = test[features]"
   ]
  },
  {
   "cell_type": "markdown",
   "metadata": {},
   "source": [
    "%%time\n",
    "\n",
    "lr = LGBMRegressor(random_state=1)\n",
    "\n",
    "lr.fit(X_trn, y_trn)\n",
    "\n",
    "preds = lr.predict(X_val)\n",
    "preds = np.abs(preds)\n",
    "\n",
    "error = np.sqrt(mean_squared_error(y_val, preds))\n",
    "\n",
    "print(f'mean_squared_log_error is : {error}')\n",
    "#17**"
   ]
  },
  {
   "cell_type": "code",
   "execution_count": 13,
   "metadata": {},
   "outputs": [
    {
     "name": "stdout",
     "output_type": "stream",
     "text": [
      "mean_squared_log_error is : 1100.5007253984288\n",
      "Wall time: 8.93 s\n"
     ]
    }
   ],
   "source": [
    "%%time\n",
    "\n",
    "lr = XGBRegressor(random_state=1)\n",
    "\n",
    "lr.fit(X_trn, y_trn)\n",
    "\n",
    "preds = lr.predict(X_val)\n",
    "preds = np.abs(preds)\n",
    "\n",
    "error = np.sqrt(mean_squared_error((y_val)**2, (preds)**2))\n",
    "\n",
    "print(f'mean_squared_log_error is : {error}')\n",
    "#1125"
   ]
  },
  {
   "cell_type": "code",
   "execution_count": 14,
   "metadata": {},
   "outputs": [
    {
     "name": "stdout",
     "output_type": "stream",
     "text": [
      "mean_squared_log_error is : 687.2267453865767\n",
      "Wall time: 3min 20s\n"
     ]
    }
   ],
   "source": [
    "%%time\n",
    "params = {'max_depth': 14, 'n_estimators': 1059, 'learning_rate': 0.7436704297351775, \n",
    " 'colsample_bytree': 0.5822107008573151, 'reg_alpha': 54.53382998139, 'reg_lambda': 42.423114453956586}\n",
    "\n",
    "lr = XGBRegressor(random_state=1, **params)\n",
    "\n",
    "lr.fit(X_trn, y_trn, )\n",
    "\n",
    "preds = lr.predict(X_val)\n",
    "preds = np.abs(preds)\n",
    "\n",
    "error = np.sqrt(mean_squared_error((y_val)**2, (preds)**2))\n",
    "\n",
    "print(f'mean_squared_log_error is : {error}')\n",
    "#1125"
   ]
  },
  {
   "cell_type": "markdown",
   "metadata": {
    "scrolled": true
   },
   "source": [
    "%%time\n",
    "params = {'max_depth': 14, 'n_estimators': 1059, 'learning_rate': 0.7436704297351775, \n",
    " 'colsample_bytree': 0.5822107008573151, 'reg_alpha': 54.53382998139, 'reg_lambda': 42.423114453956586}\n",
    "\n",
    "lr = XGBRegressor(random_state=1, **params)\n",
    "\n",
    "lr.fit(X_trn, y_trn, eval_set = [(X_val, y_val)], early_stopping_rounds = 80)\n",
    "\n",
    "preds = lr.predict(X_val)\n",
    "preds = np.abs(preds)\n",
    "\n",
    "error = np.sqrt(mean_squared_error((y_val)**2, (preds)**2))\n",
    "\n",
    "print(f'mean_squared_log_error is : {error}')\n",
    "#1125"
   ]
  },
  {
   "cell_type": "markdown",
   "metadata": {
    "collapsed": true
   },
   "source": [
    "%%time\n",
    "\n",
    "lr = CatBoostRegressor(random_state=1)\n",
    "\n",
    "lr.fit(X_trn, y_trn)\n",
    "\n",
    "preds = lr.predict(X_val)\n",
    "preds = np.abs(preds)\n",
    "\n",
    "error = np.sqrt(mean_squared_error(y_val, preds))\n",
    "\n",
    "print(f'mean_squared_log_error is : {error}')\n",
    "#1047"
   ]
  },
  {
   "cell_type": "markdown",
   "metadata": {},
   "source": [
    "%%time\n",
    "cat_cols = ['Store', 'DayOfWeek', 'Promo', 'dayofweek']\n",
    "\n",
    "lr = CatBoostRegressor(random_state=1, cat_features=cat_cols)\n",
    "\n",
    "lr.fit(X_trn, y_trn)\n",
    "\n",
    "preds = lr.predict(X_val)\n",
    "preds = np.abs(preds)\n",
    "\n",
    "error = np.sqrt(mean_squared_error(y_val, preds))\n",
    "\n",
    "print(f'mean_squared_log_error is : {error}')\n",
    "###### Without Cat cols: 1047\n",
    "#840\n",
    "#847 cat_cols 2"
   ]
  },
  {
   "cell_type": "markdown",
   "metadata": {},
   "source": [
    "%%time\n",
    "\n",
    "lr = CatBoostRegressor(random_state=1, cat_features=cat_cols)\n",
    "\n",
    "lr.fit(train[features], train[target])\n",
    "\n",
    "preds = lr.predict(X_test)\n",
    "preds = np.abs(preds)\n",
    "#cat with4 cat features lb score 1041"
   ]
  },
  {
   "cell_type": "markdown",
   "metadata": {},
   "source": [
    "%%time\n",
    "\n",
    "cat_cols = ['Store', 'Promo']\n",
    "lr = CatBoostRegressor(random_state=1, cat_features=cat_cols, n_estimators=5000)\n",
    "\n",
    "lr.fit(train[features], train[target], eval_set = [(X_val, y_val)], early_stopping_rounds = 80)\n",
    "\n",
    "preds = lr.predict(X_test)\n",
    "preds = np.abs(preds)\n",
    "# With eval set and no cat_cols: lb score 1093"
   ]
  },
  {
   "cell_type": "code",
   "execution_count": 20,
   "metadata": {
    "scrolled": true
   },
   "outputs": [
    {
     "name": "stdout",
     "output_type": "stream",
     "text": [
      "Wall time: 6min 28s\n"
     ]
    }
   ],
   "source": [
    "%%time\n",
    "params = {'max_depth': 14, 'n_estimators': 1059, 'learning_rate': 0.7436704297351775, \n",
    " 'colsample_bytree': 0.5822107008573151, 'reg_alpha': 54.53382998139, 'reg_lambda': 42.423114453956586}\n",
    "lr = XGBRegressor(random_state=1, n_jobs = -1, **params)\n",
    "\n",
    "lr.fit(train[features], train[target])\n",
    "\n",
    "preds = lr.predict(X_test)\n",
    "preds = np.abs(preds)\n",
    "# With eval set and no cat_cols: lb score 1093"
   ]
  },
  {
   "cell_type": "code",
   "execution_count": 21,
   "metadata": {},
   "outputs": [],
   "source": [
    "preds = preds**2\n",
    "test['Predictions'] = preds\n",
    "test.loc[ test['Open'] == 0, 'Predictions'] = 0\n",
    "preds = test['Predictions']\n",
    "\n",
    "index = [i for i in range(test.shape[0])]\n",
    "\n",
    "d = list(zip(index, preds))\n",
    "\n",
    "ss = pd.DataFrame(d, columns = ['index', 'Sales'])"
   ]
  },
  {
   "cell_type": "code",
   "execution_count": 22,
   "metadata": {},
   "outputs": [],
   "source": [
    "ss.to_csv(path + \"\\\\baseline_cat.csv\", index = False)"
   ]
  },
  {
   "cell_type": "code",
   "execution_count": 282,
   "metadata": {
    "collapsed": true
   },
   "outputs": [
    {
     "data": {
      "text/html": [
       "<div>\n",
       "<style scoped>\n",
       "    .dataframe tbody tr th:only-of-type {\n",
       "        vertical-align: middle;\n",
       "    }\n",
       "\n",
       "    .dataframe tbody tr th {\n",
       "        vertical-align: top;\n",
       "    }\n",
       "\n",
       "    .dataframe thead th {\n",
       "        text-align: right;\n",
       "    }\n",
       "</style>\n",
       "<table border=\"1\" class=\"dataframe\">\n",
       "  <thead>\n",
       "    <tr style=\"text-align: right;\">\n",
       "      <th></th>\n",
       "      <th>index</th>\n",
       "      <th>Sales</th>\n",
       "    </tr>\n",
       "  </thead>\n",
       "  <tbody>\n",
       "    <tr>\n",
       "      <th>0</th>\n",
       "      <td>0</td>\n",
       "      <td>0.000000</td>\n",
       "    </tr>\n",
       "    <tr>\n",
       "      <th>1</th>\n",
       "      <td>1</td>\n",
       "      <td>3922.651855</td>\n",
       "    </tr>\n",
       "    <tr>\n",
       "      <th>2</th>\n",
       "      <td>2</td>\n",
       "      <td>6902.786133</td>\n",
       "    </tr>\n",
       "    <tr>\n",
       "      <th>3</th>\n",
       "      <td>3</td>\n",
       "      <td>3894.173340</td>\n",
       "    </tr>\n",
       "    <tr>\n",
       "      <th>4</th>\n",
       "      <td>4</td>\n",
       "      <td>6356.049805</td>\n",
       "    </tr>\n",
       "    <tr>\n",
       "      <th>...</th>\n",
       "      <td>...</td>\n",
       "      <td>...</td>\n",
       "    </tr>\n",
       "    <tr>\n",
       "      <th>305158</th>\n",
       "      <td>305158</td>\n",
       "      <td>9431.999023</td>\n",
       "    </tr>\n",
       "    <tr>\n",
       "      <th>305159</th>\n",
       "      <td>305159</td>\n",
       "      <td>7354.692871</td>\n",
       "    </tr>\n",
       "    <tr>\n",
       "      <th>305160</th>\n",
       "      <td>305160</td>\n",
       "      <td>4196.920898</td>\n",
       "    </tr>\n",
       "    <tr>\n",
       "      <th>305161</th>\n",
       "      <td>305161</td>\n",
       "      <td>2640.353271</td>\n",
       "    </tr>\n",
       "    <tr>\n",
       "      <th>305162</th>\n",
       "      <td>305162</td>\n",
       "      <td>5394.738281</td>\n",
       "    </tr>\n",
       "  </tbody>\n",
       "</table>\n",
       "<p>305163 rows × 2 columns</p>\n",
       "</div>"
      ],
      "text/plain": [
       "         index        Sales\n",
       "0            0     0.000000\n",
       "1            1  3922.651855\n",
       "2            2  6902.786133\n",
       "3            3  3894.173340\n",
       "4            4  6356.049805\n",
       "...        ...          ...\n",
       "305158  305158  9431.999023\n",
       "305159  305159  7354.692871\n",
       "305160  305160  4196.920898\n",
       "305161  305161  2640.353271\n",
       "305162  305162  5394.738281\n",
       "\n",
       "[305163 rows x 2 columns]"
      ]
     },
     "execution_count": 282,
     "metadata": {},
     "output_type": "execute_result"
    }
   ],
   "source": [
    "{'max_depth': 14, 'n_estimators': 1059, 'learning_rate': 0.7436704297351775, 'colsample_bytree': 0.5822107008573151, 'reg_alpha': 54.53382998139, 'reg_lambda': 42.423114453956586}"
   ]
  },
  {
   "cell_type": "code",
   "execution_count": 23,
   "metadata": {},
   "outputs": [
    {
     "data": {
      "text/html": [
       "<div>\n",
       "<style scoped>\n",
       "    .dataframe tbody tr th:only-of-type {\n",
       "        vertical-align: middle;\n",
       "    }\n",
       "\n",
       "    .dataframe tbody tr th {\n",
       "        vertical-align: top;\n",
       "    }\n",
       "\n",
       "    .dataframe thead th {\n",
       "        text-align: right;\n",
       "    }\n",
       "</style>\n",
       "<table border=\"1\" class=\"dataframe\">\n",
       "  <thead>\n",
       "    <tr style=\"text-align: right;\">\n",
       "      <th></th>\n",
       "      <th>index</th>\n",
       "      <th>Sales</th>\n",
       "    </tr>\n",
       "  </thead>\n",
       "  <tbody>\n",
       "    <tr>\n",
       "      <th>0</th>\n",
       "      <td>0</td>\n",
       "      <td>0.000000</td>\n",
       "    </tr>\n",
       "    <tr>\n",
       "      <th>1</th>\n",
       "      <td>1</td>\n",
       "      <td>3356.283691</td>\n",
       "    </tr>\n",
       "    <tr>\n",
       "      <th>2</th>\n",
       "      <td>2</td>\n",
       "      <td>6645.156738</td>\n",
       "    </tr>\n",
       "    <tr>\n",
       "      <th>3</th>\n",
       "      <td>3</td>\n",
       "      <td>3700.219971</td>\n",
       "    </tr>\n",
       "    <tr>\n",
       "      <th>4</th>\n",
       "      <td>4</td>\n",
       "      <td>7940.783691</td>\n",
       "    </tr>\n",
       "    <tr>\n",
       "      <th>...</th>\n",
       "      <td>...</td>\n",
       "      <td>...</td>\n",
       "    </tr>\n",
       "    <tr>\n",
       "      <th>305158</th>\n",
       "      <td>305158</td>\n",
       "      <td>11650.657227</td>\n",
       "    </tr>\n",
       "    <tr>\n",
       "      <th>305159</th>\n",
       "      <td>305159</td>\n",
       "      <td>7599.108887</td>\n",
       "    </tr>\n",
       "    <tr>\n",
       "      <th>305160</th>\n",
       "      <td>305160</td>\n",
       "      <td>5368.822266</td>\n",
       "    </tr>\n",
       "    <tr>\n",
       "      <th>305161</th>\n",
       "      <td>305161</td>\n",
       "      <td>2829.407715</td>\n",
       "    </tr>\n",
       "    <tr>\n",
       "      <th>305162</th>\n",
       "      <td>305162</td>\n",
       "      <td>5253.645020</td>\n",
       "    </tr>\n",
       "  </tbody>\n",
       "</table>\n",
       "<p>305163 rows × 2 columns</p>\n",
       "</div>"
      ],
      "text/plain": [
       "         index         Sales\n",
       "0            0      0.000000\n",
       "1            1   3356.283691\n",
       "2            2   6645.156738\n",
       "3            3   3700.219971\n",
       "4            4   7940.783691\n",
       "...        ...           ...\n",
       "305158  305158  11650.657227\n",
       "305159  305159   7599.108887\n",
       "305160  305160   5368.822266\n",
       "305161  305161   2829.407715\n",
       "305162  305162   5253.645020\n",
       "\n",
       "[305163 rows x 2 columns]"
      ]
     },
     "execution_count": 23,
     "metadata": {},
     "output_type": "execute_result"
    }
   ],
   "source": [
    "ss"
   ]
  },
  {
   "cell_type": "code",
   "execution_count": null,
   "metadata": {},
   "outputs": [],
   "source": []
  }
 ],
 "metadata": {
  "kernelspec": {
   "display_name": "Python 3",
   "language": "python",
   "name": "python3"
  },
  "language_info": {
   "codemirror_mode": {
    "name": "ipython",
    "version": 3
   },
   "file_extension": ".py",
   "mimetype": "text/x-python",
   "name": "python",
   "nbconvert_exporter": "python",
   "pygments_lexer": "ipython3",
   "version": "3.7.6"
  }
 },
 "nbformat": 4,
 "nbformat_minor": 4
}
