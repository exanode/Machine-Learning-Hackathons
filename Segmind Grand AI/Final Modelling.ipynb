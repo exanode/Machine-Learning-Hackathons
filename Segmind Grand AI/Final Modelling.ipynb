{
 "cells": [
  {
   "cell_type": "code",
   "execution_count": 1,
   "metadata": {},
   "outputs": [],
   "source": [
    "import os \n",
    "import pandas as pd\n",
    "import numpy as np\n",
    "\n",
    "path = os.getcwd()\n",
    "\n",
    "from sklearn.model_selection import train_test_split\n",
    "\n",
    "from sklearn.linear_model import LinearRegression\n",
    "from sklearn.tree import DecisionTreeRegressor\n",
    "from sklearn.ensemble import RandomForestRegressor, AdaBoostRegressor, BaggingRegressor\n",
    "from lightgbm import LGBMRegressor\n",
    "from xgboost import XGBRegressor\n",
    "from catboost import CatBoostRegressor\n",
    "\n",
    "from sklearn.model_selection import StratifiedKFold, KFold\n",
    "from sklearn.preprocessing import StandardScaler, LabelEncoder\n",
    "le = LabelEncoder()\n",
    "\n",
    "from sklearn.metrics import mean_squared_error, mean_absolute_error, mean_squared_log_error\n",
    "\n",
    "import seaborn as sns\n",
    "import matplotlib.pyplot as plt"
   ]
  },
  {
   "cell_type": "code",
   "execution_count": 2,
   "metadata": {},
   "outputs": [],
   "source": [
    "path = 'C:\\\\Users\\\\sunil\\\\Projects\\\\Dockship\\\\segmind_grand_ai_challenge_2021-dataset'"
   ]
  },
  {
   "cell_type": "code",
   "execution_count": 3,
   "metadata": {},
   "outputs": [
    {
     "name": "stderr",
     "output_type": "stream",
     "text": [
      "C:\\Users\\sunil\\anaconda3\\lib\\site-packages\\IPython\\core\\interactiveshell.py:3063: DtypeWarning: Columns (7) have mixed types.Specify dtype option on import or set low_memory=False.\n",
      "  interactivity=interactivity, compiler=compiler, result=result)\n"
     ]
    }
   ],
   "source": [
    "train = pd.read_csv(path + \"\\\\dataset\\\\TRAIN.csv\")\n",
    "test = pd.read_csv(path + \"\\\\dataset\\\\TEST.csv\")\n",
    "ss = pd.read_csv(path + \"\\\\dataset\\\\sample_submission.csv\")\n",
    "shop = pd.read_csv(path + \"\\\\dataset\\\\store.csv\")"
   ]
  },
  {
   "cell_type": "code",
   "execution_count": 4,
   "metadata": {},
   "outputs": [],
   "source": [
    "# train['Date'] = pd.to_datetime(train['Date'])\n",
    "# test['Date'] = pd.to_datetime(test['Date'])\n",
    "\n",
    "\n",
    "# train = pd.merge(train, shop, how = 'left', on = 'Store')\n",
    "# test = pd.merge(test, shop, how = 'left', on = 'Store')\n",
    "\n",
    "\n",
    "# df = pd.concat([train, test], axis = 0).reset_index(drop=True)"
   ]
  },
  {
   "cell_type": "code",
   "execution_count": 5,
   "metadata": {},
   "outputs": [],
   "source": [
    "# def get_elapsed(fld, pre):\n",
    "#     day1 = np.timedelta64(1, 'D')\n",
    "#     last_date = np.datetime64()\n",
    "#     last_store = 0\n",
    "#     res = []\n",
    "    \n",
    "#     for s, v, d in zip(df.Store.values, df[fld].values, df.Date.values): # zip is 300 times faster than using for rows in df.iterrows():\n",
    "#         if s!= last_store:\n",
    "#             last_date = np.datetime64()\n",
    "#             last_store = s\n",
    "#         if v: last_date = d # keep track of the row if it is a school holiday\n",
    "#         res.append((d-last_date).astype('timedelta64[D]') / day1) # append the no of days since last school holiday to result(res)\n",
    "#     df[pre+fld] = res\n",
    "\n",
    "# columns = [\"Date\", \"Store\", \"Promo\", \"StateHoliday\", \"SchoolHoliday\"]\n",
    "# #df = train[columns]\n",
    "# df = train[columns].append(test[columns])\n",
    "\n",
    "# fld = 'SchoolHoliday'\n",
    "# df = df.sort_values(['Store', 'Date'])\n",
    "# get_elapsed(fld, 'After')\n",
    "# df = df.sort_values(['Store', 'Date'], ascending=[True, False]) # sort store in scending and date in descending order.\n",
    "# get_elapsed(fld, 'Before')\n",
    "\n",
    "# fld = 'StateHoliday'\n",
    "# df = df.sort_values(['Store', 'Date'])\n",
    "# get_elapsed(fld, 'After')\n",
    "# df = df.sort_values(['Store', 'Date'], ascending=[True, False])\n",
    "# get_elapsed(fld, 'Before')\n",
    "\n",
    "\n",
    "# fld = 'Promo'\n",
    "# df = df.sort_values(['Store', 'Date'])\n",
    "# get_elapsed(fld, 'After')\n",
    "# df = df.sort_values(['Store', 'Date'], ascending=[True, False])\n",
    "# get_elapsed(fld, 'Before')\n",
    "\n",
    "\n",
    "# df = df.set_index(\"Date\")\n",
    "\n",
    "\n",
    "\n",
    "# columns = ['SchoolHoliday', 'StateHoliday', 'Promo']\n",
    "\n",
    "# for o in ['Before', 'After']:\n",
    "#     for p in columns:\n",
    "#         a = o+p\n",
    "#         df[a] = df[a].fillna(0).astype(int)\n",
    "\n",
    "# bwd = df[['Store']+columns].sort_index().groupby(\"Store\").rolling(7, min_periods=1).sum()\n",
    "\n",
    "# bwd.drop('Store',1,inplace=True)\n",
    "# bwd.reset_index(inplace=True)\n",
    "\n",
    "# df = df.merge(bwd, 'left', [\"Date\", \"Store\"], suffixes=['', '_bw'])"
   ]
  },
  {
   "cell_type": "code",
   "execution_count": 6,
   "metadata": {},
   "outputs": [],
   "source": [
    "train['Date'] = pd.to_datetime(train['Date'])\n",
    "test['Date'] = pd.to_datetime(test['Date'])\n",
    "\n",
    "train['year'] = train['Date'].dt.year\n",
    "train['month'] = train['Date'].dt.month\n",
    "train['day'] = train['Date'].dt.day\n",
    "train['week'] = train['Date'].dt.week\n",
    "\n",
    "test['year'] = test['Date'].dt.year\n",
    "test['month'] = test['Date'].dt.month\n",
    "test['day'] = test['Date'].dt.day\n",
    "test['week'] = test['Date'].dt.week\n",
    "\n",
    "train['StateHoliday'].replace({0 : 4, '0':0, 'a':1, 'b':2, 'c':3}, inplace = True)\n",
    "test['StateHoliday'].replace({0 : 4, '0':0, 'a':1, 'b':2, 'c':3}, inplace = True)"
   ]
  },
  {
   "cell_type": "code",
   "execution_count": 7,
   "metadata": {},
   "outputs": [],
   "source": [
    "# Merging\n",
    "\n",
    "train = pd.merge(train, shop, how = 'left', on = 'Store')\n",
    "test = pd.merge(test, shop, how = 'left', on = 'Store')\n",
    "\n",
    "train['Assortment'].unique()\n",
    "train['Assortment'].replace({'a':1, 'b':2, 'c':3}, inplace = True)\n",
    "test['Assortment'].replace({'a':1, 'b':2, 'c':3}, inplace = True)\n",
    "\n",
    "\n",
    "a = [0, 'Jan,Apr,Jul,Oct', 'Feb,May,Aug,Nov', 'Mar,Jun,Sept,Dec']\n",
    "b = [0, 1, 2, 3]\n",
    "\n",
    "train['PromoInterval'].replace(dict(zip(a, b)), inplace = True)\n",
    "test['PromoInterval'].replace(dict(zip(a, b)), inplace = True)\n",
    "\n",
    "train['StoreType'].replace({'a':1, 'b':2, 'c':3, 'd':4}, inplace = True)\n",
    "test['StoreType'].replace({'a':1, 'b':2, 'c':3, 'd':4}, inplace = True)\n",
    "\n",
    "\n",
    "train['CompetitionDistance'].fillna(train['CompetitionDistance'].mean(), inplace = True)\n",
    "test['CompetitionDistance'].fillna(test['CompetitionDistance'].mean(), inplace = True)\n",
    "\n",
    "train.fillna(0, inplace = True)\n",
    "test.fillna(0, inplace = True)"
   ]
  },
  {
   "cell_type": "code",
   "execution_count": 8,
   "metadata": {},
   "outputs": [],
   "source": [
    "target = 'Sales'\n",
    "date = 'Date'\n",
    "customer = 'Customers'\n",
    "\n",
    "cat_cols = ['Store', 'DayOfWeek', 'Open', 'Promo',\n",
    "       'StateHoliday', 'SchoolHoliday', 'year', 'month', 'day', 'dayofweek',\n",
    "       'week', 'Store_Type', 'Store_Assortment',\n",
    "       'Store_CompetitionOpenSinceMonth', 'Store_CompetitionOpenSinceYear',\n",
    "       'Store_Promo2', 'Store_Promo2SinceWeek', 'Store_Promo2SinceYear',\n",
    "       'Store_PromoInterval']\n",
    "\n",
    "features = [col for col in train.columns if col not in [target, date, customer]]"
   ]
  },
  {
   "cell_type": "code",
   "execution_count": 9,
   "metadata": {},
   "outputs": [],
   "source": [
    "trn, val = train_test_split(train, test_size = 0.2, random_state = 1)\n",
    "\n",
    "##### Input for model\n",
    "X_trn, X_val = trn[features], val[features]\n",
    "\n",
    "##### Target column\n",
    "y_trn, y_val = trn[target], val[target]\n",
    "\n",
    "##### Features for test data that we will be predicting\n",
    "X_test = test[features]"
   ]
  },
  {
   "cell_type": "code",
   "execution_count": 10,
   "metadata": {},
   "outputs": [],
   "source": [
    "# Cross Validation for Boosting\n",
    "def cross_val(regressor, train, test, features, name):\n",
    "    N_splits = 5\n",
    "    \n",
    "    oofs = np.zeros(len(train))\n",
    "    preds = np.zeros(len(test))\n",
    "    \n",
    "    target_col = train[target]\n",
    "    \n",
    "    folds = StratifiedKFold(n_splits = N_splits, shuffle = True,random_state = 1999)\n",
    "    stratified_target = pd.qcut( train[target], 10, labels=False, duplicates='drop')\n",
    "    for index, (trn_idx, val_idx) in enumerate(folds.split(train, stratified_target)):\n",
    "        print(f'\\n================================Fold{index + 1}===================================')\n",
    "        \n",
    "        #### Train Set\n",
    "        X_trn, y_trn = train[features].iloc[trn_idx], train[target].iloc[trn_idx]\n",
    "        \n",
    "        #### Validation Set\n",
    "        X_val, y_val = train[features].iloc[val_idx], train[target].iloc[val_idx]\n",
    "        \n",
    "        #### Test Set\n",
    "        X_test = test[features]\n",
    "        \n",
    "        ############ Fitting #############\n",
    "        _ = regressor.fit(X_trn, y_trn, eval_set = [(X_val, y_val)], early_stopping_rounds = 50, verbose = 100, eval_metric='rmse')\n",
    "        \n",
    "        ############ Predicting #############\n",
    "        val_preds = np.abs(regressor.predict(X_val))\n",
    "        test_preds = np.abs(regressor.predict(X_test))\n",
    "        \n",
    "        error = np.sqrt(mean_squared_error((y_val), (val_preds)))\n",
    "        print(f'\\n Root Mean Squared Error for Validation set is : {error}')\n",
    "        \n",
    "        oofs[val_idx] = val_preds\n",
    "        preds += test_preds / N_splits\n",
    "        \n",
    "    total_error = np.sqrt(mean_squared_error((target_col), (oofs)))\n",
    "    print(f'\\n\\Root Mean Squared Error for oofs is {total_error}')\n",
    "    \n",
    "    return oofs, preds"
   ]
  },
  {
   "cell_type": "markdown",
   "metadata": {},
   "source": [
    "---\n",
    "# Feature Engineering"
   ]
  },
  {
   "cell_type": "code",
   "execution_count": 34,
   "metadata": {},
   "outputs": [],
   "source": [
    "def join(train_, test_):\n",
    "    df = pd.concat([train_, test_], axis = 0).reset_index(drop=True)\n",
    "    return df\n",
    "\n",
    "def split(df):\n",
    "    train_, test_ = df[:train.shape[0]], df[train.shape[0]:].reset_index(drop=True)\n",
    "    return train_, test_"
   ]
  },
  {
   "cell_type": "code",
   "execution_count": 35,
   "metadata": {
    "scrolled": true
   },
   "outputs": [],
   "source": [
    "df = join(train, test)\n",
    "\n",
    "df['Store_Count'] = df.groupby('Store')['Date'].transform('count')\n",
    "df['Store_Cus_Count'] = df.groupby('Store')['Customers'].transform('sum')/df['Store_Count']\n",
    "#df['Store_Mean_Sales'] = df.groupby('Store')['Sales'].transform('mean')\n",
    "df['Day_of_week_Store_Sale'] = df.groupby(['Store', 'DayOfWeek', 'Promo'])['Sales'].transform('mean')\n",
    "df['Open_Closed_Sales'] = df.groupby(['Store', 'Open'])['Sales'].transform('mean')\n",
    "#df[\"CompetitionOpen\"] = ((df[\"year\"] - df[\"CompetitionOpenSinceYear\"]) * 12 + (df[\"month\"] - df[\"CompetitionOpenSinceMonth\"]))\n",
    "\n",
    "train_feat, test_feat = split(df)\n",
    "\n",
    "test_feat['Open_Closed_Sales'].fillna(0, inplace=True)"
   ]
  },
  {
   "cell_type": "code",
   "execution_count": 13,
   "metadata": {},
   "outputs": [],
   "source": [
    "# real_df = join(train_feat, test_feat)\n",
    "\n",
    "# df = join(train_feat, test_feat)\n",
    "\n",
    "# def get_elapsed(fld, pre):\n",
    "#     day1 = np.timedelta64(1, 'D')\n",
    "#     last_date = np.datetime64()\n",
    "#     last_store = 0\n",
    "#     res = []\n",
    "    \n",
    "#     for s, v, d in zip(df.Store.values, df[fld].values, df.Date.values): # zip is 300 times faster than using for rows in df.iterrows():\n",
    "#         if s!= last_store:\n",
    "#             last_date = np.datetime64()\n",
    "#             last_store = s\n",
    "#         if v: last_date = d # keep track of the row if it is a school holiday\n",
    "#         res.append((d-last_date).astype('timedelta64[D]') / day1) # append the no of days since last school holiday to result(res)\n",
    "#     df[pre+fld] = res\n",
    "\n",
    "# columns = [\"Date\", \"Store\", \"Promo\", \"StateHoliday\", \"SchoolHoliday\"]\n",
    "# #df = train[columns]\n",
    "# df = train[columns].append(test[columns])\n",
    "\n",
    "# fld = 'SchoolHoliday'\n",
    "# df = df.sort_values(['Store', 'Date'])\n",
    "# get_elapsed(fld, 'After')\n",
    "# df = df.sort_values(['Store', 'Date'], ascending=[True, False]) # sort store in scending and date in descending order.\n",
    "# get_elapsed(fld, 'Before')\n",
    "\n",
    "# fld = 'StateHoliday'\n",
    "# df = df.sort_values(['Store', 'Date'])\n",
    "# get_elapsed(fld, 'After')\n",
    "# df = df.sort_values(['Store', 'Date'], ascending=[True, False])\n",
    "# get_elapsed(fld, 'Before')\n",
    "\n",
    "\n",
    "# fld = 'Promo'\n",
    "# df = df.sort_values(['Store', 'Date'])\n",
    "# get_elapsed(fld, 'After')\n",
    "# df = df.sort_values(['Store', 'Date'], ascending=[True, False])\n",
    "# get_elapsed(fld, 'Before')\n",
    "\n",
    "\n",
    "# df = df.set_index(\"Date\")\n",
    "\n",
    "\n",
    "\n",
    "# columns = ['SchoolHoliday', 'StateHoliday', 'Promo']\n",
    "\n",
    "# for o in ['Before', 'After']:\n",
    "#     for p in columns:\n",
    "#         a = o+p\n",
    "#         df[a] = df[a].fillna(0).astype(int)\n",
    "\n",
    "# bwd = df[['Store']+columns].sort_index().groupby(\"Store\").rolling(7, min_periods=1).sum()\n",
    "\n",
    "# bwd.drop('Store',1,inplace=True)\n",
    "# bwd.reset_index(inplace=True)\n",
    "\n",
    "# df = df.merge(bwd, 'left', [\"Date\", \"Store\"], suffixes=['', '_bw'])\n",
    "\n",
    "# df.drop(['Date', 'Store', 'Promo', 'StateHoliday', 'SchoolHoliday'], axis =1, inplace=True)\n",
    "\n",
    "# df_pro = pd.concat([real_df, df], axis = 1)\n",
    "\n",
    "# train_feat, test_feat = split(df_pro)"
   ]
  },
  {
   "cell_type": "code",
   "execution_count": 36,
   "metadata": {},
   "outputs": [],
   "source": [
    "# Changing Datatype\n",
    "\n",
    "df = join(train_feat, test_feat)\n",
    "\n",
    "int8_cols = ['DayOfWeek', 'Open', 'Promo','StateHoliday', 'SchoolHoliday', \n",
    "'month', 'day','week', 'StoreType', 'Assortment',\n",
    "'CompetitionOpenSinceMonth','Promo2', \n",
    "'Promo2SinceWeek','PromoInterval']\n",
    "\n",
    "int16_cols = ['year', 'Store', 'CompetitionOpenSinceYear', 'Promo2SinceYear', 'Store_Count', 'Store_Cus_Count']\n",
    "\n",
    "int32_cols = ['CompetitionDistance', 'Day_of_week_Store_Sale', 'Open_Closed_Sales']\n",
    "\n",
    "def int8(x):\n",
    "    df[x] = df[x].astype('int8')\n",
    "\n",
    "def int16(x):\n",
    "    df[x] = df[x].astype('int16')\n",
    "\n",
    "def int32(x):\n",
    "    df[x] = df[x].astype('int32')\n",
    "\n",
    "for col in int8_cols:\n",
    "    int8(col)\n",
    "\n",
    "for col in int16_cols:\n",
    "    int16(col)\n",
    "\n",
    "for col in int32_cols:\n",
    "    int32(col)\n",
    "\n",
    "train_feat, test_feat = split(df)"
   ]
  },
  {
   "cell_type": "markdown",
   "metadata": {},
   "source": [
    "---\n",
    "## Checking"
   ]
  },
  {
   "cell_type": "code",
   "execution_count": 37,
   "metadata": {},
   "outputs": [],
   "source": [
    "features = [col for col in train_feat.columns if col not in [target, date, customer]]"
   ]
  },
  {
   "cell_type": "code",
   "execution_count": 38,
   "metadata": {},
   "outputs": [],
   "source": [
    "xgb = XGBRegressor(random_state=1, tree_method='gpu_hist', n_estimators = 500)\n",
    "lgb = LGBMRegressor(random_state=1, n_estimators = 400)"
   ]
  },
  {
   "cell_type": "markdown",
   "metadata": {},
   "source": [
    "xgb_params_2 = {'n_estimators': 1496, 'learning_rate': 0.15096576157577118, 'max_depth': 8,\n",
    "                'colsample_bytree': 0.6155314602051218, 'subsample': 0.7039538177172424, 'min_child_weight': 17}\n",
    "xgb = XGBRegressor(random_state = 5, tree_method = 'gpu_hist', **xgb_params_2)"
   ]
  },
  {
   "cell_type": "code",
   "execution_count": 39,
   "metadata": {},
   "outputs": [],
   "source": [
    "# params = {'n_estimators': 1493, 'learning_rate': 0.5708496872557901,\n",
    "#  'max_depth': 8, 'reg_alpha': 109.98292543369647, 'reg_lambda': 19.460653959854582,\n",
    "#  'colsample_bytree': 0.995689048773489, 'colsample_bylevel': 0.5636691732005279, \n",
    "#  'colsample_bynode': 0.7121333003923356, 'subsample': 0.9856028787866178, 'min_child_weight': 44}\n",
    "\n",
    "xgb = XGBRegressor(random_state=1, tree_method='gpu_hist', n_jobs = -1, n_estimators = 1400, learning_rate = 0.4,\n",
    "                  subsample = 0.9, max_depth=9)"
   ]
  },
  {
   "cell_type": "code",
   "execution_count": null,
   "metadata": {},
   "outputs": [],
   "source": []
  },
  {
   "cell_type": "code",
   "execution_count": null,
   "metadata": {},
   "outputs": [],
   "source": []
  },
  {
   "cell_type": "code",
   "execution_count": null,
   "metadata": {},
   "outputs": [],
   "source": []
  },
  {
   "cell_type": "code",
   "execution_count": 78,
   "metadata": {},
   "outputs": [],
   "source": [
    "trn, val = train_test_split(train_feat, test_size = 0.2, random_state = 1)\n",
    "\n",
    "##### Input for model\n",
    "X_trn, X_val = trn[features], val[features]\n",
    "\n",
    "##### Target column\n",
    "y_trn, y_val = trn[target], val[target]\n",
    "\n",
    "##### Features for test data that we will be predicting\n",
    "X_test = test_feat[features]"
   ]
  },
  {
   "cell_type": "code",
   "execution_count": 84,
   "metadata": {},
   "outputs": [
    {
     "name": "stdout",
     "output_type": "stream",
     "text": [
      "mean_squared_log_error is : 563.8092460725064\n",
      "Wall time: 1min 23s\n"
     ]
    }
   ],
   "source": [
    "%%time\n",
    "\n",
    "xgb_params_2 = {'n_estimators': 1496, 'learning_rate': 0.15096576157577118, 'max_depth': 8, \n",
    "                'colsample_bytree': 0.6155314602051218, 'subsample': 0.7039538177172424, 'min_child_weight': 17}\n",
    "\n",
    "lr = XGBRegressor(random_state=1, n_jobs = -1,tree_method='gpu_hist',**xgb_params_2)\n",
    "lr.fit(X_trn, y_trn)\n",
    "\n",
    "preds = lr.predict(X_val)\n",
    "preds = np.abs(preds)\n",
    "\n",
    "error = np.sqrt(mean_squared_error((y_val), (preds)))\n",
    "\n",
    "print(f'mean_squared_log_error is : {error}')"
   ]
  },
  {
   "cell_type": "code",
   "execution_count": null,
   "metadata": {},
   "outputs": [],
   "source": []
  },
  {
   "cell_type": "code",
   "execution_count": 85,
   "metadata": {},
   "outputs": [],
   "source": [
    "xgb_params_2 = {'n_estimators': 1496, 'learning_rate': 0.15096576157577118, 'max_depth': 8, \n",
    "                'colsample_bytree': 0.6155314602051218, 'subsample': 0.7039538177172424, 'min_child_weight': 17}\n",
    "\n",
    "xgb = XGBRegressor(random_state=1, n_jobs = -1,tree_method='gpu_hist',**xgb_params_2)"
   ]
  },
  {
   "cell_type": "code",
   "execution_count": 86,
   "metadata": {
    "scrolled": true
   },
   "outputs": [
    {
     "name": "stdout",
     "output_type": "stream",
     "text": [
      "\n",
      "================================Fold1===================================\n",
      "[0]\tvalidation_0-rmse:6015.37451\n",
      "[100]\tvalidation_0-rmse:676.37201\n",
      "[200]\tvalidation_0-rmse:635.23108\n",
      "[300]\tvalidation_0-rmse:618.61304\n",
      "[400]\tvalidation_0-rmse:607.48248\n",
      "[500]\tvalidation_0-rmse:600.00806\n",
      "[600]\tvalidation_0-rmse:595.05273\n",
      "[700]\tvalidation_0-rmse:590.61493\n",
      "[800]\tvalidation_0-rmse:587.85748\n",
      "[900]\tvalidation_0-rmse:585.07501\n",
      "[1000]\tvalidation_0-rmse:582.08740\n",
      "[1100]\tvalidation_0-rmse:580.22846\n",
      "[1200]\tvalidation_0-rmse:578.93652\n",
      "[1300]\tvalidation_0-rmse:577.74365\n",
      "[1400]\tvalidation_0-rmse:576.57642\n",
      "[1495]\tvalidation_0-rmse:575.91174\n",
      "\n",
      " Root Mean Squared Error for Validation set is : 575.9095690914025\n",
      "\n",
      "================================Fold2===================================\n",
      "[0]\tvalidation_0-rmse:6026.84912\n",
      "[100]\tvalidation_0-rmse:674.61267\n",
      "[200]\tvalidation_0-rmse:635.21881\n",
      "[300]\tvalidation_0-rmse:615.74487\n",
      "[400]\tvalidation_0-rmse:604.44971\n",
      "[500]\tvalidation_0-rmse:597.79205\n",
      "[600]\tvalidation_0-rmse:592.92651\n",
      "[700]\tvalidation_0-rmse:589.10193\n",
      "[800]\tvalidation_0-rmse:585.95270\n",
      "[900]\tvalidation_0-rmse:583.35230\n",
      "[1000]\tvalidation_0-rmse:581.15997\n",
      "[1100]\tvalidation_0-rmse:579.25971\n",
      "[1200]\tvalidation_0-rmse:578.27930\n",
      "[1300]\tvalidation_0-rmse:576.97552\n",
      "[1400]\tvalidation_0-rmse:575.90234\n",
      "[1495]\tvalidation_0-rmse:574.86560\n",
      "\n",
      " Root Mean Squared Error for Validation set is : 574.8656016392649\n",
      "\n",
      "================================Fold3===================================\n",
      "[0]\tvalidation_0-rmse:6028.27686\n",
      "[100]\tvalidation_0-rmse:665.57800\n",
      "[200]\tvalidation_0-rmse:623.97089\n",
      "[300]\tvalidation_0-rmse:606.83618\n",
      "[400]\tvalidation_0-rmse:595.69299\n",
      "[500]\tvalidation_0-rmse:588.23969\n",
      "[600]\tvalidation_0-rmse:583.42779\n",
      "[700]\tvalidation_0-rmse:578.91663\n",
      "[800]\tvalidation_0-rmse:576.17895\n",
      "[900]\tvalidation_0-rmse:574.15631\n",
      "[1000]\tvalidation_0-rmse:571.84894\n",
      "[1100]\tvalidation_0-rmse:570.48969\n",
      "[1200]\tvalidation_0-rmse:569.30817\n",
      "[1300]\tvalidation_0-rmse:568.32800\n",
      "[1400]\tvalidation_0-rmse:567.47217\n",
      "[1495]\tvalidation_0-rmse:566.77283\n",
      "\n",
      " Root Mean Squared Error for Validation set is : 566.7197862288141\n",
      "\n",
      "================================Fold4===================================\n",
      "[0]\tvalidation_0-rmse:6018.69043\n",
      "[100]\tvalidation_0-rmse:683.91895\n",
      "[200]\tvalidation_0-rmse:643.62805\n",
      "[300]\tvalidation_0-rmse:624.57416\n",
      "[400]\tvalidation_0-rmse:613.16278\n",
      "[500]\tvalidation_0-rmse:606.18335\n",
      "[600]\tvalidation_0-rmse:600.99005\n",
      "[700]\tvalidation_0-rmse:597.09888\n",
      "[800]\tvalidation_0-rmse:594.45020\n",
      "[900]\tvalidation_0-rmse:591.80933\n",
      "[1000]\tvalidation_0-rmse:589.27905\n",
      "[1100]\tvalidation_0-rmse:587.69165\n",
      "[1200]\tvalidation_0-rmse:586.29938\n",
      "[1300]\tvalidation_0-rmse:585.34815\n",
      "[1400]\tvalidation_0-rmse:584.30810\n",
      "[1495]\tvalidation_0-rmse:583.89673\n",
      "\n",
      " Root Mean Squared Error for Validation set is : 583.8619930843267\n",
      "\n",
      "================================Fold5===================================\n",
      "[0]\tvalidation_0-rmse:6032.06885\n",
      "[100]\tvalidation_0-rmse:674.54315\n",
      "[200]\tvalidation_0-rmse:630.58466\n",
      "[300]\tvalidation_0-rmse:612.10583\n",
      "[400]\tvalidation_0-rmse:602.17206\n",
      "[500]\tvalidation_0-rmse:595.78418\n",
      "[600]\tvalidation_0-rmse:591.16174\n",
      "[700]\tvalidation_0-rmse:586.63684\n",
      "[800]\tvalidation_0-rmse:583.92395\n",
      "[900]\tvalidation_0-rmse:581.26154\n",
      "[1000]\tvalidation_0-rmse:579.01855\n",
      "[1100]\tvalidation_0-rmse:577.16925\n",
      "[1200]\tvalidation_0-rmse:575.18579\n",
      "[1300]\tvalidation_0-rmse:574.08020\n",
      "[1400]\tvalidation_0-rmse:573.13324\n",
      "[1495]\tvalidation_0-rmse:572.63293\n",
      "\n",
      " Root Mean Squared Error for Validation set is : 572.6329537611307\n",
      "\n",
      "\\Root Mean Squared Error for oofs is 574.8246590553598\n",
      "Wall time: 7min 55s\n"
     ]
    }
   ],
   "source": [
    "%%time\n",
    "xgb_oofs, xgb_preds = cross_val(xgb, train_feat, test_feat, features, 'xgb')\n",
    "#746\n",
    "#683.6512919142438\n",
    "#657.2828283947017 Mean Store Sale --> Oeverfit\n",
    "#611.5787150171928\n",
    "#604.9118674736324"
   ]
  },
  {
   "cell_type": "code",
   "execution_count": 87,
   "metadata": {},
   "outputs": [],
   "source": [
    "test['Predictions'] = xgb_preds\n",
    "test.loc[ test['Open'] == 0, 'Predictions'] = 0\n",
    "preds = test['Predictions']\n",
    "\n",
    "index = [i for i in range(test.shape[0])]\n",
    "\n",
    "d = list(zip(index, preds))\n",
    "\n",
    "ss = pd.DataFrame(d, columns = ['index', 'Sales'])\n",
    "\n",
    "ss.to_csv(path + \"\\\\xgb_base_tuned.csv\", index = False)"
   ]
  },
  {
   "cell_type": "markdown",
   "metadata": {},
   "source": [
    "model = XGB(est = 500)\n",
    "first 3 features : 657\n",
    "\n",
    "3 + Open_Closed_Sales : 643 --> total 4\n",
    "\n",
    "4 + promo_Day_Store_Sales : 603 --> total 5\n",
    "\n",
    "5 + Sale/Cus : 531 --> total 6"
   ]
  },
  {
   "cell_type": "code",
   "execution_count": null,
   "metadata": {},
   "outputs": [],
   "source": [
    "xgb_params_2 = {'n_estimators': 1496, 'learning_rate': 0.15096576157577118, 'max_depth': 8, \n",
    "                'colsample_bytree': 0.6155314602051218, 'subsample': 0.7039538177172424, 'min_child_weight': 17}"
   ]
  },
  {
   "cell_type": "code",
   "execution_count": 48,
   "metadata": {},
   "outputs": [],
   "source": [
    "import optuna\n",
    "\n",
    "def objective(trial, cv=KFold(10, shuffle = True, random_state = 1999)): \n",
    "\n",
    "    param_xgb = {\n",
    "        \"random_state\": 1,\n",
    "        'objective': 'reg:squarederror',\n",
    "        \"metric\": \"rmse\",\n",
    "        # \"categorical_feature\": cat_indices,\n",
    "        \"verbosity\": 0,\n",
    "        # 'alpha': trial.suggest_int('alpha', 1, 100),\n",
    "        # 'lambda': trial.suggest_float('lambda', 0.001, 100),\n",
    "        # 'gamma': trial.suggest_float('gamma', 0.001, 100),\n",
    "        \"n_estimators\": trial.suggest_int('n_estimators', 1000, 1600),\n",
    "        \"learning_rate\": trial.suggest_float('learning_rate', 0.01, 1),\n",
    "        # 'num_leaves': trial.suggest_int('num_leaves', 2, 1024),\n",
    "        'max_depth': trial.suggest_int('max_depth', 5, 9),\n",
    "         #'reg_alpha': trial.suggest_float('reg_alpha', 0.1, 200),\n",
    "        #'reg_lambda': trial.suggest_float('reg_lambda', 0.1, 200),\n",
    "        'colsample_bytree': trial.suggest_float('colsample_bytree', 0.5, 1.0),\n",
    "        #'colsample_bylevel': trial.suggest_float('colsample_bylevel', 0.1, 1.0),\n",
    "        #'colsample_bynode': trial.suggest_float('colsample_bynode', 0.1, 1.0),\n",
    "        'subsample': trial.suggest_float('subsample', 0.5, 1.0),\n",
    "        'min_child_weight': trial.suggest_int('min_child_weight', 1, 100)\n",
    "        # 'cat_smooth': trial.suggest_float('cat_smooth', 1.0, 50.0) \n",
    "        # 'max_delta_step' \n",
    "    }\n",
    "\n",
    "    val_aucs = []\n",
    "    aucs = []\n",
    "\n",
    "\n",
    "    X_trn, X_valid, y_trn, y_valid = train_test_split(train_feat[features], train_feat[target], \n",
    "                                                    test_size=0.2, random_state=42, shuffle=True)\n",
    "\n",
    "    model = XGBRegressor(**param_xgb, tree_method='gpu_hist')        \n",
    "\n",
    "    model.fit(X_trn, y_trn, eval_set=[(X_valid, y_valid)], early_stopping_rounds=100, verbose=200)    \n",
    "\n",
    "    preds = model.predict(X_valid)\n",
    "\n",
    "    auc = np.sqrt(mean_squared_error(y_valid, preds)) \n",
    "\n",
    "    # auc = np.sqrt(mean_squared_log_error(np.expm1(y_valid), np.expm1(preds)))\n",
    "    # aucs.append(auc)\n",
    "\n",
    "    return auc"
   ]
  },
  {
   "cell_type": "code",
   "execution_count": 50,
   "metadata": {
    "collapsed": true
   },
   "outputs": [
    {
     "name": "stderr",
     "output_type": "stream",
     "text": [
      "\u001b[32m[I 2021-05-06 09:03:05,737]\u001b[0m A new study created in memory with name: XGB\u001b[0m\n"
     ]
    },
    {
     "name": "stdout",
     "output_type": "stream",
     "text": [
      "[0]\tvalidation_0-rmse:1481.41211\n",
      "[200]\tvalidation_0-rmse:663.37732\n",
      "[400]\tvalidation_0-rmse:647.00153\n",
      "[600]\tvalidation_0-rmse:640.26111\n",
      "[800]\tvalidation_0-rmse:636.80817\n",
      "[1000]\tvalidation_0-rmse:635.46057\n",
      "[1038]\tvalidation_0-rmse:636.21234\n"
     ]
    },
    {
     "name": "stderr",
     "output_type": "stream",
     "text": [
      "\u001b[32m[I 2021-05-06 09:03:33,579]\u001b[0m Trial 0 finished with value: 635.0005104298594 and parameters: {'n_estimators': 1205, 'learning_rate': 0.8563163332399225, 'max_depth': 6, 'colsample_bytree': 0.9781564975669316, 'subsample': 0.7694900389707997, 'min_child_weight': 75}. Best is trial 0 with value: 635.0005104298594.\u001b[0m\n"
     ]
    },
    {
     "name": "stdout",
     "output_type": "stream",
     "text": [
      "[0]\tvalidation_0-rmse:2487.98242\n",
      "[200]\tvalidation_0-rmse:630.63702\n",
      "[400]\tvalidation_0-rmse:628.17602\n",
      "[451]\tvalidation_0-rmse:628.84576\n"
     ]
    },
    {
     "name": "stderr",
     "output_type": "stream",
     "text": [
      "\u001b[32m[I 2021-05-06 09:03:56,588]\u001b[0m Trial 1 finished with value: 626.9113408091006 and parameters: {'n_estimators': 1289, 'learning_rate': 0.6730389416402681, 'max_depth': 8, 'colsample_bytree': 0.6820533545417058, 'subsample': 0.9074827715096094, 'min_child_weight': 7}. Best is trial 1 with value: 626.9113408091006.\u001b[0m\n"
     ]
    },
    {
     "name": "stdout",
     "output_type": "stream",
     "text": [
      "[0]\tvalidation_0-rmse:6850.78223\n",
      "[200]\tvalidation_0-rmse:778.55902\n",
      "[400]\tvalidation_0-rmse:712.43079\n",
      "[600]\tvalidation_0-rmse:686.61914\n",
      "[800]\tvalidation_0-rmse:672.00891\n",
      "[1000]\tvalidation_0-rmse:660.61401\n",
      "[1200]\tvalidation_0-rmse:652.08997\n",
      "[1400]\tvalidation_0-rmse:645.04804\n",
      "[1568]\tvalidation_0-rmse:640.72290\n"
     ]
    },
    {
     "name": "stderr",
     "output_type": "stream",
     "text": [
      "\u001b[32m[I 2021-05-06 09:04:53,070]\u001b[0m Trial 2 finished with value: 640.7229047744186 and parameters: {'n_estimators': 1569, 'learning_rate': 0.028350768596655702, 'max_depth': 8, 'colsample_bytree': 0.8469438043928967, 'subsample': 0.564582186347346, 'min_child_weight': 100}. Best is trial 1 with value: 626.9113408091006.\u001b[0m\n"
     ]
    },
    {
     "name": "stdout",
     "output_type": "stream",
     "text": [
      "[0]\tvalidation_0-rmse:3111.00220\n",
      "[200]\tvalidation_0-rmse:695.72827\n",
      "[400]\tvalidation_0-rmse:659.87738\n",
      "[600]\tvalidation_0-rmse:640.74652\n",
      "[800]\tvalidation_0-rmse:629.80157\n",
      "[1000]\tvalidation_0-rmse:622.03961\n",
      "[1200]\tvalidation_0-rmse:617.00354\n",
      "[1400]\tvalidation_0-rmse:612.33539\n",
      "[1592]\tvalidation_0-rmse:608.84540\n"
     ]
    },
    {
     "name": "stderr",
     "output_type": "stream",
     "text": [
      "\u001b[32m[I 2021-05-06 09:05:33,965]\u001b[0m Trial 3 finished with value: 608.8304602340014 and parameters: {'n_estimators': 1593, 'learning_rate': 0.6248855845201134, 'max_depth': 5, 'colsample_bytree': 0.5272705833239429, 'subsample': 0.9776898598314634, 'min_child_weight': 8}. Best is trial 3 with value: 608.8304602340014.\u001b[0m\n"
     ]
    },
    {
     "name": "stdout",
     "output_type": "stream",
     "text": [
      "[0]\tvalidation_0-rmse:1216.77856\n",
      "[200]\tvalidation_0-rmse:652.42224\n",
      "[400]\tvalidation_0-rmse:647.20953\n",
      "[512]\tvalidation_0-rmse:648.63214\n"
     ]
    },
    {
     "name": "stderr",
     "output_type": "stream",
     "text": [
      "\u001b[32m[I 2021-05-06 09:05:56,624]\u001b[0m Trial 4 finished with value: 647.1523845713419 and parameters: {'n_estimators': 1403, 'learning_rate': 0.8996629294490812, 'max_depth': 8, 'colsample_bytree': 0.7723088626798036, 'subsample': 0.8118547637361162, 'min_child_weight': 66}. Best is trial 3 with value: 608.8304602340014.\u001b[0m\n"
     ]
    },
    {
     "name": "stdout",
     "output_type": "stream",
     "text": [
      "[0]\tvalidation_0-rmse:1435.35974\n",
      "[200]\tvalidation_0-rmse:644.29199\n",
      "[400]\tvalidation_0-rmse:636.80096\n",
      "[600]\tvalidation_0-rmse:636.55859\n",
      "[663]\tvalidation_0-rmse:637.45020\n"
     ]
    },
    {
     "name": "stderr",
     "output_type": "stream",
     "text": [
      "\u001b[32m[I 2021-05-06 09:06:26,709]\u001b[0m Trial 5 finished with value: 635.4701436798308 and parameters: {'n_estimators': 1073, 'learning_rate': 0.8501921707988305, 'max_depth': 8, 'colsample_bytree': 0.9844808103629133, 'subsample': 0.9099773957497189, 'min_child_weight': 90}. Best is trial 3 with value: 608.8304602340014.\u001b[0m\n"
     ]
    },
    {
     "name": "stdout",
     "output_type": "stream",
     "text": [
      "[0]\tvalidation_0-rmse:4352.31641\n",
      "[200]\tvalidation_0-rmse:696.10431\n",
      "[400]\tvalidation_0-rmse:662.87372\n",
      "[600]\tvalidation_0-rmse:648.00049\n",
      "[800]\tvalidation_0-rmse:638.27985\n",
      "[1000]\tvalidation_0-rmse:629.94293\n",
      "[1200]\tvalidation_0-rmse:625.04712\n",
      "[1271]\tvalidation_0-rmse:623.46167\n"
     ]
    },
    {
     "name": "stderr",
     "output_type": "stream",
     "text": [
      "\u001b[32m[I 2021-05-06 09:06:55,741]\u001b[0m Trial 6 finished with value: 623.4616814263948 and parameters: {'n_estimators': 1272, 'learning_rate': 0.41708710770815216, 'max_depth': 5, 'colsample_bytree': 0.5695815203366723, 'subsample': 0.7779543682928585, 'min_child_weight': 27}. Best is trial 3 with value: 608.8304602340014.\u001b[0m\n"
     ]
    },
    {
     "name": "stdout",
     "output_type": "stream",
     "text": [
      "[0]\tvalidation_0-rmse:4609.49853\n",
      "[200]\tvalidation_0-rmse:612.38257\n",
      "[400]\tvalidation_0-rmse:595.65094\n",
      "[600]\tvalidation_0-rmse:591.59168\n",
      "[800]\tvalidation_0-rmse:590.55737\n",
      "[1000]\tvalidation_0-rmse:590.22546\n",
      "[1078]\tvalidation_0-rmse:590.54688\n"
     ]
    },
    {
     "name": "stderr",
     "output_type": "stream",
     "text": [
      "\u001b[32m[I 2021-05-06 09:07:57,433]\u001b[0m Trial 7 finished with value: 590.1304725312785 and parameters: {'n_estimators': 1529, 'learning_rate': 0.3542556254165257, 'max_depth': 9, 'colsample_bytree': 0.6658925092727008, 'subsample': 0.918511897325365, 'min_child_weight': 46}. Best is trial 7 with value: 590.1304725312785.\u001b[0m\n"
     ]
    },
    {
     "name": "stdout",
     "output_type": "stream",
     "text": [
      "[0]\tvalidation_0-rmse:1583.80176\n",
      "[200]\tvalidation_0-rmse:687.08313\n",
      "[298]\tvalidation_0-rmse:690.52081\n"
     ]
    },
    {
     "name": "stderr",
     "output_type": "stream",
     "text": [
      "\u001b[32m[I 2021-05-06 09:08:19,399]\u001b[0m Trial 8 finished with value: 686.8028041573127 and parameters: {'n_estimators': 1059, 'learning_rate': 0.9566206407176909, 'max_depth': 9, 'colsample_bytree': 0.5327565798477808, 'subsample': 0.996944017337374, 'min_child_weight': 6}. Best is trial 7 with value: 590.1304725312785.\u001b[0m\n"
     ]
    },
    {
     "name": "stdout",
     "output_type": "stream",
     "text": [
      "[0]\tvalidation_0-rmse:2954.89990\n",
      "[200]\tvalidation_0-rmse:638.65503\n",
      "[339]\tvalidation_0-rmse:640.36432\n"
     ]
    },
    {
     "name": "stderr",
     "output_type": "stream",
     "text": [
      "\u001b[32m[I 2021-05-06 09:08:44,005]\u001b[0m Trial 9 finished with value: 638.0600693548612 and parameters: {'n_estimators': 1366, 'learning_rate': 0.6083172113674068, 'max_depth': 9, 'colsample_bytree': 0.6429041955437329, 'subsample': 0.7880773871522864, 'min_child_weight': 1}. Best is trial 7 with value: 590.1304725312785.\u001b[0m\n"
     ]
    },
    {
     "name": "stdout",
     "output_type": "stream",
     "text": [
      "[0]\tvalidation_0-rmse:5438.48633\n",
      "[200]\tvalidation_0-rmse:658.91956\n",
      "[400]\tvalidation_0-rmse:631.68408\n",
      "[600]\tvalidation_0-rmse:619.33667\n",
      "[800]\tvalidation_0-rmse:612.14710\n",
      "[1000]\tvalidation_0-rmse:607.57574\n",
      "[1200]\tvalidation_0-rmse:604.28992\n",
      "[1400]\tvalidation_0-rmse:600.99573\n",
      "[1512]\tvalidation_0-rmse:600.11481\n"
     ]
    },
    {
     "name": "stderr",
     "output_type": "stream",
     "text": [
      "\u001b[32m[I 2021-05-06 09:09:29,751]\u001b[0m Trial 10 finished with value: 600.024855329942 and parameters: {'n_estimators': 1513, 'learning_rate': 0.2340616297655823, 'max_depth': 7, 'colsample_bytree': 0.8184480501952369, 'subsample': 0.5826276356939861, 'min_child_weight': 37}. Best is trial 7 with value: 590.1304725312785.\u001b[0m\n"
     ]
    },
    {
     "name": "stdout",
     "output_type": "stream",
     "text": [
      "[0]\tvalidation_0-rmse:5295.48193\n",
      "[200]\tvalidation_0-rmse:657.45050\n",
      "[400]\tvalidation_0-rmse:632.55695\n",
      "[600]\tvalidation_0-rmse:623.00684\n",
      "[800]\tvalidation_0-rmse:615.90277\n",
      "[1000]\tvalidation_0-rmse:611.13916\n",
      "[1200]\tvalidation_0-rmse:608.01611\n",
      "[1400]\tvalidation_0-rmse:605.62091\n",
      "[1488]\tvalidation_0-rmse:605.38434\n"
     ]
    },
    {
     "name": "stderr",
     "output_type": "stream",
     "text": [
      "\u001b[32m[I 2021-05-06 09:10:14,888]\u001b[0m Trial 11 finished with value: 605.315916275781 and parameters: {'n_estimators': 1489, 'learning_rate': 0.2549856222145528, 'max_depth': 7, 'colsample_bytree': 0.8504292667017981, 'subsample': 0.5665296790505397, 'min_child_weight': 42}. Best is trial 7 with value: 590.1304725312785.\u001b[0m\n"
     ]
    },
    {
     "name": "stdout",
     "output_type": "stream",
     "text": [
      "[0]\tvalidation_0-rmse:5828.14600\n",
      "[200]\tvalidation_0-rmse:688.07489\n",
      "[400]\tvalidation_0-rmse:656.32605\n",
      "[600]\tvalidation_0-rmse:641.44434\n",
      "[800]\tvalidation_0-rmse:631.33124\n",
      "[1000]\tvalidation_0-rmse:623.81763\n",
      "[1200]\tvalidation_0-rmse:617.89142\n",
      "[1400]\tvalidation_0-rmse:613.33429\n",
      "[1503]\tvalidation_0-rmse:611.35431\n"
     ]
    },
    {
     "name": "stderr",
     "output_type": "stream",
     "text": [
      "\u001b[32m[I 2021-05-06 09:10:53,341]\u001b[0m Trial 12 finished with value: 611.3543244197169 and parameters: {'n_estimators': 1504, 'learning_rate': 0.17762841564572532, 'max_depth': 6, 'colsample_bytree': 0.7777846420177971, 'subsample': 0.6753095685891953, 'min_child_weight': 37}. Best is trial 7 with value: 590.1304725312785.\u001b[0m\n"
     ]
    },
    {
     "name": "stdout",
     "output_type": "stream",
     "text": [
      "[0]\tvalidation_0-rmse:4571.95654\n",
      "[200]\tvalidation_0-rmse:644.12494\n",
      "[400]\tvalidation_0-rmse:623.35492\n",
      "[600]\tvalidation_0-rmse:612.86847\n",
      "[800]\tvalidation_0-rmse:607.67584\n",
      "[1000]\tvalidation_0-rmse:605.01984\n",
      "[1200]\tvalidation_0-rmse:603.16724\n",
      "[1400]\tvalidation_0-rmse:601.03479\n",
      "[1466]\tvalidation_0-rmse:600.55731\n"
     ]
    },
    {
     "name": "stderr",
     "output_type": "stream",
     "text": [
      "\u001b[32m[I 2021-05-06 09:11:39,368]\u001b[0m Trial 13 finished with value: 600.557302577972 and parameters: {'n_estimators': 1467, 'learning_rate': 0.36108389648402195, 'max_depth': 7, 'colsample_bytree': 0.6826933328818641, 'subsample': 0.6616703610312348, 'min_child_weight': 58}. Best is trial 7 with value: 590.1304725312785.\u001b[0m\n"
     ]
    },
    {
     "name": "stdout",
     "output_type": "stream",
     "text": [
      "[0]\tvalidation_0-rmse:6927.43555\n",
      "[200]\tvalidation_0-rmse:918.74664\n",
      "[400]\tvalidation_0-rmse:795.40564\n",
      "[600]\tvalidation_0-rmse:757.01141\n",
      "[800]\tvalidation_0-rmse:735.60761\n",
      "[1000]\tvalidation_0-rmse:719.44434\n",
      "[1200]\tvalidation_0-rmse:708.71368\n",
      "[1400]\tvalidation_0-rmse:699.95496\n",
      "[1588]\tvalidation_0-rmse:693.61029\n"
     ]
    },
    {
     "name": "stderr",
     "output_type": "stream",
     "text": [
      "\u001b[32m[I 2021-05-06 09:12:20,272]\u001b[0m Trial 14 finished with value: 693.6103117215571 and parameters: {'n_estimators': 1589, 'learning_rate': 0.01729622318527957, 'max_depth': 6, 'colsample_bytree': 0.8885501058002352, 'subsample': 0.5038093603826302, 'min_child_weight': 22}. Best is trial 7 with value: 590.1304725312785.\u001b[0m\n"
     ]
    },
    {
     "name": "stdout",
     "output_type": "stream",
     "text": [
      "[0]\tvalidation_0-rmse:5842.32324\n",
      "[200]\tvalidation_0-rmse:629.42700\n",
      "[400]\tvalidation_0-rmse:604.80060\n",
      "[600]\tvalidation_0-rmse:594.25952\n",
      "[800]\tvalidation_0-rmse:589.30042\n",
      "[1000]\tvalidation_0-rmse:585.97467\n",
      "[1200]\tvalidation_0-rmse:584.29730\n",
      "[1391]\tvalidation_0-rmse:582.96515\n"
     ]
    },
    {
     "name": "stderr",
     "output_type": "stream",
     "text": [
      "\u001b[32m[I 2021-05-06 09:13:31,151]\u001b[0m Trial 15 finished with value: 582.9651400601765 and parameters: {'n_estimators': 1392, 'learning_rate': 0.1760461864534236, 'max_depth': 9, 'colsample_bytree': 0.6356681008511827, 'subsample': 0.6809935382804482, 'min_child_weight': 45}. Best is trial 15 with value: 582.9651400601765.\u001b[0m\n"
     ]
    },
    {
     "name": "stdout",
     "output_type": "stream",
     "text": [
      "[0]\tvalidation_0-rmse:5915.62549\n",
      "[200]\tvalidation_0-rmse:632.14221\n",
      "[400]\tvalidation_0-rmse:607.27417\n",
      "[600]\tvalidation_0-rmse:596.87402\n",
      "[800]\tvalidation_0-rmse:590.59656\n",
      "[1000]\tvalidation_0-rmse:586.32123\n",
      "[1200]\tvalidation_0-rmse:584.26733\n",
      "[1390]\tvalidation_0-rmse:582.39258\n"
     ]
    },
    {
     "name": "stderr",
     "output_type": "stream",
     "text": [
      "\u001b[32m[I 2021-05-06 09:14:42,035]\u001b[0m Trial 16 finished with value: 582.3925599409508 and parameters: {'n_estimators': 1391, 'learning_rate': 0.1697745351467487, 'max_depth': 9, 'colsample_bytree': 0.6039652833324685, 'subsample': 0.7024598968716078, 'min_child_weight': 49}. Best is trial 16 with value: 582.3925599409508.\u001b[0m\n"
     ]
    },
    {
     "name": "stdout",
     "output_type": "stream",
     "text": [
      "[0]\tvalidation_0-rmse:6276.97314\n",
      "[200]\tvalidation_0-rmse:641.02496\n",
      "[400]\tvalidation_0-rmse:613.34863\n",
      "[600]\tvalidation_0-rmse:600.25775\n",
      "[800]\tvalidation_0-rmse:592.33075\n",
      "[1000]\tvalidation_0-rmse:587.12909\n",
      "[1200]\tvalidation_0-rmse:583.85266\n",
      "[1372]\tvalidation_0-rmse:581.27399\n"
     ]
    },
    {
     "name": "stderr",
     "output_type": "stream",
     "text": [
      "\u001b[32m[I 2021-05-06 09:15:50,981]\u001b[0m Trial 17 finished with value: 581.2620616492179 and parameters: {'n_estimators': 1373, 'learning_rate': 0.11241869274079994, 'max_depth': 9, 'colsample_bytree': 0.6129247742438169, 'subsample': 0.6933949413495666, 'min_child_weight': 58}. Best is trial 17 with value: 581.2620616492179.\u001b[0m\n"
     ]
    },
    {
     "name": "stdout",
     "output_type": "stream",
     "text": [
      "[0]\tvalidation_0-rmse:6586.49658\n",
      "[200]\tvalidation_0-rmse:677.07269\n",
      "[400]\tvalidation_0-rmse:636.46112\n",
      "[600]\tvalidation_0-rmse:618.19635\n",
      "[800]\tvalidation_0-rmse:607.15021\n",
      "[1000]\tvalidation_0-rmse:598.85120\n",
      "[1169]\tvalidation_0-rmse:594.12726\n"
     ]
    },
    {
     "name": "stderr",
     "output_type": "stream",
     "text": [
      "\u001b[32m[I 2021-05-06 09:16:51,536]\u001b[0m Trial 18 finished with value: 594.1272746093523 and parameters: {'n_estimators': 1170, 'learning_rate': 0.06883467247810045, 'max_depth': 9, 'colsample_bytree': 0.5673965901607142, 'subsample': 0.7264555210395862, 'min_child_weight': 74}. Best is trial 17 with value: 581.2620616492179.\u001b[0m\n"
     ]
    },
    {
     "name": "stdout",
     "output_type": "stream",
     "text": [
      "[0]\tvalidation_0-rmse:6380.20312\n",
      "[200]\tvalidation_0-rmse:668.51935\n",
      "[400]\tvalidation_0-rmse:633.07239\n",
      "[600]\tvalidation_0-rmse:617.76166\n",
      "[800]\tvalidation_0-rmse:609.43585\n",
      "[1000]\tvalidation_0-rmse:602.86932\n",
      "[1200]\tvalidation_0-rmse:597.79810\n",
      "[1334]\tvalidation_0-rmse:594.94543\n"
     ]
    },
    {
     "name": "stderr",
     "output_type": "stream",
     "text": [
      "\u001b[32m[I 2021-05-06 09:17:43,323]\u001b[0m Trial 19 finished with value: 594.9454333537133 and parameters: {'n_estimators': 1335, 'learning_rate': 0.09737521543231313, 'max_depth': 8, 'colsample_bytree': 0.6106436053011178, 'subsample': 0.6228774783174843, 'min_child_weight': 57}. Best is trial 17 with value: 581.2620616492179.\u001b[0m\n"
     ]
    },
    {
     "name": "stdout",
     "output_type": "stream",
     "text": [
      "[0]\tvalidation_0-rmse:3708.66553\n",
      "[200]\tvalidation_0-rmse:615.13385\n",
      "[400]\tvalidation_0-rmse:605.23523\n",
      "[600]\tvalidation_0-rmse:603.26569\n",
      "[746]\tvalidation_0-rmse:603.11163\n"
     ]
    },
    {
     "name": "stderr",
     "output_type": "stream",
     "text": [
      "\u001b[32m[I 2021-05-06 09:18:23,480]\u001b[0m Trial 20 finished with value: 602.9247519077437 and parameters: {'n_estimators': 1429, 'learning_rate': 0.48719206138605947, 'max_depth': 9, 'colsample_bytree': 0.72636176830191, 'subsample': 0.8394453724182628, 'min_child_weight': 79}. Best is trial 17 with value: 581.2620616492179.\u001b[0m\n"
     ]
    },
    {
     "name": "stdout",
     "output_type": "stream",
     "text": [
      "[0]\tvalidation_0-rmse:6027.42969\n",
      "[200]\tvalidation_0-rmse:638.09619\n",
      "[400]\tvalidation_0-rmse:609.59869\n",
      "[600]\tvalidation_0-rmse:598.19928\n",
      "[800]\tvalidation_0-rmse:591.28876\n",
      "[1000]\tvalidation_0-rmse:586.67822\n",
      "[1200]\tvalidation_0-rmse:584.26630\n",
      "[1389]\tvalidation_0-rmse:582.20221\n"
     ]
    },
    {
     "name": "stderr",
     "output_type": "stream",
     "text": [
      "\u001b[32m[I 2021-05-06 09:19:34,935]\u001b[0m Trial 21 finished with value: 582.2022052316929 and parameters: {'n_estimators': 1390, 'learning_rate': 0.15292398578513305, 'max_depth': 9, 'colsample_bytree': 0.6004126624999243, 'subsample': 0.7089361666701673, 'min_child_weight': 55}. Best is trial 17 with value: 581.2620616492179.\u001b[0m\n"
     ]
    },
    {
     "name": "stdout",
     "output_type": "stream",
     "text": [
      "[0]\tvalidation_0-rmse:6251.10498\n",
      "[200]\tvalidation_0-rmse:645.70337\n",
      "[400]\tvalidation_0-rmse:614.99225\n",
      "[600]\tvalidation_0-rmse:601.65338\n",
      "[800]\tvalidation_0-rmse:593.21082\n",
      "[1000]\tvalidation_0-rmse:587.56952\n",
      "[1200]\tvalidation_0-rmse:584.24567\n",
      "[1325]\tvalidation_0-rmse:582.13049\n"
     ]
    },
    {
     "name": "stderr",
     "output_type": "stream",
     "text": [
      "\u001b[32m[I 2021-05-06 09:20:43,017]\u001b[0m Trial 22 finished with value: 582.1305134638138 and parameters: {'n_estimators': 1326, 'learning_rate': 0.11923584935852455, 'max_depth': 9, 'colsample_bytree': 0.5928428084958373, 'subsample': 0.7183443586741091, 'min_child_weight': 57}. Best is trial 17 with value: 581.2620616492179.\u001b[0m\n"
     ]
    },
    {
     "name": "stdout",
     "output_type": "stream",
     "text": [
      "[0]\tvalidation_0-rmse:5215.97314\n",
      "[200]\tvalidation_0-rmse:641.71265\n",
      "[400]\tvalidation_0-rmse:616.49597\n",
      "[600]\tvalidation_0-rmse:606.17432\n",
      "[800]\tvalidation_0-rmse:600.24683\n",
      "[1000]\tvalidation_0-rmse:596.21906\n",
      "[1200]\tvalidation_0-rmse:593.83453\n",
      "[1233]\tvalidation_0-rmse:593.49866\n"
     ]
    },
    {
     "name": "stderr",
     "output_type": "stream",
     "text": [
      "\u001b[32m[I 2021-05-06 09:21:33,846]\u001b[0m Trial 23 finished with value: 593.4849843566163 and parameters: {'n_estimators': 1234, 'learning_rate': 0.2769037176726501, 'max_depth': 8, 'colsample_bytree': 0.513442735323142, 'subsample': 0.737781236082146, 'min_child_weight': 60}. Best is trial 17 with value: 581.2620616492179.\u001b[0m\n"
     ]
    },
    {
     "name": "stdout",
     "output_type": "stream",
     "text": [
      "[0]\tvalidation_0-rmse:6440.79395\n",
      "[200]\tvalidation_0-rmse:665.90241\n",
      "[400]\tvalidation_0-rmse:631.70087\n",
      "[600]\tvalidation_0-rmse:615.87293\n",
      "[800]\tvalidation_0-rmse:606.08630\n",
      "[1000]\tvalidation_0-rmse:599.08227\n",
      "[1200]\tvalidation_0-rmse:594.22156\n",
      "[1333]\tvalidation_0-rmse:591.52954\n"
     ]
    },
    {
     "name": "stderr",
     "output_type": "stream",
     "text": [
      "\u001b[32m[I 2021-05-06 09:22:37,138]\u001b[0m Trial 24 finished with value: 591.5295172856327 and parameters: {'n_estimators': 1334, 'learning_rate': 0.09073697685407602, 'max_depth': 9, 'colsample_bytree': 0.5757324817629964, 'subsample': 0.6146538017654412, 'min_child_weight': 67}. Best is trial 17 with value: 581.2620616492179.\u001b[0m\n"
     ]
    },
    {
     "name": "stdout",
     "output_type": "stream",
     "text": [
      "[0]\tvalidation_0-rmse:6935.34180\n",
      "[200]\tvalidation_0-rmse:890.38519\n",
      "[400]\tvalidation_0-rmse:755.17004\n",
      "[600]\tvalidation_0-rmse:711.72333\n",
      "[800]\tvalidation_0-rmse:687.50763\n",
      "[1000]\tvalidation_0-rmse:671.74377\n",
      "[1200]\tvalidation_0-rmse:660.84662\n",
      "[1400]\tvalidation_0-rmse:652.04804\n",
      "[1437]\tvalidation_0-rmse:650.61493\n"
     ]
    },
    {
     "name": "stderr",
     "output_type": "stream",
     "text": [
      "\u001b[32m[I 2021-05-06 09:23:41,133]\u001b[0m Trial 25 finished with value: 650.6149401829068 and parameters: {'n_estimators': 1438, 'learning_rate': 0.016072332014854043, 'max_depth': 8, 'colsample_bytree': 0.714561862342382, 'subsample': 0.6390128775209034, 'min_child_weight': 54}. Best is trial 17 with value: 581.2620616492179.\u001b[0m\n"
     ]
    },
    {
     "name": "stdout",
     "output_type": "stream",
     "text": [
      "[0]\tvalidation_0-rmse:6264.07520\n",
      "[200]\tvalidation_0-rmse:644.99518\n",
      "[400]\tvalidation_0-rmse:615.24640\n",
      "[600]\tvalidation_0-rmse:601.53235\n",
      "[800]\tvalidation_0-rmse:593.56488\n",
      "[1000]\tvalidation_0-rmse:588.34668\n",
      "[1200]\tvalidation_0-rmse:584.41156\n",
      "[1330]\tvalidation_0-rmse:582.39288\n"
     ]
    },
    {
     "name": "stderr",
     "output_type": "stream",
     "text": [
      "\u001b[32m[I 2021-05-06 09:24:48,423]\u001b[0m Trial 26 finished with value: 582.3919098478093 and parameters: {'n_estimators': 1331, 'learning_rate': 0.1172715147354697, 'max_depth': 9, 'colsample_bytree': 0.6047810189661258, 'subsample': 0.7199933447017052, 'min_child_weight': 67}. Best is trial 17 with value: 581.2620616492179.\u001b[0m\n"
     ]
    },
    {
     "name": "stdout",
     "output_type": "stream",
     "text": [
      "[0]\tvalidation_0-rmse:4720.36621\n",
      "[200]\tvalidation_0-rmse:629.42407\n",
      "[400]\tvalidation_0-rmse:610.59961\n",
      "[600]\tvalidation_0-rmse:602.47461\n",
      "[800]\tvalidation_0-rmse:599.31830\n",
      "[1000]\tvalidation_0-rmse:597.50812\n",
      "[1140]\tvalidation_0-rmse:596.76300\n"
     ]
    },
    {
     "name": "stderr",
     "output_type": "stream",
     "text": [
      "\u001b[32m[I 2021-05-06 09:25:49,126]\u001b[0m Trial 27 finished with value: 596.7630225254056 and parameters: {'n_estimators': 1141, 'learning_rate': 0.3521187078535536, 'max_depth': 9, 'colsample_bytree': 0.5506869615308452, 'subsample': 0.8460995567282857, 'min_child_weight': 84}. Best is trial 17 with value: 581.2620616492179.\u001b[0m\n"
     ]
    },
    {
     "name": "stdout",
     "output_type": "stream",
     "text": [
      "[0]\tvalidation_0-rmse:5506.61768\n",
      "[200]\tvalidation_0-rmse:636.44415\n",
      "[400]\tvalidation_0-rmse:611.54901\n",
      "[600]\tvalidation_0-rmse:599.89874\n",
      "[800]\tvalidation_0-rmse:593.90241\n",
      "[1000]\tvalidation_0-rmse:589.63477\n",
      "[1200]\tvalidation_0-rmse:587.23840\n",
      "[1256]\tvalidation_0-rmse:586.98676\n"
     ]
    },
    {
     "name": "stderr",
     "output_type": "stream",
     "text": [
      "\u001b[32m[I 2021-05-06 09:26:43,693]\u001b[0m Trial 28 finished with value: 586.9405001497056 and parameters: {'n_estimators': 1257, 'learning_rate': 0.23228772917113494, 'max_depth': 8, 'colsample_bytree': 0.5032124478198166, 'subsample': 0.7466640953434905, 'min_child_weight': 27}. Best is trial 17 with value: 581.2620616492179.\u001b[0m\n"
     ]
    },
    {
     "name": "stdout",
     "output_type": "stream",
     "text": [
      "[0]\tvalidation_0-rmse:6037.01025\n",
      "[200]\tvalidation_0-rmse:651.60712\n",
      "[400]\tvalidation_0-rmse:623.99835\n",
      "[600]\tvalidation_0-rmse:611.82196\n",
      "[800]\tvalidation_0-rmse:603.86438\n",
      "[1000]\tvalidation_0-rmse:599.24969\n",
      "[1200]\tvalidation_0-rmse:596.19122\n",
      "[1207]\tvalidation_0-rmse:595.98792\n"
     ]
    },
    {
     "name": "stderr",
     "output_type": "stream",
     "text": [
      "\u001b[32m[I 2021-05-06 09:27:36,172]\u001b[0m Trial 29 finished with value: 595.9879242373486 and parameters: {'n_estimators': 1208, 'learning_rate': 0.14763083285027934, 'max_depth': 9, 'colsample_bytree': 0.636943772381132, 'subsample': 0.5247757877162548, 'min_child_weight': 75}. Best is trial 17 with value: 581.2620616492179.\u001b[0m\n"
     ]
    },
    {
     "name": "stdout",
     "output_type": "stream",
     "text": [
      "[0]\tvalidation_0-rmse:5068.71143\n",
      "[200]\tvalidation_0-rmse:634.28162\n",
      "[400]\tvalidation_0-rmse:612.85815\n",
      "[600]\tvalidation_0-rmse:604.22504\n",
      "[800]\tvalidation_0-rmse:598.22821\n",
      "[1000]\tvalidation_0-rmse:595.60248\n",
      "[1200]\tvalidation_0-rmse:593.77508\n",
      "[1310]\tvalidation_0-rmse:592.95544\n"
     ]
    },
    {
     "name": "stderr",
     "output_type": "stream",
     "text": [
      "\u001b[32m[I 2021-05-06 09:28:28,854]\u001b[0m Trial 30 finished with value: 592.897383347601 and parameters: {'n_estimators': 1311, 'learning_rate': 0.2875700370804273, 'max_depth': 8, 'colsample_bytree': 0.7125364319345425, 'subsample': 0.7012527917792746, 'min_child_weight': 63}. Best is trial 17 with value: 581.2620616492179.\u001b[0m\n"
     ]
    },
    {
     "name": "stdout",
     "output_type": "stream",
     "text": [
      "[0]\tvalidation_0-rmse:6235.66309\n",
      "[200]\tvalidation_0-rmse:644.30279\n",
      "[400]\tvalidation_0-rmse:614.43909\n",
      "[600]\tvalidation_0-rmse:601.25519\n",
      "[800]\tvalidation_0-rmse:593.14380\n",
      "[1000]\tvalidation_0-rmse:587.81537\n",
      "[1200]\tvalidation_0-rmse:584.25366\n",
      "[1353]\tvalidation_0-rmse:581.64960\n"
     ]
    },
    {
     "name": "stderr",
     "output_type": "stream",
     "text": [
      "\u001b[32m[I 2021-05-06 09:29:37,189]\u001b[0m Trial 31 finished with value: 581.649609574705 and parameters: {'n_estimators': 1354, 'learning_rate': 0.12155817832863115, 'max_depth': 9, 'colsample_bytree': 0.596907396559952, 'subsample': 0.7153777432828259, 'min_child_weight': 66}. Best is trial 17 with value: 581.2620616492179.\u001b[0m\n"
     ]
    },
    {
     "name": "stdout",
     "output_type": "stream",
     "text": [
      "[0]\tvalidation_0-rmse:6928.19531\n",
      "[200]\tvalidation_0-rmse:840.59174\n",
      "[400]\tvalidation_0-rmse:728.50647\n",
      "[600]\tvalidation_0-rmse:689.83948\n",
      "[800]\tvalidation_0-rmse:667.76758\n",
      "[1000]\tvalidation_0-rmse:652.99597\n",
      "[1200]\tvalidation_0-rmse:642.36676\n",
      "[1364]\tvalidation_0-rmse:635.93591\n"
     ]
    },
    {
     "name": "stderr",
     "output_type": "stream",
     "text": [
      "\u001b[32m[I 2021-05-06 09:31:01,139]\u001b[0m Trial 32 finished with value: 635.9359280937088 and parameters: {'n_estimators': 1365, 'learning_rate': 0.017643913042878684, 'max_depth': 9, 'colsample_bytree': 0.5940349817735271, 'subsample': 0.764701268847163, 'min_child_weight': 53}. Best is trial 17 with value: 581.2620616492179.\u001b[0m\n"
     ]
    },
    {
     "name": "stdout",
     "output_type": "stream",
     "text": [
      "[0]\tvalidation_0-rmse:6534.00635\n",
      "[200]\tvalidation_0-rmse:672.29346\n",
      "[400]\tvalidation_0-rmse:635.32544\n",
      "[600]\tvalidation_0-rmse:618.29797\n",
      "[800]\tvalidation_0-rmse:608.15710\n",
      "[1000]\tvalidation_0-rmse:600.30273\n",
      "[1200]\tvalidation_0-rmse:595.16345\n",
      "[1400]\tvalidation_0-rmse:590.88043\n",
      "[1446]\tvalidation_0-rmse:590.22375\n"
     ]
    },
    {
     "name": "stderr",
     "output_type": "stream",
     "text": [
      "\u001b[32m[I 2021-05-06 09:32:10,898]\u001b[0m Trial 33 finished with value: 590.212290073806 and parameters: {'n_estimators': 1447, 'learning_rate': 0.07481740246417419, 'max_depth': 9, 'colsample_bytree': 0.6496351151967514, 'subsample': 0.651432802389802, 'min_child_weight': 69}. Best is trial 17 with value: 581.2620616492179.\u001b[0m\n"
     ]
    },
    {
     "name": "stdout",
     "output_type": "stream",
     "text": [
      "[0]\tvalidation_0-rmse:5630.61133\n",
      "[200]\tvalidation_0-rmse:647.64215\n",
      "[400]\tvalidation_0-rmse:620.66107\n",
      "[600]\tvalidation_0-rmse:608.19995\n",
      "[800]\tvalidation_0-rmse:600.55707\n",
      "[1000]\tvalidation_0-rmse:596.32654\n",
      "[1200]\tvalidation_0-rmse:593.03754\n",
      "[1291]\tvalidation_0-rmse:591.51190\n"
     ]
    },
    {
     "name": "stderr",
     "output_type": "stream",
     "text": [
      "\u001b[32m[I 2021-05-06 09:33:00,692]\u001b[0m Trial 34 finished with value: 591.511887132247 and parameters: {'n_estimators': 1292, 'learning_rate': 0.20555964374705907, 'max_depth': 8, 'colsample_bytree': 0.6873699983481277, 'subsample': 0.6994804091274486, 'min_child_weight': 87}. Best is trial 17 with value: 581.2620616492179.\u001b[0m\n"
     ]
    },
    {
     "name": "stdout",
     "output_type": "stream",
     "text": [
      "[0]\tvalidation_0-rmse:6173.61426\n",
      "[200]\tvalidation_0-rmse:649.04584\n",
      "[400]\tvalidation_0-rmse:617.36902\n",
      "[600]\tvalidation_0-rmse:603.53455\n",
      "[800]\tvalidation_0-rmse:595.03308\n",
      "[1000]\tvalidation_0-rmse:589.07678\n",
      "[1200]\tvalidation_0-rmse:585.44281\n",
      "[1368]\tvalidation_0-rmse:582.70758\n"
     ]
    },
    {
     "name": "stderr",
     "output_type": "stream",
     "text": [
      "\u001b[32m[I 2021-05-06 09:34:10,665]\u001b[0m Trial 35 finished with value: 582.7075838498379 and parameters: {'n_estimators': 1369, 'learning_rate': 0.13089883783599804, 'max_depth': 9, 'colsample_bytree': 0.5480119425968977, 'subsample': 0.8117754630234921, 'min_child_weight': 95}. Best is trial 17 with value: 581.2620616492179.\u001b[0m\n"
     ]
    },
    {
     "name": "stdout",
     "output_type": "stream",
     "text": [
      "[0]\tvalidation_0-rmse:4979.13818\n",
      "[200]\tvalidation_0-rmse:634.52618\n",
      "[400]\tvalidation_0-rmse:615.10797\n",
      "[600]\tvalidation_0-rmse:606.85083\n",
      "[800]\tvalidation_0-rmse:602.47015\n",
      "[1000]\tvalidation_0-rmse:600.01379\n",
      "[1200]\tvalidation_0-rmse:598.43298\n",
      "[1400]\tvalidation_0-rmse:597.42401\n",
      "[1415]\tvalidation_0-rmse:597.44629\n"
     ]
    },
    {
     "name": "stderr",
     "output_type": "stream",
     "text": [
      "\u001b[32m[I 2021-05-06 09:35:06,024]\u001b[0m Trial 36 finished with value: 597.3739344467285 and parameters: {'n_estimators': 1416, 'learning_rate': 0.30353113663083287, 'max_depth': 8, 'colsample_bytree': 0.6212791514673355, 'subsample': 0.6053976826411196, 'min_child_weight': 52}. Best is trial 17 with value: 581.2620616492179.\u001b[0m\n"
     ]
    },
    {
     "name": "stdout",
     "output_type": "stream",
     "text": [
      "[0]\tvalidation_0-rmse:2388.96143\n",
      "[200]\tvalidation_0-rmse:660.21814\n",
      "[400]\tvalidation_0-rmse:653.14081\n",
      "[597]\tvalidation_0-rmse:653.04706\n"
     ]
    },
    {
     "name": "stderr",
     "output_type": "stream",
     "text": [
      "\u001b[32m[I 2021-05-06 09:35:38,386]\u001b[0m Trial 37 finished with value: 652.5019654590925 and parameters: {'n_estimators': 1307, 'learning_rate': 0.737744222955599, 'max_depth': 9, 'colsample_bytree': 0.5822084334680034, 'subsample': 0.7567483887025505, 'min_child_weight': 71}. Best is trial 17 with value: 581.2620616492179.\u001b[0m\n"
     ]
    },
    {
     "name": "stdout",
     "output_type": "stream",
     "text": [
      "[0]\tvalidation_0-rmse:4004.93091\n",
      "[200]\tvalidation_0-rmse:637.49982\n",
      "[400]\tvalidation_0-rmse:620.78509\n",
      "[600]\tvalidation_0-rmse:616.15582\n",
      "[800]\tvalidation_0-rmse:613.17059\n",
      "[1000]\tvalidation_0-rmse:611.97644\n",
      "[1137]\tvalidation_0-rmse:611.56690\n"
     ]
    },
    {
     "name": "stderr",
     "output_type": "stream",
     "text": [
      "\u001b[32m[I 2021-05-06 09:36:24,357]\u001b[0m Trial 38 finished with value: 611.4055644543859 and parameters: {'n_estimators': 1254, 'learning_rate': 0.44400552825184225, 'max_depth': 8, 'colsample_bytree': 0.6647497579181654, 'subsample': 0.6826727863260154, 'min_child_weight': 61}. Best is trial 17 with value: 581.2620616492179.\u001b[0m\n"
     ]
    },
    {
     "name": "stdout",
     "output_type": "stream",
     "text": [
      "[0]\tvalidation_0-rmse:6836.79785\n",
      "[200]\tvalidation_0-rmse:750.11249\n",
      "[400]\tvalidation_0-rmse:681.50641\n",
      "[600]\tvalidation_0-rmse:654.88776\n",
      "[800]\tvalidation_0-rmse:640.20782\n",
      "[1000]\tvalidation_0-rmse:629.01404\n",
      "[1200]\tvalidation_0-rmse:620.80695\n",
      "[1357]\tvalidation_0-rmse:615.32489\n"
     ]
    },
    {
     "name": "stderr",
     "output_type": "stream",
     "text": [
      "\u001b[32m[I 2021-05-06 09:37:41,866]\u001b[0m Trial 39 finished with value: 615.3248944057445 and parameters: {'n_estimators': 1358, 'learning_rate': 0.03133343055921384, 'max_depth': 9, 'colsample_bytree': 0.5353177114791596, 'subsample': 0.7999611922816734, 'min_child_weight': 79}. Best is trial 17 with value: 581.2620616492179.\u001b[0m\n"
     ]
    },
    {
     "name": "stdout",
     "output_type": "stream",
     "text": [
      "[0]\tvalidation_0-rmse:6641.57715\n",
      "[200]\tvalidation_0-rmse:704.85699\n",
      "[400]\tvalidation_0-rmse:656.90204\n",
      "[600]\tvalidation_0-rmse:634.83289\n",
      "[800]\tvalidation_0-rmse:620.39618\n",
      "[1000]\tvalidation_0-rmse:610.12561\n",
      "[1200]\tvalidation_0-rmse:602.86883\n",
      "[1400]\tvalidation_0-rmse:597.46869\n",
      "[1475]\tvalidation_0-rmse:595.85297\n"
     ]
    },
    {
     "name": "stderr",
     "output_type": "stream",
     "text": [
      "\u001b[32m[I 2021-05-06 09:38:51,191]\u001b[0m Trial 40 finished with value: 595.8529818102191 and parameters: {'n_estimators': 1476, 'learning_rate': 0.060703053719904934, 'max_depth': 8, 'colsample_bytree': 0.5021366976571232, 'subsample': 0.8446512706165139, 'min_child_weight': 39}. Best is trial 17 with value: 581.2620616492179.\u001b[0m\n"
     ]
    },
    {
     "name": "stdout",
     "output_type": "stream",
     "text": [
      "[0]\tvalidation_0-rmse:6203.31543\n",
      "[200]\tvalidation_0-rmse:640.96448\n",
      "[400]\tvalidation_0-rmse:612.95276\n",
      "[600]\tvalidation_0-rmse:599.54456\n",
      "[800]\tvalidation_0-rmse:592.07806\n",
      "[1000]\tvalidation_0-rmse:586.95374\n",
      "[1200]\tvalidation_0-rmse:583.45825\n",
      "[1332]\tvalidation_0-rmse:581.41290\n"
     ]
    },
    {
     "name": "stderr",
     "output_type": "stream",
     "text": [
      "\u001b[32m[I 2021-05-06 09:39:58,922]\u001b[0m Trial 41 finished with value: 581.4071862200293 and parameters: {'n_estimators': 1333, 'learning_rate': 0.12318503366910216, 'max_depth': 9, 'colsample_bytree': 0.6110104555771465, 'subsample': 0.7190927908284025, 'min_child_weight': 67}. Best is trial 17 with value: 581.2620616492179.\u001b[0m\n"
     ]
    },
    {
     "name": "stdout",
     "output_type": "stream",
     "text": [
      "[0]\tvalidation_0-rmse:6121.16211\n",
      "[200]\tvalidation_0-rmse:643.37201\n",
      "[400]\tvalidation_0-rmse:613.50629\n",
      "[600]\tvalidation_0-rmse:600.97119\n",
      "[800]\tvalidation_0-rmse:593.09271\n",
      "[1000]\tvalidation_0-rmse:588.03241\n",
      "[1200]\tvalidation_0-rmse:584.77759\n",
      "[1284]\tvalidation_0-rmse:583.53223\n"
     ]
    },
    {
     "name": "stderr",
     "output_type": "stream",
     "text": [
      "\u001b[32m[I 2021-05-06 09:41:05,189]\u001b[0m Trial 42 finished with value: 583.5322080942292 and parameters: {'n_estimators': 1285, 'learning_rate': 0.1387901922788445, 'max_depth': 9, 'colsample_bytree': 0.5591750793671189, 'subsample': 0.7220751423114874, 'min_child_weight': 63}. Best is trial 17 with value: 581.2620616492179.\u001b[0m\n"
     ]
    },
    {
     "name": "stdout",
     "output_type": "stream",
     "text": [
      "[0]\tvalidation_0-rmse:5660.60742\n",
      "[200]\tvalidation_0-rmse:625.90698\n",
      "[400]\tvalidation_0-rmse:601.92035\n",
      "[600]\tvalidation_0-rmse:592.63373\n",
      "[800]\tvalidation_0-rmse:587.27289\n",
      "[1000]\tvalidation_0-rmse:584.15192\n",
      "[1200]\tvalidation_0-rmse:582.74860\n",
      "[1398]\tvalidation_0-rmse:582.19482\n"
     ]
    },
    {
     "name": "stderr",
     "output_type": "stream",
     "text": [
      "\u001b[32m[I 2021-05-06 09:42:19,614]\u001b[0m Trial 43 finished with value: 581.9057644138094 and parameters: {'n_estimators': 1399, 'learning_rate': 0.20827162622347078, 'max_depth': 9, 'colsample_bytree': 0.5877845907011555, 'subsample': 0.7713905444802924, 'min_child_weight': 49}. Best is trial 17 with value: 581.2620616492179.\u001b[0m\n"
     ]
    },
    {
     "name": "stdout",
     "output_type": "stream",
     "text": [
      "[0]\tvalidation_0-rmse:5608.57520\n",
      "[200]\tvalidation_0-rmse:623.11707\n",
      "[400]\tvalidation_0-rmse:600.04126\n",
      "[600]\tvalidation_0-rmse:590.60913\n",
      "[800]\tvalidation_0-rmse:586.49976\n",
      "[1000]\tvalidation_0-rmse:583.61902\n",
      "[1200]\tvalidation_0-rmse:582.51843\n",
      "[1400]\tvalidation_0-rmse:581.99262\n",
      "[1539]\tvalidation_0-rmse:581.71979\n"
     ]
    },
    {
     "name": "stderr",
     "output_type": "stream",
     "text": [
      "\u001b[32m[I 2021-05-06 09:43:42,627]\u001b[0m Trial 44 finished with value: 581.6765577535407 and parameters: {'n_estimators': 1540, 'learning_rate': 0.21037840014768014, 'max_depth': 9, 'colsample_bytree': 0.6231517517119209, 'subsample': 0.7731416513840336, 'min_child_weight': 49}. Best is trial 17 with value: 581.2620616492179.\u001b[0m\n"
     ]
    },
    {
     "name": "stdout",
     "output_type": "stream",
     "text": [
      "[0]\tvalidation_0-rmse:5524.82080\n",
      "[200]\tvalidation_0-rmse:620.67639\n",
      "[400]\tvalidation_0-rmse:594.87884\n",
      "[600]\tvalidation_0-rmse:586.70367\n",
      "[800]\tvalidation_0-rmse:582.43146\n",
      "[1000]\tvalidation_0-rmse:579.92999\n",
      "[1200]\tvalidation_0-rmse:578.69812\n",
      "[1400]\tvalidation_0-rmse:578.03174\n",
      "[1432]\tvalidation_0-rmse:578.17120\n"
     ]
    },
    {
     "name": "stderr",
     "output_type": "stream",
     "text": [
      "\u001b[32m[I 2021-05-06 09:45:11,429]\u001b[0m Trial 45 finished with value: 577.8900474278811 and parameters: {'n_estimators': 1554, 'learning_rate': 0.22266822853686777, 'max_depth': 9, 'colsample_bytree': 0.6251190622363189, 'subsample': 0.8803354914814919, 'min_child_weight': 48}. Best is trial 45 with value: 577.8900474278811.\u001b[0m\n"
     ]
    },
    {
     "name": "stdout",
     "output_type": "stream",
     "text": [
      "[0]\tvalidation_0-rmse:4764.03662\n",
      "[200]\tvalidation_0-rmse:691.24738\n",
      "[400]\tvalidation_0-rmse:658.88464\n",
      "[600]\tvalidation_0-rmse:643.90210\n",
      "[800]\tvalidation_0-rmse:633.65118\n",
      "[1000]\tvalidation_0-rmse:625.25519\n",
      "[1200]\tvalidation_0-rmse:619.76648\n",
      "[1400]\tvalidation_0-rmse:615.42236\n",
      "[1546]\tvalidation_0-rmse:613.10516\n"
     ]
    },
    {
     "name": "stderr",
     "output_type": "stream",
     "text": [
      "\u001b[32m[I 2021-05-06 09:45:52,320]\u001b[0m Trial 46 finished with value: 613.105184750074 and parameters: {'n_estimators': 1547, 'learning_rate': 0.33539337658646623, 'max_depth': 5, 'colsample_bytree': 0.6625311079031564, 'subsample': 0.8815136029321191, 'min_child_weight': 44}. Best is trial 45 with value: 577.8900474278811.\u001b[0m\n"
     ]
    },
    {
     "name": "stdout",
     "output_type": "stream",
     "text": [
      "[0]\tvalidation_0-rmse:4262.05859\n",
      "[200]\tvalidation_0-rmse:604.08691\n",
      "[400]\tvalidation_0-rmse:593.42566\n",
      "[600]\tvalidation_0-rmse:591.66034\n",
      "[707]\tvalidation_0-rmse:591.96735\n"
     ]
    },
    {
     "name": "stderr",
     "output_type": "stream",
     "text": [
      "\u001b[32m[I 2021-05-06 09:46:38,938]\u001b[0m Trial 47 finished with value: 591.4725409296216 and parameters: {'n_estimators': 1563, 'learning_rate': 0.40516690023049806, 'max_depth': 9, 'colsample_bytree': 0.6912087083211328, 'subsample': 0.9514677146706177, 'min_child_weight': 30}. Best is trial 45 with value: 577.8900474278811.\u001b[0m\n"
     ]
    },
    {
     "name": "stdout",
     "output_type": "stream",
     "text": [
      "[0]\tvalidation_0-rmse:5579.03125\n",
      "[200]\tvalidation_0-rmse:616.39477\n",
      "[400]\tvalidation_0-rmse:592.87799\n",
      "[600]\tvalidation_0-rmse:584.06781\n",
      "[800]\tvalidation_0-rmse:579.81140\n",
      "[1000]\tvalidation_0-rmse:577.61340\n",
      "[1200]\tvalidation_0-rmse:576.35876\n",
      "[1400]\tvalidation_0-rmse:575.80493\n",
      "[1495]\tvalidation_0-rmse:576.09802\n"
     ]
    },
    {
     "name": "stderr",
     "output_type": "stream",
     "text": [
      "\u001b[32m[I 2021-05-06 09:48:07,856]\u001b[0m Trial 48 finished with value: 575.7427148256842 and parameters: {'n_estimators': 1528, 'learning_rate': 0.2146762671937887, 'max_depth': 9, 'colsample_bytree': 0.6260769656733702, 'subsample': 0.8874841787144112, 'min_child_weight': 49}. Best is trial 48 with value: 575.7427148256842.\u001b[0m\n"
     ]
    },
    {
     "name": "stdout",
     "output_type": "stream",
     "text": [
      "[0]\tvalidation_0-rmse:3255.74414\n",
      "[200]\tvalidation_0-rmse:633.09100\n",
      "[400]\tvalidation_0-rmse:611.76373\n",
      "[600]\tvalidation_0-rmse:604.75708\n",
      "[800]\tvalidation_0-rmse:601.06128\n",
      "[1000]\tvalidation_0-rmse:598.69757\n",
      "[1200]\tvalidation_0-rmse:597.98242\n",
      "[1400]\tvalidation_0-rmse:598.05444\n",
      "[1418]\tvalidation_0-rmse:597.99316\n"
     ]
    },
    {
     "name": "stderr",
     "output_type": "stream",
     "text": [
      "\u001b[32m[I 2021-05-06 09:49:02,115]\u001b[0m Trial 49 finished with value: 597.8580283602506 and parameters: {'n_estimators': 1593, 'learning_rate': 0.5572240218926172, 'max_depth': 7, 'colsample_bytree': 0.750048503728501, 'subsample': 0.9381469016455836, 'min_child_weight': 63}. Best is trial 48 with value: 575.7427148256842.\u001b[0m\n"
     ]
    },
    {
     "name": "stdout",
     "output_type": "stream",
     "text": [
      "[0]\tvalidation_0-rmse:5288.49316\n",
      "[200]\tvalidation_0-rmse:621.43677\n",
      "[400]\tvalidation_0-rmse:599.30481\n",
      "[600]\tvalidation_0-rmse:590.36670\n",
      "[800]\tvalidation_0-rmse:586.45081\n",
      "[1000]\tvalidation_0-rmse:584.29144\n",
      "[1200]\tvalidation_0-rmse:583.35211\n",
      "[1400]\tvalidation_0-rmse:582.61230\n",
      "[1457]\tvalidation_0-rmse:582.53076\n"
     ]
    },
    {
     "name": "stderr",
     "output_type": "stream",
     "text": [
      "\u001b[32m[I 2021-05-06 09:50:12,928]\u001b[0m Trial 50 finished with value: 582.502959007772 and parameters: {'n_estimators': 1514, 'learning_rate': 0.2553288118010489, 'max_depth': 8, 'colsample_bytree': 0.9278736581638852, 'subsample': 0.875234077396577, 'min_child_weight': 71}. Best is trial 48 with value: 575.7427148256842.\u001b[0m\n"
     ]
    },
    {
     "name": "stdout",
     "output_type": "stream",
     "text": [
      "[0]\tvalidation_0-rmse:5697.26611\n",
      "[200]\tvalidation_0-rmse:619.80402\n",
      "[400]\tvalidation_0-rmse:595.34778\n",
      "[600]\tvalidation_0-rmse:585.46661\n",
      "[800]\tvalidation_0-rmse:580.30109\n",
      "[1000]\tvalidation_0-rmse:577.56634\n",
      "[1200]\tvalidation_0-rmse:576.07086\n",
      "[1400]\tvalidation_0-rmse:575.45355\n",
      "[1428]\tvalidation_0-rmse:575.32947\n"
     ]
    },
    {
     "name": "stderr",
     "output_type": "stream",
     "text": [
      "\u001b[32m[I 2021-05-06 09:51:37,558]\u001b[0m Trial 51 finished with value: 575.2560719568243 and parameters: {'n_estimators': 1556, 'learning_rate': 0.19732159175157027, 'max_depth': 9, 'colsample_bytree': 0.6285626080331344, 'subsample': 0.8829870288007642, 'min_child_weight': 47}. Best is trial 51 with value: 575.2560719568243.\u001b[0m\n"
     ]
    },
    {
     "name": "stdout",
     "output_type": "stream",
     "text": [
      "[0]\tvalidation_0-rmse:5806.48242\n",
      "[200]\tvalidation_0-rmse:621.52112\n",
      "[400]\tvalidation_0-rmse:595.81293\n",
      "[600]\tvalidation_0-rmse:585.91492\n",
      "[800]\tvalidation_0-rmse:580.48138\n",
      "[1000]\tvalidation_0-rmse:576.83716\n",
      "[1200]\tvalidation_0-rmse:575.13995\n",
      "[1400]\tvalidation_0-rmse:574.15082\n",
      "[1570]\tvalidation_0-rmse:574.13092\n"
     ]
    },
    {
     "name": "stderr",
     "output_type": "stream",
     "text": [
      "\u001b[32m[I 2021-05-06 09:53:10,655]\u001b[0m Trial 52 finished with value: 573.9192970457693 and parameters: {'n_estimators': 1571, 'learning_rate': 0.18128019850942276, 'max_depth': 9, 'colsample_bytree': 0.6521583516443925, 'subsample': 0.8870537310141755, 'min_child_weight': 41}. Best is trial 52 with value: 573.9192970457693.\u001b[0m\n"
     ]
    },
    {
     "name": "stdout",
     "output_type": "stream",
     "text": [
      "[0]\tvalidation_0-rmse:5749.07812\n",
      "[200]\tvalidation_0-rmse:617.73090\n",
      "[400]\tvalidation_0-rmse:593.20056\n",
      "[600]\tvalidation_0-rmse:584.45142\n",
      "[800]\tvalidation_0-rmse:579.56836\n",
      "[1000]\tvalidation_0-rmse:576.16242\n",
      "[1200]\tvalidation_0-rmse:575.00848\n",
      "[1400]\tvalidation_0-rmse:574.15521\n",
      "[1579]\tvalidation_0-rmse:573.95276\n"
     ]
    },
    {
     "name": "stderr",
     "output_type": "stream",
     "text": [
      "\u001b[32m[I 2021-05-06 09:54:41,517]\u001b[0m Trial 53 finished with value: 573.8440973064321 and parameters: {'n_estimators': 1580, 'learning_rate': 0.18969849039209272, 'max_depth': 9, 'colsample_bytree': 0.6496528815665138, 'subsample': 0.8898939758164486, 'min_child_weight': 40}. Best is trial 53 with value: 573.8440973064321.\u001b[0m\n"
     ]
    },
    {
     "name": "stdout",
     "output_type": "stream",
     "text": [
      "[0]\tvalidation_0-rmse:5845.99951\n",
      "[200]\tvalidation_0-rmse:617.69727\n",
      "[400]\tvalidation_0-rmse:591.83203\n",
      "[600]\tvalidation_0-rmse:581.99945\n",
      "[800]\tvalidation_0-rmse:576.86908\n",
      "[1000]\tvalidation_0-rmse:573.86951\n",
      "[1200]\tvalidation_0-rmse:572.67639\n",
      "[1400]\tvalidation_0-rmse:572.00232\n",
      "[1538]\tvalidation_0-rmse:571.78705\n"
     ]
    },
    {
     "name": "stderr",
     "output_type": "stream",
     "text": [
      "\u001b[32m[I 2021-05-06 09:56:15,361]\u001b[0m Trial 54 finished with value: 571.7719492326727 and parameters: {'n_estimators': 1574, 'learning_rate': 0.17547134905552333, 'max_depth': 9, 'colsample_bytree': 0.64844322875982, 'subsample': 0.8926157310925661, 'min_child_weight': 31}. Best is trial 54 with value: 571.7719492326727.\u001b[0m\n"
     ]
    },
    {
     "name": "stdout",
     "output_type": "stream",
     "text": [
      "[0]\tvalidation_0-rmse:5754.42334\n",
      "[200]\tvalidation_0-rmse:614.98285\n",
      "[400]\tvalidation_0-rmse:591.14435\n",
      "[600]\tvalidation_0-rmse:582.47528\n",
      "[800]\tvalidation_0-rmse:578.33527\n",
      "[1000]\tvalidation_0-rmse:575.94879\n",
      "[1200]\tvalidation_0-rmse:574.51526\n",
      "[1374]\tvalidation_0-rmse:574.55768\n"
     ]
    },
    {
     "name": "stderr",
     "output_type": "stream",
     "text": [
      "\u001b[32m[I 2021-05-06 09:57:43,346]\u001b[0m Trial 55 finished with value: 574.3734168069144 and parameters: {'n_estimators': 1576, 'learning_rate': 0.1872503118011657, 'max_depth': 9, 'colsample_bytree': 0.6532667995548191, 'subsample': 0.8889346104106122, 'min_child_weight': 30}. Best is trial 54 with value: 571.7719492326727.\u001b[0m\n"
     ]
    },
    {
     "name": "stdout",
     "output_type": "stream",
     "text": [
      "[0]\tvalidation_0-rmse:4869.42090\n",
      "[200]\tvalidation_0-rmse:598.17334\n",
      "[400]\tvalidation_0-rmse:582.88824\n",
      "[600]\tvalidation_0-rmse:580.57874\n",
      "[679]\tvalidation_0-rmse:580.71271\n"
     ]
    },
    {
     "name": "stderr",
     "output_type": "stream",
     "text": [
      "\u001b[32m[I 2021-05-06 09:58:28,527]\u001b[0m Trial 56 finished with value: 580.4652739556873 and parameters: {'n_estimators': 1576, 'learning_rate': 0.3160926347162509, 'max_depth': 9, 'colsample_bytree': 0.658252534365063, 'subsample': 0.9779858725880202, 'min_child_weight': 20}. Best is trial 54 with value: 571.7719492326727.\u001b[0m\n"
     ]
    },
    {
     "name": "stdout",
     "output_type": "stream",
     "text": [
      "[0]\tvalidation_0-rmse:5754.18603\n",
      "[200]\tvalidation_0-rmse:615.71661\n",
      "[400]\tvalidation_0-rmse:590.94147\n",
      "[600]\tvalidation_0-rmse:581.65515\n",
      "[800]\tvalidation_0-rmse:576.55304\n",
      "[1000]\tvalidation_0-rmse:574.49976\n",
      "[1200]\tvalidation_0-rmse:573.53021\n",
      "[1400]\tvalidation_0-rmse:573.13934\n",
      "[1495]\tvalidation_0-rmse:573.20636\n"
     ]
    },
    {
     "name": "stderr",
     "output_type": "stream",
     "text": [
      "\u001b[32m[I 2021-05-06 10:00:02,610]\u001b[0m Trial 57 finished with value: 573.0488082974941 and parameters: {'n_estimators': 1599, 'learning_rate': 0.1872980653136843, 'max_depth': 9, 'colsample_bytree': 0.7391910648947293, 'subsample': 0.9059798765729522, 'min_child_weight': 34}. Best is trial 54 with value: 571.7719492326727.\u001b[0m\n"
     ]
    },
    {
     "name": "stdout",
     "output_type": "stream",
     "text": [
      "[0]\tvalidation_0-rmse:5834.22803\n",
      "[200]\tvalidation_0-rmse:687.18610\n",
      "[400]\tvalidation_0-rmse:649.15045\n",
      "[600]\tvalidation_0-rmse:630.23560\n",
      "[800]\tvalidation_0-rmse:619.47760\n",
      "[1000]\tvalidation_0-rmse:611.13312\n",
      "[1200]\tvalidation_0-rmse:605.07214\n",
      "[1400]\tvalidation_0-rmse:600.03906\n",
      "[1598]\tvalidation_0-rmse:596.88464\n"
     ]
    },
    {
     "name": "stderr",
     "output_type": "stream",
     "text": [
      "\u001b[32m[I 2021-05-06 10:00:52,920]\u001b[0m Trial 58 finished with value: 596.8798069350113 and parameters: {'n_estimators': 1599, 'learning_rate': 0.1767525837843828, 'max_depth': 6, 'colsample_bytree': 0.7966573703576028, 'subsample': 0.920764755725327, 'min_child_weight': 33}. Best is trial 54 with value: 571.7719492326727.\u001b[0m\n"
     ]
    },
    {
     "name": "stdout",
     "output_type": "stream",
     "text": [
      "[0]\tvalidation_0-rmse:4354.85254\n",
      "[200]\tvalidation_0-rmse:612.04059\n",
      "[400]\tvalidation_0-rmse:596.20544\n",
      "[600]\tvalidation_0-rmse:592.13489\n",
      "[800]\tvalidation_0-rmse:591.04901\n",
      "[829]\tvalidation_0-rmse:591.05750\n"
     ]
    },
    {
     "name": "stderr",
     "output_type": "stream",
     "text": [
      "\u001b[32m[I 2021-05-06 10:01:34,648]\u001b[0m Trial 59 finished with value: 590.8914929850501 and parameters: {'n_estimators': 1580, 'learning_rate': 0.392246120811887, 'max_depth': 8, 'colsample_bytree': 0.7314854054036929, 'subsample': 0.9043212642302922, 'min_child_weight': 15}. Best is trial 54 with value: 571.7719492326727.\u001b[0m\n"
     ]
    },
    {
     "name": "stdout",
     "output_type": "stream",
     "text": [
      "[0]\tvalidation_0-rmse:5202.69238\n",
      "[200]\tvalidation_0-rmse:608.37891\n",
      "[400]\tvalidation_0-rmse:589.00891\n",
      "[600]\tvalidation_0-rmse:582.64233\n",
      "[800]\tvalidation_0-rmse:580.21924\n",
      "[1000]\tvalidation_0-rmse:579.31165\n",
      "[1001]\tvalidation_0-rmse:579.26459\n"
     ]
    },
    {
     "name": "stderr",
     "output_type": "stream",
     "text": [
      "\u001b[32m[I 2021-05-06 10:02:35,606]\u001b[0m Trial 60 finished with value: 579.2532863260125 and parameters: {'n_estimators': 1002, 'learning_rate': 0.2675211326472394, 'max_depth': 9, 'colsample_bytree': 0.6931834877970243, 'subsample': 0.9478251070684592, 'min_child_weight': 35}. Best is trial 54 with value: 571.7719492326727.\u001b[0m\n"
     ]
    },
    {
     "name": "stdout",
     "output_type": "stream",
     "text": [
      "[0]\tvalidation_0-rmse:5719.25391\n",
      "[200]\tvalidation_0-rmse:620.09674\n",
      "[400]\tvalidation_0-rmse:594.06226\n",
      "[600]\tvalidation_0-rmse:585.06549\n",
      "[800]\tvalidation_0-rmse:580.15143\n",
      "[1000]\tvalidation_0-rmse:577.22046\n",
      "[1200]\tvalidation_0-rmse:575.77094\n",
      "[1400]\tvalidation_0-rmse:575.48566\n",
      "[1489]\tvalidation_0-rmse:575.73657\n"
     ]
    },
    {
     "name": "stderr",
     "output_type": "stream",
     "text": [
      "\u001b[32m[I 2021-05-06 10:04:03,791]\u001b[0m Trial 61 finished with value: 575.4679072646077 and parameters: {'n_estimators': 1525, 'learning_rate': 0.1923830309718264, 'max_depth': 9, 'colsample_bytree': 0.6746580673222654, 'subsample': 0.8960360197673405, 'min_child_weight': 41}. Best is trial 54 with value: 571.7719492326727.\u001b[0m\n"
     ]
    },
    {
     "name": "stdout",
     "output_type": "stream",
     "text": [
      "[0]\tvalidation_0-rmse:5786.32764\n",
      "[200]\tvalidation_0-rmse:616.69977\n",
      "[400]\tvalidation_0-rmse:592.15570\n",
      "[600]\tvalidation_0-rmse:583.13293\n",
      "[800]\tvalidation_0-rmse:578.71924\n",
      "[1000]\tvalidation_0-rmse:576.11182\n",
      "[1200]\tvalidation_0-rmse:575.29816\n",
      "[1400]\tvalidation_0-rmse:574.28253\n",
      "[1597]\tvalidation_0-rmse:574.37738\n"
     ]
    },
    {
     "name": "stderr",
     "output_type": "stream",
     "text": [
      "\u001b[32m[I 2021-05-06 10:05:37,548]\u001b[0m Trial 62 finished with value: 574.0354640369596 and parameters: {'n_estimators': 1598, 'learning_rate': 0.18261443463914817, 'max_depth': 9, 'colsample_bytree': 0.7527974200675959, 'subsample': 0.8673613648719988, 'min_child_weight': 41}. Best is trial 54 with value: 571.7719492326727.\u001b[0m\n"
     ]
    },
    {
     "name": "stdout",
     "output_type": "stream",
     "text": [
      "[0]\tvalidation_0-rmse:5348.23291\n",
      "[200]\tvalidation_0-rmse:610.36505\n",
      "[400]\tvalidation_0-rmse:590.86963\n",
      "[600]\tvalidation_0-rmse:585.27344\n",
      "[800]\tvalidation_0-rmse:582.57599\n",
      "[1000]\tvalidation_0-rmse:581.80646\n",
      "[1200]\tvalidation_0-rmse:581.92029\n",
      "[1214]\tvalidation_0-rmse:581.95190\n"
     ]
    },
    {
     "name": "stderr",
     "output_type": "stream",
     "text": [
      "\u001b[32m[I 2021-05-06 10:06:52,133]\u001b[0m Trial 63 finished with value: 581.3196948274733 and parameters: {'n_estimators': 1598, 'learning_rate': 0.2463470530187547, 'max_depth': 9, 'colsample_bytree': 0.7633285343214257, 'subsample': 0.8592716164077104, 'min_child_weight': 31}. Best is trial 54 with value: 571.7719492326727.\u001b[0m\n"
     ]
    },
    {
     "name": "stdout",
     "output_type": "stream",
     "text": [
      "[0]\tvalidation_0-rmse:5947.85254\n",
      "[200]\tvalidation_0-rmse:616.43945\n",
      "[400]\tvalidation_0-rmse:589.84766\n",
      "[600]\tvalidation_0-rmse:579.48596\n",
      "[800]\tvalidation_0-rmse:573.46832\n",
      "[1000]\tvalidation_0-rmse:571.03815\n",
      "[1200]\tvalidation_0-rmse:569.67688\n",
      "[1400]\tvalidation_0-rmse:568.96997\n",
      "[1489]\tvalidation_0-rmse:569.09729\n"
     ]
    },
    {
     "name": "stderr",
     "output_type": "stream",
     "text": [
      "\u001b[32m[I 2021-05-06 10:08:27,227]\u001b[0m Trial 64 finished with value: 568.8946868307097 and parameters: {'n_estimators': 1573, 'learning_rate': 0.1591622997966126, 'max_depth': 9, 'colsample_bytree': 0.703425382278974, 'subsample': 0.9187292211485498, 'min_child_weight': 27}. Best is trial 64 with value: 568.8946868307097.\u001b[0m\n"
     ]
    },
    {
     "name": "stdout",
     "output_type": "stream",
     "text": [
      "[0]\tvalidation_0-rmse:6614.04834\n",
      "[200]\tvalidation_0-rmse:660.52551\n",
      "[400]\tvalidation_0-rmse:619.03015\n",
      "[600]\tvalidation_0-rmse:599.88000\n",
      "[800]\tvalidation_0-rmse:588.32483\n",
      "[1000]\tvalidation_0-rmse:580.50183\n",
      "[1200]\tvalidation_0-rmse:575.78534\n",
      "[1400]\tvalidation_0-rmse:571.38446\n",
      "[1501]\tvalidation_0-rmse:569.92078\n"
     ]
    },
    {
     "name": "stderr",
     "output_type": "stream",
     "text": [
      "\u001b[32m[I 2021-05-06 10:10:03,159]\u001b[0m Trial 65 finished with value: 569.9207690728796 and parameters: {'n_estimators': 1502, 'learning_rate': 0.06255648774821768, 'max_depth': 9, 'colsample_bytree': 0.7050579725618086, 'subsample': 0.9227831423824865, 'min_child_weight': 23}. Best is trial 64 with value: 568.8946868307097.\u001b[0m\n"
     ]
    },
    {
     "name": "stdout",
     "output_type": "stream",
     "text": [
      "[0]\tvalidation_0-rmse:6722.33057\n",
      "[200]\tvalidation_0-rmse:682.45544\n",
      "[400]\tvalidation_0-rmse:634.82947\n",
      "[600]\tvalidation_0-rmse:614.38562\n",
      "[800]\tvalidation_0-rmse:600.66022\n",
      "[1000]\tvalidation_0-rmse:591.15857\n",
      "[1200]\tvalidation_0-rmse:584.11713\n",
      "[1400]\tvalidation_0-rmse:578.13824\n",
      "[1489]\tvalidation_0-rmse:576.26062\n"
     ]
    },
    {
     "name": "stderr",
     "output_type": "stream",
     "text": [
      "\u001b[32m[I 2021-05-06 10:11:42,093]\u001b[0m Trial 66 finished with value: 576.2606000203297 and parameters: {'n_estimators': 1490, 'learning_rate': 0.04688054482132731, 'max_depth': 9, 'colsample_bytree': 0.7074219969197081, 'subsample': 0.9257231017926196, 'min_child_weight': 22}. Best is trial 64 with value: 568.8946868307097.\u001b[0m\n"
     ]
    },
    {
     "name": "stdout",
     "output_type": "stream",
     "text": [
      "[0]\tvalidation_0-rmse:6533.87744\n",
      "[200]\tvalidation_0-rmse:644.29919\n",
      "[400]\tvalidation_0-rmse:607.51434\n",
      "[600]\tvalidation_0-rmse:591.24890\n",
      "[800]\tvalidation_0-rmse:582.47656\n",
      "[1000]\tvalidation_0-rmse:575.89282\n",
      "[1200]\tvalidation_0-rmse:571.71423\n",
      "[1400]\tvalidation_0-rmse:568.66809\n",
      "[1495]\tvalidation_0-rmse:567.44989\n"
     ]
    },
    {
     "name": "stderr",
     "output_type": "stream",
     "text": [
      "\u001b[32m[I 2021-05-06 10:13:23,579]\u001b[0m Trial 67 finished with value: 567.449894625129 and parameters: {'n_estimators': 1496, 'learning_rate': 0.07418097680036034, 'max_depth': 9, 'colsample_bytree': 0.7929276511979195, 'subsample': 0.8256725094103148, 'min_child_weight': 14}. Best is trial 67 with value: 567.449894625129.\u001b[0m\n"
     ]
    },
    {
     "name": "stdout",
     "output_type": "stream",
     "text": [
      "[0]\tvalidation_0-rmse:6494.69189\n",
      "[200]\tvalidation_0-rmse:638.93097\n",
      "[400]\tvalidation_0-rmse:603.78717\n",
      "[600]\tvalidation_0-rmse:587.43646\n",
      "[800]\tvalidation_0-rmse:576.47839\n",
      "[1000]\tvalidation_0-rmse:569.89050\n",
      "[1200]\tvalidation_0-rmse:565.57428\n",
      "[1400]\tvalidation_0-rmse:562.35608\n",
      "[1500]\tvalidation_0-rmse:561.36066\n"
     ]
    },
    {
     "name": "stderr",
     "output_type": "stream",
     "text": [
      "\u001b[32m[I 2021-05-06 10:15:11,003]\u001b[0m Trial 68 finished with value: 561.3398728715875 and parameters: {'n_estimators': 1501, 'learning_rate': 0.07982557318238315, 'max_depth': 9, 'colsample_bytree': 0.7927427512232399, 'subsample': 0.9835137111735882, 'min_child_weight': 11}. Best is trial 68 with value: 561.3398728715875.\u001b[0m\n"
     ]
    },
    {
     "name": "stdout",
     "output_type": "stream",
     "text": [
      "[0]\tvalidation_0-rmse:6466.42480\n",
      "[200]\tvalidation_0-rmse:637.47028\n",
      "[400]\tvalidation_0-rmse:601.63452\n",
      "[600]\tvalidation_0-rmse:586.41205\n",
      "[800]\tvalidation_0-rmse:575.98138\n",
      "[1000]\tvalidation_0-rmse:569.80249\n",
      "[1200]\tvalidation_0-rmse:565.72235\n",
      "[1400]\tvalidation_0-rmse:563.23059\n",
      "[1455]\tvalidation_0-rmse:562.86292\n"
     ]
    },
    {
     "name": "stderr",
     "output_type": "stream",
     "text": [
      "\u001b[32m[I 2021-05-06 10:16:54,475]\u001b[0m Trial 69 finished with value: 562.8629101924175 and parameters: {'n_estimators': 1456, 'learning_rate': 0.08392176055235949, 'max_depth': 9, 'colsample_bytree': 0.8321916975632482, 'subsample': 0.9709217203850693, 'min_child_weight': 11}. Best is trial 68 with value: 561.3398728715875.\u001b[0m\n"
     ]
    },
    {
     "name": "stdout",
     "output_type": "stream",
     "text": [
      "[0]\tvalidation_0-rmse:6572.26074\n",
      "[200]\tvalidation_0-rmse:670.17444\n",
      "[400]\tvalidation_0-rmse:630.90991\n",
      "[600]\tvalidation_0-rmse:611.69488\n",
      "[800]\tvalidation_0-rmse:598.60126\n",
      "[1000]\tvalidation_0-rmse:587.97259\n",
      "[1200]\tvalidation_0-rmse:580.90710\n",
      "[1400]\tvalidation_0-rmse:575.26215\n",
      "[1457]\tvalidation_0-rmse:574.26428\n"
     ]
    },
    {
     "name": "stderr",
     "output_type": "stream",
     "text": [
      "\u001b[32m[I 2021-05-06 10:18:12,724]\u001b[0m Trial 70 finished with value: 574.2643243117857 and parameters: {'n_estimators': 1458, 'learning_rate': 0.068687372589476, 'max_depth': 8, 'colsample_bytree': 0.8312471995604722, 'subsample': 0.9757688081560943, 'min_child_weight': 10}. Best is trial 68 with value: 561.3398728715875.\u001b[0m\n"
     ]
    },
    {
     "name": "stdout",
     "output_type": "stream",
     "text": [
      "[0]\tvalidation_0-rmse:6343.98145\n",
      "[200]\tvalidation_0-rmse:624.86883\n",
      "[400]\tvalidation_0-rmse:593.28662\n",
      "[600]\tvalidation_0-rmse:577.50555\n",
      "[800]\tvalidation_0-rmse:570.32330\n",
      "[1000]\tvalidation_0-rmse:566.21741\n",
      "[1200]\tvalidation_0-rmse:564.16467\n",
      "[1400]\tvalidation_0-rmse:563.10559\n",
      "[1490]\tvalidation_0-rmse:562.58673\n"
     ]
    },
    {
     "name": "stderr",
     "output_type": "stream",
     "text": [
      "\u001b[32m[I 2021-05-06 10:20:16,000]\u001b[0m Trial 71 finished with value: 562.5838460218201 and parameters: {'n_estimators': 1491, 'learning_rate': 0.101661025220504, 'max_depth': 9, 'colsample_bytree': 0.8658969741595536, 'subsample': 0.9911623513085674, 'min_child_weight': 1}. Best is trial 68 with value: 561.3398728715875.\u001b[0m\n"
     ]
    },
    {
     "name": "stdout",
     "output_type": "stream",
     "text": [
      "[0]\tvalidation_0-rmse:6411.36865\n",
      "[200]\tvalidation_0-rmse:630.15027\n",
      "[400]\tvalidation_0-rmse:596.11762\n",
      "[600]\tvalidation_0-rmse:581.15808\n",
      "[800]\tvalidation_0-rmse:571.58460\n",
      "[1000]\tvalidation_0-rmse:566.73749\n",
      "[1200]\tvalidation_0-rmse:563.71137\n",
      "[1400]\tvalidation_0-rmse:561.66480\n",
      "[1493]\tvalidation_0-rmse:561.04559\n"
     ]
    },
    {
     "name": "stderr",
     "output_type": "stream",
     "text": [
      "\u001b[32m[I 2021-05-06 10:22:22,158]\u001b[0m Trial 72 finished with value: 561.0455598777685 and parameters: {'n_estimators': 1494, 'learning_rate': 0.0918949795817692, 'max_depth': 9, 'colsample_bytree': 0.8621543147965068, 'subsample': 0.985411545092751, 'min_child_weight': 1}. Best is trial 72 with value: 561.0455598777685.\u001b[0m\n"
     ]
    },
    {
     "name": "stdout",
     "output_type": "stream",
     "text": [
      "[0]\tvalidation_0-rmse:6400.31152\n",
      "[200]\tvalidation_0-rmse:626.41699\n",
      "[400]\tvalidation_0-rmse:594.18286\n",
      "[600]\tvalidation_0-rmse:581.25519\n",
      "[800]\tvalidation_0-rmse:571.49194\n",
      "[1000]\tvalidation_0-rmse:566.81293\n",
      "[1200]\tvalidation_0-rmse:563.64838\n",
      "[1400]\tvalidation_0-rmse:561.53900\n",
      "[1495]\tvalidation_0-rmse:561.21124\n"
     ]
    },
    {
     "name": "stderr",
     "output_type": "stream",
     "text": [
      "\u001b[32m[I 2021-05-06 10:24:29,976]\u001b[0m Trial 73 finished with value: 561.2036828839296 and parameters: {'n_estimators': 1496, 'learning_rate': 0.09349538411045925, 'max_depth': 9, 'colsample_bytree': 0.8654124499201069, 'subsample': 0.9983514516642926, 'min_child_weight': 1}. Best is trial 72 with value: 561.0455598777685.\u001b[0m\n"
     ]
    },
    {
     "name": "stdout",
     "output_type": "stream",
     "text": [
      "[0]\tvalidation_0-rmse:6361.51562\n",
      "[200]\tvalidation_0-rmse:626.56274\n",
      "[400]\tvalidation_0-rmse:591.37488\n",
      "[600]\tvalidation_0-rmse:575.57037\n",
      "[800]\tvalidation_0-rmse:567.93018\n",
      "[1000]\tvalidation_0-rmse:562.80310\n",
      "[1200]\tvalidation_0-rmse:560.98627\n",
      "[1400]\tvalidation_0-rmse:559.35889\n",
      "[1494]\tvalidation_0-rmse:558.72394\n"
     ]
    },
    {
     "name": "stderr",
     "output_type": "stream",
     "text": [
      "\u001b[32m[I 2021-05-06 10:26:31,644]\u001b[0m Trial 74 finished with value: 558.7111833359329 and parameters: {'n_estimators': 1495, 'learning_rate': 0.09908784030236427, 'max_depth': 9, 'colsample_bytree': 0.8724444798611234, 'subsample': 0.9982548322856476, 'min_child_weight': 2}. Best is trial 74 with value: 558.7111833359329.\u001b[0m\n"
     ]
    },
    {
     "name": "stdout",
     "output_type": "stream",
     "text": [
      "[0]\tvalidation_0-rmse:6449.27832\n",
      "[200]\tvalidation_0-rmse:633.90478\n",
      "[400]\tvalidation_0-rmse:600.60626\n",
      "[600]\tvalidation_0-rmse:583.50977\n",
      "[800]\tvalidation_0-rmse:574.49481\n",
      "[1000]\tvalidation_0-rmse:567.51648\n",
      "[1200]\tvalidation_0-rmse:564.15198\n",
      "[1400]\tvalidation_0-rmse:562.10968\n",
      "[1477]\tvalidation_0-rmse:561.58179\n"
     ]
    },
    {
     "name": "stderr",
     "output_type": "stream",
     "text": [
      "\u001b[32m[I 2021-05-06 10:28:30,746]\u001b[0m Trial 75 finished with value: 561.5802731983132 and parameters: {'n_estimators': 1478, 'learning_rate': 0.08637653045053831, 'max_depth': 9, 'colsample_bytree': 0.8794007960386123, 'subsample': 0.9983661878404378, 'min_child_weight': 2}. Best is trial 74 with value: 558.7111833359329.\u001b[0m\n"
     ]
    },
    {
     "name": "stdout",
     "output_type": "stream",
     "text": [
      "[0]\tvalidation_0-rmse:6406.26221\n",
      "[200]\tvalidation_0-rmse:630.52344\n",
      "[400]\tvalidation_0-rmse:597.57306\n",
      "[600]\tvalidation_0-rmse:582.16650\n",
      "[800]\tvalidation_0-rmse:572.23718\n",
      "[1000]\tvalidation_0-rmse:566.97736\n",
      "[1200]\tvalidation_0-rmse:563.82190\n",
      "[1400]\tvalidation_0-rmse:561.68182\n",
      "[1479]\tvalidation_0-rmse:561.24078\n"
     ]
    },
    {
     "name": "stderr",
     "output_type": "stream",
     "text": [
      "\u001b[32m[I 2021-05-06 10:30:31,048]\u001b[0m Trial 76 finished with value: 561.2407556854466 and parameters: {'n_estimators': 1480, 'learning_rate': 0.09262924856483604, 'max_depth': 9, 'colsample_bytree': 0.8690856200123873, 'subsample': 0.9958515747729201, 'min_child_weight': 2}. Best is trial 74 with value: 558.7111833359329.\u001b[0m\n"
     ]
    },
    {
     "name": "stdout",
     "output_type": "stream",
     "text": [
      "[0]\tvalidation_0-rmse:6407.08008\n",
      "[200]\tvalidation_0-rmse:631.22315\n",
      "[400]\tvalidation_0-rmse:596.62665\n",
      "[600]\tvalidation_0-rmse:579.95886\n",
      "[800]\tvalidation_0-rmse:571.41980\n",
      "[1000]\tvalidation_0-rmse:566.37445\n",
      "[1200]\tvalidation_0-rmse:563.36511\n",
      "[1400]\tvalidation_0-rmse:561.39807\n",
      "[1473]\tvalidation_0-rmse:560.99902\n"
     ]
    },
    {
     "name": "stderr",
     "output_type": "stream",
     "text": [
      "\u001b[32m[I 2021-05-06 10:32:32,169]\u001b[0m Trial 77 finished with value: 560.9989900961054 and parameters: {'n_estimators': 1474, 'learning_rate': 0.09248907618737257, 'max_depth': 9, 'colsample_bytree': 0.8727753587376033, 'subsample': 0.9929403676219143, 'min_child_weight': 1}. Best is trial 74 with value: 558.7111833359329.\u001b[0m\n"
     ]
    },
    {
     "name": "stdout",
     "output_type": "stream",
     "text": [
      "[0]\tvalidation_0-rmse:6972.05908\n",
      "[200]\tvalidation_0-rmse:1169.27014\n",
      "[400]\tvalidation_0-rmse:771.66034\n",
      "[600]\tvalidation_0-rmse:715.12000\n",
      "[800]\tvalidation_0-rmse:683.79895\n",
      "[1000]\tvalidation_0-rmse:664.49091\n",
      "[1200]\tvalidation_0-rmse:653.50964\n",
      "[1400]\tvalidation_0-rmse:643.30225\n",
      "[1484]\tvalidation_0-rmse:639.81189\n"
     ]
    },
    {
     "name": "stderr",
     "output_type": "stream",
     "text": [
      "\u001b[32m[I 2021-05-06 10:34:38,499]\u001b[0m Trial 78 finished with value: 639.8118425393108 and parameters: {'n_estimators': 1485, 'learning_rate': 0.01073168998223091, 'max_depth': 9, 'colsample_bytree': 0.8822248508897588, 'subsample': 0.9983846370607781, 'min_child_weight': 1}. Best is trial 74 with value: 558.7111833359329.\u001b[0m\n"
     ]
    },
    {
     "name": "stdout",
     "output_type": "stream",
     "text": [
      "[0]\tvalidation_0-rmse:6286.71484\n",
      "[200]\tvalidation_0-rmse:616.92694\n",
      "[400]\tvalidation_0-rmse:586.18042\n",
      "[600]\tvalidation_0-rmse:571.59302\n",
      "[800]\tvalidation_0-rmse:564.82715\n",
      "[1000]\tvalidation_0-rmse:561.00684\n",
      "[1200]\tvalidation_0-rmse:559.45758\n",
      "[1400]\tvalidation_0-rmse:558.70654\n",
      "[1433]\tvalidation_0-rmse:558.74969\n"
     ]
    },
    {
     "name": "stderr",
     "output_type": "stream",
     "text": [
      "\u001b[32m[I 2021-05-06 10:36:29,450]\u001b[0m Trial 79 finished with value: 558.6676404337702 and parameters: {'n_estimators': 1434, 'learning_rate': 0.10993024650513918, 'max_depth': 9, 'colsample_bytree': 0.8733943836530714, 'subsample': 0.9877795842530551, 'min_child_weight': 5}. Best is trial 79 with value: 558.6676404337702.\u001b[0m\n"
     ]
    },
    {
     "name": "stdout",
     "output_type": "stream",
     "text": [
      "[0]\tvalidation_0-rmse:6778.14111\n",
      "[200]\tvalidation_0-rmse:708.64105\n",
      "[400]\tvalidation_0-rmse:657.66803\n",
      "[600]\tvalidation_0-rmse:636.73010\n",
      "[800]\tvalidation_0-rmse:621.07037\n",
      "[1000]\tvalidation_0-rmse:609.54645\n",
      "[1200]\tvalidation_0-rmse:600.82092\n",
      "[1400]\tvalidation_0-rmse:594.13928\n",
      "[1429]\tvalidation_0-rmse:593.16113\n"
     ]
    },
    {
     "name": "stderr",
     "output_type": "stream",
     "text": [
      "\u001b[32m[I 2021-05-06 10:37:50,606]\u001b[0m Trial 80 finished with value: 593.1611635948713 and parameters: {'n_estimators': 1430, 'learning_rate': 0.03882714872984852, 'max_depth': 8, 'colsample_bytree': 0.9237666789100545, 'subsample': 0.9616187181084065, 'min_child_weight': 4}. Best is trial 79 with value: 558.6676404337702.\u001b[0m\n"
     ]
    },
    {
     "name": "stdout",
     "output_type": "stream",
     "text": [
      "[0]\tvalidation_0-rmse:6310.52539\n",
      "[200]\tvalidation_0-rmse:621.98486\n",
      "[400]\tvalidation_0-rmse:590.59314\n",
      "[600]\tvalidation_0-rmse:575.76141\n",
      "[800]\tvalidation_0-rmse:567.20184\n",
      "[1000]\tvalidation_0-rmse:563.30188\n",
      "[1200]\tvalidation_0-rmse:561.50336\n",
      "[1400]\tvalidation_0-rmse:560.53595\n",
      "[1469]\tvalidation_0-rmse:560.37476\n"
     ]
    },
    {
     "name": "stderr",
     "output_type": "stream",
     "text": [
      "\u001b[32m[I 2021-05-06 10:39:45,893]\u001b[0m Trial 81 finished with value: 560.3686961325138 and parameters: {'n_estimators': 1470, 'learning_rate': 0.10650819038009385, 'max_depth': 9, 'colsample_bytree': 0.8683765890856412, 'subsample': 0.9901097926168538, 'min_child_weight': 4}. Best is trial 79 with value: 558.6676404337702.\u001b[0m\n"
     ]
    },
    {
     "name": "stdout",
     "output_type": "stream",
     "text": [
      "[0]\tvalidation_0-rmse:6340.95459\n",
      "[200]\tvalidation_0-rmse:622.50891\n",
      "[400]\tvalidation_0-rmse:587.57715\n",
      "[600]\tvalidation_0-rmse:574.49420\n",
      "[800]\tvalidation_0-rmse:567.43768\n",
      "[1000]\tvalidation_0-rmse:563.38031\n",
      "[1200]\tvalidation_0-rmse:561.71149\n",
      "[1400]\tvalidation_0-rmse:560.53766\n",
      "[1474]\tvalidation_0-rmse:560.38049\n"
     ]
    },
    {
     "name": "stderr",
     "output_type": "stream",
     "text": [
      "\u001b[32m[I 2021-05-06 10:41:40,101]\u001b[0m Trial 82 finished with value: 560.3705278537162 and parameters: {'n_estimators': 1475, 'learning_rate': 0.10206668792466644, 'max_depth': 9, 'colsample_bytree': 0.9167327749072054, 'subsample': 0.9788150517337162, 'min_child_weight': 5}. Best is trial 79 with value: 558.6676404337702.\u001b[0m\n"
     ]
    },
    {
     "name": "stdout",
     "output_type": "stream",
     "text": [
      "[0]\tvalidation_0-rmse:6069.38770\n",
      "[200]\tvalidation_0-rmse:605.04864\n",
      "[400]\tvalidation_0-rmse:578.42126\n",
      "[600]\tvalidation_0-rmse:569.57916\n",
      "[800]\tvalidation_0-rmse:565.20929\n",
      "[1000]\tvalidation_0-rmse:563.17493\n",
      "[1200]\tvalidation_0-rmse:562.74060\n",
      "[1357]\tvalidation_0-rmse:562.90607\n"
     ]
    },
    {
     "name": "stderr",
     "output_type": "stream",
     "text": [
      "\u001b[32m[I 2021-05-06 10:43:25,270]\u001b[0m Trial 83 finished with value: 562.6802706069681 and parameters: {'n_estimators': 1414, 'learning_rate': 0.14143353139929543, 'max_depth': 9, 'colsample_bytree': 0.9137204308289588, 'subsample': 0.9866585953597997, 'min_child_weight': 5}. Best is trial 79 with value: 558.6676404337702.\u001b[0m\n"
     ]
    },
    {
     "name": "stdout",
     "output_type": "stream",
     "text": [
      "[0]\tvalidation_0-rmse:6369.25293\n",
      "[200]\tvalidation_0-rmse:623.99176\n",
      "[400]\tvalidation_0-rmse:589.90008\n",
      "[600]\tvalidation_0-rmse:576.39081\n",
      "[800]\tvalidation_0-rmse:569.02515\n",
      "[1000]\tvalidation_0-rmse:564.71295\n",
      "[1200]\tvalidation_0-rmse:562.71161\n",
      "[1400]\tvalidation_0-rmse:561.42096\n",
      "[1459]\tvalidation_0-rmse:561.31079\n"
     ]
    },
    {
     "name": "stderr",
     "output_type": "stream",
     "text": [
      "\u001b[32m[I 2021-05-06 10:45:15,216]\u001b[0m Trial 84 finished with value: 561.2916055349353 and parameters: {'n_estimators': 1460, 'learning_rate': 0.0979727527039539, 'max_depth': 9, 'colsample_bytree': 0.9579177372508775, 'subsample': 0.962763175910375, 'min_child_weight': 8}. Best is trial 79 with value: 558.6676404337702.\u001b[0m\n"
     ]
    },
    {
     "name": "stdout",
     "output_type": "stream",
     "text": [
      "[0]\tvalidation_0-rmse:6342.86035\n",
      "[200]\tvalidation_0-rmse:617.23663\n",
      "[400]\tvalidation_0-rmse:588.53925\n",
      "[600]\tvalidation_0-rmse:575.46930\n",
      "[800]\tvalidation_0-rmse:568.07330\n",
      "[1000]\tvalidation_0-rmse:564.34619\n",
      "[1200]\tvalidation_0-rmse:562.41956\n",
      "[1400]\tvalidation_0-rmse:561.07690\n",
      "[1464]\tvalidation_0-rmse:560.94244\n"
     ]
    },
    {
     "name": "stderr",
     "output_type": "stream",
     "text": [
      "\u001b[32m[I 2021-05-06 10:47:06,016]\u001b[0m Trial 85 finished with value: 560.9424353398241 and parameters: {'n_estimators': 1465, 'learning_rate': 0.10179239057571303, 'max_depth': 9, 'colsample_bytree': 0.9980853910458747, 'subsample': 0.9646135123147185, 'min_child_weight': 7}. Best is trial 79 with value: 558.6676404337702.\u001b[0m\n"
     ]
    },
    {
     "name": "stdout",
     "output_type": "stream",
     "text": [
      "[0]\tvalidation_0-rmse:6763.42871\n",
      "[200]\tvalidation_0-rmse:686.43640\n",
      "[400]\tvalidation_0-rmse:635.26910\n",
      "[600]\tvalidation_0-rmse:610.90173\n",
      "[800]\tvalidation_0-rmse:596.51953\n",
      "[1000]\tvalidation_0-rmse:586.06830\n",
      "[1200]\tvalidation_0-rmse:578.39746\n",
      "[1400]\tvalidation_0-rmse:572.58710\n",
      "[1442]\tvalidation_0-rmse:571.72589\n"
     ]
    },
    {
     "name": "stderr",
     "output_type": "stream",
     "text": [
      "\u001b[32m[I 2021-05-06 10:49:00,269]\u001b[0m Trial 86 finished with value: 571.725860185374 and parameters: {'n_estimators': 1443, 'learning_rate': 0.04090701462796262, 'max_depth': 9, 'colsample_bytree': 0.8989346642675462, 'subsample': 0.942429094093045, 'min_child_weight': 4}. Best is trial 79 with value: 558.6676404337702.\u001b[0m\n"
     ]
    },
    {
     "name": "stdout",
     "output_type": "stream",
     "text": [
      "[0]\tvalidation_0-rmse:6178.75537\n",
      "[200]\tvalidation_0-rmse:612.77557\n",
      "[400]\tvalidation_0-rmse:584.28772\n",
      "[600]\tvalidation_0-rmse:572.13928\n",
      "[800]\tvalidation_0-rmse:565.75702\n",
      "[1000]\tvalidation_0-rmse:562.40887\n",
      "[1200]\tvalidation_0-rmse:560.71039\n",
      "[1400]\tvalidation_0-rmse:560.17993\n",
      "[1457]\tvalidation_0-rmse:560.30920\n"
     ]
    },
    {
     "name": "stderr",
     "output_type": "stream",
     "text": [
      "\u001b[32m[I 2021-05-06 10:50:50,440]\u001b[0m Trial 87 finished with value: 560.0452863982138 and parameters: {'n_estimators': 1516, 'learning_rate': 0.12560968165665126, 'max_depth': 9, 'colsample_bytree': 0.8567750097749876, 'subsample': 0.9986568366234397, 'min_child_weight': 7}. Best is trial 79 with value: 558.6676404337702.\u001b[0m\n"
     ]
    },
    {
     "name": "stdout",
     "output_type": "stream",
     "text": [
      "[0]\tvalidation_0-rmse:6964.46289\n",
      "[200]\tvalidation_0-rmse:1059.62647\n",
      "[400]\tvalidation_0-rmse:756.76013\n",
      "[600]\tvalidation_0-rmse:705.29944\n",
      "[800]\tvalidation_0-rmse:674.93066\n",
      "[1000]\tvalidation_0-rmse:657.71735\n",
      "[1200]\tvalidation_0-rmse:645.10284\n",
      "[1400]\tvalidation_0-rmse:634.92596\n",
      "[1515]\tvalidation_0-rmse:629.95612\n"
     ]
    },
    {
     "name": "stderr",
     "output_type": "stream",
     "text": [
      "\u001b[32m[I 2021-05-06 10:52:51,973]\u001b[0m Trial 88 finished with value: 629.9561063263142 and parameters: {'n_estimators': 1516, 'learning_rate': 0.011836038406695629, 'max_depth': 9, 'colsample_bytree': 0.8526521401970661, 'subsample': 0.9636626854559199, 'min_child_weight': 7}. Best is trial 79 with value: 558.6676404337702.\u001b[0m\n"
     ]
    },
    {
     "name": "stdout",
     "output_type": "stream",
     "text": [
      "[0]\tvalidation_0-rmse:6212.62842\n",
      "[200]\tvalidation_0-rmse:618.63373\n",
      "[400]\tvalidation_0-rmse:587.74341\n"
     ]
    },
    {
     "ename": "KeyboardInterrupt",
     "evalue": "",
     "output_type": "error",
     "traceback": [
      "\u001b[1;31m---------------------------------------------------------------------------\u001b[0m",
      "\u001b[1;31mKeyboardInterrupt\u001b[0m                         Traceback (most recent call last)",
      "\u001b[1;32m<ipython-input-50-01821254095d>\u001b[0m in \u001b[0;36m<module>\u001b[1;34m\u001b[0m\n\u001b[0;32m      6\u001b[0m     \u001b[0mstudy\u001b[0m \u001b[1;33m=\u001b[0m \u001b[0moptuna\u001b[0m\u001b[1;33m.\u001b[0m\u001b[0mcreate_study\u001b[0m\u001b[1;33m(\u001b[0m\u001b[0mstudy_name\u001b[0m \u001b[1;33m=\u001b[0m \u001b[1;34m'XGB'\u001b[0m\u001b[1;33m,\u001b[0m \u001b[0mdirection\u001b[0m\u001b[1;33m=\u001b[0m\u001b[1;34m\"minimize\"\u001b[0m\u001b[1;33m)\u001b[0m\u001b[1;33m\u001b[0m\u001b[1;33m\u001b[0m\u001b[0m\n\u001b[0;32m      7\u001b[0m \u001b[1;33m\u001b[0m\u001b[0m\n\u001b[1;32m----> 8\u001b[1;33m     \u001b[0mstudy\u001b[0m\u001b[1;33m.\u001b[0m\u001b[0moptimize\u001b[0m\u001b[1;33m(\u001b[0m\u001b[0mobjective\u001b[0m\u001b[1;33m,\u001b[0m \u001b[0mn_trials\u001b[0m\u001b[1;33m=\u001b[0m\u001b[0mN_TRIALS\u001b[0m\u001b[1;33m)\u001b[0m\u001b[1;33m\u001b[0m\u001b[1;33m\u001b[0m\u001b[0m\n\u001b[0m\u001b[0;32m      9\u001b[0m \u001b[1;33m\u001b[0m\u001b[0m\n\u001b[0;32m     10\u001b[0m {'n_estimators': 1157, 'learning_rate': 0.1944964205969285, 'max_depth': 9, \n",
      "\u001b[1;32m~\\anaconda3\\lib\\site-packages\\optuna\\study.py\u001b[0m in \u001b[0;36moptimize\u001b[1;34m(self, func, n_trials, timeout, n_jobs, catch, callbacks, gc_after_trial, show_progress_bar)\u001b[0m\n\u001b[0;32m    383\u001b[0m             \u001b[0mcallbacks\u001b[0m\u001b[1;33m=\u001b[0m\u001b[0mcallbacks\u001b[0m\u001b[1;33m,\u001b[0m\u001b[1;33m\u001b[0m\u001b[1;33m\u001b[0m\u001b[0m\n\u001b[0;32m    384\u001b[0m             \u001b[0mgc_after_trial\u001b[0m\u001b[1;33m=\u001b[0m\u001b[0mgc_after_trial\u001b[0m\u001b[1;33m,\u001b[0m\u001b[1;33m\u001b[0m\u001b[1;33m\u001b[0m\u001b[0m\n\u001b[1;32m--> 385\u001b[1;33m             \u001b[0mshow_progress_bar\u001b[0m\u001b[1;33m=\u001b[0m\u001b[0mshow_progress_bar\u001b[0m\u001b[1;33m,\u001b[0m\u001b[1;33m\u001b[0m\u001b[1;33m\u001b[0m\u001b[0m\n\u001b[0m\u001b[0;32m    386\u001b[0m         )\n\u001b[0;32m    387\u001b[0m \u001b[1;33m\u001b[0m\u001b[0m\n",
      "\u001b[1;32m~\\anaconda3\\lib\\site-packages\\optuna\\_optimize.py\u001b[0m in \u001b[0;36m_optimize\u001b[1;34m(study, func, n_trials, timeout, n_jobs, catch, callbacks, gc_after_trial, show_progress_bar)\u001b[0m\n\u001b[0;32m     71\u001b[0m                 \u001b[0mreseed_sampler_rng\u001b[0m\u001b[1;33m=\u001b[0m\u001b[1;32mFalse\u001b[0m\u001b[1;33m,\u001b[0m\u001b[1;33m\u001b[0m\u001b[1;33m\u001b[0m\u001b[0m\n\u001b[0;32m     72\u001b[0m                 \u001b[0mtime_start\u001b[0m\u001b[1;33m=\u001b[0m\u001b[1;32mNone\u001b[0m\u001b[1;33m,\u001b[0m\u001b[1;33m\u001b[0m\u001b[1;33m\u001b[0m\u001b[0m\n\u001b[1;32m---> 73\u001b[1;33m                 \u001b[0mprogress_bar\u001b[0m\u001b[1;33m=\u001b[0m\u001b[0mprogress_bar\u001b[0m\u001b[1;33m,\u001b[0m\u001b[1;33m\u001b[0m\u001b[1;33m\u001b[0m\u001b[0m\n\u001b[0m\u001b[0;32m     74\u001b[0m             )\n\u001b[0;32m     75\u001b[0m         \u001b[1;32melse\u001b[0m\u001b[1;33m:\u001b[0m\u001b[1;33m\u001b[0m\u001b[1;33m\u001b[0m\u001b[0m\n",
      "\u001b[1;32m~\\anaconda3\\lib\\site-packages\\optuna\\_optimize.py\u001b[0m in \u001b[0;36m_optimize_sequential\u001b[1;34m(study, func, n_trials, timeout, catch, callbacks, gc_after_trial, reseed_sampler_rng, time_start, progress_bar)\u001b[0m\n\u001b[0;32m    162\u001b[0m \u001b[1;33m\u001b[0m\u001b[0m\n\u001b[0;32m    163\u001b[0m         \u001b[1;32mtry\u001b[0m\u001b[1;33m:\u001b[0m\u001b[1;33m\u001b[0m\u001b[1;33m\u001b[0m\u001b[0m\n\u001b[1;32m--> 164\u001b[1;33m             \u001b[0mtrial\u001b[0m \u001b[1;33m=\u001b[0m \u001b[0m_run_trial\u001b[0m\u001b[1;33m(\u001b[0m\u001b[0mstudy\u001b[0m\u001b[1;33m,\u001b[0m \u001b[0mfunc\u001b[0m\u001b[1;33m,\u001b[0m \u001b[0mcatch\u001b[0m\u001b[1;33m)\u001b[0m\u001b[1;33m\u001b[0m\u001b[1;33m\u001b[0m\u001b[0m\n\u001b[0m\u001b[0;32m    165\u001b[0m         \u001b[1;32mexcept\u001b[0m \u001b[0mException\u001b[0m\u001b[1;33m:\u001b[0m\u001b[1;33m\u001b[0m\u001b[1;33m\u001b[0m\u001b[0m\n\u001b[0;32m    166\u001b[0m             \u001b[1;32mraise\u001b[0m\u001b[1;33m\u001b[0m\u001b[1;33m\u001b[0m\u001b[0m\n",
      "\u001b[1;32m~\\anaconda3\\lib\\site-packages\\optuna\\_optimize.py\u001b[0m in \u001b[0;36m_run_trial\u001b[1;34m(study, func, catch)\u001b[0m\n\u001b[0;32m    209\u001b[0m \u001b[1;33m\u001b[0m\u001b[0m\n\u001b[0;32m    210\u001b[0m     \u001b[1;32mtry\u001b[0m\u001b[1;33m:\u001b[0m\u001b[1;33m\u001b[0m\u001b[1;33m\u001b[0m\u001b[0m\n\u001b[1;32m--> 211\u001b[1;33m         \u001b[0mvalue_or_values\u001b[0m \u001b[1;33m=\u001b[0m \u001b[0mfunc\u001b[0m\u001b[1;33m(\u001b[0m\u001b[0mtrial\u001b[0m\u001b[1;33m)\u001b[0m\u001b[1;33m\u001b[0m\u001b[1;33m\u001b[0m\u001b[0m\n\u001b[0m\u001b[0;32m    212\u001b[0m     \u001b[1;32mexcept\u001b[0m \u001b[0mexceptions\u001b[0m\u001b[1;33m.\u001b[0m\u001b[0mTrialPruned\u001b[0m \u001b[1;32mas\u001b[0m \u001b[0me\u001b[0m\u001b[1;33m:\u001b[0m\u001b[1;33m\u001b[0m\u001b[1;33m\u001b[0m\u001b[0m\n\u001b[0;32m    213\u001b[0m         \u001b[1;31m# TODO(mamu): Handle multi-objective cases.\u001b[0m\u001b[1;33m\u001b[0m\u001b[1;33m\u001b[0m\u001b[1;33m\u001b[0m\u001b[0m\n",
      "\u001b[1;32m<ipython-input-48-953bde979595>\u001b[0m in \u001b[0;36mobjective\u001b[1;34m(trial, cv)\u001b[0m\n\u001b[0;32m     36\u001b[0m     \u001b[0mmodel\u001b[0m \u001b[1;33m=\u001b[0m \u001b[0mXGBRegressor\u001b[0m\u001b[1;33m(\u001b[0m\u001b[1;33m**\u001b[0m\u001b[0mparam_xgb\u001b[0m\u001b[1;33m,\u001b[0m \u001b[0mtree_method\u001b[0m\u001b[1;33m=\u001b[0m\u001b[1;34m'gpu_hist'\u001b[0m\u001b[1;33m)\u001b[0m\u001b[1;33m\u001b[0m\u001b[1;33m\u001b[0m\u001b[0m\n\u001b[0;32m     37\u001b[0m \u001b[1;33m\u001b[0m\u001b[0m\n\u001b[1;32m---> 38\u001b[1;33m     \u001b[0mmodel\u001b[0m\u001b[1;33m.\u001b[0m\u001b[0mfit\u001b[0m\u001b[1;33m(\u001b[0m\u001b[0mX_trn\u001b[0m\u001b[1;33m,\u001b[0m \u001b[0my_trn\u001b[0m\u001b[1;33m,\u001b[0m \u001b[0meval_set\u001b[0m\u001b[1;33m=\u001b[0m\u001b[1;33m[\u001b[0m\u001b[1;33m(\u001b[0m\u001b[0mX_valid\u001b[0m\u001b[1;33m,\u001b[0m \u001b[0my_valid\u001b[0m\u001b[1;33m)\u001b[0m\u001b[1;33m]\u001b[0m\u001b[1;33m,\u001b[0m \u001b[0mearly_stopping_rounds\u001b[0m\u001b[1;33m=\u001b[0m\u001b[1;36m100\u001b[0m\u001b[1;33m,\u001b[0m \u001b[0mverbose\u001b[0m\u001b[1;33m=\u001b[0m\u001b[1;36m200\u001b[0m\u001b[1;33m)\u001b[0m\u001b[1;33m\u001b[0m\u001b[1;33m\u001b[0m\u001b[0m\n\u001b[0m\u001b[0;32m     39\u001b[0m \u001b[1;33m\u001b[0m\u001b[0m\n\u001b[0;32m     40\u001b[0m     \u001b[0mpreds\u001b[0m \u001b[1;33m=\u001b[0m \u001b[0mmodel\u001b[0m\u001b[1;33m.\u001b[0m\u001b[0mpredict\u001b[0m\u001b[1;33m(\u001b[0m\u001b[0mX_valid\u001b[0m\u001b[1;33m)\u001b[0m\u001b[1;33m\u001b[0m\u001b[1;33m\u001b[0m\u001b[0m\n",
      "\u001b[1;32m~\\anaconda3\\lib\\site-packages\\xgboost\\core.py\u001b[0m in \u001b[0;36minner_f\u001b[1;34m(*args, **kwargs)\u001b[0m\n\u001b[0;32m    420\u001b[0m         \u001b[1;32mfor\u001b[0m \u001b[0mk\u001b[0m\u001b[1;33m,\u001b[0m \u001b[0marg\u001b[0m \u001b[1;32min\u001b[0m \u001b[0mzip\u001b[0m\u001b[1;33m(\u001b[0m\u001b[0msig\u001b[0m\u001b[1;33m.\u001b[0m\u001b[0mparameters\u001b[0m\u001b[1;33m,\u001b[0m \u001b[0margs\u001b[0m\u001b[1;33m)\u001b[0m\u001b[1;33m:\u001b[0m\u001b[1;33m\u001b[0m\u001b[1;33m\u001b[0m\u001b[0m\n\u001b[0;32m    421\u001b[0m             \u001b[0mkwargs\u001b[0m\u001b[1;33m[\u001b[0m\u001b[0mk\u001b[0m\u001b[1;33m]\u001b[0m \u001b[1;33m=\u001b[0m \u001b[0marg\u001b[0m\u001b[1;33m\u001b[0m\u001b[1;33m\u001b[0m\u001b[0m\n\u001b[1;32m--> 422\u001b[1;33m         \u001b[1;32mreturn\u001b[0m \u001b[0mf\u001b[0m\u001b[1;33m(\u001b[0m\u001b[1;33m**\u001b[0m\u001b[0mkwargs\u001b[0m\u001b[1;33m)\u001b[0m\u001b[1;33m\u001b[0m\u001b[1;33m\u001b[0m\u001b[0m\n\u001b[0m\u001b[0;32m    423\u001b[0m \u001b[1;33m\u001b[0m\u001b[0m\n\u001b[0;32m    424\u001b[0m     \u001b[1;32mreturn\u001b[0m \u001b[0minner_f\u001b[0m\u001b[1;33m\u001b[0m\u001b[1;33m\u001b[0m\u001b[0m\n",
      "\u001b[1;32m~\\anaconda3\\lib\\site-packages\\xgboost\\sklearn.py\u001b[0m in \u001b[0;36mfit\u001b[1;34m(self, X, y, sample_weight, base_margin, eval_set, eval_metric, early_stopping_rounds, verbose, xgb_model, sample_weight_eval_set, feature_weights, callbacks)\u001b[0m\n\u001b[0;32m    601\u001b[0m                               \u001b[0mobj\u001b[0m\u001b[1;33m=\u001b[0m\u001b[0mobj\u001b[0m\u001b[1;33m,\u001b[0m \u001b[0mfeval\u001b[0m\u001b[1;33m=\u001b[0m\u001b[0mfeval\u001b[0m\u001b[1;33m,\u001b[0m\u001b[1;33m\u001b[0m\u001b[1;33m\u001b[0m\u001b[0m\n\u001b[0;32m    602\u001b[0m                               \u001b[0mverbose_eval\u001b[0m\u001b[1;33m=\u001b[0m\u001b[0mverbose\u001b[0m\u001b[1;33m,\u001b[0m \u001b[0mxgb_model\u001b[0m\u001b[1;33m=\u001b[0m\u001b[0mxgb_model\u001b[0m\u001b[1;33m,\u001b[0m\u001b[1;33m\u001b[0m\u001b[1;33m\u001b[0m\u001b[0m\n\u001b[1;32m--> 603\u001b[1;33m                               callbacks=callbacks)\n\u001b[0m\u001b[0;32m    604\u001b[0m \u001b[1;33m\u001b[0m\u001b[0m\n\u001b[0;32m    605\u001b[0m         \u001b[0mself\u001b[0m\u001b[1;33m.\u001b[0m\u001b[0m_set_evaluation_result\u001b[0m\u001b[1;33m(\u001b[0m\u001b[0mevals_result\u001b[0m\u001b[1;33m)\u001b[0m\u001b[1;33m\u001b[0m\u001b[1;33m\u001b[0m\u001b[0m\n",
      "\u001b[1;32m~\\anaconda3\\lib\\site-packages\\xgboost\\training.py\u001b[0m in \u001b[0;36mtrain\u001b[1;34m(params, dtrain, num_boost_round, evals, obj, feval, maximize, early_stopping_rounds, evals_result, verbose_eval, xgb_model, callbacks)\u001b[0m\n\u001b[0;32m    233\u001b[0m                           \u001b[0mevals_result\u001b[0m\u001b[1;33m=\u001b[0m\u001b[0mevals_result\u001b[0m\u001b[1;33m,\u001b[0m\u001b[1;33m\u001b[0m\u001b[1;33m\u001b[0m\u001b[0m\n\u001b[0;32m    234\u001b[0m                           \u001b[0mmaximize\u001b[0m\u001b[1;33m=\u001b[0m\u001b[0mmaximize\u001b[0m\u001b[1;33m,\u001b[0m\u001b[1;33m\u001b[0m\u001b[1;33m\u001b[0m\u001b[0m\n\u001b[1;32m--> 235\u001b[1;33m                           early_stopping_rounds=early_stopping_rounds)\n\u001b[0m\u001b[0;32m    236\u001b[0m     \u001b[1;32mreturn\u001b[0m \u001b[0mbst\u001b[0m\u001b[1;33m\u001b[0m\u001b[1;33m\u001b[0m\u001b[0m\n\u001b[0;32m    237\u001b[0m \u001b[1;33m\u001b[0m\u001b[0m\n",
      "\u001b[1;32m~\\anaconda3\\lib\\site-packages\\xgboost\\training.py\u001b[0m in \u001b[0;36m_train_internal\u001b[1;34m(params, dtrain, num_boost_round, evals, obj, feval, xgb_model, callbacks, evals_result, maximize, verbose_eval, early_stopping_rounds)\u001b[0m\n\u001b[0;32m    100\u001b[0m         \u001b[1;31m# Skip the first update if it is a recovery step.\u001b[0m\u001b[1;33m\u001b[0m\u001b[1;33m\u001b[0m\u001b[1;33m\u001b[0m\u001b[0m\n\u001b[0;32m    101\u001b[0m         \u001b[1;32mif\u001b[0m \u001b[0mversion\u001b[0m \u001b[1;33m%\u001b[0m \u001b[1;36m2\u001b[0m \u001b[1;33m==\u001b[0m \u001b[1;36m0\u001b[0m\u001b[1;33m:\u001b[0m\u001b[1;33m\u001b[0m\u001b[1;33m\u001b[0m\u001b[0m\n\u001b[1;32m--> 102\u001b[1;33m             \u001b[0mbst\u001b[0m\u001b[1;33m.\u001b[0m\u001b[0mupdate\u001b[0m\u001b[1;33m(\u001b[0m\u001b[0mdtrain\u001b[0m\u001b[1;33m,\u001b[0m \u001b[0mi\u001b[0m\u001b[1;33m,\u001b[0m \u001b[0mobj\u001b[0m\u001b[1;33m)\u001b[0m\u001b[1;33m\u001b[0m\u001b[1;33m\u001b[0m\u001b[0m\n\u001b[0m\u001b[0;32m    103\u001b[0m             \u001b[0mbst\u001b[0m\u001b[1;33m.\u001b[0m\u001b[0msave_rabit_checkpoint\u001b[0m\u001b[1;33m(\u001b[0m\u001b[1;33m)\u001b[0m\u001b[1;33m\u001b[0m\u001b[1;33m\u001b[0m\u001b[0m\n\u001b[0;32m    104\u001b[0m             \u001b[0mversion\u001b[0m \u001b[1;33m+=\u001b[0m \u001b[1;36m1\u001b[0m\u001b[1;33m\u001b[0m\u001b[1;33m\u001b[0m\u001b[0m\n",
      "\u001b[1;32m~\\anaconda3\\lib\\site-packages\\xgboost\\core.py\u001b[0m in \u001b[0;36mupdate\u001b[1;34m(self, dtrain, iteration, fobj)\u001b[0m\n\u001b[0;32m   1280\u001b[0m             _check_call(_LIB.XGBoosterUpdateOneIter(self.handle,\n\u001b[0;32m   1281\u001b[0m                                                     \u001b[0mctypes\u001b[0m\u001b[1;33m.\u001b[0m\u001b[0mc_int\u001b[0m\u001b[1;33m(\u001b[0m\u001b[0miteration\u001b[0m\u001b[1;33m)\u001b[0m\u001b[1;33m,\u001b[0m\u001b[1;33m\u001b[0m\u001b[1;33m\u001b[0m\u001b[0m\n\u001b[1;32m-> 1282\u001b[1;33m                                                     dtrain.handle))\n\u001b[0m\u001b[0;32m   1283\u001b[0m         \u001b[1;32melse\u001b[0m\u001b[1;33m:\u001b[0m\u001b[1;33m\u001b[0m\u001b[1;33m\u001b[0m\u001b[0m\n\u001b[0;32m   1284\u001b[0m             \u001b[0mpred\u001b[0m \u001b[1;33m=\u001b[0m \u001b[0mself\u001b[0m\u001b[1;33m.\u001b[0m\u001b[0mpredict\u001b[0m\u001b[1;33m(\u001b[0m\u001b[0mdtrain\u001b[0m\u001b[1;33m,\u001b[0m \u001b[0moutput_margin\u001b[0m\u001b[1;33m=\u001b[0m\u001b[1;32mTrue\u001b[0m\u001b[1;33m,\u001b[0m \u001b[0mtraining\u001b[0m\u001b[1;33m=\u001b[0m\u001b[1;32mTrue\u001b[0m\u001b[1;33m)\u001b[0m\u001b[1;33m\u001b[0m\u001b[1;33m\u001b[0m\u001b[0m\n",
      "\u001b[1;31mKeyboardInterrupt\u001b[0m: "
     ]
    }
   ],
   "source": [
    "#Set to False if you want to skip it\n",
    "OPTUNA_OPTIMIZATION = True\n",
    "N_TRIALS = 100\n",
    "\n",
    "if OPTUNA_OPTIMIZATION:\n",
    "    study = optuna.create_study(study_name = 'XGB', direction=\"minimize\") \n",
    "    \n",
    "    study.optimize(objective, n_trials=N_TRIALS)\n",
    "\n",
    "{'n_estimators': 1157, 'learning_rate': 0.1944964205969285, 'max_depth': 9, \n",
    " 'colsample_bytree': 0.7318883057123999, 'subsample': 0.9689265877622905, 'min_child_weight': 24}#570"
   ]
  },
  {
   "cell_type": "markdown",
   "metadata": {},
   "source": [
    "---\n",
    "# LGBM"
   ]
  },
  {
   "cell_type": "code",
   "execution_count": 46,
   "metadata": {},
   "outputs": [],
   "source": [
    "import optuna\n",
    "\n",
    "def objective(trial, cv=KFold(10, shuffle = True, random_state = 1999)): \n",
    "\n",
    "    param_lgb = {\n",
    "        \"random_state\": 1,\n",
    "        #'objective': 'reg:squarederror',\n",
    "        #\"metric\": \"rmse\",\n",
    "        # \"categorical_feature\": cat_indices,\n",
    "        #\"verbosity\": 0,\n",
    "        # 'alpha': trial.suggest_int('alpha', 1, 100),\n",
    "        # 'lambda': trial.suggest_float('lambda', 0.001, 100),\n",
    "        # 'gamma': trial.suggest_float('gamma', 0.001, 100),\n",
    "        \"n_estimators\": trial.suggest_int('n_estimators', 1000, 3000),\n",
    "        \"learning_rate\": trial.suggest_float('learning_rate', 0.01, 1),\n",
    "        'num_leaves': trial.suggest_int('num_leaves', 30, 500),\n",
    "        'max_depth': trial.suggest_int('max_depth', 5, 9),\n",
    "         #'reg_alpha': trial.suggest_float('reg_alpha', 0.1, 200),\n",
    "        #'reg_lambda': trial.suggest_float('reg_lambda', 0.1, 200),\n",
    "        #'colsample_bytree': trial.suggest_float('colsample_bytree', 0.5, 1.0),\n",
    "        #'colsample_bylevel': trial.suggest_float('colsample_bylevel', 0.1, 1.0),\n",
    "        #'colsample_bynode': trial.suggest_float('colsample_bynode', 0.1, 1.0),\n",
    "        'subsample': trial.suggest_float('subsample', 0.5, 1.0),\n",
    "        #'min_child_weight': trial.suggest_int('min_child_weight', 1, 100)\n",
    "        # 'cat_smooth': trial.suggest_float('cat_smooth', 1.0, 50.0) \n",
    "        # 'max_delta_step' \n",
    "    }\n",
    "\n",
    "    val_aucs = []\n",
    "    aucs = []\n",
    "\n",
    "\n",
    "    X_trn, X_valid, y_trn, y_valid = train_test_split(train_feat[features], train_feat[target], \n",
    "                                                    test_size=0.2, random_state=42, shuffle=True)\n",
    "\n",
    "    model = LGBMRegressor(**param_lgb)        \n",
    "\n",
    "    model.fit(X_trn, y_trn, eval_set=[(X_valid, y_valid)], early_stopping_rounds=100, verbose=200, eval_metric = 'rmse')    \n",
    "\n",
    "    preds = model.predict(X_valid)\n",
    "\n",
    "    auc = np.sqrt(mean_squared_error(y_valid, preds)) \n",
    "\n",
    "    # auc = np.sqrt(mean_squared_log_error(np.expm1(y_valid), np.expm1(preds)))\n",
    "    # aucs.append(auc)\n",
    "\n",
    "    return auc"
   ]
  },
  {
   "cell_type": "code",
   "execution_count": 47,
   "metadata": {},
   "outputs": [
    {
     "name": "stderr",
     "output_type": "stream",
     "text": [
      "\u001b[32m[I 2021-05-06 06:47:40,382]\u001b[0m A new study created in memory with name: LGB\u001b[0m\n"
     ]
    },
    {
     "name": "stdout",
     "output_type": "stream",
     "text": [
      "Training until validation scores don't improve for 100 rounds\n",
      "[200]\tvalid_0's rmse: 623.609\tvalid_0's l2: 388888\n",
      "[400]\tvalid_0's rmse: 608.865\tvalid_0's l2: 370717\n",
      "[600]\tvalid_0's rmse: 606.46\tvalid_0's l2: 367794\n",
      "Early stopping, best iteration is:\n",
      "[665]\tvalid_0's rmse: 606.228\tvalid_0's l2: 367512\n"
     ]
    },
    {
     "name": "stderr",
     "output_type": "stream",
     "text": [
      "\u001b[32m[I 2021-05-06 06:48:01,789]\u001b[0m Trial 0 finished with value: 606.2277674095544 and parameters: {'n_estimators': 1497, 'learning_rate': 0.680779582311707, 'num_leaves': 445, 'max_depth': 7, 'subsample': 0.8078848640956956}. Best is trial 0 with value: 606.2277674095544.\u001b[0m\n"
     ]
    },
    {
     "name": "stdout",
     "output_type": "stream",
     "text": [
      "Training until validation scores don't improve for 100 rounds\n",
      "[200]\tvalid_0's rmse: 655.748\tvalid_0's l2: 430005\n",
      "[400]\tvalid_0's rmse: 619.076\tvalid_0's l2: 383256\n",
      "[600]\tvalid_0's rmse: 600.626\tvalid_0's l2: 360751\n",
      "[800]\tvalid_0's rmse: 591.515\tvalid_0's l2: 349890\n",
      "[1000]\tvalid_0's rmse: 584.689\tvalid_0's l2: 341861\n",
      "[1200]\tvalid_0's rmse: 578.796\tvalid_0's l2: 335005\n",
      "[1400]\tvalid_0's rmse: 574.319\tvalid_0's l2: 329842\n",
      "Did not meet early stopping. Best iteration is:\n",
      "[1594]\tvalid_0's rmse: 571.521\tvalid_0's l2: 326637\n"
     ]
    },
    {
     "name": "stderr",
     "output_type": "stream",
     "text": [
      "\u001b[32m[I 2021-05-06 06:48:55,176]\u001b[0m Trial 1 finished with value: 571.5212387779153 and parameters: {'n_estimators': 1594, 'learning_rate': 0.08054501751892403, 'num_leaves': 414, 'max_depth': 8, 'subsample': 0.639722771474805}. Best is trial 1 with value: 571.5212387779153.\u001b[0m\n"
     ]
    },
    {
     "name": "stdout",
     "output_type": "stream",
     "text": [
      "Training until validation scores don't improve for 100 rounds\n",
      "[200]\tvalid_0's rmse: 712.618\tvalid_0's l2: 507824\n",
      "[400]\tvalid_0's rmse: 653.218\tvalid_0's l2: 426694\n",
      "[600]\tvalid_0's rmse: 631.946\tvalid_0's l2: 399356\n",
      "[800]\tvalid_0's rmse: 618.676\tvalid_0's l2: 382760\n",
      "[1000]\tvalid_0's rmse: 609.435\tvalid_0's l2: 371411\n",
      "Did not meet early stopping. Best iteration is:\n",
      "[1181]\tvalid_0's rmse: 602.397\tvalid_0's l2: 362882\n"
     ]
    },
    {
     "name": "stderr",
     "output_type": "stream",
     "text": [
      "\u001b[32m[I 2021-05-06 06:49:40,340]\u001b[0m Trial 2 finished with value: 602.3965559779857 and parameters: {'n_estimators': 1181, 'learning_rate': 0.03143096578071136, 'num_leaves': 235, 'max_depth': 9, 'subsample': 0.6343453059193662}. Best is trial 1 with value: 571.5212387779153.\u001b[0m\n"
     ]
    },
    {
     "name": "stdout",
     "output_type": "stream",
     "text": [
      "Training until validation scores don't improve for 100 rounds\n",
      "[200]\tvalid_0's rmse: 663.226\tvalid_0's l2: 439868\n",
      "[400]\tvalid_0's rmse: 634.709\tvalid_0's l2: 402856\n",
      "[600]\tvalid_0's rmse: 621.04\tvalid_0's l2: 385690\n",
      "[800]\tvalid_0's rmse: 611.595\tvalid_0's l2: 374048\n",
      "[1000]\tvalid_0's rmse: 606.685\tvalid_0's l2: 368066\n",
      "[1200]\tvalid_0's rmse: 603.096\tvalid_0's l2: 363725\n",
      "[1400]\tvalid_0's rmse: 599.497\tvalid_0's l2: 359397\n",
      "[1600]\tvalid_0's rmse: 597.138\tvalid_0's l2: 356573\n",
      "[1800]\tvalid_0's rmse: 595.416\tvalid_0's l2: 354520\n",
      "[2000]\tvalid_0's rmse: 594.034\tvalid_0's l2: 352876\n",
      "[2200]\tvalid_0's rmse: 593.121\tvalid_0's l2: 351793\n",
      "[2400]\tvalid_0's rmse: 591.965\tvalid_0's l2: 350423\n",
      "Early stopping, best iteration is:\n",
      "[2402]\tvalid_0's rmse: 591.95\tvalid_0's l2: 350404\n"
     ]
    },
    {
     "name": "stderr",
     "output_type": "stream",
     "text": [
      "\u001b[32m[I 2021-05-06 06:50:25,021]\u001b[0m Trial 3 finished with value: 591.9497084901441 and parameters: {'n_estimators': 2506, 'learning_rate': 0.5744609993399123, 'num_leaves': 383, 'max_depth': 5, 'subsample': 0.803856608560243}. Best is trial 1 with value: 571.5212387779153.\u001b[0m\n"
     ]
    },
    {
     "name": "stdout",
     "output_type": "stream",
     "text": [
      "Training until validation scores don't improve for 100 rounds\n",
      "[200]\tvalid_0's rmse: 636.023\tvalid_0's l2: 404525\n",
      "[400]\tvalid_0's rmse: 611.05\tvalid_0's l2: 373382\n",
      "[600]\tvalid_0's rmse: 599.253\tvalid_0's l2: 359105\n",
      "[800]\tvalid_0's rmse: 594.244\tvalid_0's l2: 353126\n",
      "[1000]\tvalid_0's rmse: 590.261\tvalid_0's l2: 348408\n",
      "[1200]\tvalid_0's rmse: 588.68\tvalid_0's l2: 346544\n",
      "Early stopping, best iteration is:\n",
      "[1189]\tvalid_0's rmse: 588.598\tvalid_0's l2: 346448\n"
     ]
    },
    {
     "name": "stderr",
     "output_type": "stream",
     "text": [
      "\u001b[32m[I 2021-05-06 06:50:52,979]\u001b[0m Trial 4 finished with value: 588.5980907526404 and parameters: {'n_estimators': 1498, 'learning_rate': 0.5181901928969981, 'num_leaves': 486, 'max_depth': 6, 'subsample': 0.7920657719378852}. Best is trial 1 with value: 571.5212387779153.\u001b[0m\n"
     ]
    },
    {
     "name": "stdout",
     "output_type": "stream",
     "text": [
      "Training until validation scores don't improve for 100 rounds\n",
      "[200]\tvalid_0's rmse: 633.583\tvalid_0's l2: 401428\n",
      "[400]\tvalid_0's rmse: 623.479\tvalid_0's l2: 388727\n",
      "[600]\tvalid_0's rmse: 622.952\tvalid_0's l2: 388069\n",
      "Early stopping, best iteration is:\n",
      "[638]\tvalid_0's rmse: 622.373\tvalid_0's l2: 387348\n"
     ]
    },
    {
     "name": "stderr",
     "output_type": "stream",
     "text": [
      "\u001b[32m[I 2021-05-06 06:51:12,882]\u001b[0m Trial 5 finished with value: 622.3732679823817 and parameters: {'n_estimators': 2309, 'learning_rate': 0.8347492374713931, 'num_leaves': 108, 'max_depth': 7, 'subsample': 0.6236750808405942}. Best is trial 1 with value: 571.5212387779153.\u001b[0m\n"
     ]
    },
    {
     "name": "stdout",
     "output_type": "stream",
     "text": [
      "Training until validation scores don't improve for 100 rounds\n",
      "[200]\tvalid_0's rmse: 664.215\tvalid_0's l2: 441181\n",
      "[400]\tvalid_0's rmse: 635.567\tvalid_0's l2: 403945\n",
      "[600]\tvalid_0's rmse: 620.489\tvalid_0's l2: 385007\n",
      "[800]\tvalid_0's rmse: 611.78\tvalid_0's l2: 374275\n",
      "[1000]\tvalid_0's rmse: 605.922\tvalid_0's l2: 367142\n",
      "[1200]\tvalid_0's rmse: 600.996\tvalid_0's l2: 361197\n",
      "[1400]\tvalid_0's rmse: 597.446\tvalid_0's l2: 356942\n",
      "[1600]\tvalid_0's rmse: 595.436\tvalid_0's l2: 354544\n",
      "[1800]\tvalid_0's rmse: 593.537\tvalid_0's l2: 352286\n",
      "[2000]\tvalid_0's rmse: 591.854\tvalid_0's l2: 350291\n",
      "[2200]\tvalid_0's rmse: 590.215\tvalid_0's l2: 348353\n",
      "Did not meet early stopping. Best iteration is:\n",
      "[2272]\tvalid_0's rmse: 589.837\tvalid_0's l2: 347907\n"
     ]
    },
    {
     "name": "stderr",
     "output_type": "stream",
     "text": [
      "\u001b[32m[I 2021-05-06 06:51:51,098]\u001b[0m Trial 6 finished with value: 589.836752288989 and parameters: {'n_estimators': 2272, 'learning_rate': 0.49436206225082435, 'num_leaves': 53, 'max_depth': 5, 'subsample': 0.920858770470695}. Best is trial 1 with value: 571.5212387779153.\u001b[0m\n"
     ]
    },
    {
     "name": "stdout",
     "output_type": "stream",
     "text": [
      "Training until validation scores don't improve for 100 rounds\n",
      "[200]\tvalid_0's rmse: 636.811\tvalid_0's l2: 405528\n",
      "[400]\tvalid_0's rmse: 610.751\tvalid_0's l2: 373017\n",
      "[600]\tvalid_0's rmse: 601.274\tvalid_0's l2: 361530\n",
      "[800]\tvalid_0's rmse: 596.364\tvalid_0's l2: 355649\n",
      "[1000]\tvalid_0's rmse: 594.201\tvalid_0's l2: 353075\n",
      "Did not meet early stopping. Best iteration is:\n",
      "[1056]\tvalid_0's rmse: 593.596\tvalid_0's l2: 352356\n"
     ]
    },
    {
     "name": "stderr",
     "output_type": "stream",
     "text": [
      "\u001b[32m[I 2021-05-06 06:52:13,626]\u001b[0m Trial 7 finished with value: 593.5956950362533 and parameters: {'n_estimators': 1058, 'learning_rate': 0.5611011593044554, 'num_leaves': 181, 'max_depth': 6, 'subsample': 0.8026383493277314}. Best is trial 1 with value: 571.5212387779153.\u001b[0m\n"
     ]
    },
    {
     "name": "stdout",
     "output_type": "stream",
     "text": [
      "Training until validation scores don't improve for 100 rounds\n",
      "[200]\tvalid_0's rmse: 727.973\tvalid_0's l2: 529944\n",
      "[400]\tvalid_0's rmse: 690.991\tvalid_0's l2: 477469\n",
      "[600]\tvalid_0's rmse: 672.241\tvalid_0's l2: 451908\n",
      "[800]\tvalid_0's rmse: 659.542\tvalid_0's l2: 434995\n",
      "[1000]\tvalid_0's rmse: 649.268\tvalid_0's l2: 421548\n",
      "[1200]\tvalid_0's rmse: 641.842\tvalid_0's l2: 411961\n",
      "[1400]\tvalid_0's rmse: 635.193\tvalid_0's l2: 403470\n",
      "[1600]\tvalid_0's rmse: 629.546\tvalid_0's l2: 396329\n",
      "[1800]\tvalid_0's rmse: 624.6\tvalid_0's l2: 390125\n",
      "[2000]\tvalid_0's rmse: 620.553\tvalid_0's l2: 385086\n",
      "[2200]\tvalid_0's rmse: 616.497\tvalid_0's l2: 380069\n",
      "[2400]\tvalid_0's rmse: 612.959\tvalid_0's l2: 375719\n",
      "Did not meet early stopping. Best iteration is:\n",
      "[2518]\tvalid_0's rmse: 610.86\tvalid_0's l2: 373150\n"
     ]
    },
    {
     "name": "stderr",
     "output_type": "stream",
     "text": [
      "\u001b[32m[I 2021-05-06 06:52:55,443]\u001b[0m Trial 8 finished with value: 610.8600506442923 and parameters: {'n_estimators': 2519, 'learning_rate': 0.10814440548191746, 'num_leaves': 92, 'max_depth': 5, 'subsample': 0.5101335671994438}. Best is trial 1 with value: 571.5212387779153.\u001b[0m\n"
     ]
    },
    {
     "name": "stdout",
     "output_type": "stream",
     "text": [
      "Training until validation scores don't improve for 100 rounds\n",
      "[200]\tvalid_0's rmse: 662.516\tvalid_0's l2: 438927\n",
      "[400]\tvalid_0's rmse: 635.079\tvalid_0's l2: 403325\n",
      "[600]\tvalid_0's rmse: 621.047\tvalid_0's l2: 385699\n",
      "[800]\tvalid_0's rmse: 612.231\tvalid_0's l2: 374826\n",
      "[1000]\tvalid_0's rmse: 607.087\tvalid_0's l2: 368554\n",
      "[1200]\tvalid_0's rmse: 603.333\tvalid_0's l2: 364010\n",
      "[1400]\tvalid_0's rmse: 600\tvalid_0's l2: 360000\n",
      "[1600]\tvalid_0's rmse: 598.258\tvalid_0's l2: 357913\n",
      "[1800]\tvalid_0's rmse: 596.192\tvalid_0's l2: 355445\n",
      "[2000]\tvalid_0's rmse: 594.544\tvalid_0's l2: 353483\n",
      "[2200]\tvalid_0's rmse: 593.657\tvalid_0's l2: 352429\n",
      "[2400]\tvalid_0's rmse: 592.782\tvalid_0's l2: 351391\n",
      "[2600]\tvalid_0's rmse: 592.165\tvalid_0's l2: 350659\n",
      "Did not meet early stopping. Best iteration is:\n",
      "[2635]\tvalid_0's rmse: 591.964\tvalid_0's l2: 350421\n"
     ]
    },
    {
     "name": "stderr",
     "output_type": "stream",
     "text": [
      "\u001b[32m[I 2021-05-06 06:53:41,377]\u001b[0m Trial 9 finished with value: 591.9638506271418 and parameters: {'n_estimators': 2677, 'learning_rate': 0.6376173560739178, 'num_leaves': 230, 'max_depth': 5, 'subsample': 0.8903952240008668}. Best is trial 1 with value: 571.5212387779153.\u001b[0m\n"
     ]
    },
    {
     "name": "stdout",
     "output_type": "stream",
     "text": [
      "Training until validation scores don't improve for 100 rounds\n",
      "[200]\tvalid_0's rmse: 592.46\tvalid_0's l2: 351009\n",
      "[400]\tvalid_0's rmse: 577.217\tvalid_0's l2: 333179\n",
      "[600]\tvalid_0's rmse: 573.844\tvalid_0's l2: 329297\n",
      "[800]\tvalid_0's rmse: 573.052\tvalid_0's l2: 328388\n",
      "Early stopping, best iteration is:\n",
      "[798]\tvalid_0's rmse: 573.021\tvalid_0's l2: 328353\n"
     ]
    },
    {
     "name": "stderr",
     "output_type": "stream",
     "text": [
      "\u001b[32m[I 2021-05-06 06:54:16,873]\u001b[0m Trial 10 finished with value: 573.0205502560027 and parameters: {'n_estimators': 1901, 'learning_rate': 0.25364876383318696, 'num_leaves': 349, 'max_depth': 9, 'subsample': 0.6463710798742178}. Best is trial 1 with value: 571.5212387779153.\u001b[0m\n"
     ]
    },
    {
     "name": "stdout",
     "output_type": "stream",
     "text": [
      "Training until validation scores don't improve for 100 rounds\n",
      "[200]\tvalid_0's rmse: 592.545\tvalid_0's l2: 351110\n",
      "[400]\tvalid_0's rmse: 579.321\tvalid_0's l2: 335613\n",
      "[600]\tvalid_0's rmse: 576.918\tvalid_0's l2: 332835\n",
      "Early stopping, best iteration is:\n",
      "[520]\tvalid_0's rmse: 576.658\tvalid_0's l2: 332534\n"
     ]
    },
    {
     "name": "stderr",
     "output_type": "stream",
     "text": [
      "\u001b[32m[I 2021-05-06 06:54:42,192]\u001b[0m Trial 11 finished with value: 576.6576610512295 and parameters: {'n_estimators': 1806, 'learning_rate': 0.2828312966899986, 'num_leaves': 355, 'max_depth': 9, 'subsample': 0.6362175178690537}. Best is trial 1 with value: 571.5212387779153.\u001b[0m\n"
     ]
    },
    {
     "name": "stdout",
     "output_type": "stream",
     "text": [
      "Training until validation scores don't improve for 100 rounds\n",
      "[200]\tvalid_0's rmse: 608.821\tvalid_0's l2: 370663\n",
      "[400]\tvalid_0's rmse: 586.924\tvalid_0's l2: 344480\n",
      "[600]\tvalid_0's rmse: 578.772\tvalid_0's l2: 334978\n",
      "[800]\tvalid_0's rmse: 574.103\tvalid_0's l2: 329594\n",
      "[1000]\tvalid_0's rmse: 572.87\tvalid_0's l2: 328181\n",
      "Early stopping, best iteration is:\n",
      "[913]\tvalid_0's rmse: 572.749\tvalid_0's l2: 328041\n"
     ]
    },
    {
     "name": "stderr",
     "output_type": "stream",
     "text": [
      "\u001b[32m[I 2021-05-06 06:55:14,465]\u001b[0m Trial 12 finished with value: 572.7488036658841 and parameters: {'n_estimators': 1985, 'learning_rate': 0.2413463224417581, 'num_leaves': 330, 'max_depth': 8, 'subsample': 0.5365978674038989}. Best is trial 1 with value: 571.5212387779153.\u001b[0m\n"
     ]
    },
    {
     "name": "stdout",
     "output_type": "stream",
     "text": [
      "Training until validation scores don't improve for 100 rounds\n",
      "[200]\tvalid_0's rmse: 612.16\tvalid_0's l2: 374740\n",
      "[400]\tvalid_0's rmse: 587.949\tvalid_0's l2: 345684\n",
      "[600]\tvalid_0's rmse: 577.815\tvalid_0's l2: 333870\n",
      "[800]\tvalid_0's rmse: 573.683\tvalid_0's l2: 329112\n",
      "[1000]\tvalid_0's rmse: 571.05\tvalid_0's l2: 326098\n",
      "[1200]\tvalid_0's rmse: 570.119\tvalid_0's l2: 325035\n",
      "[1400]\tvalid_0's rmse: 569.928\tvalid_0's l2: 324818\n",
      "Early stopping, best iteration is:\n",
      "[1320]\tvalid_0's rmse: 569.783\tvalid_0's l2: 324652\n"
     ]
    },
    {
     "name": "stderr",
     "output_type": "stream",
     "text": [
      "\u001b[32m[I 2021-05-06 06:55:59,854]\u001b[0m Trial 13 finished with value: 569.7828463635323 and parameters: {'n_estimators': 1597, 'learning_rate': 0.2155247124133957, 'num_leaves': 298, 'max_depth': 8, 'subsample': 0.5037122734998305}. Best is trial 13 with value: 569.7828463635323.\u001b[0m\n"
     ]
    },
    {
     "name": "stdout",
     "output_type": "stream",
     "text": [
      "Training until validation scores don't improve for 100 rounds\n",
      "[200]\tvalid_0's rmse: 754.444\tvalid_0's l2: 569186\n",
      "[400]\tvalid_0's rmse: 681.486\tvalid_0's l2: 464422\n",
      "[600]\tvalid_0's rmse: 656.04\tvalid_0's l2: 430389\n",
      "[800]\tvalid_0's rmse: 640.613\tvalid_0's l2: 410386\n",
      "[1000]\tvalid_0's rmse: 629.868\tvalid_0's l2: 396733\n",
      "[1200]\tvalid_0's rmse: 621.318\tvalid_0's l2: 386035\n",
      "[1400]\tvalid_0's rmse: 614.573\tvalid_0's l2: 377700\n",
      "Did not meet early stopping. Best iteration is:\n",
      "[1509]\tvalid_0's rmse: 611.949\tvalid_0's l2: 374481\n"
     ]
    },
    {
     "name": "stderr",
     "output_type": "stream",
     "text": [
      "\u001b[32m[I 2021-05-06 06:56:51,940]\u001b[0m Trial 14 finished with value: 611.9485580142549 and parameters: {'n_estimators': 1509, 'learning_rate': 0.02673341278520805, 'num_leaves': 445, 'max_depth': 8, 'subsample': 0.567379049312074}. Best is trial 13 with value: 569.7828463635323.\u001b[0m\n"
     ]
    },
    {
     "name": "stdout",
     "output_type": "stream",
     "text": [
      "Training until validation scores don't improve for 100 rounds\n",
      "[200]\tvalid_0's rmse: 602.573\tvalid_0's l2: 363094\n",
      "[400]\tvalid_0's rmse: 588.051\tvalid_0's l2: 345803\n",
      "[600]\tvalid_0's rmse: 585.149\tvalid_0's l2: 342400\n",
      "Early stopping, best iteration is:\n",
      "[698]\tvalid_0's rmse: 584.552\tvalid_0's l2: 341701\n"
     ]
    },
    {
     "name": "stderr",
     "output_type": "stream",
     "text": [
      "\u001b[32m[I 2021-05-06 06:57:17,807]\u001b[0m Trial 15 finished with value: 584.5521423170916 and parameters: {'n_estimators': 1325, 'learning_rate': 0.3977984700811758, 'num_leaves': 295, 'max_depth': 8, 'subsample': 0.7241649179911517}. Best is trial 13 with value: 569.7828463635323.\u001b[0m\n"
     ]
    },
    {
     "name": "stdout",
     "output_type": "stream",
     "text": [
      "Training until validation scores don't improve for 100 rounds\n",
      "[200]\tvalid_0's rmse: 626.786\tvalid_0's l2: 392861\n",
      "[400]\tvalid_0's rmse: 598.026\tvalid_0's l2: 357635\n",
      "[600]\tvalid_0's rmse: 583.564\tvalid_0's l2: 340547\n",
      "[800]\tvalid_0's rmse: 575.729\tvalid_0's l2: 331464\n",
      "[1000]\tvalid_0's rmse: 570.545\tvalid_0's l2: 325522\n",
      "[1200]\tvalid_0's rmse: 567.348\tvalid_0's l2: 321884\n",
      "[1400]\tvalid_0's rmse: 565.835\tvalid_0's l2: 320170\n",
      "[1600]\tvalid_0's rmse: 564.735\tvalid_0's l2: 318926\n",
      "[1800]\tvalid_0's rmse: 563.962\tvalid_0's l2: 318053\n",
      "[2000]\tvalid_0's rmse: 563.38\tvalid_0's l2: 317397\n",
      "Early stopping, best iteration is:\n",
      "[2074]\tvalid_0's rmse: 563.151\tvalid_0's l2: 317139\n"
     ]
    },
    {
     "name": "stderr",
     "output_type": "stream",
     "text": [
      "\u001b[32m[I 2021-05-06 06:58:28,017]\u001b[0m Trial 16 finished with value: 563.1508210298492 and parameters: {'n_estimators': 2996, 'learning_rate': 0.13743096131641364, 'num_leaves': 407, 'max_depth': 8, 'subsample': 0.7093004270885783}. Best is trial 16 with value: 563.1508210298492.\u001b[0m\n"
     ]
    },
    {
     "name": "stdout",
     "output_type": "stream",
     "text": [
      "Training until validation scores don't improve for 100 rounds\n",
      "[200]\tvalid_0's rmse: 654.494\tvalid_0's l2: 428362\n",
      "[400]\tvalid_0's rmse: 620.616\tvalid_0's l2: 385165\n",
      "[600]\tvalid_0's rmse: 604.754\tvalid_0's l2: 365728\n",
      "[800]\tvalid_0's rmse: 593.442\tvalid_0's l2: 352173\n",
      "[1000]\tvalid_0's rmse: 585.485\tvalid_0's l2: 342792\n",
      "[1200]\tvalid_0's rmse: 579.465\tvalid_0's l2: 335780\n",
      "[1400]\tvalid_0's rmse: 575.125\tvalid_0's l2: 330769\n",
      "[1600]\tvalid_0's rmse: 572.448\tvalid_0's l2: 327696\n",
      "[1800]\tvalid_0's rmse: 570.458\tvalid_0's l2: 325422\n",
      "[2000]\tvalid_0's rmse: 568.48\tvalid_0's l2: 323170\n",
      "[2200]\tvalid_0's rmse: 567.295\tvalid_0's l2: 321824\n",
      "[2400]\tvalid_0's rmse: 566.033\tvalid_0's l2: 320393\n",
      "[2600]\tvalid_0's rmse: 565.598\tvalid_0's l2: 319901\n",
      "[2800]\tvalid_0's rmse: 565.163\tvalid_0's l2: 319409\n",
      "Did not meet early stopping. Best iteration is:\n",
      "[2856]\tvalid_0's rmse: 565.014\tvalid_0's l2: 319241\n"
     ]
    },
    {
     "name": "stderr",
     "output_type": "stream",
     "text": [
      "\u001b[32m[I 2021-05-06 06:59:41,033]\u001b[0m Trial 17 finished with value: 565.0144162073141 and parameters: {'n_estimators': 2868, 'learning_rate': 0.13677140974952756, 'num_leaves': 490, 'max_depth': 7, 'subsample': 0.9970208634981098}. Best is trial 16 with value: 563.1508210298492.\u001b[0m\n"
     ]
    },
    {
     "name": "stdout",
     "output_type": "stream",
     "text": [
      "Training until validation scores don't improve for 100 rounds\n",
      "[200]\tvalid_0's rmse: 653.239\tvalid_0's l2: 426721\n",
      "[400]\tvalid_0's rmse: 636.356\tvalid_0's l2: 404949\n",
      "[600]\tvalid_0's rmse: 631.699\tvalid_0's l2: 399044\n",
      "[800]\tvalid_0's rmse: 630.809\tvalid_0's l2: 397920\n",
      "[1000]\tvalid_0's rmse: 629.8\tvalid_0's l2: 396648\n",
      "Early stopping, best iteration is:\n",
      "[1046]\tvalid_0's rmse: 629.481\tvalid_0's l2: 396247\n"
     ]
    },
    {
     "name": "stderr",
     "output_type": "stream",
     "text": [
      "\u001b[32m[I 2021-05-06 07:00:07,994]\u001b[0m Trial 18 finished with value: 629.4812309013272 and parameters: {'n_estimators': 2973, 'learning_rate': 0.9885665045259922, 'num_leaves': 497, 'max_depth': 6, 'subsample': 0.72133890146132}. Best is trial 16 with value: 563.1508210298492.\u001b[0m\n"
     ]
    },
    {
     "name": "stdout",
     "output_type": "stream",
     "text": [
      "Training until validation scores don't improve for 100 rounds\n",
      "[200]\tvalid_0's rmse: 618.18\tvalid_0's l2: 382146\n",
      "[400]\tvalid_0's rmse: 596.876\tvalid_0's l2: 356261\n",
      "[600]\tvalid_0's rmse: 588.323\tvalid_0's l2: 346123\n",
      "[800]\tvalid_0's rmse: 585.429\tvalid_0's l2: 342727\n",
      "[1000]\tvalid_0's rmse: 584.718\tvalid_0's l2: 341895\n",
      "Early stopping, best iteration is:\n",
      "[1033]\tvalid_0's rmse: 584.26\tvalid_0's l2: 341360\n"
     ]
    },
    {
     "name": "stderr",
     "output_type": "stream",
     "text": [
      "\u001b[32m[I 2021-05-06 07:00:38,767]\u001b[0m Trial 19 finished with value: 584.2597917707669 and parameters: {'n_estimators': 2954, 'learning_rate': 0.4111910623064732, 'num_leaves': 496, 'max_depth': 7, 'subsample': 0.9817732988620508}. Best is trial 16 with value: 563.1508210298492.\u001b[0m\n"
     ]
    },
    {
     "name": "stdout",
     "output_type": "stream",
     "text": [
      "Training until validation scores don't improve for 100 rounds\n",
      "[200]\tvalid_0's rmse: 648.684\tvalid_0's l2: 420791\n",
      "[400]\tvalid_0's rmse: 616.624\tvalid_0's l2: 380225\n",
      "[600]\tvalid_0's rmse: 600.589\tvalid_0's l2: 360707\n",
      "[800]\tvalid_0's rmse: 589.327\tvalid_0's l2: 347306\n",
      "[1000]\tvalid_0's rmse: 582.475\tvalid_0's l2: 339277\n",
      "[1200]\tvalid_0's rmse: 577.368\tvalid_0's l2: 333353\n",
      "[1400]\tvalid_0's rmse: 573.878\tvalid_0's l2: 329336\n",
      "[1600]\tvalid_0's rmse: 570.898\tvalid_0's l2: 325924\n",
      "[1800]\tvalid_0's rmse: 569.157\tvalid_0's l2: 323940\n",
      "[2000]\tvalid_0's rmse: 567.841\tvalid_0's l2: 322443\n",
      "[2200]\tvalid_0's rmse: 566.645\tvalid_0's l2: 321087\n",
      "[2400]\tvalid_0's rmse: 566.032\tvalid_0's l2: 320392\n",
      "[2600]\tvalid_0's rmse: 565.519\tvalid_0's l2: 319812\n",
      "[2800]\tvalid_0's rmse: 565.213\tvalid_0's l2: 319466\n",
      "Did not meet early stopping. Best iteration is:\n",
      "[2777]\tvalid_0's rmse: 565.101\tvalid_0's l2: 319339\n"
     ]
    },
    {
     "name": "stderr",
     "output_type": "stream",
     "text": [
      "\u001b[32m[I 2021-05-06 07:01:50,561]\u001b[0m Trial 20 finished with value: 565.1012591465211 and parameters: {'n_estimators': 2805, 'learning_rate': 0.15104969158349715, 'num_leaves': 437, 'max_depth': 7, 'subsample': 0.8781014647207912}. Best is trial 16 with value: 563.1508210298492.\u001b[0m\n"
     ]
    },
    {
     "name": "stdout",
     "output_type": "stream",
     "text": [
      "Training until validation scores don't improve for 100 rounds\n",
      "[200]\tvalid_0's rmse: 649.562\tvalid_0's l2: 421931\n",
      "[400]\tvalid_0's rmse: 616.351\tvalid_0's l2: 379888\n",
      "[600]\tvalid_0's rmse: 600.275\tvalid_0's l2: 360330\n",
      "[800]\tvalid_0's rmse: 590.73\tvalid_0's l2: 348963\n",
      "[1000]\tvalid_0's rmse: 583.263\tvalid_0's l2: 340196\n",
      "[1200]\tvalid_0's rmse: 578.468\tvalid_0's l2: 334626\n",
      "[1400]\tvalid_0's rmse: 574.003\tvalid_0's l2: 329479\n",
      "[1600]\tvalid_0's rmse: 571.608\tvalid_0's l2: 326736\n",
      "[1800]\tvalid_0's rmse: 569.716\tvalid_0's l2: 324577\n",
      "[2000]\tvalid_0's rmse: 567.994\tvalid_0's l2: 322617\n",
      "[2200]\tvalid_0's rmse: 566.935\tvalid_0's l2: 321416\n",
      "[2400]\tvalid_0's rmse: 566.049\tvalid_0's l2: 320412\n",
      "[2600]\tvalid_0's rmse: 565.423\tvalid_0's l2: 319704\n",
      "[2800]\tvalid_0's rmse: 565.022\tvalid_0's l2: 319250\n",
      "Did not meet early stopping. Best iteration is:\n",
      "[2800]\tvalid_0's rmse: 565.022\tvalid_0's l2: 319250\n"
     ]
    },
    {
     "name": "stderr",
     "output_type": "stream",
     "text": [
      "\u001b[32m[I 2021-05-06 07:03:02,138]\u001b[0m Trial 21 finished with value: 565.0218933698269 and parameters: {'n_estimators': 2814, 'learning_rate': 0.14540796471789025, 'num_leaves': 444, 'max_depth': 7, 'subsample': 0.9855956302151097}. Best is trial 16 with value: 563.1508210298492.\u001b[0m\n"
     ]
    },
    {
     "name": "stdout",
     "output_type": "stream",
     "text": [
      "Training until validation scores don't improve for 100 rounds\n",
      "[200]\tvalid_0's rmse: 649.893\tvalid_0's l2: 422361\n",
      "[400]\tvalid_0's rmse: 617.566\tvalid_0's l2: 381388\n",
      "[600]\tvalid_0's rmse: 601.69\tvalid_0's l2: 362031\n",
      "[800]\tvalid_0's rmse: 593.253\tvalid_0's l2: 351949\n",
      "[1000]\tvalid_0's rmse: 586.718\tvalid_0's l2: 344238\n",
      "[1200]\tvalid_0's rmse: 583.713\tvalid_0's l2: 340721\n",
      "[1400]\tvalid_0's rmse: 581.07\tvalid_0's l2: 337642\n",
      "[1600]\tvalid_0's rmse: 579.652\tvalid_0's l2: 335996\n",
      "[1800]\tvalid_0's rmse: 578.738\tvalid_0's l2: 334938\n",
      "[2000]\tvalid_0's rmse: 577.598\tvalid_0's l2: 333619\n",
      "[2200]\tvalid_0's rmse: 576.958\tvalid_0's l2: 332880\n",
      "[2400]\tvalid_0's rmse: 576.53\tvalid_0's l2: 332387\n",
      "[2600]\tvalid_0's rmse: 576.214\tvalid_0's l2: 332023\n",
      "[2800]\tvalid_0's rmse: 576.073\tvalid_0's l2: 331860\n",
      "Did not meet early stopping. Best iteration is:\n",
      "[2771]\tvalid_0's rmse: 575.95\tvalid_0's l2: 331718\n"
     ]
    },
    {
     "name": "stderr",
     "output_type": "stream",
     "text": [
      "\u001b[32m[I 2021-05-06 07:04:01,098]\u001b[0m Trial 22 finished with value: 575.9498658429972 and parameters: {'n_estimators': 2807, 'learning_rate': 0.32441724212006884, 'num_leaves': 399, 'max_depth': 6, 'subsample': 0.9919875728219967}. Best is trial 16 with value: 563.1508210298492.\u001b[0m\n"
     ]
    },
    {
     "name": "stdout",
     "output_type": "stream",
     "text": [
      "Training until validation scores don't improve for 100 rounds\n",
      "[200]\tvalid_0's rmse: 649.774\tvalid_0's l2: 422206\n",
      "[400]\tvalid_0's rmse: 617.205\tvalid_0's l2: 380942\n",
      "[600]\tvalid_0's rmse: 600.815\tvalid_0's l2: 360979\n",
      "[800]\tvalid_0's rmse: 589.799\tvalid_0's l2: 347863\n",
      "[1000]\tvalid_0's rmse: 582.764\tvalid_0's l2: 339614\n",
      "[1200]\tvalid_0's rmse: 577.85\tvalid_0's l2: 333911\n",
      "[1400]\tvalid_0's rmse: 574.324\tvalid_0's l2: 329849\n",
      "[1600]\tvalid_0's rmse: 571.621\tvalid_0's l2: 326751\n",
      "[1800]\tvalid_0's rmse: 569.868\tvalid_0's l2: 324750\n",
      "[2000]\tvalid_0's rmse: 568.022\tvalid_0's l2: 322649\n",
      "[2200]\tvalid_0's rmse: 566.62\tvalid_0's l2: 321059\n",
      "[2400]\tvalid_0's rmse: 565.212\tvalid_0's l2: 319464\n",
      "[2600]\tvalid_0's rmse: 564.578\tvalid_0's l2: 318749\n",
      "[2800]\tvalid_0's rmse: 564.058\tvalid_0's l2: 318161\n",
      "Did not meet early stopping. Best iteration is:\n",
      "[2993]\tvalid_0's rmse: 563.54\tvalid_0's l2: 317577\n"
     ]
    },
    {
     "name": "stderr",
     "output_type": "stream",
     "text": [
      "\u001b[32m[I 2021-05-06 07:05:18,113]\u001b[0m Trial 23 finished with value: 563.5398616704013 and parameters: {'n_estimators': 2993, 'learning_rate': 0.14042464652509712, 'num_leaves': 477, 'max_depth': 7, 'subsample': 0.9574305969790302}. Best is trial 16 with value: 563.1508210298492.\u001b[0m\n"
     ]
    },
    {
     "name": "stdout",
     "output_type": "stream",
     "text": [
      "Training until validation scores don't improve for 100 rounds\n",
      "[200]\tvalid_0's rmse: 620.468\tvalid_0's l2: 384981\n",
      "[400]\tvalid_0's rmse: 591.939\tvalid_0's l2: 350392\n",
      "[600]\tvalid_0's rmse: 579.72\tvalid_0's l2: 336075\n",
      "[800]\tvalid_0's rmse: 572.607\tvalid_0's l2: 327879\n",
      "[1000]\tvalid_0's rmse: 569.437\tvalid_0's l2: 324259\n",
      "[1200]\tvalid_0's rmse: 567.318\tvalid_0's l2: 321850\n",
      "[1400]\tvalid_0's rmse: 566.116\tvalid_0's l2: 320487\n",
      "[1600]\tvalid_0's rmse: 565.526\tvalid_0's l2: 319820\n",
      "[1800]\tvalid_0's rmse: 565.278\tvalid_0's l2: 319539\n",
      "Early stopping, best iteration is:\n",
      "[1802]\tvalid_0's rmse: 565.265\tvalid_0's l2: 319524\n"
     ]
    },
    {
     "name": "stderr",
     "output_type": "stream",
     "text": [
      "\u001b[32m[I 2021-05-06 07:06:18,539]\u001b[0m Trial 24 finished with value: 565.2647855588738 and parameters: {'n_estimators': 2585, 'learning_rate': 0.17491005945041174, 'num_leaves': 479, 'max_depth': 8, 'subsample': 0.9431391410108876}. Best is trial 16 with value: 563.1508210298492.\u001b[0m\n"
     ]
    },
    {
     "name": "stdout",
     "output_type": "stream",
     "text": [
      "Training until validation scores don't improve for 100 rounds\n",
      "[200]\tvalid_0's rmse: 782.202\tvalid_0's l2: 611840\n",
      "[400]\tvalid_0's rmse: 709.367\tvalid_0's l2: 503202\n",
      "[600]\tvalid_0's rmse: 681.933\tvalid_0's l2: 465033\n",
      "[800]\tvalid_0's rmse: 664.104\tvalid_0's l2: 441034\n",
      "[1000]\tvalid_0's rmse: 651.322\tvalid_0's l2: 424221\n",
      "[1200]\tvalid_0's rmse: 643.696\tvalid_0's l2: 414344\n",
      "[1400]\tvalid_0's rmse: 636.079\tvalid_0's l2: 404596\n",
      "[1600]\tvalid_0's rmse: 630.102\tvalid_0's l2: 397029\n",
      "[1800]\tvalid_0's rmse: 625.412\tvalid_0's l2: 391141\n",
      "[2000]\tvalid_0's rmse: 620.711\tvalid_0's l2: 385283\n",
      "[2200]\tvalid_0's rmse: 617.377\tvalid_0's l2: 381155\n",
      "[2400]\tvalid_0's rmse: 613.985\tvalid_0's l2: 376978\n",
      "[2600]\tvalid_0's rmse: 610.769\tvalid_0's l2: 373039\n",
      "[2800]\tvalid_0's rmse: 608.232\tvalid_0's l2: 369946\n",
      "Did not meet early stopping. Best iteration is:\n",
      "[2961]\tvalid_0's rmse: 605.95\tvalid_0's l2: 367176\n"
     ]
    },
    {
     "name": "stderr",
     "output_type": "stream",
     "text": [
      "\u001b[32m[I 2021-05-06 07:07:38,644]\u001b[0m Trial 25 finished with value: 605.9502823695847 and parameters: {'n_estimators': 2961, 'learning_rate': 0.0270812655937141, 'num_leaves': 471, 'max_depth': 7, 'subsample': 0.6998777961002967}. Best is trial 16 with value: 563.1508210298492.\u001b[0m\n"
     ]
    },
    {
     "name": "stdout",
     "output_type": "stream",
     "text": [
      "Training until validation scores don't improve for 100 rounds\n",
      "[200]\tvalid_0's rmse: 643.881\tvalid_0's l2: 414583\n",
      "[400]\tvalid_0's rmse: 613.905\tvalid_0's l2: 376880\n",
      "[600]\tvalid_0's rmse: 600.961\tvalid_0's l2: 361154\n",
      "[800]\tvalid_0's rmse: 592.659\tvalid_0's l2: 351245\n",
      "[1000]\tvalid_0's rmse: 587.914\tvalid_0's l2: 345643\n",
      "[1200]\tvalid_0's rmse: 583.836\tvalid_0's l2: 340865\n",
      "[1400]\tvalid_0's rmse: 582.438\tvalid_0's l2: 339234\n",
      "[1600]\tvalid_0's rmse: 580.925\tvalid_0's l2: 337474\n",
      "[1800]\tvalid_0's rmse: 579.795\tvalid_0's l2: 336162\n",
      "[2000]\tvalid_0's rmse: 578.829\tvalid_0's l2: 335043\n",
      "[2200]\tvalid_0's rmse: 578.536\tvalid_0's l2: 334704\n",
      "Early stopping, best iteration is:\n",
      "[2117]\tvalid_0's rmse: 578.332\tvalid_0's l2: 334468\n"
     ]
    },
    {
     "name": "stderr",
     "output_type": "stream",
     "text": [
      "\u001b[32m[I 2021-05-06 07:08:25,048]\u001b[0m Trial 26 finished with value: 578.3323373017586 and parameters: {'n_estimators': 2390, 'learning_rate': 0.3616414047310247, 'num_leaves': 378, 'max_depth': 6, 'subsample': 0.8523568459123945}. Best is trial 16 with value: 563.1508210298492.\u001b[0m\n"
     ]
    },
    {
     "name": "stdout",
     "output_type": "stream",
     "text": [
      "Training until validation scores don't improve for 100 rounds\n",
      "[200]\tvalid_0's rmse: 638.972\tvalid_0's l2: 408285\n",
      "[400]\tvalid_0's rmse: 608.059\tvalid_0's l2: 369736\n",
      "[600]\tvalid_0's rmse: 591.869\tvalid_0's l2: 350309\n",
      "[800]\tvalid_0's rmse: 581.765\tvalid_0's l2: 338450\n",
      "[1000]\tvalid_0's rmse: 575.078\tvalid_0's l2: 330715\n",
      "[1200]\tvalid_0's rmse: 570.768\tvalid_0's l2: 325776\n",
      "[1400]\tvalid_0's rmse: 567.548\tvalid_0's l2: 322111\n",
      "[1600]\tvalid_0's rmse: 565.2\tvalid_0's l2: 319452\n",
      "[1800]\tvalid_0's rmse: 563.845\tvalid_0's l2: 317921\n",
      "[2000]\tvalid_0's rmse: 562.699\tvalid_0's l2: 316630\n",
      "Did not meet early stopping. Best iteration is:\n",
      "[2181]\tvalid_0's rmse: 562.038\tvalid_0's l2: 315887\n"
     ]
    },
    {
     "name": "stderr",
     "output_type": "stream",
     "text": [
      "\u001b[32m[I 2021-05-06 07:09:36,155]\u001b[0m Trial 27 finished with value: 562.0383901678323 and parameters: {'n_estimators': 2181, 'learning_rate': 0.10970066065226947, 'num_leaves': 499, 'max_depth': 8, 'subsample': 0.9431197431097216}. Best is trial 27 with value: 562.0383901678323.\u001b[0m\n"
     ]
    },
    {
     "name": "stdout",
     "output_type": "stream",
     "text": [
      "Training until validation scores don't improve for 100 rounds\n",
      "[200]\tvalid_0's rmse: 647.981\tvalid_0's l2: 419880\n",
      "[400]\tvalid_0's rmse: 611.7\tvalid_0's l2: 374177\n",
      "[600]\tvalid_0's rmse: 595.659\tvalid_0's l2: 354810\n",
      "[800]\tvalid_0's rmse: 585.319\tvalid_0's l2: 342598\n",
      "[1000]\tvalid_0's rmse: 577.065\tvalid_0's l2: 333004\n",
      "[1200]\tvalid_0's rmse: 572.727\tvalid_0's l2: 328016\n",
      "[1400]\tvalid_0's rmse: 568.906\tvalid_0's l2: 323654\n",
      "[1600]\tvalid_0's rmse: 566.638\tvalid_0's l2: 321079\n",
      "[1800]\tvalid_0's rmse: 565.101\tvalid_0's l2: 319339\n",
      "[2000]\tvalid_0's rmse: 563.126\tvalid_0's l2: 317111\n",
      "[2200]\tvalid_0's rmse: 562.029\tvalid_0's l2: 315877\n",
      "Did not meet early stopping. Best iteration is:\n",
      "[2221]\tvalid_0's rmse: 561.864\tvalid_0's l2: 315691\n"
     ]
    },
    {
     "name": "stderr",
     "output_type": "stream",
     "text": [
      "\u001b[32m[I 2021-05-06 07:11:10,888]\u001b[0m Trial 28 finished with value: 561.8635091418324 and parameters: {'n_estimators': 2221, 'learning_rate': 0.06268092899128207, 'num_leaves': 431, 'max_depth': 9, 'subsample': 0.9358712307020682}. Best is trial 28 with value: 561.8635091418324.\u001b[0m\n"
     ]
    },
    {
     "name": "stdout",
     "output_type": "stream",
     "text": [
      "Training until validation scores don't improve for 100 rounds\n",
      "[200]\tvalid_0's rmse: 638.014\tvalid_0's l2: 407062\n",
      "Early stopping, best iteration is:\n",
      "[158]\tvalid_0's rmse: 637\tvalid_0's l2: 405769\n"
     ]
    },
    {
     "name": "stderr",
     "output_type": "stream",
     "text": [
      "\u001b[32m[I 2021-05-06 07:11:22,964]\u001b[0m Trial 29 finished with value: 637.000273315925 and parameters: {'n_estimators': 2200, 'learning_rate': 0.8064096429127319, 'num_leaves': 413, 'max_depth': 9, 'subsample': 0.7658979268379136}. Best is trial 28 with value: 561.8635091418324.\u001b[0m\n"
     ]
    },
    {
     "name": "stdout",
     "output_type": "stream",
     "text": [
      "Training until validation scores don't improve for 100 rounds\n",
      "[200]\tvalid_0's rmse: 641.678\tvalid_0's l2: 411751\n",
      "[400]\tvalid_0's rmse: 608.605\tvalid_0's l2: 370401\n",
      "[600]\tvalid_0's rmse: 591.958\tvalid_0's l2: 350414\n",
      "[800]\tvalid_0's rmse: 581.906\tvalid_0's l2: 338615\n",
      "[1000]\tvalid_0's rmse: 574.825\tvalid_0's l2: 330424\n",
      "[1200]\tvalid_0's rmse: 570.616\tvalid_0's l2: 325603\n",
      "[1400]\tvalid_0's rmse: 567.198\tvalid_0's l2: 321714\n",
      "[1600]\tvalid_0's rmse: 564.941\tvalid_0's l2: 319158\n",
      "[1800]\tvalid_0's rmse: 563.289\tvalid_0's l2: 317294\n",
      "[2000]\tvalid_0's rmse: 561.948\tvalid_0's l2: 315786\n",
      "Did not meet early stopping. Best iteration is:\n",
      "[2093]\tvalid_0's rmse: 561.725\tvalid_0's l2: 315535\n"
     ]
    },
    {
     "name": "stderr",
     "output_type": "stream",
     "text": [
      "\u001b[32m[I 2021-05-06 07:12:49,055]\u001b[0m Trial 30 finished with value: 561.7254531876724 and parameters: {'n_estimators': 2093, 'learning_rate': 0.0703094442652082, 'num_leaves': 329, 'max_depth': 9, 'subsample': 0.8517253835366496}. Best is trial 30 with value: 561.7254531876724.\u001b[0m\n"
     ]
    },
    {
     "name": "stdout",
     "output_type": "stream",
     "text": [
      "Training until validation scores don't improve for 100 rounds\n",
      "[200]\tvalid_0's rmse: 654.307\tvalid_0's l2: 428118\n",
      "[400]\tvalid_0's rmse: 618.79\tvalid_0's l2: 382901\n",
      "[600]\tvalid_0's rmse: 600.495\tvalid_0's l2: 360594\n",
      "[800]\tvalid_0's rmse: 588.679\tvalid_0's l2: 346543\n",
      "[1000]\tvalid_0's rmse: 581.599\tvalid_0's l2: 338258\n",
      "[1200]\tvalid_0's rmse: 575.712\tvalid_0's l2: 331445\n",
      "[1400]\tvalid_0's rmse: 571.673\tvalid_0's l2: 326810\n",
      "[1600]\tvalid_0's rmse: 568.644\tvalid_0's l2: 323356\n",
      "[1800]\tvalid_0's rmse: 566.329\tvalid_0's l2: 320729\n",
      "[2000]\tvalid_0's rmse: 564.695\tvalid_0's l2: 318880\n",
      "Did not meet early stopping. Best iteration is:\n",
      "[2084]\tvalid_0's rmse: 564.161\tvalid_0's l2: 318278\n"
     ]
    },
    {
     "name": "stderr",
     "output_type": "stream",
     "text": [
      "\u001b[32m[I 2021-05-06 07:14:12,209]\u001b[0m Trial 31 finished with value: 564.1609303665464 and parameters: {'n_estimators': 2084, 'learning_rate': 0.05673146138065497, 'num_leaves': 300, 'max_depth': 9, 'subsample': 0.8616230502721071}. Best is trial 30 with value: 561.7254531876724.\u001b[0m\n"
     ]
    },
    {
     "name": "stdout",
     "output_type": "stream",
     "text": [
      "Training until validation scores don't improve for 100 rounds\n",
      "[200]\tvalid_0's rmse: 952.471\tvalid_0's l2: 907201\n",
      "[400]\tvalid_0's rmse: 760.66\tvalid_0's l2: 578604\n",
      "[600]\tvalid_0's rmse: 706.339\tvalid_0's l2: 498915\n",
      "[800]\tvalid_0's rmse: 674.474\tvalid_0's l2: 454915\n",
      "[1000]\tvalid_0's rmse: 658.397\tvalid_0's l2: 433486\n",
      "[1200]\tvalid_0's rmse: 648.068\tvalid_0's l2: 419992\n",
      "[1400]\tvalid_0's rmse: 640.305\tvalid_0's l2: 409990\n",
      "[1600]\tvalid_0's rmse: 633.212\tvalid_0's l2: 400957\n",
      "Did not meet early stopping. Best iteration is:\n",
      "[1757]\tvalid_0's rmse: 629.501\tvalid_0's l2: 396271\n"
     ]
    },
    {
     "name": "stderr",
     "output_type": "stream",
     "text": [
      "\u001b[32m[I 2021-05-06 07:15:38,666]\u001b[0m Trial 32 finished with value: 629.5009455252888 and parameters: {'n_estimators': 1757, 'learning_rate': 0.010707584972588724, 'num_leaves': 440, 'max_depth': 9, 'subsample': 0.8408105237775876}. Best is trial 30 with value: 561.7254531876724.\u001b[0m\n"
     ]
    },
    {
     "name": "stdout",
     "output_type": "stream",
     "text": [
      "Training until validation scores don't improve for 100 rounds\n",
      "[200]\tvalid_0's rmse: 646.707\tvalid_0's l2: 418230\n",
      "[400]\tvalid_0's rmse: 614.692\tvalid_0's l2: 377846\n",
      "[600]\tvalid_0's rmse: 599.327\tvalid_0's l2: 359193\n",
      "[800]\tvalid_0's rmse: 586.904\tvalid_0's l2: 344457\n",
      "[1000]\tvalid_0's rmse: 579.092\tvalid_0's l2: 335348\n",
      "[1200]\tvalid_0's rmse: 574.725\tvalid_0's l2: 330308\n",
      "[1400]\tvalid_0's rmse: 570.24\tvalid_0's l2: 325173\n",
      "[1600]\tvalid_0's rmse: 567.905\tvalid_0's l2: 322516\n",
      "[1800]\tvalid_0's rmse: 565.961\tvalid_0's l2: 320312\n",
      "[2000]\tvalid_0's rmse: 564.191\tvalid_0's l2: 318311\n",
      "Did not meet early stopping. Best iteration is:\n",
      "[2122]\tvalid_0's rmse: 563.346\tvalid_0's l2: 317359\n"
     ]
    },
    {
     "name": "stderr",
     "output_type": "stream",
     "text": [
      "\u001b[32m[I 2021-05-06 07:16:48,811]\u001b[0m Trial 33 finished with value: 563.3460612017601 and parameters: {'n_estimators': 2122, 'learning_rate': 0.0911421855255623, 'num_leaves': 336, 'max_depth': 8, 'subsample': 0.9297289265972284}. Best is trial 30 with value: 561.7254531876724.\u001b[0m\n"
     ]
    },
    {
     "name": "stdout",
     "output_type": "stream",
     "text": [
      "Training until validation scores don't improve for 100 rounds\n",
      "[200]\tvalid_0's rmse: 598.19\tvalid_0's l2: 357831\n",
      "[400]\tvalid_0's rmse: 578.293\tvalid_0's l2: 334423\n",
      "[600]\tvalid_0's rmse: 571.611\tvalid_0's l2: 326739\n",
      "[800]\tvalid_0's rmse: 569.541\tvalid_0's l2: 324377\n",
      "Early stopping, best iteration is:\n",
      "[839]\tvalid_0's rmse: 569.34\tvalid_0's l2: 324148\n"
     ]
    },
    {
     "name": "stderr",
     "output_type": "stream",
     "text": [
      "\u001b[32m[I 2021-05-06 07:17:26,807]\u001b[0m Trial 34 finished with value: 569.3400578235479 and parameters: {'n_estimators': 2395, 'learning_rate': 0.2122057152398048, 'num_leaves': 368, 'max_depth': 9, 'subsample': 0.9005645229059454}. Best is trial 30 with value: 561.7254531876724.\u001b[0m\n"
     ]
    },
    {
     "name": "stdout",
     "output_type": "stream",
     "text": [
      "Training until validation scores don't improve for 100 rounds\n",
      "[200]\tvalid_0's rmse: 665.172\tvalid_0's l2: 442454\n",
      "[400]\tvalid_0's rmse: 629.637\tvalid_0's l2: 396443\n",
      "[600]\tvalid_0's rmse: 611.515\tvalid_0's l2: 373950\n",
      "[800]\tvalid_0's rmse: 600.275\tvalid_0's l2: 360330\n",
      "[1000]\tvalid_0's rmse: 591.907\tvalid_0's l2: 350354\n",
      "[1200]\tvalid_0's rmse: 585.937\tvalid_0's l2: 343322\n",
      "[1400]\tvalid_0's rmse: 580.62\tvalid_0's l2: 337120\n",
      "[1600]\tvalid_0's rmse: 576.756\tvalid_0's l2: 332647\n",
      "[1800]\tvalid_0's rmse: 574.406\tvalid_0's l2: 329942\n",
      "[2000]\tvalid_0's rmse: 571.629\tvalid_0's l2: 326760\n",
      "Did not meet early stopping. Best iteration is:\n",
      "[2009]\tvalid_0's rmse: 571.437\tvalid_0's l2: 326540\n"
     ]
    },
    {
     "name": "stderr",
     "output_type": "stream",
     "text": [
      "\u001b[32m[I 2021-05-06 07:18:34,022]\u001b[0m Trial 35 finished with value: 571.4370024196202 and parameters: {'n_estimators': 2009, 'learning_rate': 0.06487792532486358, 'num_leaves': 406, 'max_depth': 8, 'subsample': 0.7608647829022671}. Best is trial 30 with value: 561.7254531876724.\u001b[0m\n"
     ]
    },
    {
     "name": "stdout",
     "output_type": "stream",
     "text": [
      "Training until validation scores don't improve for 100 rounds\n",
      "[200]\tvalid_0's rmse: 833.246\tvalid_0's l2: 694299\n",
      "[400]\tvalid_0's rmse: 720.697\tvalid_0's l2: 519404\n",
      "[600]\tvalid_0's rmse: 677.097\tvalid_0's l2: 458460\n",
      "[800]\tvalid_0's rmse: 657.624\tvalid_0's l2: 432470\n",
      "[1000]\tvalid_0's rmse: 643.958\tvalid_0's l2: 414682\n",
      "[1200]\tvalid_0's rmse: 634.692\tvalid_0's l2: 402834\n",
      "[1400]\tvalid_0's rmse: 626.894\tvalid_0's l2: 392996\n",
      "[1600]\tvalid_0's rmse: 621.522\tvalid_0's l2: 386290\n",
      "Did not meet early stopping. Best iteration is:\n",
      "[1707]\tvalid_0's rmse: 619.213\tvalid_0's l2: 383425\n"
     ]
    },
    {
     "name": "stderr",
     "output_type": "stream",
     "text": [
      "\u001b[32m[I 2021-05-06 07:19:43,895]\u001b[0m Trial 36 finished with value: 619.2128428713138 and parameters: {'n_estimators': 1707, 'learning_rate': 0.014589578426177592, 'num_leaves': 250, 'max_depth': 9, 'subsample': 0.8230549228697908}. Best is trial 30 with value: 561.7254531876724.\u001b[0m\n"
     ]
    },
    {
     "name": "stdout",
     "output_type": "stream",
     "text": [
      "Training until validation scores don't improve for 100 rounds\n",
      "[200]\tvalid_0's rmse: 593.146\tvalid_0's l2: 351823\n",
      "[400]\tvalid_0's rmse: 580.638\tvalid_0's l2: 337141\n",
      "[600]\tvalid_0's rmse: 579.177\tvalid_0's l2: 335446\n",
      "Early stopping, best iteration is:\n",
      "[518]\tvalid_0's rmse: 578.941\tvalid_0's l2: 335173\n"
     ]
    },
    {
     "name": "stderr",
     "output_type": "stream",
     "text": [
      "\u001b[32m[I 2021-05-06 07:20:09,360]\u001b[0m Trial 37 finished with value: 578.9414205129293 and parameters: {'n_estimators': 2221, 'learning_rate': 0.2943905488193168, 'num_leaves': 380, 'max_depth': 9, 'subsample': 0.9116698854138872}. Best is trial 30 with value: 561.7254531876724.\u001b[0m\n"
     ]
    },
    {
     "name": "stdout",
     "output_type": "stream",
     "text": [
      "Training until validation scores don't improve for 100 rounds\n",
      "[200]\tvalid_0's rmse: 617.641\tvalid_0's l2: 381481\n",
      "[400]\tvalid_0's rmse: 589.022\tvalid_0's l2: 346947\n",
      "[600]\tvalid_0's rmse: 578.708\tvalid_0's l2: 334903\n",
      "[800]\tvalid_0's rmse: 572.554\tvalid_0's l2: 327818\n",
      "[1000]\tvalid_0's rmse: 569.92\tvalid_0's l2: 324809\n",
      "[1200]\tvalid_0's rmse: 568.029\tvalid_0's l2: 322657\n",
      "[1400]\tvalid_0's rmse: 567.416\tvalid_0's l2: 321961\n",
      "[1600]\tvalid_0's rmse: 566.973\tvalid_0's l2: 321458\n",
      "Early stopping, best iteration is:\n",
      "[1583]\tvalid_0's rmse: 566.907\tvalid_0's l2: 321384\n"
     ]
    },
    {
     "name": "stderr",
     "output_type": "stream",
     "text": [
      "\u001b[32m[I 2021-05-06 07:21:03,806]\u001b[0m Trial 38 finished with value: 566.9070226113114 and parameters: {'n_estimators': 1922, 'learning_rate': 0.18915215166852978, 'num_leaves': 323, 'max_depth': 8, 'subsample': 0.6782241471248217}. Best is trial 30 with value: 561.7254531876724.\u001b[0m\n"
     ]
    },
    {
     "name": "stdout",
     "output_type": "stream",
     "text": [
      "Training until validation scores don't improve for 100 rounds\n",
      "[200]\tvalid_0's rmse: 649.157\tvalid_0's l2: 421405\n",
      "[400]\tvalid_0's rmse: 613.398\tvalid_0's l2: 376257\n",
      "[600]\tvalid_0's rmse: 597.122\tvalid_0's l2: 356555\n",
      "[800]\tvalid_0's rmse: 586.676\tvalid_0's l2: 344189\n",
      "[1000]\tvalid_0's rmse: 580.884\tvalid_0's l2: 337427\n",
      "[1200]\tvalid_0's rmse: 575.619\tvalid_0's l2: 331338\n",
      "[1400]\tvalid_0's rmse: 572.038\tvalid_0's l2: 327228\n",
      "[1600]\tvalid_0's rmse: 568.879\tvalid_0's l2: 323623\n",
      "[1800]\tvalid_0's rmse: 566.756\tvalid_0's l2: 321213\n",
      "[2000]\tvalid_0's rmse: 565.522\tvalid_0's l2: 319816\n",
      "[2200]\tvalid_0's rmse: 564.328\tvalid_0's l2: 318466\n",
      "Did not meet early stopping. Best iteration is:\n",
      "[2342]\tvalid_0's rmse: 563.73\tvalid_0's l2: 317792\n"
     ]
    },
    {
     "name": "stderr",
     "output_type": "stream",
     "text": [
      "\u001b[32m[I 2021-05-06 07:22:19,468]\u001b[0m Trial 39 finished with value: 563.7301248436665 and parameters: {'n_estimators': 2342, 'learning_rate': 0.09032227665130586, 'num_leaves': 460, 'max_depth': 8, 'subsample': 0.9614215202213987}. Best is trial 30 with value: 561.7254531876724.\u001b[0m\n"
     ]
    },
    {
     "name": "stdout",
     "output_type": "stream",
     "text": [
      "Training until validation scores don't improve for 100 rounds\n",
      "[200]\tvalid_0's rmse: 598.63\tvalid_0's l2: 358358\n",
      "Early stopping, best iteration is:\n",
      "[285]\tvalid_0's rmse: 595.246\tvalid_0's l2: 354317\n"
     ]
    },
    {
     "name": "stderr",
     "output_type": "stream",
     "text": [
      "\u001b[32m[I 2021-05-06 07:22:36,806]\u001b[0m Trial 40 finished with value: 595.2457428242938 and parameters: {'n_estimators': 2124, 'learning_rate': 0.46754554985838315, 'num_leaves': 425, 'max_depth': 9, 'subsample': 0.7764105752080589}. Best is trial 30 with value: 561.7254531876724.\u001b[0m\n"
     ]
    },
    {
     "name": "stdout",
     "output_type": "stream",
     "text": [
      "Training until validation scores don't improve for 100 rounds\n",
      "[200]\tvalid_0's rmse: 644.78\tvalid_0's l2: 415741\n",
      "[400]\tvalid_0's rmse: 611.756\tvalid_0's l2: 374245\n",
      "[600]\tvalid_0's rmse: 596.2\tvalid_0's l2: 355454\n",
      "[800]\tvalid_0's rmse: 585.164\tvalid_0's l2: 342417\n",
      "[1000]\tvalid_0's rmse: 579.158\tvalid_0's l2: 335424\n",
      "[1200]\tvalid_0's rmse: 573.975\tvalid_0's l2: 329447\n",
      "[1400]\tvalid_0's rmse: 570.319\tvalid_0's l2: 325264\n",
      "[1600]\tvalid_0's rmse: 567.495\tvalid_0's l2: 322050\n",
      "[1800]\tvalid_0's rmse: 565.229\tvalid_0's l2: 319484\n",
      "[2000]\tvalid_0's rmse: 563.584\tvalid_0's l2: 317627\n",
      "Did not meet early stopping. Best iteration is:\n",
      "[2072]\tvalid_0's rmse: 563.036\tvalid_0's l2: 317010\n"
     ]
    },
    {
     "name": "stderr",
     "output_type": "stream",
     "text": [
      "\u001b[32m[I 2021-05-06 07:23:45,175]\u001b[0m Trial 41 finished with value: 563.03620833247 and parameters: {'n_estimators': 2074, 'learning_rate': 0.09301705296726173, 'num_leaves': 332, 'max_depth': 8, 'subsample': 0.9312332325946631}. Best is trial 30 with value: 561.7254531876724.\u001b[0m\n"
     ]
    },
    {
     "name": "stdout",
     "output_type": "stream",
     "text": [
      "Training until validation scores don't improve for 100 rounds\n",
      "[200]\tvalid_0's rmse: 640.491\tvalid_0's l2: 410229\n",
      "[400]\tvalid_0's rmse: 607.092\tvalid_0's l2: 368560\n",
      "[600]\tvalid_0's rmse: 590.49\tvalid_0's l2: 348679\n",
      "[800]\tvalid_0's rmse: 580.607\tvalid_0's l2: 337104\n",
      "[1000]\tvalid_0's rmse: 574.629\tvalid_0's l2: 330198\n",
      "[1200]\tvalid_0's rmse: 570.708\tvalid_0's l2: 325708\n",
      "[1400]\tvalid_0's rmse: 567.047\tvalid_0's l2: 321543\n",
      "[1600]\tvalid_0's rmse: 565.037\tvalid_0's l2: 319267\n",
      "[1800]\tvalid_0's rmse: 563.913\tvalid_0's l2: 317998\n",
      "Did not meet early stopping. Best iteration is:\n",
      "[1858]\tvalid_0's rmse: 563.577\tvalid_0's l2: 317619\n"
     ]
    },
    {
     "name": "stderr",
     "output_type": "stream",
     "text": [
      "\u001b[32m[I 2021-05-06 07:24:45,438]\u001b[0m Trial 42 finished with value: 563.576662906012 and parameters: {'n_estimators': 1858, 'learning_rate': 0.10892721819973393, 'num_leaves': 284, 'max_depth': 8, 'subsample': 0.8767090959263165}. Best is trial 30 with value: 561.7254531876724.\u001b[0m\n"
     ]
    },
    {
     "name": "stdout",
     "output_type": "stream",
     "text": [
      "Training until validation scores don't improve for 100 rounds\n",
      "[200]\tvalid_0's rmse: 673.495\tvalid_0's l2: 453595\n",
      "[400]\tvalid_0's rmse: 636.833\tvalid_0's l2: 405557\n",
      "[600]\tvalid_0's rmse: 618.77\tvalid_0's l2: 382876\n",
      "[800]\tvalid_0's rmse: 605.781\tvalid_0's l2: 366971\n",
      "[1000]\tvalid_0's rmse: 595.367\tvalid_0's l2: 354462\n",
      "[1200]\tvalid_0's rmse: 589.639\tvalid_0's l2: 347674\n",
      "[1400]\tvalid_0's rmse: 583.92\tvalid_0's l2: 340963\n",
      "[1600]\tvalid_0's rmse: 579.032\tvalid_0's l2: 335278\n",
      "[1800]\tvalid_0's rmse: 575.424\tvalid_0's l2: 331113\n",
      "[2000]\tvalid_0's rmse: 573.106\tvalid_0's l2: 328451\n",
      "[2200]\tvalid_0's rmse: 570.721\tvalid_0's l2: 325723\n",
      "[2400]\tvalid_0's rmse: 568.953\tvalid_0's l2: 323708\n",
      "Did not meet early stopping. Best iteration is:\n",
      "[2502]\tvalid_0's rmse: 568.015\tvalid_0's l2: 322641\n"
     ]
    },
    {
     "name": "stderr",
     "output_type": "stream",
     "text": [
      "\u001b[32m[I 2021-05-06 07:26:09,577]\u001b[0m Trial 43 finished with value: 568.0145863315146 and parameters: {'n_estimators': 2502, 'learning_rate': 0.06008620026340828, 'num_leaves': 223, 'max_depth': 8, 'subsample': 0.932035075938463}. Best is trial 30 with value: 561.7254531876724.\u001b[0m\n"
     ]
    },
    {
     "name": "stdout",
     "output_type": "stream",
     "text": [
      "Training until validation scores don't improve for 100 rounds\n",
      "[200]\tvalid_0's rmse: 608.144\tvalid_0's l2: 369840\n",
      "[400]\tvalid_0's rmse: 585.467\tvalid_0's l2: 342772\n",
      "[600]\tvalid_0's rmse: 575.827\tvalid_0's l2: 331577\n",
      "[800]\tvalid_0's rmse: 571.259\tvalid_0's l2: 326337\n",
      "[1000]\tvalid_0's rmse: 569.192\tvalid_0's l2: 323979\n",
      "[1200]\tvalid_0's rmse: 568.064\tvalid_0's l2: 322697\n",
      "Early stopping, best iteration is:\n",
      "[1269]\tvalid_0's rmse: 567.495\tvalid_0's l2: 322050\n"
     ]
    },
    {
     "name": "stderr",
     "output_type": "stream",
     "text": [
      "\u001b[32m[I 2021-05-06 07:26:48,858]\u001b[0m Trial 44 finished with value: 567.4945658013456 and parameters: {'n_estimators': 2197, 'learning_rate': 0.19160943926148122, 'num_leaves': 200, 'max_depth': 9, 'subsample': 0.9657880729507409}. Best is trial 30 with value: 561.7254531876724.\u001b[0m\n"
     ]
    },
    {
     "name": "stdout",
     "output_type": "stream",
     "text": [
      "Training until validation scores don't improve for 100 rounds\n",
      "[200]\tvalid_0's rmse: 607.156\tvalid_0's l2: 368638\n",
      "[400]\tvalid_0's rmse: 584.991\tvalid_0's l2: 342214\n",
      "[600]\tvalid_0's rmse: 577.077\tvalid_0's l2: 333018\n",
      "[800]\tvalid_0's rmse: 574.122\tvalid_0's l2: 329616\n",
      "[1000]\tvalid_0's rmse: 573.144\tvalid_0's l2: 328494\n",
      "Early stopping, best iteration is:\n",
      "[1083]\tvalid_0's rmse: 572.761\tvalid_0's l2: 328055\n"
     ]
    },
    {
     "name": "stderr",
     "output_type": "stream",
     "text": [
      "\u001b[32m[I 2021-05-06 07:27:27,501]\u001b[0m Trial 45 finished with value: 572.7612293611563 and parameters: {'n_estimators': 2028, 'learning_rate': 0.2548323515776717, 'num_leaves': 270, 'max_depth': 8, 'subsample': 0.8179512604360241}. Best is trial 30 with value: 561.7254531876724.\u001b[0m\n"
     ]
    },
    {
     "name": "stdout",
     "output_type": "stream",
     "text": [
      "Training until validation scores don't improve for 100 rounds\n",
      "[200]\tvalid_0's rmse: 616.83\tvalid_0's l2: 380480\n",
      "[400]\tvalid_0's rmse: 587.733\tvalid_0's l2: 345431\n",
      "[600]\tvalid_0's rmse: 576.899\tvalid_0's l2: 332812\n",
      "[800]\tvalid_0's rmse: 570.253\tvalid_0's l2: 325189\n",
      "[1000]\tvalid_0's rmse: 566.54\tvalid_0's l2: 320967\n",
      "[1200]\tvalid_0's rmse: 564.375\tvalid_0's l2: 318519\n",
      "[1400]\tvalid_0's rmse: 563.043\tvalid_0's l2: 317018\n",
      "[1600]\tvalid_0's rmse: 562.674\tvalid_0's l2: 316602\n",
      "Early stopping, best iteration is:\n",
      "[1542]\tvalid_0's rmse: 562.594\tvalid_0's l2: 316513\n"
     ]
    },
    {
     "name": "stderr",
     "output_type": "stream",
     "text": [
      "\u001b[32m[I 2021-05-06 07:28:30,707]\u001b[0m Trial 46 finished with value: 562.5944689290262 and parameters: {'n_estimators': 1668, 'learning_rate': 0.11532990586099995, 'num_leaves': 319, 'max_depth': 9, 'subsample': 0.9017811852089106}. Best is trial 30 with value: 561.7254531876724.\u001b[0m\n"
     ]
    },
    {
     "name": "stdout",
     "output_type": "stream",
     "text": [
      "Training until validation scores don't improve for 100 rounds\n",
      "[200]\tvalid_0's rmse: 842.243\tvalid_0's l2: 709373\n",
      "[400]\tvalid_0's rmse: 723.616\tvalid_0's l2: 523620\n",
      "[600]\tvalid_0's rmse: 677.147\tvalid_0's l2: 458528\n",
      "[800]\tvalid_0's rmse: 655.399\tvalid_0's l2: 429548\n",
      "[1000]\tvalid_0's rmse: 644.21\tvalid_0's l2: 415007\n",
      "[1200]\tvalid_0's rmse: 633.285\tvalid_0's l2: 401049\n",
      "[1400]\tvalid_0's rmse: 625.603\tvalid_0's l2: 391379\n",
      "[1600]\tvalid_0's rmse: 619.096\tvalid_0's l2: 383280\n",
      "Did not meet early stopping. Best iteration is:\n",
      "[1660]\tvalid_0's rmse: 617.858\tvalid_0's l2: 381748\n"
     ]
    },
    {
     "name": "stderr",
     "output_type": "stream",
     "text": [
      "\u001b[32m[I 2021-05-06 07:29:47,217]\u001b[0m Trial 47 finished with value: 617.8579348113348 and parameters: {'n_estimators': 1660, 'learning_rate': 0.013999871436742348, 'num_leaves': 322, 'max_depth': 9, 'subsample': 0.9087768091571491}. Best is trial 30 with value: 561.7254531876724.\u001b[0m\n"
     ]
    },
    {
     "name": "stdout",
     "output_type": "stream",
     "text": [
      "Training until validation scores don't improve for 100 rounds\n",
      "[200]\tvalid_0's rmse: 624.344\tvalid_0's l2: 389805\n",
      "[400]\tvalid_0's rmse: 594.111\tvalid_0's l2: 352968\n",
      "[600]\tvalid_0's rmse: 581.436\tvalid_0's l2: 338068\n",
      "[800]\tvalid_0's rmse: 573.188\tvalid_0's l2: 328545\n",
      "[1000]\tvalid_0's rmse: 568.356\tvalid_0's l2: 323029\n",
      "[1200]\tvalid_0's rmse: 565.49\tvalid_0's l2: 319779\n",
      "[1400]\tvalid_0's rmse: 563.88\tvalid_0's l2: 317961\n",
      "[1600]\tvalid_0's rmse: 562.621\tvalid_0's l2: 316542\n",
      "[1800]\tvalid_0's rmse: 561.667\tvalid_0's l2: 315470\n",
      "Did not meet early stopping. Best iteration is:\n",
      "[1956]\tvalid_0's rmse: 561.325\tvalid_0's l2: 315086\n"
     ]
    },
    {
     "name": "stderr",
     "output_type": "stream",
     "text": [
      "\u001b[32m[I 2021-05-06 07:31:04,576]\u001b[0m Trial 48 finished with value: 561.3250158366255 and parameters: {'n_estimators': 1956, 'learning_rate': 0.095395065983371, 'num_leaves': 311, 'max_depth': 9, 'subsample': 0.883735199352418}. Best is trial 48 with value: 561.3250158366255.\u001b[0m\n"
     ]
    },
    {
     "name": "stdout",
     "output_type": "stream",
     "text": [
      "Training until validation scores don't improve for 100 rounds\n",
      "[200]\tvalid_0's rmse: 678.821\tvalid_0's l2: 460798\n",
      "[400]\tvalid_0's rmse: 640.608\tvalid_0's l2: 410379\n",
      "[600]\tvalid_0's rmse: 622.299\tvalid_0's l2: 387256\n",
      "[800]\tvalid_0's rmse: 610.579\tvalid_0's l2: 372807\n",
      "[1000]\tvalid_0's rmse: 602.264\tvalid_0's l2: 362722\n",
      "[1200]\tvalid_0's rmse: 595.115\tvalid_0's l2: 354162\n",
      "Did not meet early stopping. Best iteration is:\n",
      "[1354]\tvalid_0's rmse: 590.266\tvalid_0's l2: 348414\n"
     ]
    },
    {
     "name": "stderr",
     "output_type": "stream",
     "text": [
      "\u001b[32m[I 2021-05-06 07:31:38,652]\u001b[0m Trial 49 finished with value: 590.2659474072317 and parameters: {'n_estimators': 1354, 'learning_rate': 0.05459435499395274, 'num_leaves': 130, 'max_depth': 9, 'subsample': 0.8881622970670727}. Best is trial 48 with value: 561.3250158366255.\u001b[0m\n"
     ]
    },
    {
     "name": "stdout",
     "output_type": "stream",
     "text": [
      "Training until validation scores don't improve for 100 rounds\n",
      "[200]\tvalid_0's rmse: 590.989\tvalid_0's l2: 349268\n",
      "[400]\tvalid_0's rmse: 576.23\tvalid_0's l2: 332041\n",
      "[600]\tvalid_0's rmse: 571.296\tvalid_0's l2: 326379\n",
      "[800]\tvalid_0's rmse: 570.738\tvalid_0's l2: 325742\n",
      "Early stopping, best iteration is:\n",
      "[800]\tvalid_0's rmse: 570.738\tvalid_0's l2: 325742\n"
     ]
    },
    {
     "name": "stderr",
     "output_type": "stream",
     "text": [
      "\u001b[32m[I 2021-05-06 07:32:15,128]\u001b[0m Trial 50 finished with value: 570.7379730656937 and parameters: {'n_estimators': 1922, 'learning_rate': 0.23181717981041677, 'num_leaves': 355, 'max_depth': 9, 'subsample': 0.8410711864383795}. Best is trial 48 with value: 561.3250158366255.\u001b[0m\n"
     ]
    },
    {
     "name": "stdout",
     "output_type": "stream",
     "text": [
      "Training until validation scores don't improve for 100 rounds\n",
      "[200]\tvalid_0's rmse: 627.154\tvalid_0's l2: 393322\n",
      "[400]\tvalid_0's rmse: 598.17\tvalid_0's l2: 357808\n",
      "[600]\tvalid_0's rmse: 583.125\tvalid_0's l2: 340034\n",
      "[800]\tvalid_0's rmse: 574.851\tvalid_0's l2: 330454\n",
      "[1000]\tvalid_0's rmse: 570.024\tvalid_0's l2: 324927\n",
      "[1200]\tvalid_0's rmse: 566.688\tvalid_0's l2: 321135\n",
      "[1400]\tvalid_0's rmse: 564.334\tvalid_0's l2: 318473\n",
      "[1600]\tvalid_0's rmse: 562.762\tvalid_0's l2: 316701\n",
      "[1800]\tvalid_0's rmse: 562.347\tvalid_0's l2: 316234\n",
      "[2000]\tvalid_0's rmse: 561.915\tvalid_0's l2: 315749\n",
      "[2200]\tvalid_0's rmse: 561.706\tvalid_0's l2: 315514\n",
      "Did not meet early stopping. Best iteration is:\n",
      "[2236]\tvalid_0's rmse: 561.639\tvalid_0's l2: 315438\n"
     ]
    },
    {
     "name": "stderr",
     "output_type": "stream",
     "text": [
      "\u001b[32m[I 2021-05-06 07:33:38,563]\u001b[0m Trial 51 finished with value: 561.6385897488503 and parameters: {'n_estimators': 2277, 'learning_rate': 0.10290091509020861, 'num_leaves': 269, 'max_depth': 9, 'subsample': 0.9419957057191426}. Best is trial 48 with value: 561.3250158366255.\u001b[0m\n"
     ]
    },
    {
     "name": "stdout",
     "output_type": "stream",
     "text": [
      "Training until validation scores don't improve for 100 rounds\n",
      "[200]\tvalid_0's rmse: 616.583\tvalid_0's l2: 380174\n",
      "[400]\tvalid_0's rmse: 589.204\tvalid_0's l2: 347161\n",
      "[600]\tvalid_0's rmse: 576.892\tvalid_0's l2: 332805\n",
      "[800]\tvalid_0's rmse: 570.426\tvalid_0's l2: 325386\n",
      "[1000]\tvalid_0's rmse: 566.437\tvalid_0's l2: 320851\n",
      "[1200]\tvalid_0's rmse: 563.997\tvalid_0's l2: 318092\n",
      "[1400]\tvalid_0's rmse: 563.053\tvalid_0's l2: 317028\n",
      "[1600]\tvalid_0's rmse: 562.194\tvalid_0's l2: 316062\n",
      "[1800]\tvalid_0's rmse: 561.881\tvalid_0's l2: 315710\n",
      "Early stopping, best iteration is:\n",
      "[1844]\tvalid_0's rmse: 561.776\tvalid_0's l2: 315592\n"
     ]
    },
    {
     "name": "stderr",
     "output_type": "stream",
     "text": [
      "\u001b[32m[I 2021-05-06 07:34:44,635]\u001b[0m Trial 52 finished with value: 561.7755902452093 and parameters: {'n_estimators': 2230, 'learning_rate': 0.1255201128159197, 'num_leaves': 255, 'max_depth': 9, 'subsample': 0.8672695459658885}. Best is trial 48 with value: 561.3250158366255.\u001b[0m\n"
     ]
    },
    {
     "name": "stdout",
     "output_type": "stream",
     "text": [
      "Training until validation scores don't improve for 100 rounds\n",
      "[200]\tvalid_0's rmse: 604.641\tvalid_0's l2: 365590\n",
      "[400]\tvalid_0's rmse: 582.253\tvalid_0's l2: 339019\n",
      "[600]\tvalid_0's rmse: 573.089\tvalid_0's l2: 328431\n",
      "[800]\tvalid_0's rmse: 569.222\tvalid_0's l2: 324014\n",
      "[1000]\tvalid_0's rmse: 566.922\tvalid_0's l2: 321400\n",
      "[1200]\tvalid_0's rmse: 566.491\tvalid_0's l2: 320912\n",
      "Early stopping, best iteration is:\n",
      "[1292]\tvalid_0's rmse: 566.274\tvalid_0's l2: 320666\n"
     ]
    },
    {
     "name": "stderr",
     "output_type": "stream",
     "text": [
      "\u001b[32m[I 2021-05-06 07:35:32,368]\u001b[0m Trial 53 finished with value: 566.2735069853038 and parameters: {'n_estimators': 2263, 'learning_rate': 0.17238397299188288, 'num_leaves': 255, 'max_depth': 9, 'subsample': 0.942808530233675}. Best is trial 48 with value: 561.3250158366255.\u001b[0m\n"
     ]
    },
    {
     "name": "stdout",
     "output_type": "stream",
     "text": [
      "Training until validation scores don't improve for 100 rounds\n",
      "[200]\tvalid_0's rmse: 675.963\tvalid_0's l2: 456926\n",
      "[400]\tvalid_0's rmse: 637.046\tvalid_0's l2: 405828\n",
      "[600]\tvalid_0's rmse: 617.054\tvalid_0's l2: 380756\n",
      "[800]\tvalid_0's rmse: 606.399\tvalid_0's l2: 367720\n",
      "[1000]\tvalid_0's rmse: 597.12\tvalid_0's l2: 356552\n",
      "[1200]\tvalid_0's rmse: 590.094\tvalid_0's l2: 348211\n",
      "[1400]\tvalid_0's rmse: 583.769\tvalid_0's l2: 340786\n",
      "[1600]\tvalid_0's rmse: 579.704\tvalid_0's l2: 336056\n",
      "[1800]\tvalid_0's rmse: 576.846\tvalid_0's l2: 332751\n",
      "[2000]\tvalid_0's rmse: 573.859\tvalid_0's l2: 329315\n",
      "[2200]\tvalid_0's rmse: 571.129\tvalid_0's l2: 326189\n",
      "[2400]\tvalid_0's rmse: 568.872\tvalid_0's l2: 323615\n",
      "Did not meet early stopping. Best iteration is:\n",
      "[2459]\tvalid_0's rmse: 568.263\tvalid_0's l2: 322923\n"
     ]
    },
    {
     "name": "stderr",
     "output_type": "stream",
     "text": [
      "\u001b[32m[I 2021-05-06 07:36:49,039]\u001b[0m Trial 54 finished with value: 568.2631966512653 and parameters: {'n_estimators': 2459, 'learning_rate': 0.0477746709520442, 'num_leaves': 206, 'max_depth': 9, 'subsample': 0.874209537472818}. Best is trial 48 with value: 561.3250158366255.\u001b[0m\n"
     ]
    },
    {
     "name": "stdout",
     "output_type": "stream",
     "text": [
      "Training until validation scores don't improve for 100 rounds\n",
      "[200]\tvalid_0's rmse: 631.284\tvalid_0's l2: 398520\n",
      "[400]\tvalid_0's rmse: 602.205\tvalid_0's l2: 362651\n",
      "[600]\tvalid_0's rmse: 587.369\tvalid_0's l2: 345003\n",
      "[800]\tvalid_0's rmse: 579.314\tvalid_0's l2: 335605\n",
      "[1000]\tvalid_0's rmse: 573.575\tvalid_0's l2: 328989\n",
      "[1200]\tvalid_0's rmse: 568.93\tvalid_0's l2: 323681\n",
      "[1400]\tvalid_0's rmse: 566.426\tvalid_0's l2: 320839\n",
      "[1600]\tvalid_0's rmse: 564.337\tvalid_0's l2: 318476\n",
      "[1800]\tvalid_0's rmse: 562.632\tvalid_0's l2: 316555\n",
      "[2000]\tvalid_0's rmse: 561.436\tvalid_0's l2: 315211\n",
      "[2200]\tvalid_0's rmse: 560.519\tvalid_0's l2: 314182\n",
      "Did not meet early stopping. Best iteration is:\n",
      "[2298]\tvalid_0's rmse: 559.926\tvalid_0's l2: 313517\n"
     ]
    },
    {
     "name": "stderr",
     "output_type": "stream",
     "text": [
      "\u001b[32m[I 2021-05-06 07:37:43,106]\u001b[0m Trial 55 finished with value: 559.926070758621 and parameters: {'n_estimators': 2299, 'learning_rate': 0.1189847634824382, 'num_leaves': 151, 'max_depth': 9, 'subsample': 0.7895678994732566}. Best is trial 55 with value: 559.926070758621.\u001b[0m\n"
     ]
    },
    {
     "name": "stdout",
     "output_type": "stream",
     "text": [
      "Training until validation scores don't improve for 100 rounds\n",
      "[200]\tvalid_0's rmse: 608.089\tvalid_0's l2: 369772\n",
      "[400]\tvalid_0's rmse: 585.188\tvalid_0's l2: 342444\n",
      "[600]\tvalid_0's rmse: 576.725\tvalid_0's l2: 332611\n",
      "[800]\tvalid_0's rmse: 573.86\tvalid_0's l2: 329316\n",
      "[1000]\tvalid_0's rmse: 572.058\tvalid_0's l2: 327250\n",
      "[1200]\tvalid_0's rmse: 571.478\tvalid_0's l2: 326587\n",
      "Early stopping, best iteration is:\n",
      "[1245]\tvalid_0's rmse: 571.254\tvalid_0's l2: 326331\n"
     ]
    },
    {
     "name": "stderr",
     "output_type": "stream",
     "text": [
      "\u001b[32m[I 2021-05-06 07:38:14,596]\u001b[0m Trial 56 finished with value: 571.2536827710401 and parameters: {'n_estimators': 2300, 'learning_rate': 0.2617295797866594, 'num_leaves': 155, 'max_depth': 9, 'subsample': 0.8025506631302597}. Best is trial 55 with value: 559.926070758621.\u001b[0m\n"
     ]
    },
    {
     "name": "stdout",
     "output_type": "stream",
     "text": [
      "Training until validation scores don't improve for 100 rounds\n",
      "[200]\tvalid_0's rmse: 649.871\tvalid_0's l2: 422332\n",
      "[400]\tvalid_0's rmse: 621.084\tvalid_0's l2: 385745\n",
      "[600]\tvalid_0's rmse: 603.639\tvalid_0's l2: 364380\n",
      "[800]\tvalid_0's rmse: 593.081\tvalid_0's l2: 351745\n",
      "[1000]\tvalid_0's rmse: 585.703\tvalid_0's l2: 343048\n",
      "[1200]\tvalid_0's rmse: 579.809\tvalid_0's l2: 336178\n",
      "[1400]\tvalid_0's rmse: 575.553\tvalid_0's l2: 331261\n",
      "[1600]\tvalid_0's rmse: 572.615\tvalid_0's l2: 327888\n",
      "[1800]\tvalid_0's rmse: 570.758\tvalid_0's l2: 325765\n",
      "[2000]\tvalid_0's rmse: 568.344\tvalid_0's l2: 323015\n",
      "[2200]\tvalid_0's rmse: 566.342\tvalid_0's l2: 320744\n",
      "[2400]\tvalid_0's rmse: 565.273\tvalid_0's l2: 319533\n",
      "[2600]\tvalid_0's rmse: 564.398\tvalid_0's l2: 318545\n",
      "Did not meet early stopping. Best iteration is:\n",
      "[2641]\tvalid_0's rmse: 564.206\tvalid_0's l2: 318328\n"
     ]
    },
    {
     "name": "stderr",
     "output_type": "stream",
     "text": [
      "\u001b[32m[I 2021-05-06 07:38:55,455]\u001b[0m Trial 57 finished with value: 564.2059047463891 and parameters: {'n_estimators': 2648, 'learning_rate': 0.16044178832433442, 'num_leaves': 68, 'max_depth': 9, 'subsample': 0.8336214020476245}. Best is trial 55 with value: 559.926070758621.\u001b[0m\n"
     ]
    },
    {
     "name": "stdout",
     "output_type": "stream",
     "text": [
      "Training until validation scores don't improve for 100 rounds\n",
      "[200]\tvalid_0's rmse: 599.223\tvalid_0's l2: 359068\n",
      "[400]\tvalid_0's rmse: 580.242\tvalid_0's l2: 336681\n",
      "[600]\tvalid_0's rmse: 572.098\tvalid_0's l2: 327296\n",
      "[800]\tvalid_0's rmse: 569.708\tvalid_0's l2: 324568\n",
      "[1000]\tvalid_0's rmse: 568.461\tvalid_0's l2: 323148\n",
      "Early stopping, best iteration is:\n",
      "[1045]\tvalid_0's rmse: 568.397\tvalid_0's l2: 323075\n"
     ]
    },
    {
     "name": "stderr",
     "output_type": "stream",
     "text": [
      "\u001b[32m[I 2021-05-06 07:39:36,510]\u001b[0m Trial 58 finished with value: 568.3970393174797 and parameters: {'n_estimators': 2377, 'learning_rate': 0.19664497720252583, 'num_leaves': 275, 'max_depth': 9, 'subsample': 0.7407863284107115}. Best is trial 55 with value: 559.926070758621.\u001b[0m\n"
     ]
    },
    {
     "name": "stdout",
     "output_type": "stream",
     "text": [
      "Training until validation scores don't improve for 100 rounds\n",
      "[200]\tvalid_0's rmse: 601.746\tvalid_0's l2: 362099\n",
      "[400]\tvalid_0's rmse: 584.265\tvalid_0's l2: 341366\n",
      "[600]\tvalid_0's rmse: 579.049\tvalid_0's l2: 335298\n",
      "[800]\tvalid_0's rmse: 576.655\tvalid_0's l2: 332532\n",
      "[1000]\tvalid_0's rmse: 576.058\tvalid_0's l2: 331843\n",
      "Early stopping, best iteration is:\n",
      "[933]\tvalid_0's rmse: 575.794\tvalid_0's l2: 331538\n"
     ]
    },
    {
     "name": "stderr",
     "output_type": "stream",
     "text": [
      "\u001b[32m[I 2021-05-06 07:40:03,514]\u001b[0m Trial 59 finished with value: 575.7936175361143 and parameters: {'n_estimators': 1978, 'learning_rate': 0.29400762824284654, 'num_leaves': 175, 'max_depth': 9, 'subsample': 0.7880885798121786}. Best is trial 55 with value: 559.926070758621.\u001b[0m\n"
     ]
    },
    {
     "name": "stdout",
     "output_type": "stream",
     "text": [
      "Training until validation scores don't improve for 100 rounds\n",
      "[200]\tvalid_0's rmse: 944.829\tvalid_0's l2: 892702\n",
      "[400]\tvalid_0's rmse: 758.132\tvalid_0's l2: 574764\n",
      "[600]\tvalid_0's rmse: 705.258\tvalid_0's l2: 497389\n",
      "[800]\tvalid_0's rmse: 674.363\tvalid_0's l2: 454766\n",
      "[1000]\tvalid_0's rmse: 657.341\tvalid_0's l2: 432097\n",
      "[1200]\tvalid_0's rmse: 646.277\tvalid_0's l2: 417673\n",
      "[1400]\tvalid_0's rmse: 639.183\tvalid_0's l2: 408555\n",
      "[1600]\tvalid_0's rmse: 633.073\tvalid_0's l2: 400781\n",
      "[1800]\tvalid_0's rmse: 627.267\tvalid_0's l2: 393463\n",
      "[2000]\tvalid_0's rmse: 622.451\tvalid_0's l2: 387446\n",
      "[2200]\tvalid_0's rmse: 618.09\tvalid_0's l2: 382035\n",
      "[2400]\tvalid_0's rmse: 614.626\tvalid_0's l2: 377765\n",
      "Did not meet early stopping. Best iteration is:\n",
      "[2449]\tvalid_0's rmse: 613.943\tvalid_0's l2: 376926\n"
     ]
    },
    {
     "name": "stderr",
     "output_type": "stream",
     "text": [
      "\u001b[32m[I 2021-05-06 07:41:54,420]\u001b[0m Trial 60 finished with value: 613.9426351985295 and parameters: {'n_estimators': 2449, 'learning_rate': 0.01087025577747261, 'num_leaves': 306, 'max_depth': 9, 'subsample': 0.8119432959098322}. Best is trial 55 with value: 559.926070758621.\u001b[0m\n"
     ]
    },
    {
     "name": "stdout",
     "output_type": "stream",
     "text": [
      "Training until validation scores don't improve for 100 rounds\n",
      "[200]\tvalid_0's rmse: 615.439\tvalid_0's l2: 378765\n",
      "[400]\tvalid_0's rmse: 588.705\tvalid_0's l2: 346573\n",
      "[600]\tvalid_0's rmse: 577.097\tvalid_0's l2: 333041\n",
      "[800]\tvalid_0's rmse: 570.265\tvalid_0's l2: 325202\n",
      "[1000]\tvalid_0's rmse: 566.39\tvalid_0's l2: 320798\n",
      "[1200]\tvalid_0's rmse: 563.283\tvalid_0's l2: 317288\n",
      "[1400]\tvalid_0's rmse: 562.003\tvalid_0's l2: 315847\n",
      "[1600]\tvalid_0's rmse: 561.489\tvalid_0's l2: 315270\n",
      "[1800]\tvalid_0's rmse: 560.897\tvalid_0's l2: 314605\n",
      "Early stopping, best iteration is:\n",
      "[1894]\tvalid_0's rmse: 560.708\tvalid_0's l2: 314393\n"
     ]
    },
    {
     "name": "stderr",
     "output_type": "stream",
     "text": [
      "\u001b[32m[I 2021-05-06 07:43:01,290]\u001b[0m Trial 61 finished with value: 560.7075891460669 and parameters: {'n_estimators': 2163, 'learning_rate': 0.12228208292778622, 'num_leaves': 250, 'max_depth': 9, 'subsample': 0.8566724210745614}. Best is trial 55 with value: 559.926070758621.\u001b[0m\n"
     ]
    },
    {
     "name": "stdout",
     "output_type": "stream",
     "text": [
      "Training until validation scores don't improve for 100 rounds\n",
      "[200]\tvalid_0's rmse: 612.485\tvalid_0's l2: 375138\n",
      "[400]\tvalid_0's rmse: 586.841\tvalid_0's l2: 344383\n",
      "[600]\tvalid_0's rmse: 575.794\tvalid_0's l2: 331538\n",
      "[800]\tvalid_0's rmse: 569.487\tvalid_0's l2: 324315\n",
      "[1000]\tvalid_0's rmse: 566.047\tvalid_0's l2: 320409\n",
      "[1200]\tvalid_0's rmse: 564.152\tvalid_0's l2: 318268\n",
      "[1400]\tvalid_0's rmse: 563.016\tvalid_0's l2: 316987\n",
      "[1600]\tvalid_0's rmse: 562.169\tvalid_0's l2: 316034\n",
      "[1800]\tvalid_0's rmse: 562.018\tvalid_0's l2: 315865\n",
      "Early stopping, best iteration is:\n",
      "[1828]\tvalid_0's rmse: 561.897\tvalid_0's l2: 315728\n"
     ]
    },
    {
     "name": "stderr",
     "output_type": "stream",
     "text": [
      "\u001b[32m[I 2021-05-06 07:44:01,986]\u001b[0m Trial 62 finished with value: 561.8972321024266 and parameters: {'n_estimators': 2280, 'learning_rate': 0.14138406375717721, 'num_leaves': 228, 'max_depth': 9, 'subsample': 0.8697357147650158}. Best is trial 55 with value: 559.926070758621.\u001b[0m\n"
     ]
    },
    {
     "name": "stdout",
     "output_type": "stream",
     "text": [
      "Training until validation scores don't improve for 100 rounds\n",
      "[200]\tvalid_0's rmse: 641.924\tvalid_0's l2: 412066\n",
      "[400]\tvalid_0's rmse: 608.597\tvalid_0's l2: 370390\n",
      "[600]\tvalid_0's rmse: 592.633\tvalid_0's l2: 351214\n",
      "[800]\tvalid_0's rmse: 583.508\tvalid_0's l2: 340481\n",
      "[1000]\tvalid_0's rmse: 577.512\tvalid_0's l2: 333520\n",
      "[1200]\tvalid_0's rmse: 571.945\tvalid_0's l2: 327121\n",
      "[1400]\tvalid_0's rmse: 568.159\tvalid_0's l2: 322805\n",
      "[1600]\tvalid_0's rmse: 565.818\tvalid_0's l2: 320150\n",
      "[1800]\tvalid_0's rmse: 564.18\tvalid_0's l2: 318299\n",
      "[2000]\tvalid_0's rmse: 562.586\tvalid_0's l2: 316503\n",
      "Did not meet early stopping. Best iteration is:\n",
      "[2169]\tvalid_0's rmse: 561.839\tvalid_0's l2: 315663\n"
     ]
    },
    {
     "name": "stderr",
     "output_type": "stream",
     "text": [
      "\u001b[32m[I 2021-05-06 07:45:16,763]\u001b[0m Trial 63 finished with value: 561.8388694987402 and parameters: {'n_estimators': 2171, 'learning_rate': 0.07664241130328239, 'num_leaves': 246, 'max_depth': 9, 'subsample': 0.8544394662423671}. Best is trial 55 with value: 559.926070758621.\u001b[0m\n"
     ]
    },
    {
     "name": "stdout",
     "output_type": "stream",
     "text": [
      "Training until validation scores don't improve for 100 rounds\n",
      "[200]\tvalid_0's rmse: 616.411\tvalid_0's l2: 379962\n",
      "[400]\tvalid_0's rmse: 589.098\tvalid_0's l2: 347037\n",
      "[600]\tvalid_0's rmse: 576.802\tvalid_0's l2: 332701\n",
      "[800]\tvalid_0's rmse: 570.048\tvalid_0's l2: 324955\n",
      "[1000]\tvalid_0's rmse: 566.079\tvalid_0's l2: 320445\n",
      "[1200]\tvalid_0's rmse: 564.512\tvalid_0's l2: 318673\n",
      "[1400]\tvalid_0's rmse: 562.967\tvalid_0's l2: 316932\n",
      "[1600]\tvalid_0's rmse: 562.345\tvalid_0's l2: 316232\n",
      "[1800]\tvalid_0's rmse: 562.214\tvalid_0's l2: 316084\n",
      "Early stopping, best iteration is:\n",
      "[1823]\tvalid_0's rmse: 562.15\tvalid_0's l2: 316012\n"
     ]
    },
    {
     "name": "stderr",
     "output_type": "stream",
     "text": [
      "\u001b[32m[I 2021-05-06 07:46:27,139]\u001b[0m Trial 64 finished with value: 562.1496828097651 and parameters: {'n_estimators': 2103, 'learning_rate': 0.1224667701454705, 'num_leaves': 282, 'max_depth': 9, 'subsample': 0.8557045542377885}. Best is trial 55 with value: 559.926070758621.\u001b[0m\n"
     ]
    },
    {
     "name": "stdout",
     "output_type": "stream",
     "text": [
      "Training until validation scores don't improve for 100 rounds\n",
      "[200]\tvalid_0's rmse: 618.341\tvalid_0's l2: 382346\n",
      "Early stopping, best iteration is:\n",
      "[277]\tvalid_0's rmse: 616.84\tvalid_0's l2: 380492\n"
     ]
    },
    {
     "name": "stderr",
     "output_type": "stream",
     "text": [
      "\u001b[32m[I 2021-05-06 07:46:41,311]\u001b[0m Trial 65 finished with value: 616.8402439523336 and parameters: {'n_estimators': 1854, 'learning_rate': 0.6434146218481548, 'num_leaves': 256, 'max_depth': 9, 'subsample': 0.8316016930298169}. Best is trial 55 with value: 559.926070758621.\u001b[0m\n"
     ]
    },
    {
     "name": "stdout",
     "output_type": "stream",
     "text": [
      "Training until validation scores don't improve for 100 rounds\n",
      "[200]\tvalid_0's rmse: 635.86\tvalid_0's l2: 404319\n",
      "[400]\tvalid_0's rmse: 604.184\tvalid_0's l2: 365038\n",
      "[600]\tvalid_0's rmse: 587.935\tvalid_0's l2: 345667\n",
      "[800]\tvalid_0's rmse: 578.253\tvalid_0's l2: 334377\n",
      "[1000]\tvalid_0's rmse: 572.502\tvalid_0's l2: 327759\n",
      "[1200]\tvalid_0's rmse: 568.318\tvalid_0's l2: 322986\n",
      "[1400]\tvalid_0's rmse: 565.381\tvalid_0's l2: 319656\n",
      "[1600]\tvalid_0's rmse: 563.333\tvalid_0's l2: 317344\n",
      "[1800]\tvalid_0's rmse: 561.578\tvalid_0's l2: 315369\n",
      "[2000]\tvalid_0's rmse: 560.851\tvalid_0's l2: 314554\n",
      "Did not meet early stopping. Best iteration is:\n",
      "[2038]\tvalid_0's rmse: 560.5\tvalid_0's l2: 314160\n"
     ]
    },
    {
     "name": "stderr",
     "output_type": "stream",
     "text": [
      "\u001b[32m[I 2021-05-06 07:47:49,829]\u001b[0m Trial 66 finished with value: 560.4996142688432 and parameters: {'n_estimators': 2038, 'learning_rate': 0.0862785286292645, 'num_leaves': 244, 'max_depth': 9, 'subsample': 0.8495690440020335}. Best is trial 55 with value: 559.926070758621.\u001b[0m\n"
     ]
    },
    {
     "name": "stdout",
     "output_type": "stream",
     "text": [
      "Training until validation scores don't improve for 100 rounds\n",
      "[200]\tvalid_0's rmse: 603.032\tvalid_0's l2: 363647\n",
      "[400]\tvalid_0's rmse: 581.223\tvalid_0's l2: 337820\n",
      "[600]\tvalid_0's rmse: 573.431\tvalid_0's l2: 328824\n",
      "[800]\tvalid_0's rmse: 570.134\tvalid_0's l2: 325053\n",
      "[1000]\tvalid_0's rmse: 568.373\tvalid_0's l2: 323048\n",
      "[1200]\tvalid_0's rmse: 568.063\tvalid_0's l2: 322696\n",
      "Early stopping, best iteration is:\n",
      "[1186]\tvalid_0's rmse: 567.955\tvalid_0's l2: 322572\n"
     ]
    },
    {
     "name": "stderr",
     "output_type": "stream",
     "text": [
      "\u001b[32m[I 2021-05-06 07:48:27,486]\u001b[0m Trial 67 finished with value: 567.9545478542425 and parameters: {'n_estimators': 2035, 'learning_rate': 0.21550649498144148, 'num_leaves': 209, 'max_depth': 9, 'subsample': 0.7958432138451504}. Best is trial 55 with value: 559.926070758621.\u001b[0m\n"
     ]
    },
    {
     "name": "stdout",
     "output_type": "stream",
     "text": [
      "Training until validation scores don't improve for 100 rounds\n",
      "[200]\tvalid_0's rmse: 614.605\tvalid_0's l2: 377740\n",
      "[400]\tvalid_0's rmse: 588.768\tvalid_0's l2: 346648\n",
      "[600]\tvalid_0's rmse: 577.775\tvalid_0's l2: 333824\n",
      "[800]\tvalid_0's rmse: 571.712\tvalid_0's l2: 326855\n",
      "[1000]\tvalid_0's rmse: 567.551\tvalid_0's l2: 322114\n",
      "[1200]\tvalid_0's rmse: 565.366\tvalid_0's l2: 319639\n",
      "[1400]\tvalid_0's rmse: 564.479\tvalid_0's l2: 318637\n",
      "[1600]\tvalid_0's rmse: 563.447\tvalid_0's l2: 317472\n",
      "[1800]\tvalid_0's rmse: 563.19\tvalid_0's l2: 317183\n",
      "Did not meet early stopping. Best iteration is:\n",
      "[1924]\tvalid_0's rmse: 563.031\tvalid_0's l2: 317004\n"
     ]
    },
    {
     "name": "stderr",
     "output_type": "stream",
     "text": [
      "\u001b[32m[I 2021-05-06 07:49:19,860]\u001b[0m Trial 68 finished with value: 563.0314395272226 and parameters: {'n_estimators': 1979, 'learning_rate': 0.16381518152972774, 'num_leaves': 179, 'max_depth': 9, 'subsample': 0.8876869560192023}. Best is trial 55 with value: 559.926070758621.\u001b[0m\n"
     ]
    },
    {
     "name": "stdout",
     "output_type": "stream",
     "text": [
      "Training until validation scores don't improve for 100 rounds\n",
      "[200]\tvalid_0's rmse: 699.66\tvalid_0's l2: 489525\n",
      "[400]\tvalid_0's rmse: 643.181\tvalid_0's l2: 413682\n",
      "[600]\tvalid_0's rmse: 623.943\tvalid_0's l2: 389305\n",
      "[800]\tvalid_0's rmse: 610.52\tvalid_0's l2: 372735\n",
      "[1000]\tvalid_0's rmse: 601.932\tvalid_0's l2: 362322\n",
      "[1200]\tvalid_0's rmse: 595.174\tvalid_0's l2: 354232\n",
      "[1400]\tvalid_0's rmse: 590.176\tvalid_0's l2: 348308\n",
      "[1600]\tvalid_0's rmse: 585.091\tvalid_0's l2: 342332\n",
      "[1800]\tvalid_0's rmse: 581.769\tvalid_0's l2: 338455\n",
      "Did not meet early stopping. Best iteration is:\n",
      "[1800]\tvalid_0's rmse: 581.769\tvalid_0's l2: 338455\n"
     ]
    },
    {
     "name": "stderr",
     "output_type": "stream",
     "text": [
      "\u001b[32m[I 2021-05-06 07:50:35,042]\u001b[0m Trial 69 finished with value: 581.7687968041311 and parameters: {'n_estimators': 1801, 'learning_rate': 0.034240118104249796, 'num_leaves': 307, 'max_depth': 9, 'subsample': 0.8502059601858013}. Best is trial 55 with value: 559.926070758621.\u001b[0m\n"
     ]
    },
    {
     "name": "stdout",
     "output_type": "stream",
     "text": [
      "Training until validation scores don't improve for 100 rounds\n",
      "[200]\tvalid_0's rmse: 637.592\tvalid_0's l2: 406523\n",
      "[400]\tvalid_0's rmse: 606.982\tvalid_0's l2: 368427\n",
      "[600]\tvalid_0's rmse: 592.261\tvalid_0's l2: 350774\n",
      "[800]\tvalid_0's rmse: 583.205\tvalid_0's l2: 340128\n",
      "[1000]\tvalid_0's rmse: 576.21\tvalid_0's l2: 332018\n",
      "[1200]\tvalid_0's rmse: 572.526\tvalid_0's l2: 327786\n",
      "[1400]\tvalid_0's rmse: 568.7\tvalid_0's l2: 323419\n",
      "[1600]\tvalid_0's rmse: 566.13\tvalid_0's l2: 320503\n",
      "[1800]\tvalid_0's rmse: 564.601\tvalid_0's l2: 318774\n",
      "[2000]\tvalid_0's rmse: 563.009\tvalid_0's l2: 316980\n",
      "Did not meet early stopping. Best iteration is:\n",
      "[2150]\tvalid_0's rmse: 561.998\tvalid_0's l2: 315842\n"
     ]
    },
    {
     "name": "stderr",
     "output_type": "stream",
     "text": [
      "\u001b[32m[I 2021-05-06 07:51:19,324]\u001b[0m Trial 70 finished with value: 561.9978208539407 and parameters: {'n_estimators': 2150, 'learning_rate': 0.12780260849754813, 'num_leaves': 124, 'max_depth': 9, 'subsample': 0.7835045759607987}. Best is trial 55 with value: 559.926070758621.\u001b[0m\n"
     ]
    },
    {
     "name": "stdout",
     "output_type": "stream",
     "text": [
      "Training until validation scores don't improve for 100 rounds\n",
      "[200]\tvalid_0's rmse: 634.827\tvalid_0's l2: 403005\n",
      "[400]\tvalid_0's rmse: 604.075\tvalid_0's l2: 364906\n",
      "[600]\tvalid_0's rmse: 588.68\tvalid_0's l2: 346544\n",
      "[800]\tvalid_0's rmse: 579.423\tvalid_0's l2: 335731\n",
      "[1000]\tvalid_0's rmse: 574.038\tvalid_0's l2: 329520\n",
      "[1200]\tvalid_0's rmse: 569.399\tvalid_0's l2: 324216\n",
      "[1400]\tvalid_0's rmse: 566.457\tvalid_0's l2: 320874\n",
      "[1600]\tvalid_0's rmse: 564.158\tvalid_0's l2: 318275\n",
      "[1800]\tvalid_0's rmse: 562.723\tvalid_0's l2: 316658\n",
      "[2000]\tvalid_0's rmse: 561.65\tvalid_0's l2: 315451\n",
      "[2200]\tvalid_0's rmse: 560.764\tvalid_0's l2: 314456\n",
      "Did not meet early stopping. Best iteration is:\n",
      "[2320]\tvalid_0's rmse: 560.499\tvalid_0's l2: 314159\n"
     ]
    },
    {
     "name": "stderr",
     "output_type": "stream",
     "text": [
      "\u001b[32m[I 2021-05-06 07:52:37,571]\u001b[0m Trial 71 finished with value: 560.4993223597669 and parameters: {'n_estimators': 2336, 'learning_rate': 0.08473993622863517, 'num_leaves': 239, 'max_depth': 9, 'subsample': 0.8590860436074051}. Best is trial 55 with value: 559.926070758621.\u001b[0m\n"
     ]
    },
    {
     "name": "stdout",
     "output_type": "stream",
     "text": [
      "Training until validation scores don't improve for 100 rounds\n",
      "[200]\tvalid_0's rmse: 637.765\tvalid_0's l2: 406744\n",
      "[400]\tvalid_0's rmse: 606.863\tvalid_0's l2: 368283\n",
      "[600]\tvalid_0's rmse: 592.135\tvalid_0's l2: 350624\n",
      "[800]\tvalid_0's rmse: 581.776\tvalid_0's l2: 338463\n",
      "[1000]\tvalid_0's rmse: 575.018\tvalid_0's l2: 330646\n",
      "[1200]\tvalid_0's rmse: 570.745\tvalid_0's l2: 325749\n",
      "[1400]\tvalid_0's rmse: 568.07\tvalid_0's l2: 322704\n",
      "[1600]\tvalid_0's rmse: 565.735\tvalid_0's l2: 320056\n",
      "[1800]\tvalid_0's rmse: 563.968\tvalid_0's l2: 318060\n",
      "[2000]\tvalid_0's rmse: 562.801\tvalid_0's l2: 316745\n",
      "[2200]\tvalid_0's rmse: 561.773\tvalid_0's l2: 315589\n",
      "Did not meet early stopping. Best iteration is:\n",
      "[2249]\tvalid_0's rmse: 561.496\tvalid_0's l2: 315278\n"
     ]
    },
    {
     "name": "stderr",
     "output_type": "stream",
     "text": [
      "\u001b[32m[I 2021-05-06 07:53:53,933]\u001b[0m Trial 72 finished with value: 561.4959506882432 and parameters: {'n_estimators': 2255, 'learning_rate': 0.08131420277472523, 'num_leaves': 240, 'max_depth': 9, 'subsample': 0.8935381777458703}. Best is trial 55 with value: 559.926070758621.\u001b[0m\n"
     ]
    },
    {
     "name": "stdout",
     "output_type": "stream",
     "text": [
      "Training until validation scores don't improve for 100 rounds\n",
      "[200]\tvalid_0's rmse: 638.217\tvalid_0's l2: 407321\n",
      "[400]\tvalid_0's rmse: 605.601\tvalid_0's l2: 366753\n",
      "[600]\tvalid_0's rmse: 590.553\tvalid_0's l2: 348753\n",
      "[800]\tvalid_0's rmse: 580.733\tvalid_0's l2: 337251\n",
      "[1000]\tvalid_0's rmse: 573.801\tvalid_0's l2: 329248\n",
      "[1200]\tvalid_0's rmse: 568.665\tvalid_0's l2: 323380\n",
      "[1400]\tvalid_0's rmse: 566.089\tvalid_0's l2: 320456\n",
      "[1600]\tvalid_0's rmse: 564.139\tvalid_0's l2: 318253\n",
      "[1800]\tvalid_0's rmse: 562.808\tvalid_0's l2: 316753\n",
      "[2000]\tvalid_0's rmse: 561.765\tvalid_0's l2: 315580\n",
      "[2200]\tvalid_0's rmse: 560.88\tvalid_0's l2: 314587\n",
      "[2400]\tvalid_0's rmse: 560.269\tvalid_0's l2: 313901\n",
      "Did not meet early stopping. Best iteration is:\n",
      "[2573]\tvalid_0's rmse: 560.035\tvalid_0's l2: 313640\n"
     ]
    },
    {
     "name": "stderr",
     "output_type": "stream",
     "text": [
      "\u001b[32m[I 2021-05-06 07:55:20,393]\u001b[0m Trial 73 finished with value: 560.0354035913318 and parameters: {'n_estimators': 2574, 'learning_rate': 0.08817734164321081, 'num_leaves': 237, 'max_depth': 9, 'subsample': 0.9206208601294577}. Best is trial 55 with value: 559.926070758621.\u001b[0m\n"
     ]
    },
    {
     "name": "stdout",
     "output_type": "stream",
     "text": [
      "Training until validation scores don't improve for 100 rounds\n",
      "[200]\tvalid_0's rmse: 629.839\tvalid_0's l2: 396697\n",
      "[400]\tvalid_0's rmse: 599.957\tvalid_0's l2: 359948\n",
      "[600]\tvalid_0's rmse: 584.674\tvalid_0's l2: 341844\n",
      "[800]\tvalid_0's rmse: 576.379\tvalid_0's l2: 332213\n",
      "[1000]\tvalid_0's rmse: 570.519\tvalid_0's l2: 325492\n",
      "[1200]\tvalid_0's rmse: 566.746\tvalid_0's l2: 321201\n",
      "[1400]\tvalid_0's rmse: 564.327\tvalid_0's l2: 318465\n",
      "[1600]\tvalid_0's rmse: 562.559\tvalid_0's l2: 316472\n",
      "[1800]\tvalid_0's rmse: 561.37\tvalid_0's l2: 315136\n",
      "[2000]\tvalid_0's rmse: 560.612\tvalid_0's l2: 314285\n",
      "[2200]\tvalid_0's rmse: 560.088\tvalid_0's l2: 313698\n",
      "[2400]\tvalid_0's rmse: 559.754\tvalid_0's l2: 313325\n",
      "Early stopping, best iteration is:\n",
      "[2483]\tvalid_0's rmse: 559.649\tvalid_0's l2: 313207\n"
     ]
    },
    {
     "name": "stderr",
     "output_type": "stream",
     "text": [
      "\u001b[32m[I 2021-05-06 07:56:45,541]\u001b[0m Trial 74 finished with value: 559.6492544947287 and parameters: {'n_estimators': 2590, 'learning_rate': 0.09823140324394083, 'num_leaves': 238, 'max_depth': 9, 'subsample': 0.9133061613972607}. Best is trial 74 with value: 559.6492544947287.\u001b[0m\n"
     ]
    },
    {
     "name": "stdout",
     "output_type": "stream",
     "text": [
      "Training until validation scores don't improve for 100 rounds\n",
      "[200]\tvalid_0's rmse: 683.282\tvalid_0's l2: 466874\n",
      "[400]\tvalid_0's rmse: 637.681\tvalid_0's l2: 406637\n",
      "[600]\tvalid_0's rmse: 619.008\tvalid_0's l2: 383171\n",
      "[800]\tvalid_0's rmse: 607.03\tvalid_0's l2: 368485\n",
      "[1000]\tvalid_0's rmse: 598.2\tvalid_0's l2: 357844\n",
      "[1200]\tvalid_0's rmse: 591.165\tvalid_0's l2: 349475\n",
      "[1400]\tvalid_0's rmse: 586.167\tvalid_0's l2: 343591\n",
      "[1600]\tvalid_0's rmse: 582.004\tvalid_0's l2: 338729\n",
      "[1800]\tvalid_0's rmse: 578.099\tvalid_0's l2: 334199\n",
      "[2000]\tvalid_0's rmse: 575.173\tvalid_0's l2: 330824\n",
      "[2200]\tvalid_0's rmse: 572.29\tvalid_0's l2: 327516\n",
      "[2400]\tvalid_0's rmse: 570.156\tvalid_0's l2: 325078\n",
      "[2600]\tvalid_0's rmse: 568.438\tvalid_0's l2: 323122\n",
      "Did not meet early stopping. Best iteration is:\n",
      "[2733]\tvalid_0's rmse: 567.34\tvalid_0's l2: 321875\n"
     ]
    },
    {
     "name": "stderr",
     "output_type": "stream",
     "text": [
      "\u001b[32m[I 2021-05-06 07:58:21,064]\u001b[0m Trial 75 finished with value: 567.3401177914238 and parameters: {'n_estimators': 2733, 'learning_rate': 0.04115019190968307, 'num_leaves': 236, 'max_depth': 9, 'subsample': 0.893425859274158}. Best is trial 74 with value: 559.6492544947287.\u001b[0m\n"
     ]
    },
    {
     "name": "stdout",
     "output_type": "stream",
     "text": [
      "Training until validation scores don't improve for 100 rounds\n",
      "[200]\tvalid_0's rmse: 640.112\tvalid_0's l2: 409743\n",
      "[400]\tvalid_0's rmse: 608.73\tvalid_0's l2: 370553\n",
      "[600]\tvalid_0's rmse: 593.877\tvalid_0's l2: 352690\n",
      "[800]\tvalid_0's rmse: 583.226\tvalid_0's l2: 340153\n",
      "[1000]\tvalid_0's rmse: 576.57\tvalid_0's l2: 332433\n",
      "[1200]\tvalid_0's rmse: 571.624\tvalid_0's l2: 326754\n",
      "[1400]\tvalid_0's rmse: 567.524\tvalid_0's l2: 322084\n",
      "[1600]\tvalid_0's rmse: 565.269\tvalid_0's l2: 319529\n",
      "[1800]\tvalid_0's rmse: 563.543\tvalid_0's l2: 317581\n",
      "[2000]\tvalid_0's rmse: 562.259\tvalid_0's l2: 316135\n",
      "[2200]\tvalid_0's rmse: 561.463\tvalid_0's l2: 315240\n",
      "[2400]\tvalid_0's rmse: 560.664\tvalid_0's l2: 314344\n",
      "[2600]\tvalid_0's rmse: 560.055\tvalid_0's l2: 313661\n",
      "Did not meet early stopping. Best iteration is:\n",
      "[2622]\tvalid_0's rmse: 559.974\tvalid_0's l2: 313571\n"
     ]
    },
    {
     "name": "stderr",
     "output_type": "stream",
     "text": [
      "\u001b[32m[I 2021-05-06 07:59:42,559]\u001b[0m Trial 76 finished with value: 559.9740925875593 and parameters: {'n_estimators': 2656, 'learning_rate': 0.08370197752746755, 'num_leaves': 213, 'max_depth': 9, 'subsample': 0.9220711828976863}. Best is trial 74 with value: 559.6492544947287.\u001b[0m\n"
     ]
    },
    {
     "name": "stdout",
     "output_type": "stream",
     "text": [
      "Training until validation scores don't improve for 100 rounds\n",
      "[200]\tvalid_0's rmse: 634.848\tvalid_0's l2: 403032\n",
      "Early stopping, best iteration is:\n",
      "[277]\tvalid_0's rmse: 633.743\tvalid_0's l2: 401630\n"
     ]
    },
    {
     "name": "stderr",
     "output_type": "stream",
     "text": [
      "\u001b[32m[I 2021-05-06 07:59:54,330]\u001b[0m Trial 77 finished with value: 633.7426673747008 and parameters: {'n_estimators': 2609, 'learning_rate': 0.8016530435861009, 'num_leaves': 192, 'max_depth': 9, 'subsample': 0.9234096909486744}. Best is trial 74 with value: 559.6492544947287.\u001b[0m\n"
     ]
    },
    {
     "name": "stdout",
     "output_type": "stream",
     "text": [
      "Training until validation scores don't improve for 100 rounds\n",
      "[200]\tvalid_0's rmse: 620.03\tvalid_0's l2: 384437\n",
      "[400]\tvalid_0's rmse: 591.994\tvalid_0's l2: 350456\n",
      "[600]\tvalid_0's rmse: 579.255\tvalid_0's l2: 335537\n",
      "[800]\tvalid_0's rmse: 572.898\tvalid_0's l2: 328212\n",
      "[1000]\tvalid_0's rmse: 568.846\tvalid_0's l2: 323586\n",
      "[1200]\tvalid_0's rmse: 566.403\tvalid_0's l2: 320812\n",
      "[1400]\tvalid_0's rmse: 565.192\tvalid_0's l2: 319443\n",
      "[1600]\tvalid_0's rmse: 564.224\tvalid_0's l2: 318349\n",
      "[1800]\tvalid_0's rmse: 563.692\tvalid_0's l2: 317748\n",
      "Early stopping, best iteration is:\n",
      "[1800]\tvalid_0's rmse: 563.692\tvalid_0's l2: 317748\n"
     ]
    },
    {
     "name": "stderr",
     "output_type": "stream",
     "text": [
      "\u001b[32m[I 2021-05-06 08:00:41,685]\u001b[0m Trial 78 finished with value: 563.6916551342081 and parameters: {'n_estimators': 2726, 'learning_rate': 0.1607274284452763, 'num_leaves': 166, 'max_depth': 9, 'subsample': 0.914850383910604}. Best is trial 74 with value: 559.6492544947287.\u001b[0m\n"
     ]
    },
    {
     "name": "stdout",
     "output_type": "stream",
     "text": [
      "Training until validation scores don't improve for 100 rounds\n",
      "[200]\tvalid_0's rmse: 902.836\tvalid_0's l2: 815112\n",
      "[400]\tvalid_0's rmse: 748.385\tvalid_0's l2: 560080\n",
      "[600]\tvalid_0's rmse: 700.162\tvalid_0's l2: 490227\n",
      "[800]\tvalid_0's rmse: 672.678\tvalid_0's l2: 452495\n",
      "[1000]\tvalid_0's rmse: 657.881\tvalid_0's l2: 432807\n",
      "[1200]\tvalid_0's rmse: 648.189\tvalid_0's l2: 420149\n",
      "[1400]\tvalid_0's rmse: 639.683\tvalid_0's l2: 409194\n",
      "[1600]\tvalid_0's rmse: 632.963\tvalid_0's l2: 400642\n",
      "[1800]\tvalid_0's rmse: 627.936\tvalid_0's l2: 394303\n",
      "[2000]\tvalid_0's rmse: 623.071\tvalid_0's l2: 388217\n",
      "[2200]\tvalid_0's rmse: 619.586\tvalid_0's l2: 383886\n",
      "[2400]\tvalid_0's rmse: 615.912\tvalid_0's l2: 379347\n",
      "Did not meet early stopping. Best iteration is:\n",
      "[2551]\tvalid_0's rmse: 613.349\tvalid_0's l2: 376196\n"
     ]
    },
    {
     "name": "stderr",
     "output_type": "stream",
     "text": [
      "\u001b[32m[I 2021-05-06 08:02:16,334]\u001b[0m Trial 79 finished with value: 613.3485356305755 and parameters: {'n_estimators': 2551, 'learning_rate': 0.011970992270984637, 'num_leaves': 215, 'max_depth': 9, 'subsample': 0.9643385841355567}. Best is trial 74 with value: 559.6492544947287.\u001b[0m\n"
     ]
    },
    {
     "name": "stdout",
     "output_type": "stream",
     "text": [
      "Training until validation scores don't improve for 100 rounds\n",
      "[200]\tvalid_0's rmse: 636.621\tvalid_0's l2: 405287\n",
      "[400]\tvalid_0's rmse: 605.697\tvalid_0's l2: 366869\n",
      "[600]\tvalid_0's rmse: 590.876\tvalid_0's l2: 349134\n",
      "[800]\tvalid_0's rmse: 583.188\tvalid_0's l2: 340109\n",
      "[1000]\tvalid_0's rmse: 576.706\tvalid_0's l2: 332590\n",
      "[1200]\tvalid_0's rmse: 572.328\tvalid_0's l2: 327559\n",
      "[1400]\tvalid_0's rmse: 568.713\tvalid_0's l2: 323435\n",
      "[1600]\tvalid_0's rmse: 565.841\tvalid_0's l2: 320176\n",
      "[1800]\tvalid_0's rmse: 563.966\tvalid_0's l2: 318057\n",
      "[2000]\tvalid_0's rmse: 562.639\tvalid_0's l2: 316563\n",
      "[2200]\tvalid_0's rmse: 561.685\tvalid_0's l2: 315489\n",
      "[2400]\tvalid_0's rmse: 560.605\tvalid_0's l2: 314278\n",
      "Did not meet early stopping. Best iteration is:\n",
      "[2425]\tvalid_0's rmse: 560.514\tvalid_0's l2: 314176\n"
     ]
    },
    {
     "name": "stderr",
     "output_type": "stream",
     "text": [
      "\u001b[32m[I 2021-05-06 08:03:27,630]\u001b[0m Trial 80 finished with value: 560.514085989478 and parameters: {'n_estimators': 2443, 'learning_rate': 0.09126631600833579, 'num_leaves': 193, 'max_depth': 9, 'subsample': 0.9180263129355584}. Best is trial 74 with value: 559.6492544947287.\u001b[0m\n"
     ]
    },
    {
     "name": "stdout",
     "output_type": "stream",
     "text": [
      "Training until validation scores don't improve for 100 rounds\n",
      "[200]\tvalid_0's rmse: 643.755\tvalid_0's l2: 414420\n",
      "[400]\tvalid_0's rmse: 613.058\tvalid_0's l2: 375840\n",
      "[600]\tvalid_0's rmse: 598.486\tvalid_0's l2: 358186\n",
      "[800]\tvalid_0's rmse: 588.415\tvalid_0's l2: 346232\n",
      "[1000]\tvalid_0's rmse: 580.698\tvalid_0's l2: 337210\n",
      "[1200]\tvalid_0's rmse: 575.331\tvalid_0's l2: 331006\n",
      "[1400]\tvalid_0's rmse: 571.829\tvalid_0's l2: 326988\n",
      "[1600]\tvalid_0's rmse: 569.023\tvalid_0's l2: 323787\n",
      "[1800]\tvalid_0's rmse: 566.725\tvalid_0's l2: 321177\n",
      "[2000]\tvalid_0's rmse: 564.631\tvalid_0's l2: 318809\n",
      "[2200]\tvalid_0's rmse: 563.304\tvalid_0's l2: 317311\n",
      "[2400]\tvalid_0's rmse: 562.377\tvalid_0's l2: 316268\n",
      "Did not meet early stopping. Best iteration is:\n",
      "[2499]\tvalid_0's rmse: 562.05\tvalid_0's l2: 315901\n"
     ]
    },
    {
     "name": "stderr",
     "output_type": "stream",
     "text": [
      "\u001b[32m[I 2021-05-06 08:04:29,785]\u001b[0m Trial 81 finished with value: 562.0504766092135 and parameters: {'n_estimators': 2503, 'learning_rate': 0.08573691450509695, 'num_leaves': 161, 'max_depth': 9, 'subsample': 0.9160705741734781}. Best is trial 74 with value: 559.6492544947287.\u001b[0m\n"
     ]
    },
    {
     "name": "stdout",
     "output_type": "stream",
     "text": [
      "Training until validation scores don't improve for 100 rounds\n",
      "[200]\tvalid_0's rmse: 712.221\tvalid_0's l2: 507258\n",
      "[400]\tvalid_0's rmse: 654.916\tvalid_0's l2: 428914\n",
      "[600]\tvalid_0's rmse: 633.12\tvalid_0's l2: 400841\n",
      "[800]\tvalid_0's rmse: 620.419\tvalid_0's l2: 384920\n",
      "[1000]\tvalid_0's rmse: 611.279\tvalid_0's l2: 373662\n",
      "[1200]\tvalid_0's rmse: 604.646\tvalid_0's l2: 365597\n",
      "[1400]\tvalid_0's rmse: 598.604\tvalid_0's l2: 358327\n",
      "[1600]\tvalid_0's rmse: 593.76\tvalid_0's l2: 352551\n",
      "[1800]\tvalid_0's rmse: 588.897\tvalid_0's l2: 346799\n",
      "[2000]\tvalid_0's rmse: 585.45\tvalid_0's l2: 342752\n",
      "[2200]\tvalid_0's rmse: 582.583\tvalid_0's l2: 339402\n",
      "Did not meet early stopping. Best iteration is:\n",
      "[2341]\tvalid_0's rmse: 580.261\tvalid_0's l2: 336703\n"
     ]
    },
    {
     "name": "stderr",
     "output_type": "stream",
     "text": [
      "\u001b[32m[I 2021-05-06 08:05:43,226]\u001b[0m Trial 82 finished with value: 580.2608515628041 and parameters: {'n_estimators': 2341, 'learning_rate': 0.03266368990692251, 'num_leaves': 194, 'max_depth': 9, 'subsample': 0.9743332616519045}. Best is trial 74 with value: 559.6492544947287.\u001b[0m\n"
     ]
    },
    {
     "name": "stdout",
     "output_type": "stream",
     "text": [
      "Training until validation scores don't improve for 100 rounds\n",
      "[200]\tvalid_0's rmse: 615.137\tvalid_0's l2: 378393\n",
      "[400]\tvalid_0's rmse: 588.874\tvalid_0's l2: 346772\n",
      "[600]\tvalid_0's rmse: 576.933\tvalid_0's l2: 332852\n",
      "[800]\tvalid_0's rmse: 570.767\tvalid_0's l2: 325776\n",
      "[1000]\tvalid_0's rmse: 566.727\tvalid_0's l2: 321180\n",
      "[1200]\tvalid_0's rmse: 564.669\tvalid_0's l2: 318851\n",
      "[1400]\tvalid_0's rmse: 563.563\tvalid_0's l2: 317603\n",
      "[1600]\tvalid_0's rmse: 562.571\tvalid_0's l2: 316486\n",
      "Early stopping, best iteration is:\n",
      "[1635]\tvalid_0's rmse: 562.355\tvalid_0's l2: 316243\n"
     ]
    },
    {
     "name": "stderr",
     "output_type": "stream",
     "text": [
      "\u001b[32m[I 2021-05-06 08:06:37,862]\u001b[0m Trial 83 finished with value: 562.3550317771695 and parameters: {'n_estimators': 2455, 'learning_rate': 0.1425844987807088, 'num_leaves': 223, 'max_depth': 9, 'subsample': 0.8833369040036622}. Best is trial 74 with value: 559.6492544947287.\u001b[0m\n"
     ]
    },
    {
     "name": "stdout",
     "output_type": "stream",
     "text": [
      "Training until validation scores don't improve for 100 rounds\n",
      "[200]\tvalid_0's rmse: 639.61\tvalid_0's l2: 409100\n",
      "[400]\tvalid_0's rmse: 609.167\tvalid_0's l2: 371084\n",
      "[600]\tvalid_0's rmse: 594.086\tvalid_0's l2: 352938\n",
      "[800]\tvalid_0's rmse: 584.314\tvalid_0's l2: 341422\n",
      "[1000]\tvalid_0's rmse: 577.883\tvalid_0's l2: 333949\n",
      "[1200]\tvalid_0's rmse: 572.83\tvalid_0's l2: 328134\n",
      "[1400]\tvalid_0's rmse: 569.564\tvalid_0's l2: 324404\n",
      "[1600]\tvalid_0's rmse: 566.961\tvalid_0's l2: 321445\n",
      "[1800]\tvalid_0's rmse: 565.234\tvalid_0's l2: 319489\n",
      "[2000]\tvalid_0's rmse: 563.805\tvalid_0's l2: 317876\n",
      "[2200]\tvalid_0's rmse: 562.354\tvalid_0's l2: 316242\n",
      "[2400]\tvalid_0's rmse: 561.302\tvalid_0's l2: 315060\n",
      "Did not meet early stopping. Best iteration is:\n",
      "[2570]\tvalid_0's rmse: 560.276\tvalid_0's l2: 313909\n"
     ]
    },
    {
     "name": "stderr",
     "output_type": "stream",
     "text": [
      "\u001b[32m[I 2021-05-06 08:07:38,225]\u001b[0m Trial 84 finished with value: 560.2757609843288 and parameters: {'n_estimators': 2570, 'learning_rate': 0.10241279361192941, 'num_leaves': 151, 'max_depth': 9, 'subsample': 0.9035573317298746}. Best is trial 74 with value: 559.6492544947287.\u001b[0m\n"
     ]
    },
    {
     "name": "stdout",
     "output_type": "stream",
     "text": [
      "Training until validation scores don't improve for 100 rounds\n",
      "[200]\tvalid_0's rmse: 617.226\tvalid_0's l2: 380968\n",
      "[400]\tvalid_0's rmse: 592.432\tvalid_0's l2: 350976\n",
      "[600]\tvalid_0's rmse: 579.289\tvalid_0's l2: 335576\n",
      "[800]\tvalid_0's rmse: 573.937\tvalid_0's l2: 329404\n",
      "[1000]\tvalid_0's rmse: 570.162\tvalid_0's l2: 325085\n",
      "[1200]\tvalid_0's rmse: 568.204\tvalid_0's l2: 322856\n",
      "[1400]\tvalid_0's rmse: 566.93\tvalid_0's l2: 321410\n",
      "[1600]\tvalid_0's rmse: 565.943\tvalid_0's l2: 320291\n",
      "[1800]\tvalid_0's rmse: 565.51\tvalid_0's l2: 319802\n",
      "Early stopping, best iteration is:\n",
      "[1821]\tvalid_0's rmse: 565.407\tvalid_0's l2: 319685\n"
     ]
    },
    {
     "name": "stderr",
     "output_type": "stream",
     "text": [
      "\u001b[32m[I 2021-05-06 08:08:22,909]\u001b[0m Trial 85 finished with value: 565.407070456382 and parameters: {'n_estimators': 2591, 'learning_rate': 0.18878313067921879, 'num_leaves': 151, 'max_depth': 9, 'subsample': 0.9051859077942278}. Best is trial 74 with value: 559.6492544947287.\u001b[0m\n"
     ]
    },
    {
     "name": "stdout",
     "output_type": "stream",
     "text": [
      "Training until validation scores don't improve for 100 rounds\n",
      "[200]\tvalid_0's rmse: 661.548\tvalid_0's l2: 437646\n",
      "[400]\tvalid_0's rmse: 629.394\tvalid_0's l2: 396137\n",
      "[600]\tvalid_0's rmse: 611.914\tvalid_0's l2: 374439\n",
      "[800]\tvalid_0's rmse: 601.165\tvalid_0's l2: 361400\n",
      "[1000]\tvalid_0's rmse: 592.184\tvalid_0's l2: 350682\n",
      "[1200]\tvalid_0's rmse: 586.507\tvalid_0's l2: 343990\n",
      "[1400]\tvalid_0's rmse: 581.819\tvalid_0's l2: 338513\n",
      "[1600]\tvalid_0's rmse: 577.037\tvalid_0's l2: 332972\n",
      "[1800]\tvalid_0's rmse: 573.705\tvalid_0's l2: 329137\n",
      "[2000]\tvalid_0's rmse: 571.25\tvalid_0's l2: 326326\n",
      "[2200]\tvalid_0's rmse: 568.365\tvalid_0's l2: 323038\n",
      "[2400]\tvalid_0's rmse: 566.64\tvalid_0's l2: 321081\n",
      "[2600]\tvalid_0's rmse: 565.014\tvalid_0's l2: 319241\n",
      "Did not meet early stopping. Best iteration is:\n",
      "[2665]\tvalid_0's rmse: 564.403\tvalid_0's l2: 318550\n"
     ]
    },
    {
     "name": "stderr",
     "output_type": "stream",
     "text": [
      "\u001b[32m[I 2021-05-06 08:09:26,076]\u001b[0m Trial 86 finished with value: 564.4025596493389 and parameters: {'n_estimators': 2665, 'learning_rate': 0.06756917495218612, 'num_leaves': 142, 'max_depth': 9, 'subsample': 0.9234700630809229}. Best is trial 74 with value: 559.6492544947287.\u001b[0m\n"
     ]
    },
    {
     "name": "stdout",
     "output_type": "stream",
     "text": [
      "Training until validation scores don't improve for 100 rounds\n",
      "[200]\tvalid_0's rmse: 644.665\tvalid_0's l2: 415593\n",
      "[400]\tvalid_0's rmse: 615.056\tvalid_0's l2: 378294\n",
      "[600]\tvalid_0's rmse: 599.984\tvalid_0's l2: 359981\n",
      "[800]\tvalid_0's rmse: 589.833\tvalid_0's l2: 347904\n",
      "[1000]\tvalid_0's rmse: 583.033\tvalid_0's l2: 339927\n",
      "[1200]\tvalid_0's rmse: 577.391\tvalid_0's l2: 333380\n",
      "[1400]\tvalid_0's rmse: 573.344\tvalid_0's l2: 328723\n",
      "[1600]\tvalid_0's rmse: 570.639\tvalid_0's l2: 325629\n",
      "[1800]\tvalid_0's rmse: 567.871\tvalid_0's l2: 322477\n",
      "[2000]\tvalid_0's rmse: 565.859\tvalid_0's l2: 320197\n",
      "[2200]\tvalid_0's rmse: 564.24\tvalid_0's l2: 318366\n",
      "[2400]\tvalid_0's rmse: 563.218\tvalid_0's l2: 317214\n",
      "[2600]\tvalid_0's rmse: 561.893\tvalid_0's l2: 315724\n",
      "Did not meet early stopping. Best iteration is:\n",
      "[2729]\tvalid_0's rmse: 561.228\tvalid_0's l2: 314977\n"
     ]
    },
    {
     "name": "stderr",
     "output_type": "stream",
     "text": [
      "\u001b[32m[I 2021-05-06 08:10:18,877]\u001b[0m Trial 87 finished with value: 561.2283251192302 and parameters: {'n_estimators': 2731, 'learning_rate': 0.11320866033331842, 'num_leaves': 109, 'max_depth': 9, 'subsample': 0.9505255494058067}. Best is trial 74 with value: 559.6492544947287.\u001b[0m\n"
     ]
    },
    {
     "name": "stdout",
     "output_type": "stream",
     "text": [
      "Training until validation scores don't improve for 100 rounds\n",
      "[200]\tvalid_0's rmse: 729.201\tvalid_0's l2: 531733\n",
      "[400]\tvalid_0's rmse: 667.923\tvalid_0's l2: 446122\n",
      "[600]\tvalid_0's rmse: 645.972\tvalid_0's l2: 417280\n",
      "[800]\tvalid_0's rmse: 632.914\tvalid_0's l2: 400581\n",
      "[1000]\tvalid_0's rmse: 623.738\tvalid_0's l2: 389049\n",
      "[1200]\tvalid_0's rmse: 616.149\tvalid_0's l2: 379639\n",
      "[1400]\tvalid_0's rmse: 610.752\tvalid_0's l2: 373018\n",
      "[1600]\tvalid_0's rmse: 605.453\tvalid_0's l2: 366574\n",
      "[1800]\tvalid_0's rmse: 601.307\tvalid_0's l2: 361571\n",
      "[2000]\tvalid_0's rmse: 597.177\tvalid_0's l2: 356620\n",
      "[2200]\tvalid_0's rmse: 593.289\tvalid_0's l2: 351991\n",
      "[2400]\tvalid_0's rmse: 589.811\tvalid_0's l2: 347878\n",
      "Did not meet early stopping. Best iteration is:\n",
      "[2550]\tvalid_0's rmse: 587.299\tvalid_0's l2: 344920\n"
     ]
    },
    {
     "name": "stderr",
     "output_type": "stream",
     "text": [
      "\u001b[32m[I 2021-05-06 08:11:40,044]\u001b[0m Trial 88 finished with value: 587.2988699745242 and parameters: {'n_estimators': 2550, 'learning_rate': 0.03316626749000213, 'num_leaves': 172, 'max_depth': 8, 'subsample': 0.8646510163324227}. Best is trial 74 with value: 559.6492544947287.\u001b[0m\n"
     ]
    },
    {
     "name": "stdout",
     "output_type": "stream",
     "text": [
      "Training until validation scores don't improve for 100 rounds\n",
      "[200]\tvalid_0's rmse: 604.829\tvalid_0's l2: 365818\n",
      "[400]\tvalid_0's rmse: 584.426\tvalid_0's l2: 341553\n",
      "[600]\tvalid_0's rmse: 575.977\tvalid_0's l2: 331749\n",
      "[800]\tvalid_0's rmse: 572.025\tvalid_0's l2: 327212\n",
      "[1000]\tvalid_0's rmse: 571.026\tvalid_0's l2: 326071\n",
      "[1200]\tvalid_0's rmse: 569.987\tvalid_0's l2: 324885\n",
      "[1400]\tvalid_0's rmse: 569.826\tvalid_0's l2: 324702\n",
      "Early stopping, best iteration is:\n",
      "[1303]\tvalid_0's rmse: 569.637\tvalid_0's l2: 324487\n"
     ]
    },
    {
     "name": "stderr",
     "output_type": "stream",
     "text": [
      "\u001b[32m[I 2021-05-06 08:12:17,879]\u001b[0m Trial 89 finished with value: 569.6372807904703 and parameters: {'n_estimators': 2422, 'learning_rate': 0.22522025843201798, 'num_leaves': 186, 'max_depth': 9, 'subsample': 0.828537239334242}. Best is trial 74 with value: 559.6492544947287.\u001b[0m\n"
     ]
    },
    {
     "name": "stdout",
     "output_type": "stream",
     "text": [
      "Training until validation scores don't improve for 100 rounds\n",
      "[200]\tvalid_0's rmse: 615.238\tvalid_0's l2: 378518\n",
      "[400]\tvalid_0's rmse: 587.476\tvalid_0's l2: 345128\n",
      "[600]\tvalid_0's rmse: 576.463\tvalid_0's l2: 332310\n",
      "[800]\tvalid_0's rmse: 570.318\tvalid_0's l2: 325262\n",
      "[1000]\tvalid_0's rmse: 566.542\tvalid_0's l2: 320970\n",
      "[1200]\tvalid_0's rmse: 564.699\tvalid_0's l2: 318885\n",
      "[1400]\tvalid_0's rmse: 563.461\tvalid_0's l2: 317489\n",
      "[1600]\tvalid_0's rmse: 562.614\tvalid_0's l2: 316535\n",
      "Early stopping, best iteration is:\n",
      "[1698]\tvalid_0's rmse: 562.496\tvalid_0's l2: 316402\n"
     ]
    },
    {
     "name": "stderr",
     "output_type": "stream",
     "text": [
      "\u001b[32m[I 2021-05-06 08:13:14,084]\u001b[0m Trial 90 finished with value: 562.4959663534279 and parameters: {'n_estimators': 2878, 'learning_rate': 0.13959354709138996, 'num_leaves': 218, 'max_depth': 9, 'subsample': 0.8421803103912657}. Best is trial 74 with value: 559.6492544947287.\u001b[0m\n"
     ]
    },
    {
     "name": "stdout",
     "output_type": "stream",
     "text": [
      "Training until validation scores don't improve for 100 rounds\n",
      "[200]\tvalid_0's rmse: 641.343\tvalid_0's l2: 411321\n",
      "[400]\tvalid_0's rmse: 613.501\tvalid_0's l2: 376383\n",
      "[600]\tvalid_0's rmse: 597.578\tvalid_0's l2: 357100\n",
      "[800]\tvalid_0's rmse: 588.175\tvalid_0's l2: 345950\n",
      "[1000]\tvalid_0's rmse: 581.696\tvalid_0's l2: 338370\n",
      "[1200]\tvalid_0's rmse: 577.427\tvalid_0's l2: 333421\n",
      "[1400]\tvalid_0's rmse: 573.453\tvalid_0's l2: 328848\n",
      "[1600]\tvalid_0's rmse: 570.191\tvalid_0's l2: 325118\n",
      "[1800]\tvalid_0's rmse: 567.65\tvalid_0's l2: 322226\n",
      "[2000]\tvalid_0's rmse: 565.617\tvalid_0's l2: 319923\n",
      "[2200]\tvalid_0's rmse: 564.023\tvalid_0's l2: 318122\n",
      "[2400]\tvalid_0's rmse: 562.56\tvalid_0's l2: 316474\n",
      "[2600]\tvalid_0's rmse: 561.313\tvalid_0's l2: 315073\n",
      "Did not meet early stopping. Best iteration is:\n",
      "[2729]\tvalid_0's rmse: 560.575\tvalid_0's l2: 314245\n"
     ]
    },
    {
     "name": "stderr",
     "output_type": "stream",
     "text": [
      "\u001b[32m[I 2021-05-06 08:14:09,140]\u001b[0m Trial 91 finished with value: 560.5753015734314 and parameters: {'n_estimators': 2729, 'learning_rate': 0.1101222629597225, 'num_leaves': 118, 'max_depth': 9, 'subsample': 0.9523957643964294}. Best is trial 74 with value: 559.6492544947287.\u001b[0m\n"
     ]
    },
    {
     "name": "stdout",
     "output_type": "stream",
     "text": [
      "Training until validation scores don't improve for 100 rounds\n",
      "[200]\tvalid_0's rmse: 667.196\tvalid_0's l2: 445150\n",
      "[400]\tvalid_0's rmse: 632.47\tvalid_0's l2: 400018\n",
      "[600]\tvalid_0's rmse: 615.094\tvalid_0's l2: 378340\n",
      "[800]\tvalid_0's rmse: 603.411\tvalid_0's l2: 364105\n",
      "[1000]\tvalid_0's rmse: 595.928\tvalid_0's l2: 355130\n",
      "[1200]\tvalid_0's rmse: 589.587\tvalid_0's l2: 347613\n",
      "[1400]\tvalid_0's rmse: 583.218\tvalid_0's l2: 340143\n",
      "[1600]\tvalid_0's rmse: 579.253\tvalid_0's l2: 335534\n",
      "[1800]\tvalid_0's rmse: 576.457\tvalid_0's l2: 332303\n",
      "[2000]\tvalid_0's rmse: 574.028\tvalid_0's l2: 329508\n",
      "[2200]\tvalid_0's rmse: 571.35\tvalid_0's l2: 326440\n",
      "[2400]\tvalid_0's rmse: 569.656\tvalid_0's l2: 324508\n",
      "[2600]\tvalid_0's rmse: 567.799\tvalid_0's l2: 322396\n",
      "Did not meet early stopping. Best iteration is:\n",
      "[2768]\tvalid_0's rmse: 566.179\tvalid_0's l2: 320559\n"
     ]
    },
    {
     "name": "stderr",
     "output_type": "stream",
     "text": [
      "\u001b[32m[I 2021-05-06 08:15:05,227]\u001b[0m Trial 92 finished with value: 566.1789831872727 and parameters: {'n_estimators': 2772, 'learning_rate': 0.07662086820132456, 'num_leaves': 108, 'max_depth': 9, 'subsample': 0.9776264456803275}. Best is trial 74 with value: 559.6492544947287.\u001b[0m\n"
     ]
    },
    {
     "name": "stdout",
     "output_type": "stream",
     "text": [
      "Training until validation scores don't improve for 100 rounds\n",
      "[200]\tvalid_0's rmse: 643.235\tvalid_0's l2: 413752\n",
      "[400]\tvalid_0's rmse: 611.906\tvalid_0's l2: 374429\n",
      "[600]\tvalid_0's rmse: 596.638\tvalid_0's l2: 355976\n",
      "[800]\tvalid_0's rmse: 587.573\tvalid_0's l2: 345242\n",
      "[1000]\tvalid_0's rmse: 580.463\tvalid_0's l2: 336938\n",
      "[1200]\tvalid_0's rmse: 574.567\tvalid_0's l2: 330127\n",
      "[1400]\tvalid_0's rmse: 570.889\tvalid_0's l2: 325914\n",
      "[1600]\tvalid_0's rmse: 568.062\tvalid_0's l2: 322694\n",
      "[1800]\tvalid_0's rmse: 565.431\tvalid_0's l2: 319713\n",
      "[2000]\tvalid_0's rmse: 563.876\tvalid_0's l2: 317956\n",
      "[2200]\tvalid_0's rmse: 562.406\tvalid_0's l2: 316300\n",
      "[2400]\tvalid_0's rmse: 560.89\tvalid_0's l2: 314597\n",
      "[2600]\tvalid_0's rmse: 559.999\tvalid_0's l2: 313598\n",
      "Did not meet early stopping. Best iteration is:\n",
      "[2633]\tvalid_0's rmse: 559.903\tvalid_0's l2: 313491\n"
     ]
    },
    {
     "name": "stderr",
     "output_type": "stream",
     "text": [
      "\u001b[32m[I 2021-05-06 08:16:04,277]\u001b[0m Trial 93 finished with value: 559.9028016546442 and parameters: {'n_estimators': 2634, 'learning_rate': 0.09985886072534887, 'num_leaves': 139, 'max_depth': 9, 'subsample': 0.9534387666479172}. Best is trial 74 with value: 559.6492544947287.\u001b[0m\n"
     ]
    },
    {
     "name": "stdout",
     "output_type": "stream",
     "text": [
      "Training until validation scores don't improve for 100 rounds\n",
      "[200]\tvalid_0's rmse: 676.248\tvalid_0's l2: 457311\n",
      "[400]\tvalid_0's rmse: 637.703\tvalid_0's l2: 406665\n",
      "[600]\tvalid_0's rmse: 620.129\tvalid_0's l2: 384560\n",
      "[800]\tvalid_0's rmse: 608.954\tvalid_0's l2: 370825\n",
      "[1000]\tvalid_0's rmse: 600.995\tvalid_0's l2: 361195\n",
      "[1200]\tvalid_0's rmse: 593.593\tvalid_0's l2: 352352\n",
      "[1400]\tvalid_0's rmse: 587.647\tvalid_0's l2: 345329\n",
      "[1600]\tvalid_0's rmse: 583.151\tvalid_0's l2: 340065\n",
      "[1800]\tvalid_0's rmse: 579.67\tvalid_0's l2: 336017\n",
      "[2000]\tvalid_0's rmse: 576.701\tvalid_0's l2: 332584\n",
      "[2200]\tvalid_0's rmse: 574.023\tvalid_0's l2: 329502\n",
      "[2400]\tvalid_0's rmse: 571.628\tvalid_0's l2: 326758\n",
      "[2600]\tvalid_0's rmse: 570.158\tvalid_0's l2: 325080\n",
      "[2800]\tvalid_0's rmse: 568.57\tvalid_0's l2: 323272\n",
      "Did not meet early stopping. Best iteration is:\n",
      "[2885]\tvalid_0's rmse: 567.604\tvalid_0's l2: 322174\n"
     ]
    },
    {
     "name": "stderr",
     "output_type": "stream",
     "text": [
      "\u001b[32m[I 2021-05-06 08:17:11,013]\u001b[0m Trial 94 finished with value: 567.6041643652878 and parameters: {'n_estimators': 2885, 'learning_rate': 0.05596758385893191, 'num_leaves': 132, 'max_depth': 9, 'subsample': 0.9537684936983061}. Best is trial 74 with value: 559.6492544947287.\u001b[0m\n"
     ]
    },
    {
     "name": "stdout",
     "output_type": "stream",
     "text": [
      "Training until validation scores don't improve for 100 rounds\n",
      "[200]\tvalid_0's rmse: 665.488\tvalid_0's l2: 442874\n",
      "[400]\tvalid_0's rmse: 631.341\tvalid_0's l2: 398591\n",
      "[600]\tvalid_0's rmse: 615.892\tvalid_0's l2: 379323\n",
      "[800]\tvalid_0's rmse: 605.455\tvalid_0's l2: 366576\n",
      "[1000]\tvalid_0's rmse: 597.234\tvalid_0's l2: 356688\n",
      "[1200]\tvalid_0's rmse: 589.858\tvalid_0's l2: 347932\n",
      "[1400]\tvalid_0's rmse: 585.204\tvalid_0's l2: 342464\n",
      "[1600]\tvalid_0's rmse: 581.035\tvalid_0's l2: 337602\n",
      "[1800]\tvalid_0's rmse: 577.269\tvalid_0's l2: 333239\n",
      "[2000]\tvalid_0's rmse: 574.133\tvalid_0's l2: 329629\n",
      "[2200]\tvalid_0's rmse: 571.64\tvalid_0's l2: 326772\n",
      "[2400]\tvalid_0's rmse: 569.22\tvalid_0's l2: 324012\n",
      "[2600]\tvalid_0's rmse: 567.493\tvalid_0's l2: 322048\n",
      "Did not meet early stopping. Best iteration is:\n",
      "[2623]\tvalid_0's rmse: 567.252\tvalid_0's l2: 321774\n"
     ]
    },
    {
     "name": "stderr",
     "output_type": "stream",
     "text": [
      "\u001b[32m[I 2021-05-06 08:17:54,118]\u001b[0m Trial 95 finished with value: 567.2516561611812 and parameters: {'n_estimators': 2624, 'learning_rate': 0.10209410767500185, 'num_leaves': 74, 'max_depth': 9, 'subsample': 0.9273283174881776}. Best is trial 74 with value: 559.6492544947287.\u001b[0m\n"
     ]
    },
    {
     "name": "stdout",
     "output_type": "stream",
     "text": [
      "Training until validation scores don't improve for 100 rounds\n",
      "[200]\tvalid_0's rmse: 621.814\tvalid_0's l2: 386653\n",
      "[400]\tvalid_0's rmse: 594.918\tvalid_0's l2: 353928\n",
      "[600]\tvalid_0's rmse: 583.532\tvalid_0's l2: 340510\n",
      "[800]\tvalid_0's rmse: 576.269\tvalid_0's l2: 332086\n",
      "[1000]\tvalid_0's rmse: 571.88\tvalid_0's l2: 327047\n",
      "[1200]\tvalid_0's rmse: 568.908\tvalid_0's l2: 323656\n",
      "[1400]\tvalid_0's rmse: 566.943\tvalid_0's l2: 321424\n",
      "[1600]\tvalid_0's rmse: 565.35\tvalid_0's l2: 319621\n",
      "[1800]\tvalid_0's rmse: 564.517\tvalid_0's l2: 318680\n",
      "[2000]\tvalid_0's rmse: 564.084\tvalid_0's l2: 318190\n",
      "Early stopping, best iteration is:\n",
      "[2067]\tvalid_0's rmse: 563.833\tvalid_0's l2: 317907\n"
     ]
    },
    {
     "name": "stderr",
     "output_type": "stream",
     "text": [
      "\u001b[32m[I 2021-05-06 08:18:43,461]\u001b[0m Trial 96 finished with value: 563.8328088871503 and parameters: {'n_estimators': 2685, 'learning_rate': 0.16415711161654734, 'num_leaves': 144, 'max_depth': 9, 'subsample': 0.9996881226172589}. Best is trial 74 with value: 559.6492544947287.\u001b[0m\n"
     ]
    },
    {
     "name": "stdout",
     "output_type": "stream",
     "text": [
      "Training until validation scores don't improve for 100 rounds\n",
      "[200]\tvalid_0's rmse: 622.034\tvalid_0's l2: 386927\n",
      "[400]\tvalid_0's rmse: 597.885\tvalid_0's l2: 357467\n",
      "[600]\tvalid_0's rmse: 586.056\tvalid_0's l2: 343462\n",
      "[800]\tvalid_0's rmse: 578.239\tvalid_0's l2: 334361\n",
      "[1000]\tvalid_0's rmse: 573.694\tvalid_0's l2: 329124\n",
      "[1200]\tvalid_0's rmse: 569.408\tvalid_0's l2: 324225\n",
      "[1400]\tvalid_0's rmse: 567.514\tvalid_0's l2: 322073\n",
      "[1600]\tvalid_0's rmse: 565.513\tvalid_0's l2: 319805\n",
      "[1800]\tvalid_0's rmse: 564.898\tvalid_0's l2: 319110\n",
      "[2000]\tvalid_0's rmse: 564.692\tvalid_0's l2: 318877\n",
      "[2200]\tvalid_0's rmse: 563.994\tvalid_0's l2: 318089\n",
      "[2400]\tvalid_0's rmse: 563.67\tvalid_0's l2: 317724\n",
      "Early stopping, best iteration is:\n",
      "[2419]\tvalid_0's rmse: 563.609\tvalid_0's l2: 317655\n"
     ]
    },
    {
     "name": "stderr",
     "output_type": "stream",
     "text": [
      "\u001b[32m[I 2021-05-06 08:19:30,535]\u001b[0m Trial 97 finished with value: 563.6086991338769 and parameters: {'n_estimators': 2528, 'learning_rate': 0.18520735126557947, 'num_leaves': 113, 'max_depth': 9, 'subsample': 0.9868331371756641}. Best is trial 74 with value: 559.6492544947287.\u001b[0m\n"
     ]
    },
    {
     "name": "stdout",
     "output_type": "stream",
     "text": [
      "Training until validation scores don't improve for 100 rounds\n",
      "[200]\tvalid_0's rmse: 734.858\tvalid_0's l2: 540016\n",
      "[400]\tvalid_0's rmse: 697.42\tvalid_0's l2: 486394\n",
      "[600]\tvalid_0's rmse: 679.805\tvalid_0's l2: 462135\n",
      "[800]\tvalid_0's rmse: 666.642\tvalid_0's l2: 444412\n",
      "[1000]\tvalid_0's rmse: 656.344\tvalid_0's l2: 430787\n",
      "[1200]\tvalid_0's rmse: 648.364\tvalid_0's l2: 420376\n",
      "[1400]\tvalid_0's rmse: 641.775\tvalid_0's l2: 411875\n",
      "[1600]\tvalid_0's rmse: 635.596\tvalid_0's l2: 403983\n",
      "[1800]\tvalid_0's rmse: 630.514\tvalid_0's l2: 397548\n",
      "[2000]\tvalid_0's rmse: 626.595\tvalid_0's l2: 392621\n",
      "[2200]\tvalid_0's rmse: 622.648\tvalid_0's l2: 387690\n",
      "[2400]\tvalid_0's rmse: 619.38\tvalid_0's l2: 383631\n",
      "Did not meet early stopping. Best iteration is:\n",
      "[2575]\tvalid_0's rmse: 616.362\tvalid_0's l2: 379902\n"
     ]
    },
    {
     "name": "stderr",
     "output_type": "stream",
     "text": [
      "\u001b[32m[I 2021-05-06 08:20:14,460]\u001b[0m Trial 98 finished with value: 616.3617403142224 and parameters: {'n_estimators': 2575, 'learning_rate': 0.096952129942236, 'num_leaves': 94, 'max_depth': 5, 'subsample': 0.9021073649577028}. Best is trial 74 with value: 559.6492544947287.\u001b[0m\n"
     ]
    },
    {
     "name": "stdout",
     "output_type": "stream",
     "text": [
      "Training until validation scores don't improve for 100 rounds\n",
      "[200]\tvalid_0's rmse: 676.368\tvalid_0's l2: 457473\n",
      "[400]\tvalid_0's rmse: 633.989\tvalid_0's l2: 401942\n",
      "[600]\tvalid_0's rmse: 616.09\tvalid_0's l2: 379567\n",
      "[800]\tvalid_0's rmse: 605.217\tvalid_0's l2: 366288\n",
      "[1000]\tvalid_0's rmse: 596.451\tvalid_0's l2: 355754\n",
      "[1200]\tvalid_0's rmse: 589.33\tvalid_0's l2: 347310\n",
      "[1400]\tvalid_0's rmse: 583.722\tvalid_0's l2: 340731\n",
      "[1600]\tvalid_0's rmse: 579.31\tvalid_0's l2: 335600\n",
      "[1800]\tvalid_0's rmse: 575.643\tvalid_0's l2: 331365\n",
      "[2000]\tvalid_0's rmse: 572.866\tvalid_0's l2: 328175\n",
      "[2200]\tvalid_0's rmse: 570.56\tvalid_0's l2: 325539\n",
      "[2400]\tvalid_0's rmse: 568.523\tvalid_0's l2: 323218\n",
      "Did not meet early stopping. Best iteration is:\n",
      "[2490]\tvalid_0's rmse: 567.83\tvalid_0's l2: 322431\n"
     ]
    },
    {
     "name": "stderr",
     "output_type": "stream",
     "text": [
      "\u001b[32m[I 2021-05-06 08:21:31,747]\u001b[0m Trial 99 finished with value: 567.8298524488127 and parameters: {'n_estimators': 2493, 'learning_rate': 0.04707518039214978, 'num_leaves': 205, 'max_depth': 9, 'subsample': 0.9375093312609258}. Best is trial 74 with value: 559.6492544947287.\u001b[0m\n"
     ]
    }
   ],
   "source": [
    "#Set to False if you want to skip it\n",
    "OPTUNA_OPTIMIZATION = True\n",
    "N_TRIALS = 100 \n",
    "\n",
    "if OPTUNA_OPTIMIZATION:\n",
    "    study = optuna.create_study(study_name = 'LGB', direction=\"minimize\") \n",
    "    \n",
    "    study.optimize(objective, n_trials=N_TRIALS)"
   ]
  },
  {
   "cell_type": "markdown",
   "metadata": {},
   "source": [
    "---\n",
    "# Catboost"
   ]
  },
  {
   "cell_type": "code",
   "execution_count": 44,
   "metadata": {},
   "outputs": [],
   "source": [
    "import optuna\n",
    "\n",
    "def objective(trial, cv=KFold(10, shuffle = True, random_state = 1999)): \n",
    "\n",
    "    param_cat = {\n",
    "        \"random_state\": 1,\n",
    "        #'objective': 'reg:squarederror',\n",
    "        #\"metric\": \"rmse\",\n",
    "        # \"categorical_feature\": cat_indices,\n",
    "        #\"verbosity\": 0,\n",
    "        # 'alpha': trial.suggest_int('alpha', 1, 100),\n",
    "        # 'lambda': trial.suggest_float('lambda', 0.001, 100),\n",
    "        # 'gamma': trial.suggest_float('gamma', 0.001, 100),\n",
    "        \"n_estimators\": trial.suggest_int('n_estimators', 1000, 3000),\n",
    "        \"learning_rate\": trial.suggest_float('learning_rate', 0.01, 1),\n",
    "        #'num_leaves': trial.suggest_int('num_leaves', 30, 500),\n",
    "        'depth': trial.suggest_int('depth', 3, 10),\n",
    "         #'reg_alpha': trial.suggest_float('reg_alpha', 0.1, 200),\n",
    "        #'reg_lambda': trial.suggest_float('reg_lambda', 0.1, 200),\n",
    "        #'colsample_bytree': trial.suggest_float('colsample_bytree', 0.5, 1.0),\n",
    "        #'colsample_bylevel': trial.suggest_float('colsample_bylevel', 0.1, 1.0),\n",
    "        #'colsample_bynode': trial.suggest_float('colsample_bynode', 0.1, 1.0),\n",
    "        'rsm': trial.suggest_float('rsm', 0.5, 1.0),\n",
    "        #'min_child_weight': trial.suggest_int('min_child_weight', 1, 100)\n",
    "        # 'cat_smooth': trial.suggest_float('cat_smooth', 1.0, 50.0) \n",
    "        # 'max_delta_step' \n",
    "    }\n",
    "\n",
    "    val_aucs = []\n",
    "    aucs = []\n",
    "\n",
    "\n",
    "    X_trn, X_valid, y_trn, y_valid = train_test_split(train_feat[features], train_feat[target], \n",
    "                                                    test_size=0.2, random_state=42, shuffle=True)\n",
    "\n",
    "    model = CatBoostRegressor(**param_cat)        \n",
    "\n",
    "    model.fit(X_trn, y_trn, eval_set=[(X_valid, y_valid)], early_stopping_rounds=100, verbose=200)    \n",
    "\n",
    "    preds = model.predict(X_valid)\n",
    "\n",
    "    auc = np.sqrt(mean_squared_error(y_valid, preds)) \n",
    "\n",
    "    # auc = np.sqrt(mean_squared_log_error(np.expm1(y_valid), np.expm1(preds)))\n",
    "    # aucs.append(auc)\n",
    "\n",
    "    return auc"
   ]
  },
  {
   "cell_type": "code",
   "execution_count": 45,
   "metadata": {},
   "outputs": [
    {
     "name": "stderr",
     "output_type": "stream",
     "text": [
      "\u001b[32m[I 2021-05-06 02:21:58,709]\u001b[0m A new study created in memory with name: CAT\u001b[0m\n"
     ]
    },
    {
     "name": "stdout",
     "output_type": "stream",
     "text": [
      "0:\tlearn: 1675.4270942\ttest: 1675.6879941\tbest: 1675.6879941 (0)\ttotal: 210ms\tremaining: 8m 12s\n",
      "200:\tlearn: 664.4406813\ttest: 684.6913852\tbest: 684.6913852 (200)\ttotal: 12.1s\tremaining: 2m 9s\n",
      "400:\tlearn: 620.3271492\ttest: 651.8298782\tbest: 651.8298782 (400)\ttotal: 25.6s\tremaining: 2m 4s\n",
      "600:\tlearn: 594.4394118\ttest: 635.5470526\tbest: 635.5470526 (600)\ttotal: 37.9s\tremaining: 1m 50s\n",
      "800:\tlearn: 576.1887212\ttest: 625.1333112\tbest: 625.1333112 (800)\ttotal: 49.1s\tremaining: 1m 34s\n",
      "1000:\tlearn: 561.1063462\ttest: 618.5934956\tbest: 618.2938311 (999)\ttotal: 1m\tremaining: 1m 21s\n",
      "1200:\tlearn: 549.4787205\ttest: 613.6783326\tbest: 613.6783326 (1200)\ttotal: 1m 11s\tremaining: 1m 8s\n",
      "1400:\tlearn: 539.5849070\ttest: 610.5257128\tbest: 610.4989088 (1399)\ttotal: 1m 23s\tremaining: 56.1s\n",
      "1600:\tlearn: 530.6596451\ttest: 606.2748810\tbest: 606.2748221 (1599)\ttotal: 1m 34s\tremaining: 44.1s\n",
      "1800:\tlearn: 522.6463142\ttest: 603.5008612\tbest: 603.5008612 (1800)\ttotal: 1m 45s\tremaining: 32.1s\n",
      "2000:\tlearn: 515.3103564\ttest: 601.1933623\tbest: 601.1933623 (2000)\ttotal: 1m 57s\tremaining: 20.3s\n",
      "2200:\tlearn: 508.6973543\ttest: 600.0202547\tbest: 600.0202547 (2200)\ttotal: 2m 9s\tremaining: 8.56s\n"
     ]
    },
    {
     "name": "stderr",
     "output_type": "stream",
     "text": [
      "\u001b[32m[I 2021-05-06 02:24:17,222]\u001b[0m Trial 0 finished with value: 598.9700955684492 and parameters: {'n_estimators': 2347, 'learning_rate': 0.7915402335706753, 'depth': 6, 'rsm': 0.5193243574504376}. Best is trial 0 with value: 598.9700955684492.\u001b[0m\n"
     ]
    },
    {
     "name": "stdout",
     "output_type": "stream",
     "text": [
      "2346:\tlearn: 504.2792607\ttest: 598.9700956\tbest: 598.9700956 (2346)\ttotal: 2m 17s\tremaining: 0us\n",
      "\n",
      "bestTest = 598.9700956\n",
      "bestIteration = 2346\n",
      "\n",
      "0:\tlearn: 2478.9903267\ttest: 2477.6672361\tbest: 2477.6672361 (0)\ttotal: 50.5ms\tremaining: 1m 19s\n",
      "200:\tlearn: 677.9608228\ttest: 692.0586093\tbest: 692.0586093 (200)\ttotal: 11.8s\tremaining: 1m 20s\n",
      "400:\tlearn: 633.3116207\ttest: 656.2402168\tbest: 656.2402168 (400)\ttotal: 23.7s\tremaining: 1m 8s\n",
      "600:\tlearn: 608.5087759\ttest: 638.1466579\tbest: 638.1466579 (600)\ttotal: 35.7s\tremaining: 57.5s\n",
      "800:\tlearn: 590.2115090\ttest: 626.3934110\tbest: 626.3934110 (800)\ttotal: 47.7s\tremaining: 45.8s\n",
      "1000:\tlearn: 575.8823082\ttest: 617.3056098\tbest: 617.3056098 (1000)\ttotal: 59.6s\tremaining: 33.8s\n",
      "1200:\tlearn: 564.1189696\ttest: 610.9527072\tbest: 610.9337714 (1198)\ttotal: 1m 11s\tremaining: 21.8s\n",
      "1400:\tlearn: 554.5284267\ttest: 606.1995555\tbest: 606.1995555 (1400)\ttotal: 1m 23s\tremaining: 9.97s\n"
     ]
    },
    {
     "name": "stderr",
     "output_type": "stream",
     "text": [
      "\u001b[32m[I 2021-05-06 02:25:51,064]\u001b[0m Trial 1 finished with value: 602.5077920139041 and parameters: {'n_estimators': 1569, 'learning_rate': 0.4434581058198212, 'depth': 6, 'rsm': 0.755530062121413}. Best is trial 0 with value: 598.9700955684492.\u001b[0m\n"
     ]
    },
    {
     "name": "stdout",
     "output_type": "stream",
     "text": [
      "1568:\tlearn: 546.8477542\ttest: 602.5077920\tbest: 602.5077920 (1568)\ttotal: 1m 33s\tremaining: 0us\n",
      "\n",
      "bestTest = 602.507792\n",
      "bestIteration = 1568\n",
      "\n",
      "0:\tlearn: 3847.2347508\ttest: 3846.0726877\tbest: 3846.0726877 (0)\ttotal: 41.1ms\tremaining: 1m 57s\n",
      "200:\tlearn: 1017.2271529\ttest: 1023.4955410\tbest: 1023.4955410 (200)\ttotal: 9.63s\tremaining: 2m 7s\n",
      "400:\tlearn: 904.7195554\ttest: 909.7325273\tbest: 909.7325273 (400)\ttotal: 18.9s\tremaining: 1m 56s\n",
      "600:\tlearn: 865.8716314\ttest: 870.7795200\tbest: 870.7795200 (600)\ttotal: 28s\tremaining: 1m 45s\n",
      "800:\tlearn: 843.9842706\ttest: 849.1369274\tbest: 849.1369274 (800)\ttotal: 37s\tremaining: 1m 35s\n",
      "1000:\tlearn: 826.6072447\ttest: 831.8968327\tbest: 831.8968327 (1000)\ttotal: 46.2s\tremaining: 1m 26s\n",
      "1200:\tlearn: 812.1750722\ttest: 817.6828941\tbest: 817.6828941 (1200)\ttotal: 55.1s\tremaining: 1m 16s\n",
      "1400:\tlearn: 800.6877558\ttest: 806.4585168\tbest: 806.4585168 (1400)\ttotal: 1m 3s\tremaining: 1m 6s\n",
      "1600:\tlearn: 791.0387246\ttest: 796.9727410\tbest: 796.9727410 (1600)\ttotal: 1m 12s\tremaining: 57.4s\n",
      "1800:\tlearn: 783.0345807\ttest: 789.1320779\tbest: 789.1320779 (1800)\ttotal: 1m 21s\tremaining: 48.2s\n",
      "2000:\tlearn: 776.3257518\ttest: 782.4682198\tbest: 782.4682198 (2000)\ttotal: 1m 30s\tremaining: 39s\n",
      "2200:\tlearn: 769.9972974\ttest: 776.2927838\tbest: 776.2927838 (2200)\ttotal: 1m 39s\tremaining: 30s\n",
      "2400:\tlearn: 764.2834070\ttest: 770.6795335\tbest: 770.6795335 (2400)\ttotal: 1m 47s\tremaining: 20.9s\n",
      "2600:\tlearn: 759.2967912\ttest: 765.7442737\tbest: 765.7442737 (2600)\ttotal: 1m 56s\tremaining: 12s\n",
      "2800:\tlearn: 755.0283106\ttest: 761.6538282\tbest: 761.6538282 (2800)\ttotal: 2m 5s\tremaining: 2.96s\n"
     ]
    },
    {
     "name": "stderr",
     "output_type": "stream",
     "text": [
      "\u001b[32m[I 2021-05-06 02:28:00,579]\u001b[0m Trial 2 finished with value: 760.2393783302426 and parameters: {'n_estimators': 2867, 'learning_rate': 0.021559281825574414, 'depth': 4, 'rsm': 0.7998504947538271}. Best is trial 0 with value: 598.9700955684492.\u001b[0m\n"
     ]
    },
    {
     "name": "stdout",
     "output_type": "stream",
     "text": [
      "2866:\tlearn: 753.5758593\ttest: 760.2393783\tbest: 760.2393783 (2866)\ttotal: 2m 8s\tremaining: 0us\n",
      "\n",
      "bestTest = 760.2393783\n",
      "bestIteration = 2866\n",
      "\n",
      "0:\tlearn: 2016.8677127\ttest: 2014.6456669\tbest: 2014.6456669 (0)\ttotal: 36.3ms\tremaining: 1m 9s\n",
      "200:\tlearn: 771.9319524\ttest: 779.4778732\tbest: 779.4778732 (200)\ttotal: 7.42s\tremaining: 1m 3s\n",
      "400:\tlearn: 732.7126765\ttest: 743.5684879\tbest: 743.5684879 (400)\ttotal: 15s\tremaining: 56.7s\n",
      "600:\tlearn: 711.3891289\ttest: 724.9804851\tbest: 724.9804851 (600)\ttotal: 22.7s\tremaining: 49.5s\n",
      "800:\tlearn: 697.3545139\ttest: 713.1950855\tbest: 713.1950855 (800)\ttotal: 30.1s\tremaining: 41.8s\n",
      "1000:\tlearn: 687.1246034\ttest: 704.2764853\tbest: 704.2764853 (1000)\ttotal: 37.6s\tremaining: 34.3s\n",
      "1200:\tlearn: 677.8108586\ttest: 696.6240979\tbest: 696.6240979 (1200)\ttotal: 45.1s\tremaining: 26.7s\n",
      "1400:\tlearn: 670.7360147\ttest: 691.4102355\tbest: 691.4097060 (1399)\ttotal: 52.4s\tremaining: 19.2s\n",
      "1600:\tlearn: 664.1896682\ttest: 685.6782410\tbest: 685.6696032 (1599)\ttotal: 59.9s\tremaining: 11.7s\n",
      "1800:\tlearn: 658.6248159\ttest: 681.3715908\tbest: 681.3715908 (1800)\ttotal: 1m 7s\tremaining: 4.19s\n"
     ]
    },
    {
     "name": "stderr",
     "output_type": "stream",
     "text": [
      "\u001b[32m[I 2021-05-06 02:29:12,870]\u001b[0m Trial 3 finished with value: 679.4316981617591 and parameters: {'n_estimators': 1913, 'learning_rate': 0.8410590113108208, 'depth': 3, 'rsm': 0.7366678627408692}. Best is trial 0 with value: 598.9700955684492.\u001b[0m\n"
     ]
    },
    {
     "name": "stdout",
     "output_type": "stream",
     "text": [
      "1912:\tlearn: 655.7626438\ttest: 679.4316982\tbest: 679.4316982 (1912)\ttotal: 1m 11s\tremaining: 0us\n",
      "\n",
      "bestTest = 679.4316982\n",
      "bestIteration = 1912\n",
      "\n",
      "0:\tlearn: 1478.7289819\ttest: 1481.6850168\tbest: 1481.6850168 (0)\ttotal: 63.8ms\tremaining: 1m 49s\n",
      "200:\tlearn: 600.1892887\ttest: 645.0987275\tbest: 645.0987275 (200)\ttotal: 15.3s\tremaining: 1m 55s\n",
      "400:\tlearn: 547.8196070\ttest: 621.4776213\tbest: 621.4776213 (400)\ttotal: 30.4s\tremaining: 1m 39s\n",
      "600:\tlearn: 515.5595773\ttest: 610.0958343\tbest: 610.0958343 (600)\ttotal: 45.5s\tremaining: 1m 24s\n",
      "800:\tlearn: 491.7843914\ttest: 603.9420035\tbest: 603.9420035 (800)\ttotal: 1m\tremaining: 1m 8s\n",
      "1000:\tlearn: 472.6462861\ttest: 601.0167617\tbest: 601.0087201 (998)\ttotal: 1m 14s\tremaining: 53.2s\n",
      "1200:\tlearn: 456.7654529\ttest: 599.3375917\tbest: 599.3359288 (1191)\ttotal: 1m 29s\tremaining: 38.2s\n",
      "1400:\tlearn: 443.6189292\ttest: 598.5345248\tbest: 598.3266879 (1392)\ttotal: 1m 43s\tremaining: 23.3s\n"
     ]
    },
    {
     "name": "stderr",
     "output_type": "stream",
     "text": [
      "\u001b[32m[I 2021-05-06 02:31:06,607]\u001b[0m Trial 4 finished with value: 598.3005447237151 and parameters: {'n_estimators': 1716, 'learning_rate': 0.8250311413914306, 'depth': 8, 'rsm': 0.8071955241332764}. Best is trial 4 with value: 598.3005447237151.\u001b[0m\n"
     ]
    },
    {
     "name": "stdout",
     "output_type": "stream",
     "text": [
      "Stopped by overfitting detector  (100 iterations wait)\n",
      "\n",
      "bestTest = 598.3005447\n",
      "bestIteration = 1428\n",
      "\n",
      "Shrink model to first 1429 iterations.\n",
      "0:\tlearn: 2212.3400933\ttest: 2211.4929673\tbest: 2211.4929673 (0)\ttotal: 47.6ms\tremaining: 1m 40s\n",
      "200:\tlearn: 700.9472047\ttest: 713.6332156\tbest: 713.6332156 (200)\ttotal: 11s\tremaining: 1m 44s\n",
      "400:\tlearn: 656.0937826\ttest: 674.0823022\tbest: 674.0823022 (400)\ttotal: 22.4s\tremaining: 1m 35s\n",
      "600:\tlearn: 630.5295138\ttest: 653.2945606\tbest: 653.2945606 (600)\ttotal: 33.6s\tremaining: 1m 24s\n",
      "800:\tlearn: 613.4421851\ttest: 641.6638276\tbest: 641.6638276 (800)\ttotal: 44.6s\tremaining: 1m 13s\n",
      "1000:\tlearn: 601.0248486\ttest: 633.7080690\tbest: 633.7080690 (1000)\ttotal: 55.6s\tremaining: 1m 1s\n",
      "1200:\tlearn: 591.2209033\ttest: 627.4744361\tbest: 627.4744361 (1200)\ttotal: 1m 6s\tremaining: 50.9s\n",
      "1400:\tlearn: 582.7945552\ttest: 623.0965341\tbest: 623.0965341 (1400)\ttotal: 1m 17s\tremaining: 39.7s\n",
      "1600:\tlearn: 574.5943808\ttest: 617.9772846\tbest: 617.9551983 (1598)\ttotal: 1m 29s\tremaining: 28.6s\n",
      "1800:\tlearn: 567.5967962\ttest: 613.9346017\tbest: 613.9346017 (1800)\ttotal: 1m 40s\tremaining: 17.5s\n",
      "2000:\tlearn: 561.2905384\ttest: 610.5071609\tbest: 610.5003306 (1996)\ttotal: 1m 51s\tremaining: 6.31s\n"
     ]
    },
    {
     "name": "stderr",
     "output_type": "stream",
     "text": [
      "\u001b[32m[I 2021-05-06 02:33:05,369]\u001b[0m Trial 5 finished with value: 609.1374589983698 and parameters: {'n_estimators': 2114, 'learning_rate': 0.5771962055495258, 'depth': 5, 'rsm': 0.7433365297364694}. Best is trial 4 with value: 598.3005447237151.\u001b[0m\n"
     ]
    },
    {
     "name": "stdout",
     "output_type": "stream",
     "text": [
      "2113:\tlearn: 558.4434968\ttest: 609.1374590\tbest: 609.1374590 (2113)\ttotal: 1m 57s\tremaining: 0us\n",
      "\n",
      "bestTest = 609.137459\n",
      "bestIteration = 2113\n",
      "\n",
      "0:\tlearn: 1364.1870411\ttest: 1363.1357735\tbest: 1363.1357735 (0)\ttotal: 56.4ms\tremaining: 2m 43s\n",
      "200:\tlearn: 629.4302474\ttest: 659.4496835\tbest: 659.4496835 (200)\ttotal: 12.8s\tremaining: 2m 52s\n",
      "400:\tlearn: 580.2113457\ttest: 630.5842131\tbest: 630.5842131 (400)\ttotal: 25.4s\tremaining: 2m 37s\n",
      "600:\tlearn: 551.3779384\ttest: 619.2251038\tbest: 619.2154514 (599)\ttotal: 37.8s\tremaining: 2m 24s\n",
      "800:\tlearn: 529.9216364\ttest: 613.1348263\tbest: 613.1166829 (795)\ttotal: 50.3s\tremaining: 2m 11s\n",
      "1000:\tlearn: 513.3218640\ttest: 609.1884691\tbest: 609.1481416 (995)\ttotal: 1m 2s\tremaining: 1m 58s\n",
      "1200:\tlearn: 499.4560320\ttest: 607.5769187\tbest: 607.5769187 (1200)\ttotal: 1m 15s\tremaining: 1m 46s\n",
      "1400:\tlearn: 487.7203924\ttest: 605.4114065\tbest: 605.4114065 (1400)\ttotal: 1m 27s\tremaining: 1m 33s\n",
      "1600:\tlearn: 477.0132565\ttest: 603.4196688\tbest: 603.1328892 (1553)\ttotal: 1m 40s\tremaining: 1m 21s\n"
     ]
    },
    {
     "name": "stderr",
     "output_type": "stream",
     "text": [
      "\u001b[32m[I 2021-05-06 02:34:50,067]\u001b[0m Trial 6 finished with value: 603.1328892225989 and parameters: {'n_estimators': 2897, 'learning_rate': 0.9699699555127311, 'depth': 7, 'rsm': 0.882632926124681}. Best is trial 4 with value: 598.3005447237151.\u001b[0m\n"
     ]
    },
    {
     "name": "stdout",
     "output_type": "stream",
     "text": [
      "Stopped by overfitting detector  (100 iterations wait)\n",
      "\n",
      "bestTest = 603.1328892\n",
      "bestIteration = 1553\n",
      "\n",
      "Shrink model to first 1554 iterations.\n",
      "0:\tlearn: 3123.6062911\ttest: 3122.0453696\tbest: 3122.0453696 (0)\ttotal: 52.1ms\tremaining: 2m 19s\n",
      "200:\tlearn: 712.5350683\ttest: 721.8150839\tbest: 721.8150839 (200)\ttotal: 11.2s\tremaining: 2m 18s\n",
      "400:\tlearn: 666.5437560\ttest: 681.8451252\tbest: 681.8451252 (400)\ttotal: 22.4s\tremaining: 2m 6s\n",
      "600:\tlearn: 640.2927405\ttest: 660.2564271\tbest: 660.2564271 (600)\ttotal: 33.5s\tremaining: 1m 55s\n",
      "800:\tlearn: 622.0135448\ttest: 646.7269789\tbest: 646.7269789 (800)\ttotal: 44.9s\tremaining: 1m 44s\n",
      "1000:\tlearn: 608.1296825\ttest: 636.7786470\tbest: 636.7786470 (1000)\ttotal: 56s\tremaining: 1m 33s\n",
      "1200:\tlearn: 596.5807093\ttest: 628.4249319\tbest: 628.4249319 (1200)\ttotal: 1m 7s\tremaining: 1m 22s\n",
      "1400:\tlearn: 586.2051740\ttest: 621.2685775\tbest: 621.2676411 (1399)\ttotal: 1m 18s\tremaining: 1m 11s\n",
      "1600:\tlearn: 578.0481419\ttest: 616.1355513\tbest: 616.1355513 (1600)\ttotal: 1m 29s\tremaining: 1m\n",
      "1800:\tlearn: 570.6479246\ttest: 611.6109247\tbest: 611.6109247 (1800)\ttotal: 1m 40s\tremaining: 48.8s\n",
      "2000:\tlearn: 563.7514389\ttest: 606.9845024\tbest: 606.9845024 (2000)\ttotal: 1m 52s\tremaining: 37.7s\n",
      "2200:\tlearn: 557.0035736\ttest: 602.7448518\tbest: 602.7448518 (2200)\ttotal: 2m 3s\tremaining: 26.4s\n",
      "2400:\tlearn: 551.5783934\ttest: 599.9507615\tbest: 599.9507615 (2400)\ttotal: 2m 14s\tremaining: 15.2s\n",
      "2600:\tlearn: 546.3333925\ttest: 597.1098821\tbest: 597.1086329 (2599)\ttotal: 2m 25s\tremaining: 3.97s\n"
     ]
    },
    {
     "name": "stderr",
     "output_type": "stream",
     "text": [
      "\u001b[32m[I 2021-05-06 02:37:20,586]\u001b[0m Trial 7 finished with value: 596.442914475321 and parameters: {'n_estimators': 2672, 'learning_rate': 0.2389337580070898, 'depth': 6, 'rsm': 0.8521968809449528}. Best is trial 7 with value: 596.442914475321.\u001b[0m\n"
     ]
    },
    {
     "name": "stdout",
     "output_type": "stream",
     "text": [
      "2671:\tlearn: 544.5761564\ttest: 596.4429145\tbest: 596.4429145 (2671)\ttotal: 2m 29s\tremaining: 0us\n",
      "\n",
      "bestTest = 596.4429145\n",
      "bestIteration = 2671\n",
      "\n",
      "0:\tlearn: 2965.3139234\ttest: 2964.6566371\tbest: 2964.6566371 (0)\ttotal: 65ms\tremaining: 1m 22s\n",
      "200:\tlearn: 603.8403017\ttest: 641.6127170\tbest: 641.6127170 (200)\ttotal: 15.1s\tremaining: 1m 20s\n",
      "400:\tlearn: 545.7518639\ttest: 607.2960203\tbest: 607.2960203 (400)\ttotal: 30.3s\tremaining: 1m 5s\n",
      "600:\tlearn: 508.8082707\ttest: 590.4713542\tbest: 590.4713542 (600)\ttotal: 44.9s\tremaining: 50.3s\n",
      "800:\tlearn: 482.2380349\ttest: 581.2409698\tbest: 581.2409698 (800)\ttotal: 59.6s\tremaining: 35.2s\n",
      "1000:\tlearn: 460.8111443\ttest: 575.6719811\tbest: 575.6710073 (999)\ttotal: 1m 15s\tremaining: 20.5s\n",
      "1200:\tlearn: 442.8295069\ttest: 571.5588710\tbest: 571.5341536 (1199)\ttotal: 1m 29s\tremaining: 5.46s\n",
      "1273:\tlearn: 437.3967212\ttest: 570.3939771\tbest: 570.3939771 (1273)\ttotal: 1m 35s\tremaining: 0us\n",
      "\n",
      "bestTest = 570.3939771\n",
      "bestIteration = 1273\n",
      "\n"
     ]
    },
    {
     "name": "stderr",
     "output_type": "stream",
     "text": [
      "\u001b[32m[I 2021-05-06 02:38:57,137]\u001b[0m Trial 8 finished with value: 570.3939770859439 and parameters: {'n_estimators': 1274, 'learning_rate': 0.28046614435887385, 'depth': 10, 'rsm': 0.5452564508629155}. Best is trial 8 with value: 570.3939770859439.\u001b[0m\n"
     ]
    },
    {
     "name": "stdout",
     "output_type": "stream",
     "text": [
      "0:\tlearn: 2201.7407324\ttest: 2200.3044127\tbest: 2200.3044127 (0)\ttotal: 54.8ms\tremaining: 2m 24s\n",
      "200:\tlearn: 642.1749272\ttest: 664.8424042\tbest: 664.8424042 (200)\ttotal: 13.1s\tremaining: 2m 39s\n",
      "400:\tlearn: 593.2642729\ttest: 632.7892341\tbest: 632.7892341 (400)\ttotal: 26.3s\tremaining: 2m 26s\n",
      "600:\tlearn: 564.8874485\ttest: 615.6702854\tbest: 615.6702854 (600)\ttotal: 39.3s\tremaining: 2m 13s\n",
      "800:\tlearn: 544.8153060\ttest: 603.7134017\tbest: 603.7105537 (799)\ttotal: 52.4s\tremaining: 2m\n",
      "1000:\tlearn: 529.2603360\ttest: 596.6225467\tbest: 596.6150303 (998)\ttotal: 1m 5s\tremaining: 1m 47s\n",
      "1200:\tlearn: 516.7005905\ttest: 592.1476246\tbest: 592.1013554 (1194)\ttotal: 1m 18s\tremaining: 1m 34s\n",
      "1400:\tlearn: 505.2543540\ttest: 587.1188923\tbest: 587.1188923 (1400)\ttotal: 1m 31s\tremaining: 1m 21s\n",
      "1600:\tlearn: 495.5199774\ttest: 584.9546384\tbest: 584.9546384 (1600)\ttotal: 1m 45s\tremaining: 1m 8s\n",
      "1800:\tlearn: 486.0685265\ttest: 582.3752746\tbest: 582.3752746 (1800)\ttotal: 1m 58s\tremaining: 55.2s\n",
      "2000:\tlearn: 478.1955645\ttest: 580.4798928\tbest: 580.4730186 (1973)\ttotal: 2m 11s\tremaining: 42s\n",
      "2200:\tlearn: 470.7732559\ttest: 579.1831492\tbest: 579.1831492 (2200)\ttotal: 2m 24s\tremaining: 28.9s\n",
      "2400:\tlearn: 464.1269124\ttest: 577.8410715\tbest: 577.8121930 (2388)\ttotal: 2m 37s\tremaining: 15.8s\n",
      "2600:\tlearn: 458.1635617\ttest: 577.4210995\tbest: 577.3519683 (2575)\ttotal: 2m 50s\tremaining: 2.62s\n"
     ]
    },
    {
     "name": "stderr",
     "output_type": "stream",
     "text": [
      "\u001b[32m[I 2021-05-06 02:41:51,491]\u001b[0m Trial 9 finished with value: 576.9776551977315 and parameters: {'n_estimators': 2641, 'learning_rate': 0.5272138961812093, 'depth': 7, 'rsm': 0.8672593062672382}. Best is trial 8 with value: 570.3939770859439.\u001b[0m\n"
     ]
    },
    {
     "name": "stdout",
     "output_type": "stream",
     "text": [
      "2640:\tlearn: 456.9325471\ttest: 577.0103960\tbest: 576.9776552 (2639)\ttotal: 2m 53s\tremaining: 0us\n",
      "\n",
      "bestTest = 576.9776552\n",
      "bestIteration = 2639\n",
      "\n",
      "Shrink model to first 2640 iterations.\n",
      "0:\tlearn: 3727.2961954\ttest: 3725.9621104\tbest: 3725.9621104 (0)\ttotal: 65.5ms\tremaining: 1m 10s\n",
      "200:\tlearn: 732.0245098\ttest: 742.9507386\tbest: 742.9507386 (200)\ttotal: 14.3s\tremaining: 1m 2s\n",
      "400:\tlearn: 666.8168142\ttest: 685.3453426\tbest: 685.3453426 (400)\ttotal: 28.5s\tremaining: 48.1s\n",
      "600:\tlearn: 633.2012942\ttest: 658.4185796\tbest: 658.4185796 (600)\ttotal: 43.5s\tremaining: 34.6s\n",
      "800:\tlearn: 609.9122198\ttest: 641.0363551\tbest: 641.0363551 (800)\ttotal: 57.8s\tremaining: 20.1s\n",
      "1000:\tlearn: 592.0109148\ttest: 628.6672235\tbest: 628.6672235 (1000)\ttotal: 1m 11s\tremaining: 5.59s\n",
      "1078:\tlearn: 586.4630549\ttest: 624.8309516\tbest: 624.8309516 (1078)\ttotal: 1m 17s\tremaining: 0us\n",
      "\n",
      "bestTest = 624.8309516\n",
      "bestIteration = 1078\n",
      "\n"
     ]
    },
    {
     "name": "stderr",
     "output_type": "stream",
     "text": [
      "\u001b[32m[I 2021-05-06 02:43:09,989]\u001b[0m Trial 10 finished with value: 624.830951595645 and parameters: {'n_estimators': 1079, 'learning_rate': 0.055879808212970644, 'depth': 10, 'rsm': 0.5008441789863612}. Best is trial 8 with value: 570.3939770859439.\u001b[0m\n"
     ]
    },
    {
     "name": "stdout",
     "output_type": "stream",
     "text": [
      "0:\tlearn: 2586.3953245\ttest: 2586.0451549\tbest: 2586.0451549 (0)\ttotal: 91.9ms\tremaining: 1m 39s\n",
      "200:\tlearn: 577.9461271\ttest: 623.7557357\tbest: 623.7557357 (200)\ttotal: 20.5s\tremaining: 1m 30s\n",
      "400:\tlearn: 517.3777684\ttest: 593.0782192\tbest: 593.0782192 (400)\ttotal: 40.1s\tremaining: 1m 8s\n",
      "600:\tlearn: 478.2652520\ttest: 580.3529504\tbest: 580.3478558 (598)\ttotal: 1m\tremaining: 48.5s\n",
      "800:\tlearn: 450.4957209\ttest: 573.1748257\tbest: 573.1748257 (800)\ttotal: 1m 19s\tremaining: 28.2s\n",
      "1000:\tlearn: 428.7210400\ttest: 568.9626117\tbest: 568.9062903 (998)\ttotal: 1m 39s\tremaining: 8.29s\n",
      "1083:\tlearn: 420.1137387\ttest: 567.4318564\tbest: 567.4318564 (1083)\ttotal: 1m 48s\tremaining: 0us\n",
      "\n",
      "bestTest = 567.4318564\n",
      "bestIteration = 1083\n",
      "\n"
     ]
    },
    {
     "name": "stderr",
     "output_type": "stream",
     "text": [
      "\u001b[32m[I 2021-05-06 02:44:59,128]\u001b[0m Trial 11 finished with value: 567.431856354915 and parameters: {'n_estimators': 1084, 'learning_rate': 0.3908154421007385, 'depth': 10, 'rsm': 0.9908026366231023}. Best is trial 11 with value: 567.431856354915.\u001b[0m\n"
     ]
    },
    {
     "name": "stdout",
     "output_type": "stream",
     "text": [
      "0:\tlearn: 2950.5030047\ttest: 2950.2362794\tbest: 2950.2362794 (0)\ttotal: 73.5ms\tremaining: 1m 17s\n",
      "200:\tlearn: 604.5264108\ttest: 640.9045935\tbest: 640.9045935 (200)\ttotal: 16.3s\tremaining: 1m 9s\n",
      "400:\tlearn: 544.0704245\ttest: 605.0225783\tbest: 605.0225783 (400)\ttotal: 32.5s\tremaining: 52.7s\n",
      "600:\tlearn: 507.6921160\ttest: 588.7017256\tbest: 588.7017256 (600)\ttotal: 48.1s\tremaining: 36s\n",
      "800:\tlearn: 481.8094110\ttest: 579.5408589\tbest: 579.5012966 (798)\ttotal: 1m 4s\tremaining: 20.1s\n",
      "1000:\tlearn: 460.1025416\ttest: 573.4767920\tbest: 573.4767920 (1000)\ttotal: 1m 20s\tremaining: 4.01s\n",
      "1050:\tlearn: 455.4521504\ttest: 572.5021724\tbest: 572.5021724 (1050)\ttotal: 1m 24s\tremaining: 0us\n",
      "\n",
      "bestTest = 572.5021724\n",
      "bestIteration = 1050\n",
      "\n"
     ]
    },
    {
     "name": "stderr",
     "output_type": "stream",
     "text": [
      "\u001b[32m[I 2021-05-06 02:46:24,422]\u001b[0m Trial 12 finished with value: 572.5021724061911 and parameters: {'n_estimators': 1051, 'learning_rate': 0.2825119783090224, 'depth': 10, 'rsm': 0.6131166543727249}. Best is trial 11 with value: 567.431856354915.\u001b[0m\n"
     ]
    },
    {
     "name": "stdout",
     "output_type": "stream",
     "text": [
      "0:\tlearn: 2956.3547714\ttest: 2954.6670437\tbest: 2954.6670437 (0)\ttotal: 63.5ms\tremaining: 1m 24s\n",
      "200:\tlearn: 624.4087716\ttest: 649.4016204\tbest: 649.4016204 (200)\ttotal: 14s\tremaining: 1m 18s\n",
      "400:\tlearn: 572.0201600\ttest: 615.3523426\tbest: 615.3523426 (400)\ttotal: 28s\tremaining: 1m 4s\n",
      "600:\tlearn: 539.9202158\ttest: 598.2201258\tbest: 598.2201258 (600)\ttotal: 41.9s\tremaining: 50.6s\n",
      "800:\tlearn: 515.8656419\ttest: 587.0358649\tbest: 587.0258214 (799)\ttotal: 55.7s\tremaining: 36.6s\n",
      "1000:\tlearn: 496.5050992\ttest: 578.6087545\tbest: 578.6087545 (1000)\ttotal: 1m 9s\tremaining: 22.7s\n",
      "1200:\tlearn: 480.5854080\ttest: 573.1873867\tbest: 573.1873867 (1200)\ttotal: 1m 23s\tremaining: 8.75s\n",
      "1326:\tlearn: 472.0697658\ttest: 571.2060756\tbest: 571.2060756 (1326)\ttotal: 1m 32s\tremaining: 0us\n",
      "\n",
      "bestTest = 571.2060756\n",
      "bestIteration = 1326\n",
      "\n"
     ]
    },
    {
     "name": "stderr",
     "output_type": "stream",
     "text": [
      "\u001b[32m[I 2021-05-06 02:47:57,697]\u001b[0m Trial 13 finished with value: 571.20607563434 and parameters: {'n_estimators': 1327, 'learning_rate': 0.28033591497013016, 'depth': 9, 'rsm': 0.9884831347526825}. Best is trial 11 with value: 567.431856354915.\u001b[0m\n"
     ]
    },
    {
     "name": "stdout",
     "output_type": "stream",
     "text": [
      "0:\tlearn: 2560.6532992\ttest: 2559.2621189\tbest: 2559.2621189 (0)\ttotal: 90.9ms\tremaining: 1m 58s\n",
      "200:\tlearn: 604.8413047\ttest: 638.0024385\tbest: 638.0024385 (200)\ttotal: 16s\tremaining: 1m 27s\n",
      "400:\tlearn: 550.3992524\ttest: 607.0655443\tbest: 607.0655443 (400)\ttotal: 32.2s\tremaining: 1m 12s\n",
      "600:\tlearn: 516.2495159\ttest: 592.2664522\tbest: 592.2664522 (600)\ttotal: 48.8s\tremaining: 57.4s\n",
      "800:\tlearn: 491.7277574\ttest: 583.3177544\tbest: 583.2820298 (799)\ttotal: 1m 5s\tremaining: 41.2s\n",
      "1000:\tlearn: 471.3088535\ttest: 578.3608612\tbest: 578.3608612 (1000)\ttotal: 1m 21s\tremaining: 24.9s\n",
      "1200:\tlearn: 454.9913487\ttest: 574.9758693\tbest: 574.9758693 (1200)\ttotal: 1m 37s\tremaining: 8.64s\n",
      "1306:\tlearn: 447.6392022\ttest: 573.3061633\tbest: 573.3061633 (1306)\ttotal: 1m 46s\tremaining: 0us\n",
      "\n",
      "bestTest = 573.3061633\n",
      "bestIteration = 1306\n",
      "\n"
     ]
    },
    {
     "name": "stderr",
     "output_type": "stream",
     "text": [
      "\u001b[32m[I 2021-05-06 02:49:45,305]\u001b[0m Trial 14 finished with value: 573.3061632764733 and parameters: {'n_estimators': 1307, 'learning_rate': 0.40347228216181724, 'depth': 9, 'rsm': 0.6157795689347332}. Best is trial 11 with value: 567.431856354915.\u001b[0m\n"
     ]
    },
    {
     "name": "stdout",
     "output_type": "stream",
     "text": [
      "0:\tlearn: 3249.8249007\ttest: 3248.9330156\tbest: 3248.9330156 (0)\ttotal: 90.1ms\tremaining: 1m 55s\n",
      "200:\tlearn: 628.4830293\ttest: 655.5524987\tbest: 655.5524987 (200)\ttotal: 19.6s\tremaining: 1m 45s\n",
      "400:\tlearn: 571.3107992\ttest: 616.3506037\tbest: 616.3506037 (400)\ttotal: 39.2s\tremaining: 1m 26s\n",
      "600:\tlearn: 536.6088875\ttest: 597.9054505\tbest: 597.9054505 (600)\ttotal: 58.9s\tremaining: 1m 6s\n",
      "800:\tlearn: 512.2950768\ttest: 587.4122992\tbest: 587.4122992 (800)\ttotal: 1m 19s\tremaining: 47.6s\n",
      "1000:\tlearn: 491.9823025\ttest: 579.7454381\tbest: 579.7399029 (999)\ttotal: 1m 39s\tremaining: 27.9s\n",
      "1200:\tlearn: 474.4843799\ttest: 574.3183968\tbest: 574.3183968 (1200)\ttotal: 1m 59s\tremaining: 8.13s\n",
      "1282:\tlearn: 468.2364494\ttest: 572.1688390\tbest: 572.1688390 (1282)\ttotal: 2m 7s\tremaining: 0us\n",
      "\n",
      "bestTest = 572.168839\n",
      "bestIteration = 1282\n",
      "\n"
     ]
    },
    {
     "name": "stderr",
     "output_type": "stream",
     "text": [
      "\u001b[32m[I 2021-05-06 02:51:53,663]\u001b[0m Trial 15 finished with value: 572.1688390073746 and parameters: {'n_estimators': 1283, 'learning_rate': 0.19253392565668132, 'depth': 10, 'rsm': 0.9914091354849307}. Best is trial 11 with value: 567.431856354915.\u001b[0m\n"
     ]
    },
    {
     "name": "stdout",
     "output_type": "stream",
     "text": [
      "0:\tlearn: 1857.7648325\ttest: 1853.5962151\tbest: 1853.5962151 (0)\ttotal: 75.8ms\tremaining: 2m 1s\n",
      "200:\tlearn: 582.1227998\ttest: 630.3437076\tbest: 630.3437076 (200)\ttotal: 15.5s\tremaining: 1m 48s\n",
      "400:\tlearn: 522.2884284\ttest: 604.9208931\tbest: 604.9208931 (400)\ttotal: 31.3s\tremaining: 1m 33s\n",
      "600:\tlearn: 488.1759125\ttest: 595.8074293\tbest: 595.8074293 (600)\ttotal: 47.1s\tremaining: 1m 18s\n",
      "800:\tlearn: 461.2766094\ttest: 590.1797849\tbest: 590.1797849 (800)\ttotal: 1m 2s\tremaining: 1m 2s\n",
      "1000:\tlearn: 440.6499390\ttest: 587.2107907\tbest: 587.2103533 (999)\ttotal: 1m 18s\tremaining: 47.3s\n",
      "1200:\tlearn: 423.0587801\ttest: 586.4030254\tbest: 586.4030254 (1200)\ttotal: 1m 34s\tremaining: 31.6s\n",
      "1400:\tlearn: 408.9653520\ttest: 585.5303408\tbest: 585.4919459 (1398)\ttotal: 1m 50s\tremaining: 15.9s\n",
      "1600:\tlearn: 395.5978322\ttest: 584.7465656\tbest: 584.6791701 (1519)\ttotal: 2m 5s\tremaining: 157ms\n",
      "1602:\tlearn: 395.4847276\ttest: 584.7058697\tbest: 584.6791701 (1519)\ttotal: 2m 6s\tremaining: 0us\n",
      "\n",
      "bestTest = 584.6791701\n",
      "bestIteration = 1519\n",
      "\n",
      "Shrink model to first 1520 iterations.\n"
     ]
    },
    {
     "name": "stderr",
     "output_type": "stream",
     "text": [
      "\u001b[32m[I 2021-05-06 02:54:00,868]\u001b[0m Trial 16 finished with value: 584.6791700871164 and parameters: {'n_estimators': 1603, 'learning_rate': 0.6570712103956533, 'depth': 9, 'rsm': 0.6306431438822571}. Best is trial 11 with value: 567.431856354915.\u001b[0m\n"
     ]
    },
    {
     "name": "stdout",
     "output_type": "stream",
     "text": [
      "0:\tlearn: 3584.5588725\ttest: 3583.3735004\tbest: 3583.3735004 (0)\ttotal: 60.8ms\tremaining: 1m 5s\n",
      "200:\tlearn: 716.6143228\ttest: 726.1006211\tbest: 726.1006211 (200)\ttotal: 13s\tremaining: 57.3s\n",
      "400:\tlearn: 666.6579695\ttest: 682.4720404\tbest: 682.4720404 (400)\ttotal: 25.8s\tremaining: 44s\n",
      "600:\tlearn: 639.3215928\ttest: 659.9421851\tbest: 659.9421851 (600)\ttotal: 38.8s\tremaining: 31.2s\n",
      "800:\tlearn: 618.8821571\ttest: 644.1327029\tbest: 644.1327029 (800)\ttotal: 51.6s\tremaining: 18.2s\n",
      "1000:\tlearn: 602.9517001\ttest: 632.2380109\tbest: 632.2380109 (1000)\ttotal: 1m 4s\tremaining: 5.35s\n"
     ]
    },
    {
     "name": "stderr",
     "output_type": "stream",
     "text": [
      "\u001b[32m[I 2021-05-06 02:55:11,575]\u001b[0m Trial 17 finished with value: 628.2667820926317 and parameters: {'n_estimators': 1084, 'learning_rate': 0.09717222977691209, 'depth': 8, 'rsm': 0.9398501561450777}. Best is trial 11 with value: 567.431856354915.\u001b[0m\n"
     ]
    },
    {
     "name": "stdout",
     "output_type": "stream",
     "text": [
      "1083:\tlearn: 597.4016423\ttest: 628.2667821\tbest: 628.2667821 (1083)\ttotal: 1m 10s\tremaining: 0us\n",
      "\n",
      "bestTest = 628.2667821\n",
      "bestIteration = 1083\n",
      "\n",
      "0:\tlearn: 2832.0837767\ttest: 2830.4335078\tbest: 2830.4335078 (0)\ttotal: 59.5ms\tremaining: 59.6s\n",
      "200:\tlearn: 644.7641088\ttest: 666.6038722\tbest: 666.6038722 (200)\ttotal: 13.9s\tremaining: 55.4s\n",
      "400:\tlearn: 594.1732833\ttest: 629.3574943\tbest: 629.3574943 (400)\ttotal: 27.8s\tremaining: 41.8s\n",
      "600:\tlearn: 566.0219927\ttest: 612.4087556\tbest: 612.4087556 (600)\ttotal: 42.3s\tremaining: 28.3s\n",
      "800:\tlearn: 544.4165174\ttest: 600.8901948\tbest: 600.8901948 (800)\ttotal: 56s\tremaining: 14.2s\n",
      "1000:\tlearn: 527.4705506\ttest: 592.1180189\tbest: 592.1180189 (1000)\ttotal: 1m 10s\tremaining: 210ms\n"
     ]
    },
    {
     "name": "stderr",
     "output_type": "stream",
     "text": [
      "\u001b[32m[I 2021-05-06 02:56:22,651]\u001b[0m Trial 18 finished with value: 591.970773898541 and parameters: {'n_estimators': 1004, 'learning_rate': 0.32421403218336253, 'depth': 8, 'rsm': 0.5576728892390007}. Best is trial 11 with value: 567.431856354915.\u001b[0m\n"
     ]
    },
    {
     "name": "stdout",
     "output_type": "stream",
     "text": [
      "1003:\tlearn: 527.2380768\ttest: 591.9707739\tbest: 591.9707739 (1003)\ttotal: 1m 10s\tremaining: 0us\n",
      "\n",
      "bestTest = 591.9707739\n",
      "bestIteration = 1003\n",
      "\n",
      "0:\tlearn: 3439.1820805\ttest: 3437.9983110\tbest: 3437.9983110 (0)\ttotal: 74ms\tremaining: 1m 46s\n",
      "200:\tlearn: 652.9014404\ttest: 673.8003255\tbest: 673.8003255 (200)\ttotal: 16.8s\tremaining: 1m 43s\n",
      "400:\tlearn: 598.1358059\ttest: 632.9353063\tbest: 632.9353063 (400)\ttotal: 33.2s\tremaining: 1m 26s\n",
      "600:\tlearn: 565.0613024\ttest: 611.9842007\tbest: 611.9842007 (600)\ttotal: 49.5s\tremaining: 1m 9s\n",
      "800:\tlearn: 539.7690713\ttest: 597.5690887\tbest: 597.5690887 (800)\ttotal: 1m 6s\tremaining: 53s\n",
      "1000:\tlearn: 520.5823547\ttest: 587.8965808\tbest: 587.8965808 (1000)\ttotal: 1m 23s\tremaining: 36.5s\n",
      "1200:\tlearn: 504.2898382\ttest: 581.1894196\tbest: 581.1894196 (1200)\ttotal: 1m 39s\tremaining: 19.9s\n",
      "1400:\tlearn: 489.8903149\ttest: 575.9218986\tbest: 575.9218986 (1400)\ttotal: 1m 56s\tremaining: 3.25s\n",
      "1439:\tlearn: 487.3438185\ttest: 575.1652600\tbest: 575.1640947 (1438)\ttotal: 1m 59s\tremaining: 0us\n",
      "\n",
      "bestTest = 575.1640947\n",
      "bestIteration = 1438\n",
      "\n",
      "Shrink model to first 1439 iterations.\n"
     ]
    },
    {
     "name": "stderr",
     "output_type": "stream",
     "text": [
      "\u001b[32m[I 2021-05-06 02:58:23,943]\u001b[0m Trial 19 finished with value: 575.1640946979417 and parameters: {'n_estimators': 1440, 'learning_rate': 0.1391171149021972, 'depth': 10, 'rsm': 0.6692002533051477}. Best is trial 11 with value: 567.431856354915.\u001b[0m\n"
     ]
    },
    {
     "name": "stdout",
     "output_type": "stream",
     "text": [
      "0:\tlearn: 2565.0294644\ttest: 2565.1726737\tbest: 2565.1726737 (0)\ttotal: 67.2ms\tremaining: 2m 3s\n",
      "200:\tlearn: 603.1253519\ttest: 636.2662943\tbest: 636.2662943 (200)\ttotal: 15s\tremaining: 2m 2s\n",
      "400:\tlearn: 549.1541351\ttest: 604.8826642\tbest: 604.8826642 (400)\ttotal: 30s\tremaining: 1m 47s\n",
      "600:\tlearn: 513.6980235\ttest: 589.1706182\tbest: 589.1706182 (600)\ttotal: 45s\tremaining: 1m 32s\n",
      "800:\tlearn: 488.2930559\ttest: 579.7494194\tbest: 579.7426471 (799)\ttotal: 1m\tremaining: 1m 17s\n",
      "1000:\tlearn: 469.0309063\ttest: 574.7951814\tbest: 574.7951814 (1000)\ttotal: 1m 15s\tremaining: 1m 2s\n",
      "1200:\tlearn: 451.5356544\ttest: 571.2938557\tbest: 571.2938557 (1200)\ttotal: 1m 30s\tremaining: 47.9s\n",
      "1400:\tlearn: 437.1882557\ttest: 569.2532048\tbest: 569.2532048 (1400)\ttotal: 1m 45s\tremaining: 32.7s\n",
      "1600:\tlearn: 424.7176548\ttest: 567.3402584\tbest: 567.3402584 (1600)\ttotal: 2m\tremaining: 17.6s\n",
      "1800:\tlearn: 413.3728684\ttest: 565.8935930\tbest: 565.8898627 (1798)\ttotal: 2m 15s\tremaining: 2.49s\n",
      "1833:\tlearn: 411.2741593\ttest: 565.7432548\tbest: 565.6805002 (1824)\ttotal: 2m 18s\tremaining: 0us\n",
      "\n",
      "bestTest = 565.6805002\n",
      "bestIteration = 1824\n",
      "\n",
      "Shrink model to first 1825 iterations.\n"
     ]
    },
    {
     "name": "stderr",
     "output_type": "stream",
     "text": [
      "\u001b[32m[I 2021-05-06 03:00:43,649]\u001b[0m Trial 20 finished with value: 565.6805002438275 and parameters: {'n_estimators': 1834, 'learning_rate': 0.40083406931461757, 'depth': 9, 'rsm': 0.9348711844589003}. Best is trial 20 with value: 565.6805002438275.\u001b[0m\n"
     ]
    },
    {
     "name": "stdout",
     "output_type": "stream",
     "text": [
      "0:\tlearn: 2561.0352655\ttest: 2560.3625651\tbest: 2560.3625651 (0)\ttotal: 66.2ms\tremaining: 2m 3s\n",
      "200:\tlearn: 604.4662738\ttest: 638.3226240\tbest: 638.3226240 (200)\ttotal: 15.6s\tremaining: 2m 8s\n",
      "400:\tlearn: 546.2678531\ttest: 604.1592412\tbest: 604.1592412 (400)\ttotal: 30.9s\tremaining: 1m 52s\n",
      "600:\tlearn: 512.9105807\ttest: 590.1622357\tbest: 590.1622357 (600)\ttotal: 46.5s\tremaining: 1m 37s\n",
      "800:\tlearn: 488.8447212\ttest: 580.8591199\tbest: 580.8591199 (800)\ttotal: 1m 1s\tremaining: 1m 21s\n",
      "1000:\tlearn: 469.7067111\ttest: 576.1050063\tbest: 576.0773110 (999)\ttotal: 1m 16s\tremaining: 1m 5s\n",
      "1200:\tlearn: 453.6670977\ttest: 572.8715851\tbest: 572.8715851 (1200)\ttotal: 1m 31s\tremaining: 50.3s\n",
      "1400:\tlearn: 439.3268115\ttest: 569.9905768\tbest: 569.9799246 (1399)\ttotal: 1m 46s\tremaining: 34.9s\n",
      "1600:\tlearn: 427.1230517\ttest: 568.1864709\tbest: 568.1457457 (1594)\ttotal: 2m 1s\tremaining: 19.6s\n",
      "1800:\tlearn: 415.6863121\ttest: 567.1589779\tbest: 567.1521265 (1795)\ttotal: 2m 16s\tremaining: 4.41s\n",
      "1858:\tlearn: 412.7345489\ttest: 566.7358080\tbest: 566.7302782 (1857)\ttotal: 2m 21s\tremaining: 0us\n",
      "\n",
      "bestTest = 566.7302782\n",
      "bestIteration = 1857\n",
      "\n",
      "Shrink model to first 1858 iterations.\n"
     ]
    },
    {
     "name": "stderr",
     "output_type": "stream",
     "text": [
      "\u001b[32m[I 2021-05-06 03:03:06,391]\u001b[0m Trial 21 finished with value: 566.7302782444685 and parameters: {'n_estimators': 1859, 'learning_rate': 0.40136192394944276, 'depth': 9, 'rsm': 0.9390591913545954}. Best is trial 20 with value: 565.6805002438275.\u001b[0m\n"
     ]
    },
    {
     "name": "stdout",
     "output_type": "stream",
     "text": [
      "0:\tlearn: 2544.4764530\ttest: 2542.0500869\tbest: 2542.0500869 (0)\ttotal: 68.6ms\tremaining: 2m 11s\n",
      "200:\tlearn: 601.5699417\ttest: 636.5658320\tbest: 636.5658320 (200)\ttotal: 15.2s\tremaining: 2m 10s\n",
      "400:\tlearn: 546.6053606\ttest: 603.9367698\tbest: 603.9367698 (400)\ttotal: 30.3s\tremaining: 1m 54s\n",
      "600:\tlearn: 513.0238844\ttest: 588.5691713\tbest: 588.5691713 (600)\ttotal: 45.3s\tremaining: 1m 39s\n",
      "800:\tlearn: 488.0404395\ttest: 579.6354789\tbest: 579.6354789 (800)\ttotal: 1m\tremaining: 1m 24s\n",
      "1000:\tlearn: 467.9748826\ttest: 574.1270110\tbest: 574.1270110 (1000)\ttotal: 1m 15s\tremaining: 1m 9s\n",
      "1200:\tlearn: 451.0345539\ttest: 570.9312269\tbest: 570.8765295 (1198)\ttotal: 1m 30s\tremaining: 54.2s\n",
      "1400:\tlearn: 436.6927857\ttest: 568.1184284\tbest: 568.1184284 (1400)\ttotal: 1m 45s\tremaining: 39.2s\n",
      "1600:\tlearn: 424.1826010\ttest: 566.0565531\tbest: 566.0076499 (1593)\ttotal: 2m\tremaining: 24.2s\n",
      "1800:\tlearn: 412.8527065\ttest: 564.9340980\tbest: 564.9107831 (1789)\ttotal: 2m 15s\tremaining: 9.14s\n",
      "1922:\tlearn: 406.5666628\ttest: 564.2846603\tbest: 564.1160392 (1914)\ttotal: 2m 23s\tremaining: 0us\n",
      "\n",
      "bestTest = 564.1160392\n",
      "bestIteration = 1914\n",
      "\n",
      "Shrink model to first 1915 iterations.\n"
     ]
    },
    {
     "name": "stderr",
     "output_type": "stream",
     "text": [
      "\u001b[32m[I 2021-05-06 03:05:31,717]\u001b[0m Trial 22 finished with value: 564.116039239846 and parameters: {'n_estimators': 1923, 'learning_rate': 0.4038636580690102, 'depth': 9, 'rsm': 0.9467124464104639}. Best is trial 22 with value: 564.116039239846.\u001b[0m\n"
     ]
    },
    {
     "name": "stdout",
     "output_type": "stream",
     "text": [
      "0:\tlearn: 1861.8500257\ttest: 1862.7025546\tbest: 1862.7025546 (0)\ttotal: 74.8ms\tremaining: 2m 30s\n",
      "200:\tlearn: 579.4976093\ttest: 629.6167058\tbest: 629.6167058 (200)\ttotal: 15.4s\tremaining: 2m 18s\n",
      "400:\tlearn: 522.8246109\ttest: 604.1644243\tbest: 604.1644243 (400)\ttotal: 30.6s\tremaining: 2m 2s\n",
      "600:\tlearn: 487.6644220\ttest: 593.9413036\tbest: 593.9413036 (600)\ttotal: 46.1s\tremaining: 1m 48s\n",
      "800:\tlearn: 460.8553404\ttest: 588.2998181\tbest: 588.1221001 (786)\ttotal: 1m 1s\tremaining: 1m 33s\n",
      "1000:\tlearn: 440.9272836\ttest: 585.9861502\tbest: 585.9793779 (999)\ttotal: 1m 17s\tremaining: 1m 17s\n",
      "1200:\tlearn: 423.6876226\ttest: 584.8768050\tbest: 584.6767898 (1192)\ttotal: 1m 32s\tremaining: 1m 2s\n",
      "Stopped by overfitting detector  (100 iterations wait)\n",
      "\n",
      "bestTest = 584.6767898\n",
      "bestIteration = 1192\n",
      "\n",
      "Shrink model to first 1193 iterations.\n"
     ]
    },
    {
     "name": "stderr",
     "output_type": "stream",
     "text": [
      "\u001b[32m[I 2021-05-06 03:07:12,610]\u001b[0m Trial 23 finished with value: 584.6767898095093 and parameters: {'n_estimators': 2011, 'learning_rate': 0.6362111848542168, 'depth': 9, 'rsm': 0.9280775639262471}. Best is trial 22 with value: 564.116039239846.\u001b[0m\n"
     ]
    },
    {
     "name": "stdout",
     "output_type": "stream",
     "text": [
      "0:\tlearn: 2394.7168582\ttest: 2394.9037288\tbest: 2394.9037288 (0)\ttotal: 58.9ms\tremaining: 2m 14s\n",
      "200:\tlearn: 618.6064770\ttest: 646.6596370\tbest: 646.6596370 (200)\ttotal: 13s\tremaining: 2m 15s\n",
      "400:\tlearn: 568.7693658\ttest: 614.0893331\tbest: 614.0893331 (400)\ttotal: 26s\tremaining: 2m 2s\n",
      "600:\tlearn: 537.6802976\ttest: 598.1550078\tbest: 598.1550078 (600)\ttotal: 39.4s\tremaining: 1m 50s\n",
      "800:\tlearn: 515.5367590\ttest: 589.4914767\tbest: 589.4914767 (800)\ttotal: 52.6s\tremaining: 1m 37s\n",
      "1000:\tlearn: 497.6452114\ttest: 582.4225828\tbest: 582.4225828 (1000)\ttotal: 1m 5s\tremaining: 1m 24s\n",
      "1200:\tlearn: 483.3409715\ttest: 578.9384467\tbest: 578.9100824 (1197)\ttotal: 1m 19s\tremaining: 1m 11s\n",
      "1400:\tlearn: 471.3918220\ttest: 576.0955687\tbest: 576.0871816 (1399)\ttotal: 1m 32s\tremaining: 58.5s\n",
      "1600:\tlearn: 460.9576017\ttest: 573.7762156\tbest: 573.7762156 (1600)\ttotal: 1m 45s\tremaining: 45.3s\n",
      "1800:\tlearn: 450.5359758\ttest: 571.1458430\tbest: 571.1075457 (1798)\ttotal: 1m 58s\tremaining: 32.1s\n",
      "2000:\tlearn: 441.2230863\ttest: 569.4955721\tbest: 569.4955721 (2000)\ttotal: 2m 11s\tremaining: 18.9s\n",
      "2200:\tlearn: 433.1385634\ttest: 568.7741420\tbest: 568.7334696 (2146)\ttotal: 2m 24s\tremaining: 5.83s\n",
      "2289:\tlearn: 429.4972603\ttest: 568.2511120\tbest: 568.2078108 (2244)\ttotal: 2m 30s\tremaining: 0us\n",
      "\n",
      "bestTest = 568.2078108\n",
      "bestIteration = 2244\n",
      "\n",
      "Shrink model to first 2245 iterations.\n"
     ]
    },
    {
     "name": "stderr",
     "output_type": "stream",
     "text": [
      "\u001b[32m[I 2021-05-06 03:09:43,592]\u001b[0m Trial 24 finished with value: 568.2078108287582 and parameters: {'n_estimators': 2290, 'learning_rate': 0.461485057451298, 'depth': 8, 'rsm': 0.9368506577322717}. Best is trial 22 with value: 564.116039239846.\u001b[0m\n"
     ]
    },
    {
     "name": "stdout",
     "output_type": "stream",
     "text": [
      "0:\tlearn: 2749.7538881\ttest: 2747.7320252\tbest: 2747.7320252 (0)\ttotal: 69ms\tremaining: 2m 4s\n",
      "200:\tlearn: 611.2914978\ttest: 640.6465485\tbest: 640.6465485 (200)\ttotal: 16s\tremaining: 2m 7s\n",
      "400:\tlearn: 558.3077985\ttest: 608.7850430\tbest: 608.7850430 (400)\ttotal: 31.9s\tremaining: 1m 51s\n",
      "600:\tlearn: 525.3901557\ttest: 593.1025970\tbest: 593.1025970 (600)\ttotal: 47.8s\tremaining: 1m 35s\n",
      "800:\tlearn: 500.8469664\ttest: 583.4101972\tbest: 583.4101972 (800)\ttotal: 1m 4s\tremaining: 1m 20s\n",
      "1000:\tlearn: 480.5402165\ttest: 577.7230494\tbest: 577.7230494 (1000)\ttotal: 1m 20s\tremaining: 1m 4s\n",
      "1200:\tlearn: 464.5437630\ttest: 573.0746847\tbest: 573.0514632 (1196)\ttotal: 1m 36s\tremaining: 48.2s\n",
      "1400:\tlearn: 450.5432021\ttest: 569.7558236\tbest: 569.7558236 (1400)\ttotal: 1m 52s\tremaining: 32.1s\n",
      "1600:\tlearn: 437.8391720\ttest: 567.0793595\tbest: 567.0793595 (1600)\ttotal: 2m 7s\tremaining: 16.1s\n",
      "1800:\tlearn: 426.7465464\ttest: 565.4105648\tbest: 565.3991083 (1799)\ttotal: 2m 23s\tremaining: 159ms\n",
      "1802:\tlearn: 426.6304530\ttest: 565.4492327\tbest: 565.3991083 (1799)\ttotal: 2m 23s\tremaining: 0us\n",
      "\n",
      "bestTest = 565.3991083\n",
      "bestIteration = 1799\n",
      "\n",
      "Shrink model to first 1800 iterations.\n"
     ]
    },
    {
     "name": "stderr",
     "output_type": "stream",
     "text": [
      "\u001b[32m[I 2021-05-06 03:12:08,538]\u001b[0m Trial 25 finished with value: 565.3991082840414 and parameters: {'n_estimators': 1803, 'learning_rate': 0.3460568973593884, 'depth': 9, 'rsm': 0.9168726396098208}. Best is trial 22 with value: 564.116039239846.\u001b[0m\n"
     ]
    },
    {
     "name": "stdout",
     "output_type": "stream",
     "text": [
      "0:\tlearn: 2185.7645017\ttest: 2182.3770131\tbest: 2182.3770131 (0)\ttotal: 57ms\tremaining: 1m 39s\n",
      "200:\tlearn: 638.9398201\ttest: 662.4325869\tbest: 662.4325869 (200)\ttotal: 13.8s\tremaining: 1m 46s\n",
      "400:\tlearn: 592.0703547\ttest: 628.2174221\tbest: 628.1987127 (399)\ttotal: 27.9s\tremaining: 1m 33s\n",
      "600:\tlearn: 564.4981567\ttest: 613.0512171\tbest: 613.0512171 (600)\ttotal: 41.4s\tremaining: 1m 19s\n",
      "800:\tlearn: 544.1837469\ttest: 604.2920017\tbest: 604.2920017 (800)\ttotal: 54.6s\tremaining: 1m 4s\n",
      "1000:\tlearn: 528.0374377\ttest: 597.0968779\tbest: 597.0928168 (999)\ttotal: 1m 7s\tremaining: 50.8s\n",
      "1200:\tlearn: 515.1022984\ttest: 592.4362714\tbest: 592.4246695 (1199)\ttotal: 1m 21s\tremaining: 37.2s\n",
      "1400:\tlearn: 503.9598688\ttest: 588.4941464\tbest: 588.4941464 (1400)\ttotal: 1m 34s\tremaining: 23.7s\n",
      "1600:\tlearn: 493.6983820\ttest: 585.2947377\tbest: 585.2947377 (1600)\ttotal: 1m 47s\tremaining: 10.1s\n"
     ]
    },
    {
     "name": "stderr",
     "output_type": "stream",
     "text": [
      "\u001b[32m[I 2021-05-06 03:14:06,572]\u001b[0m Trial 26 finished with value: 583.5516424581461 and parameters: {'n_estimators': 1752, 'learning_rate': 0.533479453925409, 'depth': 7, 'rsm': 0.8988651695758743}. Best is trial 22 with value: 564.116039239846.\u001b[0m\n"
     ]
    },
    {
     "name": "stdout",
     "output_type": "stream",
     "text": [
      "1751:\tlearn: 487.3231318\ttest: 583.5719484\tbest: 583.5516425 (1750)\ttotal: 1m 57s\tremaining: 0us\n",
      "\n",
      "bestTest = 583.5516425\n",
      "bestIteration = 1750\n",
      "\n",
      "Shrink model to first 1751 iterations.\n",
      "0:\tlearn: 2711.8128316\ttest: 2710.2871434\tbest: 2710.2871434 (0)\ttotal: 59.6ms\tremaining: 2m 8s\n",
      "200:\tlearn: 635.0357661\ttest: 657.3513096\tbest: 657.3513096 (200)\ttotal: 12.6s\tremaining: 2m 3s\n",
      "400:\tlearn: 584.1224991\ttest: 622.5821815\tbest: 622.5821815 (400)\ttotal: 25.3s\tremaining: 1m 51s\n",
      "600:\tlearn: 554.2797953\ttest: 605.1327864\tbest: 605.1327864 (600)\ttotal: 37.9s\tremaining: 1m 38s\n",
      "800:\tlearn: 532.9106579\ttest: 594.1251341\tbest: 594.1251341 (800)\ttotal: 50.7s\tremaining: 1m 26s\n",
      "1000:\tlearn: 514.8616120\ttest: 586.9897610\tbest: 586.9897610 (1000)\ttotal: 1m 3s\tremaining: 1m 13s\n",
      "1200:\tlearn: 500.0779139\ttest: 581.9959676\tbest: 581.9767185 (1197)\ttotal: 1m 15s\tremaining: 1m\n",
      "1400:\tlearn: 487.2321824\ttest: 577.3467475\tbest: 577.3467475 (1400)\ttotal: 1m 27s\tremaining: 48s\n",
      "1600:\tlearn: 476.1851222\ttest: 573.5736879\tbest: 573.5631401 (1598)\ttotal: 1m 40s\tremaining: 35.5s\n",
      "1800:\tlearn: 466.5320515\ttest: 571.3187470\tbest: 571.3090404 (1798)\ttotal: 1m 53s\tremaining: 22.9s\n",
      "2000:\tlearn: 457.7433040\ttest: 569.8158696\tbest: 569.8158696 (2000)\ttotal: 2m 5s\tremaining: 10.3s\n",
      "2165:\tlearn: 450.6006283\ttest: 567.9930435\tbest: 567.9930435 (2165)\ttotal: 2m 15s\tremaining: 0us\n",
      "\n",
      "bestTest = 567.9930435\n",
      "bestIteration = 2165\n",
      "\n"
     ]
    },
    {
     "name": "stderr",
     "output_type": "stream",
     "text": [
      "\u001b[32m[I 2021-05-06 03:16:23,215]\u001b[0m Trial 27 finished with value: 567.9930435221255 and parameters: {'n_estimators': 2166, 'learning_rate': 0.3558520488407582, 'depth': 8, 'rsm': 0.9672974296535612}. Best is trial 22 with value: 564.116039239846.\u001b[0m\n"
     ]
    },
    {
     "name": "stdout",
     "output_type": "stream",
     "text": [
      "0:\tlearn: 2305.1521878\ttest: 2304.1048375\tbest: 2304.1048375 (0)\ttotal: 71.3ms\tremaining: 2m 9s\n",
      "200:\tlearn: 593.7926658\ttest: 632.6735818\tbest: 632.6735818 (200)\ttotal: 17.2s\tremaining: 2m 18s\n",
      "400:\tlearn: 536.3083255\ttest: 602.9364897\tbest: 602.9364897 (400)\ttotal: 34.2s\tremaining: 2m\n",
      "600:\tlearn: 502.2168968\ttest: 589.2055530\tbest: 589.2055530 (600)\ttotal: 50.9s\tremaining: 1m 42s\n",
      "800:\tlearn: 477.7763726\ttest: 582.9290525\tbest: 582.9001208 (799)\ttotal: 1m 7s\tremaining: 1m 25s\n",
      "1000:\tlearn: 457.7842518\ttest: 578.9775356\tbest: 578.9775356 (1000)\ttotal: 1m 25s\tremaining: 1m 9s\n",
      "1200:\tlearn: 441.0767084\ttest: 576.7719370\tbest: 576.7719370 (1200)\ttotal: 1m 42s\tremaining: 52.2s\n",
      "1400:\tlearn: 426.4140628\ttest: 574.9428729\tbest: 574.9136955 (1398)\ttotal: 1m 59s\tremaining: 35.2s\n",
      "1600:\tlearn: 413.8254413\ttest: 574.0113015\tbest: 574.0003216 (1598)\ttotal: 2m 16s\tremaining: 18.2s\n",
      "1800:\tlearn: 402.4164281\ttest: 573.0728109\tbest: 573.0057546 (1796)\ttotal: 2m 33s\tremaining: 1.19s\n",
      "1814:\tlearn: 401.7586694\ttest: 573.0974744\tbest: 573.0057546 (1796)\ttotal: 2m 34s\tremaining: 0us\n",
      "\n",
      "bestTest = 573.0057546\n",
      "bestIteration = 1796\n",
      "\n",
      "Shrink model to first 1797 iterations.\n"
     ]
    },
    {
     "name": "stderr",
     "output_type": "stream",
     "text": [
      "\u001b[32m[I 2021-05-06 03:18:59,119]\u001b[0m Trial 28 finished with value: 573.0057545670985 and parameters: {'n_estimators': 1815, 'learning_rate': 0.47607040464370515, 'depth': 9, 'rsm': 0.8435100437745686}. Best is trial 22 with value: 564.116039239846.\u001b[0m\n"
     ]
    },
    {
     "name": "stdout",
     "output_type": "stream",
     "text": [
      "0:\tlearn: 1720.7682995\ttest: 1719.4110868\tbest: 1719.4110868 (0)\ttotal: 59.7ms\tremaining: 2m 28s\n",
      "200:\tlearn: 630.8299407\ttest: 656.9939902\tbest: 656.9939902 (200)\ttotal: 12.6s\tremaining: 2m 24s\n",
      "400:\tlearn: 584.7562535\ttest: 627.4779528\tbest: 627.4779528 (400)\ttotal: 25s\tremaining: 2m 10s\n",
      "600:\tlearn: 555.8443238\ttest: 612.4017776\tbest: 612.4017776 (600)\ttotal: 37.8s\tremaining: 1m 59s\n",
      "800:\tlearn: 534.7164768\ttest: 604.6627747\tbest: 604.6561279 (799)\ttotal: 50.2s\tremaining: 1m 46s\n",
      "1000:\tlearn: 518.7556313\ttest: 599.1501189\tbest: 599.1501189 (1000)\ttotal: 1m 2s\tremaining: 1m 33s\n",
      "1200:\tlearn: 504.0876313\ttest: 594.2634142\tbest: 594.2634142 (1200)\ttotal: 1m 15s\tremaining: 1m 21s\n",
      "1400:\tlearn: 491.6989369\ttest: 592.4581020\tbest: 592.4581020 (1400)\ttotal: 1m 27s\tremaining: 1m 8s\n",
      "1600:\tlearn: 481.9660016\ttest: 590.8475520\tbest: 590.7718524 (1579)\ttotal: 1m 40s\tremaining: 56s\n",
      "1800:\tlearn: 472.5730270\ttest: 590.1614752\tbest: 590.0222769 (1746)\ttotal: 1m 52s\tremaining: 43.4s\n",
      "2000:\tlearn: 464.6800266\ttest: 589.2955712\tbest: 589.2052870 (1986)\ttotal: 2m 5s\tremaining: 30.9s\n",
      "2200:\tlearn: 457.2851224\ttest: 588.7075708\tbest: 588.7075708 (2200)\ttotal: 2m 17s\tremaining: 18.3s\n",
      "2400:\tlearn: 450.2428528\ttest: 587.7757155\tbest: 587.7714790 (2342)\ttotal: 2m 30s\tremaining: 5.76s\n"
     ]
    },
    {
     "name": "stderr",
     "output_type": "stream",
     "text": [
      "\u001b[32m[I 2021-05-06 03:21:36,104]\u001b[0m Trial 29 finished with value: 587.4475331842691 and parameters: {'n_estimators': 2493, 'learning_rate': 0.7124819133307836, 'depth': 7, 'rsm': 0.9052972084725294}. Best is trial 22 with value: 564.116039239846.\u001b[0m\n"
     ]
    },
    {
     "name": "stdout",
     "output_type": "stream",
     "text": [
      "2492:\tlearn: 446.7499482\ttest: 587.5295881\tbest: 587.4475332 (2487)\ttotal: 2m 36s\tremaining: 0us\n",
      "\n",
      "bestTest = 587.4475332\n",
      "bestIteration = 2487\n",
      "\n",
      "Shrink model to first 2488 iterations.\n",
      "0:\tlearn: 3279.0382951\ttest: 3277.6023189\tbest: 3277.6023189 (0)\ttotal: 67.7ms\tremaining: 2m 16s\n",
      "200:\tlearn: 677.7115064\ttest: 691.4866968\tbest: 691.4866968 (200)\ttotal: 14.4s\tremaining: 2m 10s\n",
      "400:\tlearn: 630.1741363\ttest: 652.9797019\tbest: 652.9797019 (400)\ttotal: 28.5s\tremaining: 1m 55s\n",
      "600:\tlearn: 600.8048589\ttest: 631.5271986\tbest: 631.5271986 (600)\ttotal: 42.8s\tremaining: 1m 41s\n",
      "800:\tlearn: 579.1988002\ttest: 617.2854626\tbest: 617.2854626 (800)\ttotal: 57.5s\tremaining: 1m 27s\n",
      "1000:\tlearn: 562.6120077\ttest: 607.4664317\tbest: 607.4664317 (1000)\ttotal: 1m 12s\tremaining: 1m 13s\n",
      "1200:\tlearn: 549.2591338\ttest: 600.1755292\tbest: 600.1755292 (1200)\ttotal: 1m 26s\tremaining: 59s\n",
      "1400:\tlearn: 537.2895322\ttest: 594.5065113\tbest: 594.5065113 (1400)\ttotal: 1m 40s\tremaining: 44.7s\n",
      "1600:\tlearn: 526.2728196\ttest: 588.6804294\tbest: 588.6804294 (1600)\ttotal: 1m 55s\tremaining: 30.4s\n",
      "1800:\tlearn: 516.6928832\ttest: 583.9481468\tbest: 583.9398744 (1799)\ttotal: 2m 10s\tremaining: 16s\n",
      "2000:\tlearn: 508.2661107\ttest: 580.3349946\tbest: 580.3349375 (1998)\ttotal: 2m 24s\tremaining: 1.52s\n"
     ]
    },
    {
     "name": "stderr",
     "output_type": "stream",
     "text": [
      "\u001b[32m[I 2021-05-06 03:24:03,218]\u001b[0m Trial 30 finished with value: 580.0865320779462 and parameters: {'n_estimators': 2022, 'learning_rate': 0.18675331143269372, 'depth': 8, 'rsm': 0.8254156541954958}. Best is trial 22 with value: 564.116039239846.\u001b[0m\n"
     ]
    },
    {
     "name": "stdout",
     "output_type": "stream",
     "text": [
      "2021:\tlearn: 507.3827165\ttest: 580.0865321\tbest: 580.0865321 (2021)\ttotal: 2m 26s\tremaining: 0us\n",
      "\n",
      "bestTest = 580.0865321\n",
      "bestIteration = 2021\n",
      "\n",
      "0:\tlearn: 2659.0817841\ttest: 2657.4712527\tbest: 2657.4712527 (0)\ttotal: 64.7ms\tremaining: 2m 2s\n",
      "200:\tlearn: 605.7612379\ttest: 636.2757693\tbest: 636.2757693 (200)\ttotal: 14.6s\tremaining: 2m 3s\n",
      "400:\tlearn: 551.7946060\ttest: 605.9772933\tbest: 605.9772933 (400)\ttotal: 29.3s\tremaining: 1m 49s\n",
      "600:\tlearn: 517.0399212\ttest: 589.5309408\tbest: 589.5309408 (600)\ttotal: 44.1s\tremaining: 1m 34s\n",
      "800:\tlearn: 492.6694453\ttest: 580.5249937\tbest: 580.4821157 (799)\ttotal: 58.9s\tremaining: 1m 20s\n",
      "1000:\tlearn: 472.9688321\ttest: 575.7339029\tbest: 575.7183044 (997)\ttotal: 1m 13s\tremaining: 1m 5s\n",
      "1200:\tlearn: 456.6925779\ttest: 570.9411229\tbest: 570.9411229 (1200)\ttotal: 1m 27s\tremaining: 50.6s\n",
      "1400:\tlearn: 442.2495225\ttest: 568.8009679\tbest: 568.7647942 (1392)\ttotal: 1m 42s\tremaining: 36s\n",
      "1600:\tlearn: 430.1040213\ttest: 567.5153309\tbest: 567.5142298 (1599)\ttotal: 1m 57s\tremaining: 21.3s\n",
      "1800:\tlearn: 419.2143336\ttest: 565.6883079\tbest: 565.6883079 (1800)\ttotal: 2m 12s\tremaining: 6.67s\n",
      "1891:\tlearn: 414.4127950\ttest: 564.8557320\tbest: 564.8557320 (1891)\ttotal: 2m 18s\tremaining: 0us\n",
      "\n",
      "bestTest = 564.855732\n",
      "bestIteration = 1891\n",
      "\n"
     ]
    },
    {
     "name": "stderr",
     "output_type": "stream",
     "text": [
      "\u001b[32m[I 2021-05-06 03:26:23,400]\u001b[0m Trial 31 finished with value: 564.8557319810068 and parameters: {'n_estimators': 1892, 'learning_rate': 0.37036984516373245, 'depth': 9, 'rsm': 0.9668781025266878}. Best is trial 22 with value: 564.116039239846.\u001b[0m\n"
     ]
    },
    {
     "name": "stdout",
     "output_type": "stream",
     "text": [
      "0:\tlearn: 2683.0215344\ttest: 2681.4088074\tbest: 2681.4088074 (0)\ttotal: 65.6ms\tremaining: 1m 45s\n",
      "200:\tlearn: 608.2709061\ttest: 638.4633454\tbest: 638.4633454 (200)\ttotal: 14.9s\tremaining: 1m 44s\n",
      "400:\tlearn: 553.1656428\ttest: 605.5295151\tbest: 605.5295151 (400)\ttotal: 29.2s\tremaining: 1m 28s\n",
      "600:\tlearn: 519.6898237\ttest: 590.7940232\tbest: 590.7940232 (600)\ttotal: 43.7s\tremaining: 1m 13s\n",
      "800:\tlearn: 495.8622408\ttest: 582.5795682\tbest: 582.5766949 (796)\ttotal: 58.3s\tremaining: 59s\n",
      "1000:\tlearn: 475.6298300\ttest: 576.9304156\tbest: 576.9189814 (999)\ttotal: 1m 12s\tremaining: 44.4s\n",
      "1200:\tlearn: 458.8733091\ttest: 572.4516287\tbest: 572.4516287 (1200)\ttotal: 1m 27s\tremaining: 29.9s\n",
      "1400:\tlearn: 444.2412615\ttest: 569.5064393\tbest: 569.4949053 (1399)\ttotal: 1m 41s\tremaining: 15.4s\n",
      "1600:\tlearn: 431.9194497\ttest: 567.4563848\tbest: 567.4563848 (1600)\ttotal: 1m 56s\tremaining: 802ms\n",
      "1611:\tlearn: 431.3711996\ttest: 567.4125932\tbest: 567.3971757 (1609)\ttotal: 1m 57s\tremaining: 0us\n",
      "\n",
      "bestTest = 567.3971757\n",
      "bestIteration = 1609\n",
      "\n",
      "Shrink model to first 1610 iterations.\n"
     ]
    },
    {
     "name": "stderr",
     "output_type": "stream",
     "text": [
      "\u001b[32m[I 2021-05-06 03:28:22,098]\u001b[0m Trial 32 finished with value: 567.3971757063462 and parameters: {'n_estimators': 1612, 'learning_rate': 0.3630167025547376, 'depth': 9, 'rsm': 0.9609569601208793}. Best is trial 22 with value: 564.116039239846.\u001b[0m\n"
     ]
    },
    {
     "name": "stdout",
     "output_type": "stream",
     "text": [
      "0:\tlearn: 2441.3393075\ttest: 2439.8132608\tbest: 2439.8132608 (0)\ttotal: 70.9ms\tremaining: 2m 37s\n",
      "200:\tlearn: 597.7687379\ttest: 632.8418481\tbest: 632.8418481 (200)\ttotal: 16.4s\tremaining: 2m 45s\n",
      "400:\tlearn: 542.4207684\ttest: 601.8022335\tbest: 601.8022335 (400)\ttotal: 32.5s\tremaining: 2m 27s\n",
      "600:\tlearn: 508.6645568\ttest: 587.9349946\tbest: 587.9349946 (600)\ttotal: 48.5s\tremaining: 2m 10s\n",
      "800:\tlearn: 483.0708732\ttest: 579.8877566\tbest: 579.8705362 (797)\ttotal: 1m 4s\tremaining: 1m 54s\n",
      "1000:\tlearn: 463.0114124\ttest: 574.3158926\tbest: 574.3010453 (996)\ttotal: 1m 20s\tremaining: 1m 38s\n",
      "1200:\tlearn: 445.9914061\ttest: 571.0899199\tbest: 571.0899199 (1200)\ttotal: 1m 36s\tremaining: 1m 22s\n",
      "1400:\tlearn: 431.7934969\ttest: 568.9701513\tbest: 568.9604440 (1398)\ttotal: 1m 52s\tremaining: 1m 6s\n",
      "1600:\tlearn: 419.5759737\ttest: 567.0963874\tbest: 567.0963874 (1600)\ttotal: 2m 8s\tremaining: 50.1s\n",
      "1800:\tlearn: 408.0614032\ttest: 566.0786654\tbest: 566.0364399 (1792)\ttotal: 2m 24s\tremaining: 34s\n",
      "2000:\tlearn: 397.9072063\ttest: 565.7045183\tbest: 565.6916545 (1995)\ttotal: 2m 40s\tremaining: 17.9s\n",
      "2200:\tlearn: 388.6860349\ttest: 565.4480976\tbest: 565.4068953 (2162)\ttotal: 2m 56s\tremaining: 1.84s\n",
      "2223:\tlearn: 387.6843997\ttest: 565.2163101\tbest: 565.2163101 (2223)\ttotal: 2m 58s\tremaining: 0us\n",
      "\n",
      "bestTest = 565.2163101\n",
      "bestIteration = 2223\n",
      "\n"
     ]
    },
    {
     "name": "stderr",
     "output_type": "stream",
     "text": [
      "\u001b[32m[I 2021-05-06 03:31:21,968]\u001b[0m Trial 33 finished with value: 565.2163100555538 and parameters: {'n_estimators': 2224, 'learning_rate': 0.43929752842745334, 'depth': 9, 'rsm': 0.9110583677977009}. Best is trial 22 with value: 564.116039239846.\u001b[0m\n"
     ]
    },
    {
     "name": "stdout",
     "output_type": "stream",
     "text": [
      "0:\tlearn: 2337.3187861\ttest: 2334.1157745\tbest: 2334.1157745 (0)\ttotal: 64.3ms\tremaining: 2m 25s\n",
      "200:\tlearn: 622.8367550\ttest: 649.7615032\tbest: 649.7615032 (200)\ttotal: 14.5s\tremaining: 2m 28s\n",
      "400:\tlearn: 571.8206458\ttest: 617.2141219\tbest: 617.2141219 (400)\ttotal: 28.8s\tremaining: 2m 13s\n",
      "600:\tlearn: 540.6828758\ttest: 601.9283317\tbest: 601.9283317 (600)\ttotal: 43.3s\tremaining: 1m 59s\n",
      "800:\tlearn: 519.1562219\ttest: 594.2034665\tbest: 594.2034665 (800)\ttotal: 57.7s\tremaining: 1m 44s\n",
      "1000:\tlearn: 500.2756394\ttest: 585.8158026\tbest: 585.8070892 (999)\ttotal: 1m 12s\tremaining: 1m 30s\n",
      "1200:\tlearn: 484.8201425\ttest: 581.5486796\tbest: 581.5396085 (1199)\ttotal: 1m 26s\tremaining: 1m 16s\n",
      "1400:\tlearn: 472.3468344\ttest: 578.2973140\tbest: 578.2888409 (1396)\ttotal: 1m 41s\tremaining: 1m 1s\n",
      "1600:\tlearn: 460.6738396\ttest: 576.1079139\tbest: 576.1079139 (1600)\ttotal: 1m 55s\tremaining: 47.5s\n",
      "1800:\tlearn: 450.8402601\ttest: 574.4441866\tbest: 574.4441866 (1800)\ttotal: 2m 9s\tremaining: 33s\n",
      "2000:\tlearn: 442.2118005\ttest: 572.9197245\tbest: 572.9197245 (2000)\ttotal: 2m 24s\tremaining: 18.5s\n",
      "2200:\tlearn: 434.1968762\ttest: 572.4145676\tbest: 572.3753245 (2190)\ttotal: 2m 39s\tremaining: 4.12s\n",
      "2257:\tlearn: 431.8360037\ttest: 572.2274437\tbest: 572.0937136 (2234)\ttotal: 2m 43s\tremaining: 0us\n",
      "\n",
      "bestTest = 572.0937136\n",
      "bestIteration = 2234\n",
      "\n",
      "Shrink model to first 2235 iterations.\n"
     ]
    },
    {
     "name": "stderr",
     "output_type": "stream",
     "text": [
      "\u001b[32m[I 2021-05-06 03:34:06,079]\u001b[0m Trial 34 finished with value: 572.0937136392997 and parameters: {'n_estimators': 2258, 'learning_rate': 0.47440964037637723, 'depth': 8, 'rsm': 0.772891333947931}. Best is trial 22 with value: 564.116039239846.\u001b[0m\n"
     ]
    },
    {
     "name": "stdout",
     "output_type": "stream",
     "text": [
      "0:\tlearn: 1988.9208080\ttest: 1987.6062603\tbest: 1987.6062603 (0)\ttotal: 91.2ms\tremaining: 3m 41s\n",
      "200:\tlearn: 552.1480341\ttest: 615.3965119\tbest: 615.3965119 (200)\ttotal: 19.5s\tremaining: 3m 35s\n",
      "400:\tlearn: 486.8835881\ttest: 591.4309978\tbest: 591.3236895 (398)\ttotal: 39.2s\tremaining: 3m 17s\n",
      "600:\tlearn: 448.3316741\ttest: 582.5533705\tbest: 582.5533705 (600)\ttotal: 58.5s\tremaining: 2m 57s\n",
      "800:\tlearn: 418.8307161\ttest: 580.0938893\tbest: 580.0631038 (769)\ttotal: 1m 17s\tremaining: 2m 37s\n",
      "1000:\tlearn: 395.7143889\ttest: 579.1899046\tbest: 578.9321126 (959)\ttotal: 1m 37s\tremaining: 2m 18s\n",
      "Stopped by overfitting detector  (100 iterations wait)\n",
      "\n",
      "bestTest = 578.9321126\n",
      "bestIteration = 959\n",
      "\n",
      "Shrink model to first 960 iterations.\n"
     ]
    },
    {
     "name": "stderr",
     "output_type": "stream",
     "text": [
      "\u001b[32m[I 2021-05-06 03:35:50,347]\u001b[0m Trial 35 finished with value: 578.9321126257269 and parameters: {'n_estimators': 2425, 'learning_rate': 0.5786035783628614, 'depth': 10, 'rsm': 0.8888670814359048}. Best is trial 22 with value: 564.116039239846.\u001b[0m\n"
     ]
    },
    {
     "name": "stdout",
     "output_type": "stream",
     "text": [
      "0:\tlearn: 2832.9105894\ttest: 2831.6256827\tbest: 2831.6256827 (0)\ttotal: 44.8ms\tremaining: 1m 36s\n",
      "200:\tlearn: 720.4896005\ttest: 730.3020706\tbest: 730.3020706 (200)\ttotal: 9.58s\tremaining: 1m 33s\n",
      "400:\tlearn: 677.4470089\ttest: 692.1761984\tbest: 692.1761984 (400)\ttotal: 18.8s\tremaining: 1m 22s\n",
      "600:\tlearn: 653.2746962\ttest: 672.1785950\tbest: 672.1785950 (600)\ttotal: 28.2s\tremaining: 1m 13s\n",
      "800:\tlearn: 635.7807023\ttest: 657.7992124\tbest: 657.7992124 (800)\ttotal: 37.3s\tremaining: 1m 3s\n",
      "1000:\tlearn: 622.6551020\ttest: 647.8955052\tbest: 647.8955052 (1000)\ttotal: 46.6s\tremaining: 54s\n",
      "1200:\tlearn: 611.4635127\ttest: 639.9308437\tbest: 639.9308437 (1200)\ttotal: 56s\tremaining: 44.8s\n",
      "1400:\tlearn: 602.2156561\ttest: 633.0497581\tbest: 633.0497581 (1400)\ttotal: 1m 5s\tremaining: 35.4s\n",
      "1600:\tlearn: 594.9396059\ttest: 628.3212814\tbest: 628.3086043 (1596)\ttotal: 1m 14s\tremaining: 26.2s\n",
      "1800:\tlearn: 588.3003552\ttest: 623.9380990\tbest: 623.9380990 (1800)\ttotal: 1m 24s\tremaining: 16.8s\n",
      "2000:\tlearn: 581.9463772\ttest: 620.3161273\tbest: 620.3161273 (2000)\ttotal: 1m 33s\tremaining: 7.48s\n"
     ]
    },
    {
     "name": "stderr",
     "output_type": "stream",
     "text": [
      "\u001b[32m[I 2021-05-06 03:37:32,139]\u001b[0m Trial 36 finished with value: 616.797948198118 and parameters: {'n_estimators': 2161, 'learning_rate': 0.3363983659088176, 'depth': 5, 'rsm': 0.9708624960620611}. Best is trial 22 with value: 564.116039239846.\u001b[0m\n"
     ]
    },
    {
     "name": "stdout",
     "output_type": "stream",
     "text": [
      "2160:\tlearn: 577.1025423\ttest: 616.7979482\tbest: 616.7979482 (2160)\ttotal: 1m 41s\tremaining: 0us\n",
      "\n",
      "bestTest = 616.7979482\n",
      "bestIteration = 2160\n",
      "\n",
      "0:\tlearn: 2459.5751466\ttest: 2457.3892077\tbest: 2457.3892077 (0)\ttotal: 62.7ms\tremaining: 2m 2s\n",
      "200:\tlearn: 598.1624610\ttest: 633.5796389\tbest: 633.5796389 (200)\ttotal: 13.3s\tremaining: 1m 56s\n",
      "400:\tlearn: 541.9963816\ttest: 601.4906331\tbest: 601.4906331 (400)\ttotal: 26.9s\tremaining: 1m 44s\n",
      "600:\tlearn: 509.1411508\ttest: 588.8001960\tbest: 588.7754266 (597)\ttotal: 40.4s\tremaining: 1m 31s\n",
      "800:\tlearn: 483.2273409\ttest: 580.8278733\tbest: 580.8278733 (800)\ttotal: 53.9s\tremaining: 1m 17s\n",
      "1000:\tlearn: 462.8021693\ttest: 574.9924443\tbest: 574.9924443 (1000)\ttotal: 1m 7s\tremaining: 1m 4s\n",
      "1200:\tlearn: 446.3137791\ttest: 571.9827289\tbest: 571.9700061 (1198)\ttotal: 1m 20s\tremaining: 50.8s\n",
      "1400:\tlearn: 431.8533419\ttest: 569.6445969\tbest: 569.5422742 (1393)\ttotal: 1m 33s\tremaining: 37.3s\n",
      "1600:\tlearn: 419.4219152\ttest: 568.3700355\tbest: 568.3056001 (1599)\ttotal: 1m 47s\tremaining: 23.9s\n",
      "1800:\tlearn: 408.3072225\ttest: 567.1901646\tbest: 567.1901646 (1800)\ttotal: 2m\tremaining: 10.5s\n",
      "1957:\tlearn: 400.4810548\ttest: 566.9488045\tbest: 566.8552705 (1858)\ttotal: 2m 10s\tremaining: 0us\n",
      "\n",
      "bestTest = 566.8552705\n",
      "bestIteration = 1858\n",
      "\n",
      "Shrink model to first 1859 iterations.\n"
     ]
    },
    {
     "name": "stderr",
     "output_type": "stream",
     "text": [
      "\u001b[32m[I 2021-05-06 03:39:44,209]\u001b[0m Trial 37 finished with value: 566.8552705137524 and parameters: {'n_estimators': 1958, 'learning_rate': 0.43051714164312915, 'depth': 9, 'rsm': 0.9989378772302268}. Best is trial 22 with value: 564.116039239846.\u001b[0m\n"
     ]
    },
    {
     "name": "stdout",
     "output_type": "stream",
     "text": [
      "0:\tlearn: 2082.0157781\ttest: 2080.6702685\tbest: 2080.6702685 (0)\ttotal: 63.2ms\tremaining: 1m 45s\n",
      "200:\tlearn: 613.5384703\ttest: 646.8555857\tbest: 646.8555857 (200)\ttotal: 13.2s\tremaining: 1m 37s\n",
      "400:\tlearn: 561.5397702\ttest: 616.2451886\tbest: 616.2416901 (399)\ttotal: 26.6s\tremaining: 1m 24s\n",
      "600:\tlearn: 530.4647948\ttest: 600.1858758\tbest: 600.1858758 (600)\ttotal: 40s\tremaining: 1m 11s\n",
      "800:\tlearn: 507.6865494\ttest: 591.6662809\tbest: 591.6662809 (800)\ttotal: 53.6s\tremaining: 58.6s\n",
      "1000:\tlearn: 489.2233912\ttest: 586.1134322\tbest: 586.0601596 (992)\ttotal: 1m 7s\tremaining: 45.3s\n",
      "1200:\tlearn: 473.8133058\ttest: 581.3305065\tbest: 581.3079395 (1199)\ttotal: 1m 20s\tremaining: 31.9s\n",
      "1400:\tlearn: 460.5013818\ttest: 579.4190575\tbest: 579.4103282 (1397)\ttotal: 1m 33s\tremaining: 18.4s\n",
      "1600:\tlearn: 448.9806719\ttest: 577.9820177\tbest: 577.9820177 (1600)\ttotal: 1m 46s\tremaining: 5.01s\n"
     ]
    },
    {
     "name": "stderr",
     "output_type": "stream",
     "text": [
      "\u001b[32m[I 2021-05-06 03:41:36,945]\u001b[0m Trial 38 finished with value: 577.6063693795713 and parameters: {'n_estimators': 1676, 'learning_rate': 0.5574616318939906, 'depth': 8, 'rsm': 0.9156205335124916}. Best is trial 22 with value: 564.116039239846.\u001b[0m\n"
     ]
    },
    {
     "name": "stdout",
     "output_type": "stream",
     "text": [
      "1675:\tlearn: 445.1044850\ttest: 577.6776307\tbest: 577.6063694 (1665)\ttotal: 1m 51s\tremaining: 0us\n",
      "\n",
      "bestTest = 577.6063694\n",
      "bestIteration = 1665\n",
      "\n",
      "Shrink model to first 1666 iterations.\n",
      "0:\tlearn: 3156.4741949\ttest: 3153.7906220\tbest: 3153.7906220 (0)\ttotal: 61.4ms\tremaining: 2m 6s\n",
      "200:\tlearn: 714.2584540\ttest: 724.8558290\tbest: 724.8558290 (200)\ttotal: 11.3s\tremaining: 1m 44s\n",
      "400:\tlearn: 669.2118467\ttest: 684.4316140\tbest: 684.4316140 (400)\ttotal: 22.6s\tremaining: 1m 33s\n",
      "600:\tlearn: 642.7643075\ttest: 661.8158854\tbest: 661.8158854 (600)\ttotal: 33.9s\tremaining: 1m 22s\n",
      "800:\tlearn: 625.3099570\ttest: 648.0168577\tbest: 648.0168577 (800)\ttotal: 45.2s\tremaining: 1m 11s\n",
      "1000:\tlearn: 611.2438041\ttest: 637.1926121\tbest: 637.1926121 (1000)\ttotal: 56.6s\tremaining: 1m\n",
      "1200:\tlearn: 600.1421813\ttest: 629.2642307\tbest: 629.2642307 (1200)\ttotal: 1m 7s\tremaining: 48.9s\n",
      "1400:\tlearn: 590.3100580\ttest: 622.3436454\tbest: 622.3436454 (1400)\ttotal: 1m 19s\tremaining: 37.5s\n",
      "1600:\tlearn: 581.7090450\ttest: 617.1884135\tbest: 617.1884135 (1600)\ttotal: 1m 30s\tremaining: 26.2s\n",
      "1800:\tlearn: 574.3267476\ttest: 612.5242570\tbest: 612.5242570 (1800)\ttotal: 1m 41s\tremaining: 14.9s\n",
      "2000:\tlearn: 567.3894740\ttest: 608.6283408\tbest: 608.6283408 (2000)\ttotal: 1m 52s\tremaining: 3.67s\n"
     ]
    },
    {
     "name": "stderr",
     "output_type": "stream",
     "text": [
      "\u001b[32m[I 2021-05-06 03:43:34,367]\u001b[0m Trial 39 finished with value: 607.2729630481517 and parameters: {'n_estimators': 2066, 'learning_rate': 0.22792403033994402, 'depth': 6, 'rsm': 0.7932725249099101}. Best is trial 22 with value: 564.116039239846.\u001b[0m\n"
     ]
    },
    {
     "name": "stdout",
     "output_type": "stream",
     "text": [
      "2065:\tlearn: 565.2074708\ttest: 607.2729630\tbest: 607.2729630 (2065)\ttotal: 1m 56s\tremaining: 0us\n",
      "\n",
      "bestTest = 607.272963\n",
      "bestIteration = 2065\n",
      "\n",
      "0:\tlearn: 2985.0374746\ttest: 2984.5819366\tbest: 2984.5819366 (0)\ttotal: 35ms\tremaining: 1m 6s\n",
      "200:\tlearn: 814.4434082\ttest: 820.3442924\tbest: 820.3442924 (200)\ttotal: 7.61s\tremaining: 1m 4s\n",
      "400:\tlearn: 773.0339126\ttest: 779.1785875\tbest: 779.1785875 (400)\ttotal: 15.2s\tremaining: 57.3s\n",
      "600:\tlearn: 750.0824535\ttest: 757.5788820\tbest: 757.5788820 (600)\ttotal: 22.7s\tremaining: 49.5s\n",
      "800:\tlearn: 735.1092338\ttest: 744.0162996\tbest: 744.0162996 (800)\ttotal: 30.2s\tremaining: 41.9s\n",
      "1000:\tlearn: 723.7163429\ttest: 733.8271220\tbest: 733.8271220 (1000)\ttotal: 37.7s\tremaining: 34.2s\n",
      "1200:\tlearn: 714.5353752\ttest: 725.6407162\tbest: 725.6407162 (1200)\ttotal: 45.2s\tremaining: 26.7s\n",
      "1400:\tlearn: 707.0928829\ttest: 718.7601941\tbest: 718.7601941 (1400)\ttotal: 52.6s\tremaining: 19.1s\n",
      "1600:\tlearn: 700.8098771\ttest: 713.2180193\tbest: 713.2180193 (1600)\ttotal: 1m\tremaining: 11.6s\n",
      "1800:\tlearn: 695.1564910\ttest: 708.5597228\tbest: 708.5597228 (1800)\ttotal: 1m 7s\tremaining: 4.1s\n"
     ]
    },
    {
     "name": "stderr",
     "output_type": "stream",
     "text": [
      "\u001b[32m[I 2021-05-06 03:44:47,161]\u001b[0m Trial 40 finished with value: 706.0543925695724 and parameters: {'n_estimators': 1910, 'learning_rate': 0.3160407796053669, 'depth': 3, 'rsm': 0.7196246319595948}. Best is trial 22 with value: 564.116039239846.\u001b[0m\n"
     ]
    },
    {
     "name": "stdout",
     "output_type": "stream",
     "text": [
      "1909:\tlearn: 692.3779568\ttest: 706.0595713\tbest: 706.0543926 (1908)\ttotal: 1m 12s\tremaining: 0us\n",
      "\n",
      "bestTest = 706.0543926\n",
      "bestIteration = 1908\n",
      "\n",
      "Shrink model to first 1909 iterations.\n",
      "0:\tlearn: 2470.8844004\ttest: 2469.5135783\tbest: 2469.5135783 (0)\ttotal: 74.3ms\tremaining: 1m 51s\n",
      "200:\tlearn: 597.8161941\ttest: 633.8428312\tbest: 633.8428312 (200)\ttotal: 16.6s\tremaining: 1m 47s\n",
      "400:\tlearn: 543.2031056\ttest: 603.9013357\tbest: 603.9013357 (400)\ttotal: 33.5s\tremaining: 1m 31s\n",
      "600:\tlearn: 510.3286739\ttest: 590.7026440\tbest: 590.7026440 (600)\ttotal: 50s\tremaining: 1m 15s\n",
      "800:\tlearn: 485.3600480\ttest: 582.2666519\tbest: 582.2666519 (800)\ttotal: 1m 6s\tremaining: 58.4s\n",
      "1000:\tlearn: 464.9477073\ttest: 575.8992820\tbest: 575.8992820 (1000)\ttotal: 1m 23s\tremaining: 41.9s\n",
      "1200:\tlearn: 447.9775672\ttest: 572.7364361\tbest: 572.7364361 (1200)\ttotal: 1m 40s\tremaining: 25.2s\n",
      "1400:\tlearn: 434.0276810\ttest: 570.6702209\tbest: 570.5960444 (1387)\ttotal: 1m 57s\tremaining: 8.52s\n",
      "1502:\tlearn: 427.3837790\ttest: 569.5278116\tbest: 569.5278116 (1502)\ttotal: 2m 5s\tremaining: 0us\n",
      "\n",
      "bestTest = 569.5278116\n",
      "bestIteration = 1502\n",
      "\n"
     ]
    },
    {
     "name": "stderr",
     "output_type": "stream",
     "text": [
      "\u001b[32m[I 2021-05-06 03:46:53,802]\u001b[0m Trial 41 finished with value: 569.5278115743959 and parameters: {'n_estimators': 1503, 'learning_rate': 0.43051979640779386, 'depth': 9, 'rsm': 0.8703963566175552}. Best is trial 22 with value: 564.116039239846.\u001b[0m\n"
     ]
    },
    {
     "name": "stdout",
     "output_type": "stream",
     "text": [
      "0:\tlearn: 2305.4629391\ttest: 2303.9692750\tbest: 2303.9692750 (0)\ttotal: 69.8ms\tremaining: 2m 4s\n",
      "200:\tlearn: 591.4894174\ttest: 632.0046008\tbest: 632.0046008 (200)\ttotal: 14.5s\tremaining: 1m 54s\n",
      "400:\tlearn: 536.8291558\ttest: 603.3377019\tbest: 603.3377019 (400)\ttotal: 29s\tremaining: 1m 40s\n",
      "600:\tlearn: 501.1317548\ttest: 589.7398556\tbest: 589.7291586 (599)\ttotal: 44s\tremaining: 1m 26s\n",
      "800:\tlearn: 476.7000992\ttest: 583.1669812\tbest: 583.1669812 (800)\ttotal: 59.1s\tremaining: 1m 12s\n",
      "1000:\tlearn: 456.3530832\ttest: 579.3190424\tbest: 579.2764051 (996)\ttotal: 1m 13s\tremaining: 58s\n",
      "1200:\tlearn: 438.7007448\ttest: 575.2833252\tbest: 575.2216129 (1186)\ttotal: 1m 28s\tremaining: 43.2s\n",
      "1400:\tlearn: 425.0198068\ttest: 573.7718125\tbest: 573.6870393 (1394)\ttotal: 1m 43s\tremaining: 28.5s\n",
      "1600:\tlearn: 412.2821700\ttest: 572.9924391\tbest: 572.9081802 (1558)\ttotal: 1m 58s\tremaining: 13.7s\n",
      "1785:\tlearn: 401.8854916\ttest: 572.1704606\tbest: 572.0521010 (1778)\ttotal: 2m 12s\tremaining: 0us\n",
      "\n",
      "bestTest = 572.052101\n",
      "bestIteration = 1778\n",
      "\n",
      "Shrink model to first 1779 iterations.\n"
     ]
    },
    {
     "name": "stderr",
     "output_type": "stream",
     "text": [
      "\u001b[32m[I 2021-05-06 03:49:07,342]\u001b[0m Trial 42 finished with value: 572.0521009922433 and parameters: {'n_estimators': 1786, 'learning_rate': 0.48173936681716223, 'depth': 9, 'rsm': 0.9575036450810818}. Best is trial 22 with value: 564.116039239846.\u001b[0m\n"
     ]
    },
    {
     "name": "stdout",
     "output_type": "stream",
     "text": [
      "0:\tlearn: 2620.5077214\ttest: 2618.3083158\tbest: 2618.3083158 (0)\ttotal: 92.5ms\tremaining: 2m 55s\n",
      "200:\tlearn: 579.2658474\ttest: 624.7076093\tbest: 624.7076093 (200)\ttotal: 19.2s\tremaining: 2m 42s\n",
      "400:\tlearn: 519.3479827\ttest: 595.5545604\tbest: 595.5545604 (400)\ttotal: 38.4s\tremaining: 2m 23s\n",
      "600:\tlearn: 481.3095041\ttest: 582.9896291\tbest: 582.9896291 (600)\ttotal: 58.2s\tremaining: 2m 5s\n",
      "800:\tlearn: 453.7888827\ttest: 576.8760380\tbest: 576.8760380 (800)\ttotal: 1m 17s\tremaining: 1m 46s\n",
      "1000:\tlearn: 430.8715783\ttest: 572.0586955\tbest: 572.0586955 (1000)\ttotal: 1m 37s\tremaining: 1m 27s\n",
      "1200:\tlearn: 413.5042375\ttest: 569.3697525\tbest: 569.3671844 (1184)\ttotal: 1m 56s\tremaining: 1m 8s\n",
      "1400:\tlearn: 397.3306952\ttest: 567.8924293\tbest: 567.8750619 (1399)\ttotal: 2m 16s\tremaining: 48.6s\n",
      "1600:\tlearn: 383.4378718\ttest: 567.0452482\tbest: 567.0297170 (1598)\ttotal: 2m 36s\tremaining: 29.3s\n",
      "Stopped by overfitting detector  (100 iterations wait)\n",
      "\n",
      "bestTest = 566.816961\n",
      "bestIteration = 1678\n",
      "\n",
      "Shrink model to first 1679 iterations.\n"
     ]
    },
    {
     "name": "stderr",
     "output_type": "stream",
     "text": [
      "\u001b[32m[I 2021-05-06 03:52:03,090]\u001b[0m Trial 43 finished with value: 566.816960998843 and parameters: {'n_estimators': 1901, 'learning_rate': 0.38180952404798923, 'depth': 10, 'rsm': 0.9179922668472007}. Best is trial 22 with value: 564.116039239846.\u001b[0m\n"
     ]
    },
    {
     "name": "stdout",
     "output_type": "stream",
     "text": [
      "0:\tlearn: 2216.4317103\ttest: 2214.9639609\tbest: 2214.9639609 (0)\ttotal: 71.7ms\tremaining: 2m 40s\n",
      "200:\tlearn: 589.4792139\ttest: 632.0050182\tbest: 632.0050182 (200)\ttotal: 16.5s\tremaining: 2m 47s\n",
      "400:\tlearn: 533.4927007\ttest: 601.4777793\tbest: 601.4777793 (400)\ttotal: 32.9s\tremaining: 2m 30s\n",
      "600:\tlearn: 498.1777761\ttest: 588.4550306\tbest: 588.4550306 (600)\ttotal: 49.5s\tremaining: 2m 14s\n",
      "800:\tlearn: 473.1707708\ttest: 581.8823614\tbest: 581.8823614 (800)\ttotal: 1m 5s\tremaining: 1m 57s\n",
      "1000:\tlearn: 452.9112921\ttest: 578.0455443\tbest: 578.0455443 (1000)\ttotal: 1m 22s\tremaining: 1m 41s\n",
      "1200:\tlearn: 436.6690187\ttest: 576.0410354\tbest: 575.9643262 (1183)\ttotal: 1m 38s\tremaining: 1m 24s\n",
      "1400:\tlearn: 421.8725676\ttest: 573.8003527\tbest: 573.7185835 (1382)\ttotal: 1m 55s\tremaining: 1m 8s\n",
      "1600:\tlearn: 409.2830043\ttest: 572.9899726\tbest: 572.9449856 (1590)\ttotal: 2m 11s\tremaining: 52s\n",
      "1800:\tlearn: 397.7972002\ttest: 572.0867948\tbest: 572.0430458 (1727)\ttotal: 2m 27s\tremaining: 35.5s\n",
      "2000:\tlearn: 387.2936995\ttest: 571.9740183\tbest: 571.6536271 (1916)\ttotal: 2m 44s\tremaining: 19.1s\n",
      "Stopped by overfitting detector  (100 iterations wait)\n",
      "\n",
      "bestTest = 571.6536271\n",
      "bestIteration = 1916\n",
      "\n",
      "Shrink model to first 1917 iterations.\n"
     ]
    },
    {
     "name": "stderr",
     "output_type": "stream",
     "text": [
      "\u001b[32m[I 2021-05-06 03:54:50,285]\u001b[0m Trial 44 finished with value: 571.6536271062783 and parameters: {'n_estimators': 2234, 'learning_rate': 0.50703049397168, 'depth': 9, 'rsm': 0.8592401273699426}. Best is trial 22 with value: 564.116039239846.\u001b[0m\n"
     ]
    },
    {
     "name": "stdout",
     "output_type": "stream",
     "text": [
      "0:\tlearn: 3038.8383015\ttest: 3037.3713050\tbest: 3037.3713050 (0)\ttotal: 66.6ms\tremaining: 1m 51s\n",
      "200:\tlearn: 655.0167062\ttest: 673.3337558\tbest: 673.3337558 (200)\ttotal: 14.1s\tremaining: 1m 43s\n",
      "400:\tlearn: 606.4807342\ttest: 636.1545429\tbest: 636.1545429 (400)\ttotal: 28s\tremaining: 1m 29s\n",
      "600:\tlearn: 575.8951101\ttest: 616.0596883\tbest: 616.0596883 (600)\ttotal: 42s\tremaining: 1m 15s\n",
      "800:\tlearn: 553.5992334\ttest: 601.7891172\tbest: 601.7891172 (800)\ttotal: 56.3s\tremaining: 1m 1s\n",
      "1000:\tlearn: 537.2839317\ttest: 593.7840251\tbest: 593.7840251 (1000)\ttotal: 1m 10s\tremaining: 47.3s\n",
      "1200:\tlearn: 523.0872290\ttest: 587.2112701\tbest: 587.2112701 (1200)\ttotal: 1m 24s\tremaining: 33.2s\n",
      "1400:\tlearn: 511.7997522\ttest: 582.0923585\tbest: 582.0923585 (1400)\ttotal: 1m 37s\tremaining: 19.2s\n",
      "1600:\tlearn: 501.5046476\ttest: 578.3878196\tbest: 578.3731770 (1597)\ttotal: 1m 51s\tremaining: 5.24s\n"
     ]
    },
    {
     "name": "stderr",
     "output_type": "stream",
     "text": [
      "\u001b[32m[I 2021-05-06 03:56:48,283]\u001b[0m Trial 45 finished with value: 576.8144115811787 and parameters: {'n_estimators': 1676, 'learning_rate': 0.2585242711087238, 'depth': 8, 'rsm': 0.8372173014337443}. Best is trial 22 with value: 564.116039239846.\u001b[0m\n"
     ]
    },
    {
     "name": "stdout",
     "output_type": "stream",
     "text": [
      "1675:\tlearn: 497.6971370\ttest: 576.8221559\tbest: 576.8144116 (1674)\ttotal: 1m 57s\tremaining: 0us\n",
      "\n",
      "bestTest = 576.8144116\n",
      "bestIteration = 1674\n",
      "\n",
      "Shrink model to first 1675 iterations.\n",
      "0:\tlearn: 1943.0502666\ttest: 1943.0048932\tbest: 1943.0048932 (0)\ttotal: 88.9ms\tremaining: 3m 30s\n",
      "200:\tlearn: 550.9933023\ttest: 613.7278167\tbest: 613.7278167 (200)\ttotal: 19.2s\tremaining: 3m 26s\n",
      "400:\tlearn: 487.0688120\ttest: 590.8108998\tbest: 590.7970718 (399)\ttotal: 38.2s\tremaining: 3m 7s\n",
      "600:\tlearn: 447.9066187\ttest: 581.6399962\tbest: 581.6217533 (598)\ttotal: 57.5s\tremaining: 2m 49s\n",
      "800:\tlearn: 418.3323136\ttest: 578.3116048\tbest: 578.2982573 (798)\ttotal: 1m 17s\tremaining: 2m 31s\n",
      "Stopped by overfitting detector  (100 iterations wait)\n",
      "\n",
      "bestTest = 578.1768376\n",
      "bestIteration = 831\n",
      "\n",
      "Shrink model to first 832 iterations.\n"
     ]
    },
    {
     "name": "stderr",
     "output_type": "stream",
     "text": [
      "\u001b[32m[I 2021-05-06 03:58:19,343]\u001b[0m Trial 46 finished with value: 578.1768375835161 and parameters: {'n_estimators': 2370, 'learning_rate': 0.5908856645588734, 'depth': 10, 'rsm': 0.8845671470164176}. Best is trial 22 with value: 564.116039239846.\u001b[0m\n"
     ]
    },
    {
     "name": "stdout",
     "output_type": "stream",
     "text": [
      "0:\tlearn: 2503.6719689\ttest: 2500.8689819\tbest: 2500.8689819 (0)\ttotal: 53.4ms\tremaining: 1m 51s\n",
      "200:\tlearn: 648.0967514\ttest: 666.8809893\tbest: 666.8809893 (200)\ttotal: 11.8s\tremaining: 1m 51s\n",
      "400:\tlearn: 602.5544759\ttest: 634.3904110\tbest: 634.3904110 (400)\ttotal: 23.5s\tremaining: 1m 39s\n",
      "600:\tlearn: 575.2833991\ttest: 616.6933918\tbest: 616.6933918 (600)\ttotal: 35.2s\tremaining: 1m 27s\n",
      "800:\tlearn: 555.0147645\ttest: 604.9106887\tbest: 604.9106887 (800)\ttotal: 46.5s\tremaining: 1m 15s\n",
      "1000:\tlearn: 538.4665957\ttest: 596.4064595\tbest: 596.4064595 (1000)\ttotal: 58.1s\tremaining: 1m 3s\n",
      "1200:\tlearn: 525.4427524\ttest: 590.6068736\tbest: 590.5712127 (1198)\ttotal: 1m 9s\tremaining: 51.8s\n",
      "1400:\tlearn: 514.4765633\ttest: 585.0213472\tbest: 585.0213472 (1400)\ttotal: 1m 21s\tremaining: 40.1s\n",
      "1600:\tlearn: 504.5770259\ttest: 582.2239158\tbest: 582.2239158 (1600)\ttotal: 1m 32s\tremaining: 28.5s\n",
      "1800:\tlearn: 496.0360744\ttest: 579.3732149\tbest: 579.3694824 (1797)\ttotal: 1m 44s\tremaining: 17.1s\n",
      "2000:\tlearn: 488.2906591\ttest: 576.9310558\tbest: 576.9292017 (1998)\ttotal: 1m 56s\tremaining: 5.45s\n"
     ]
    },
    {
     "name": "stderr",
     "output_type": "stream",
     "text": [
      "\u001b[32m[I 2021-05-06 04:00:21,553]\u001b[0m Trial 47 finished with value: 576.5579838752886 and parameters: {'n_estimators': 2095, 'learning_rate': 0.4318242381760103, 'depth': 7, 'rsm': 0.9482232477014638}. Best is trial 22 with value: 564.116039239846.\u001b[0m\n"
     ]
    },
    {
     "name": "stdout",
     "output_type": "stream",
     "text": [
      "2094:\tlearn: 485.0568620\ttest: 576.6307756\tbest: 576.5579839 (2084)\ttotal: 2m 1s\tremaining: 0us\n",
      "\n",
      "bestTest = 576.5579839\n",
      "bestIteration = 2084\n",
      "\n",
      "Shrink model to first 2085 iterations.\n",
      "0:\tlearn: 2806.8048353\ttest: 2806.3498305\tbest: 2806.3498305 (0)\ttotal: 97ms\tremaining: 2m 56s\n",
      "200:\tlearn: 592.9786590\ttest: 631.0065516\tbest: 631.0065516 (200)\ttotal: 19.9s\tremaining: 2m 39s\n",
      "400:\tlearn: 533.7128345\ttest: 598.8984443\tbest: 598.8984443 (400)\ttotal: 39.6s\tremaining: 2m 19s\n",
      "600:\tlearn: 496.4065186\ttest: 583.8336190\tbest: 583.8336190 (600)\ttotal: 59.4s\tremaining: 1m 59s\n",
      "800:\tlearn: 468.4162500\ttest: 575.4549716\tbest: 575.4549716 (800)\ttotal: 1m 19s\tremaining: 1m 40s\n",
      "1000:\tlearn: 446.0719993\ttest: 570.8671045\tbest: 570.8563513 (998)\ttotal: 1m 39s\tremaining: 1m 21s\n",
      "1200:\tlearn: 427.9733024\ttest: 567.5099702\tbest: 567.4996390 (1199)\ttotal: 1m 59s\tremaining: 1m 1s\n",
      "1400:\tlearn: 411.5292700\ttest: 565.0433488\tbest: 565.0433488 (1400)\ttotal: 2m 19s\tremaining: 41.3s\n",
      "1600:\tlearn: 398.0694629\ttest: 563.7751927\tbest: 563.7751927 (1600)\ttotal: 2m 39s\tremaining: 21.3s\n",
      "1800:\tlearn: 385.7595316\ttest: 562.1795906\tbest: 562.1758968 (1799)\ttotal: 2m 58s\tremaining: 1.39s\n",
      "1814:\tlearn: 384.9558637\ttest: 562.1651184\tbest: 562.1343012 (1807)\ttotal: 3m\tremaining: 0us\n",
      "\n",
      "bestTest = 562.1343012\n",
      "bestIteration = 1807\n",
      "\n",
      "Shrink model to first 1808 iterations.\n"
     ]
    },
    {
     "name": "stderr",
     "output_type": "stream",
     "text": [
      "\u001b[32m[I 2021-05-06 04:03:23,328]\u001b[0m Trial 48 finished with value: 562.1343011820383 and parameters: {'n_estimators': 1815, 'learning_rate': 0.323658284735484, 'depth': 10, 'rsm': 0.9781843974965205}. Best is trial 48 with value: 562.1343011820383.\u001b[0m\n"
     ]
    },
    {
     "name": "stdout",
     "output_type": "stream",
     "text": [
      "0:\tlearn: 2880.4510800\ttest: 2879.8256077\tbest: 2879.8256077 (0)\ttotal: 91.1ms\tremaining: 2m 56s\n",
      "200:\tlearn: 595.6989792\ttest: 631.3399936\tbest: 631.3399936 (200)\ttotal: 20.3s\tremaining: 2m 55s\n",
      "400:\tlearn: 536.9877578\ttest: 597.9802890\tbest: 597.9802890 (400)\ttotal: 40.3s\tremaining: 2m 34s\n",
      "600:\tlearn: 501.6672545\ttest: 583.8019451\tbest: 583.8019451 (600)\ttotal: 1m\tremaining: 2m 14s\n",
      "800:\tlearn: 474.0823431\ttest: 574.2713191\tbest: 574.2713191 (800)\ttotal: 1m 20s\tremaining: 1m 53s\n",
      "1000:\tlearn: 451.1384959\ttest: 569.3024635\tbest: 569.2956713 (999)\ttotal: 1m 39s\tremaining: 1m 33s\n",
      "1200:\tlearn: 432.8103531\ttest: 566.4207020\tbest: 566.4207020 (1200)\ttotal: 1m 59s\tremaining: 1m 13s\n",
      "1400:\tlearn: 417.3197017\ttest: 563.7015321\tbest: 563.7015321 (1400)\ttotal: 2m 19s\tremaining: 53.9s\n",
      "1600:\tlearn: 404.0330747\ttest: 562.1114644\tbest: 562.0973934 (1598)\ttotal: 2m 39s\tremaining: 33.9s\n",
      "1800:\tlearn: 391.4452162\ttest: 560.8670872\tbest: 560.8670872 (1800)\ttotal: 2m 59s\tremaining: 13.9s\n",
      "1940:\tlearn: 383.6061538\ttest: 560.4867717\tbest: 560.4662384 (1929)\ttotal: 3m 13s\tremaining: 0us\n",
      "\n",
      "bestTest = 560.4662384\n",
      "bestIteration = 1929\n",
      "\n",
      "Shrink model to first 1930 iterations.\n"
     ]
    },
    {
     "name": "stderr",
     "output_type": "stream",
     "text": [
      "\u001b[32m[I 2021-05-06 04:06:38,798]\u001b[0m Trial 49 finished with value: 560.4662384399263 and parameters: {'n_estimators': 1941, 'learning_rate': 0.3016315871612188, 'depth': 10, 'rsm': 0.9818804995307299}. Best is trial 49 with value: 560.4662384399263.\u001b[0m\n"
     ]
    },
    {
     "name": "stdout",
     "output_type": "stream",
     "text": [
      "0:\tlearn: 3141.0641599\ttest: 3140.2433850\tbest: 3140.2433850 (0)\ttotal: 94.6ms\tremaining: 3m 3s\n",
      "200:\tlearn: 617.9077382\ttest: 646.2011929\tbest: 646.2011929 (200)\ttotal: 20.1s\tremaining: 2m 54s\n",
      "400:\tlearn: 561.9005970\ttest: 611.4351585\tbest: 611.4351585 (400)\ttotal: 40s\tremaining: 2m 34s\n",
      "600:\tlearn: 525.9573382\ttest: 592.6654603\tbest: 592.6654603 (600)\ttotal: 59.8s\tremaining: 2m 13s\n",
      "800:\tlearn: 500.4163918\ttest: 582.5769586\tbest: 582.5769586 (800)\ttotal: 1m 19s\tremaining: 1m 53s\n",
      "1000:\tlearn: 478.6273416\ttest: 575.0281184\tbest: 575.0281184 (1000)\ttotal: 1m 39s\tremaining: 1m 34s\n",
      "1200:\tlearn: 460.6539327\ttest: 569.4377579\tbest: 569.4350019 (1199)\ttotal: 1m 59s\tremaining: 1m 14s\n",
      "1400:\tlearn: 446.1328253\ttest: 565.8414684\tbest: 565.8389568 (1399)\ttotal: 2m 19s\tremaining: 54.3s\n",
      "1600:\tlearn: 432.2006340\ttest: 563.1959006\tbest: 563.1959006 (1600)\ttotal: 2m 40s\tremaining: 34.4s\n",
      "1800:\tlearn: 420.1648591\ttest: 561.6846099\tbest: 561.6846099 (1800)\ttotal: 3m\tremaining: 14.4s\n",
      "1944:\tlearn: 412.0665217\ttest: 560.1704546\tbest: 560.1623473 (1942)\ttotal: 3m 14s\tremaining: 0us\n",
      "\n",
      "bestTest = 560.1623473\n",
      "bestIteration = 1942\n",
      "\n",
      "Shrink model to first 1943 iterations.\n"
     ]
    },
    {
     "name": "stderr",
     "output_type": "stream",
     "text": [
      "\u001b[32m[I 2021-05-06 04:09:55,406]\u001b[0m Trial 50 finished with value: 560.1623472583877 and parameters: {'n_estimators': 1945, 'learning_rate': 0.22439058068661144, 'depth': 10, 'rsm': 0.9804548683925192}. Best is trial 50 with value: 560.1623472583877.\u001b[0m\n"
     ]
    },
    {
     "name": "stdout",
     "output_type": "stream",
     "text": [
      "0:\tlearn: 2885.3324760\ttest: 2884.7029755\tbest: 2884.7029755 (0)\ttotal: 95.6ms\tremaining: 3m 7s\n",
      "200:\tlearn: 596.2063961\ttest: 632.7643866\tbest: 632.7643866 (200)\ttotal: 19.9s\tremaining: 2m 54s\n",
      "400:\tlearn: 538.7437240\ttest: 599.4945717\tbest: 599.4945717 (400)\ttotal: 39.5s\tremaining: 2m 34s\n",
      "600:\tlearn: 501.4398385\ttest: 583.7494502\tbest: 583.7494502 (600)\ttotal: 1m\tremaining: 2m 16s\n",
      "800:\tlearn: 473.6175244\ttest: 575.3031080\tbest: 575.2939470 (799)\ttotal: 1m 20s\tremaining: 1m 57s\n",
      "1000:\tlearn: 451.2559343\ttest: 569.1676422\tbest: 569.1676422 (1000)\ttotal: 1m 40s\tremaining: 1m 36s\n",
      "1200:\tlearn: 433.2972774\ttest: 565.6890980\tbest: 565.6872601 (1199)\ttotal: 2m\tremaining: 1m 16s\n",
      "1400:\tlearn: 417.4109925\ttest: 562.9286488\tbest: 562.9236329 (1393)\ttotal: 2m 20s\tremaining: 56.6s\n",
      "1600:\tlearn: 403.9361973\ttest: 561.2009522\tbest: 561.2009522 (1600)\ttotal: 2m 41s\tremaining: 36.5s\n",
      "1800:\tlearn: 391.7738868\ttest: 559.7083871\tbest: 559.6913083 (1799)\ttotal: 3m\tremaining: 16.4s\n",
      "1963:\tlearn: 382.8108727\ttest: 558.7834738\tbest: 558.7834738 (1963)\ttotal: 3m 17s\tremaining: 0us\n",
      "\n",
      "bestTest = 558.7834738\n",
      "bestIteration = 1963\n",
      "\n"
     ]
    },
    {
     "name": "stderr",
     "output_type": "stream",
     "text": [
      "\u001b[32m[I 2021-05-06 04:13:14,294]\u001b[0m Trial 51 finished with value: 558.7834737621889 and parameters: {'n_estimators': 1964, 'learning_rate': 0.30017127691998147, 'depth': 10, 'rsm': 0.9904504567054041}. Best is trial 51 with value: 558.7834737621889.\u001b[0m\n"
     ]
    },
    {
     "name": "stdout",
     "output_type": "stream",
     "text": [
      "0:\tlearn: 3204.8308331\ttest: 3203.9677089\tbest: 3203.9677089 (0)\ttotal: 91.5ms\tremaining: 3m 2s\n",
      "200:\tlearn: 622.9461246\ttest: 650.0269646\tbest: 650.0269646 (200)\ttotal: 20.3s\tremaining: 3m 1s\n",
      "400:\tlearn: 567.4008953\ttest: 614.5049614\tbest: 614.5049614 (400)\ttotal: 40.1s\tremaining: 2m 40s\n",
      "600:\tlearn: 533.2081591\ttest: 596.2114899\tbest: 596.2114899 (600)\ttotal: 59.8s\tremaining: 2m 19s\n",
      "800:\tlearn: 507.0567678\ttest: 585.2316666\tbest: 585.2316666 (800)\ttotal: 1m 19s\tremaining: 1m 58s\n",
      "1000:\tlearn: 486.4943209\ttest: 578.3415830\tbest: 578.3415830 (1000)\ttotal: 1m 39s\tremaining: 1m 39s\n",
      "1200:\tlearn: 468.8938641\ttest: 572.3856869\tbest: 572.3856869 (1200)\ttotal: 2m\tremaining: 1m 20s\n",
      "1400:\tlearn: 453.6589237\ttest: 567.9421841\tbest: 567.9421841 (1400)\ttotal: 2m 20s\tremaining: 1m\n",
      "1600:\tlearn: 440.1782989\ttest: 564.2103252\tbest: 564.1948481 (1596)\ttotal: 2m 40s\tremaining: 40.1s\n",
      "1800:\tlearn: 428.2372077\ttest: 561.7389961\tbest: 561.7345102 (1796)\ttotal: 3m 1s\tremaining: 20s\n",
      "1999:\tlearn: 417.8470103\ttest: 559.8315333\tbest: 559.8315333 (1999)\ttotal: 3m 20s\tremaining: 0us\n",
      "\n",
      "bestTest = 559.8315333\n",
      "bestIteration = 1999\n",
      "\n"
     ]
    },
    {
     "name": "stderr",
     "output_type": "stream",
     "text": [
      "\u001b[32m[I 2021-05-06 04:16:36,680]\u001b[0m Trial 52 finished with value: 559.8315333488787 and parameters: {'n_estimators': 2000, 'learning_rate': 0.2056891912083362, 'depth': 10, 'rsm': 0.9842745702061234}. Best is trial 51 with value: 558.7834737621889.\u001b[0m\n"
     ]
    },
    {
     "name": "stdout",
     "output_type": "stream",
     "text": [
      "0:\tlearn: 3389.2281563\ttest: 3388.2525651\tbest: 3388.2525651 (0)\ttotal: 93.7ms\tremaining: 3m 4s\n",
      "200:\tlearn: 641.3269949\ttest: 663.6251900\tbest: 663.6251900 (200)\ttotal: 20.2s\tremaining: 2m 58s\n",
      "400:\tlearn: 587.8763986\ttest: 625.0514531\tbest: 625.0514531 (400)\ttotal: 40.2s\tremaining: 2m 37s\n",
      "600:\tlearn: 555.0275746\ttest: 605.6903149\tbest: 605.6903149 (600)\ttotal: 1m 1s\tremaining: 2m 19s\n",
      "800:\tlearn: 530.5580241\ttest: 593.0155355\tbest: 593.0155355 (800)\ttotal: 1m 21s\tremaining: 2m\n",
      "1000:\tlearn: 510.5231600\ttest: 584.6042962\tbest: 584.6042962 (1000)\ttotal: 1m 42s\tremaining: 1m 39s\n",
      "1200:\tlearn: 494.1572742\ttest: 578.0527209\tbest: 578.0527209 (1200)\ttotal: 2m 3s\tremaining: 1m 19s\n",
      "1400:\tlearn: 479.6317394\ttest: 573.0588568\tbest: 573.0588568 (1400)\ttotal: 2m 23s\tremaining: 58.7s\n",
      "1600:\tlearn: 467.1690203\ttest: 568.8149896\tbest: 568.8149896 (1600)\ttotal: 2m 43s\tremaining: 38.1s\n",
      "1800:\tlearn: 455.7587616\ttest: 565.8017701\tbest: 565.8017198 (1799)\ttotal: 3m 4s\tremaining: 17.7s\n",
      "1973:\tlearn: 447.2602980\ttest: 563.7556216\tbest: 563.7556216 (1973)\ttotal: 3m 22s\tremaining: 0us\n",
      "\n",
      "bestTest = 563.7556216\n",
      "bestIteration = 1973\n",
      "\n"
     ]
    },
    {
     "name": "stderr",
     "output_type": "stream",
     "text": [
      "\u001b[32m[I 2021-05-06 04:20:00,593]\u001b[0m Trial 53 finished with value: 563.7556215766001 and parameters: {'n_estimators': 1974, 'learning_rate': 0.15197019048547625, 'depth': 10, 'rsm': 0.9856628698720272}. Best is trial 51 with value: 558.7834737621889.\u001b[0m\n"
     ]
    },
    {
     "name": "stdout",
     "output_type": "stream",
     "text": [
      "0:\tlearn: 3423.2908634\ttest: 3422.2959719\tbest: 3422.2959719 (0)\ttotal: 91.3ms\tremaining: 3m 1s\n",
      "200:\tlearn: 649.7597976\ttest: 670.2833681\tbest: 670.2833681 (200)\ttotal: 20.1s\tremaining: 2m 59s\n",
      "400:\tlearn: 595.2496884\ttest: 630.4791010\tbest: 630.4791010 (400)\ttotal: 40s\tremaining: 2m 38s\n",
      "600:\tlearn: 562.5606887\ttest: 610.3788600\tbest: 610.3788600 (600)\ttotal: 59.7s\tremaining: 2m 18s\n",
      "800:\tlearn: 538.0955025\ttest: 597.3566139\tbest: 597.3566139 (800)\ttotal: 1m 19s\tremaining: 1m 58s\n",
      "1000:\tlearn: 518.3254182\ttest: 587.7003024\tbest: 587.7003024 (1000)\ttotal: 1m 39s\tremaining: 1m 38s\n",
      "1200:\tlearn: 501.3107281\ttest: 580.7816092\tbest: 580.7816092 (1200)\ttotal: 1m 59s\tremaining: 1m 18s\n",
      "1400:\tlearn: 486.8540253\ttest: 574.9232565\tbest: 574.9232565 (1400)\ttotal: 2m 19s\tremaining: 58.9s\n",
      "1600:\tlearn: 474.2012882\ttest: 570.5019392\tbest: 570.5019392 (1600)\ttotal: 2m 39s\tremaining: 39.1s\n",
      "1800:\tlearn: 463.1755870\ttest: 567.0655915\tbest: 567.0640169 (1799)\ttotal: 2m 59s\tremaining: 19.2s\n",
      "1993:\tlearn: 453.6884996\ttest: 564.4045749\tbest: 564.3929245 (1992)\ttotal: 3m 18s\tremaining: 0us\n",
      "\n",
      "bestTest = 564.3929245\n",
      "bestIteration = 1992\n",
      "\n",
      "Shrink model to first 1993 iterations.\n"
     ]
    },
    {
     "name": "stderr",
     "output_type": "stream",
     "text": [
      "\u001b[32m[I 2021-05-06 04:23:20,681]\u001b[0m Trial 54 finished with value: 564.3929244843132 and parameters: {'n_estimators': 1994, 'learning_rate': 0.14210002681003234, 'depth': 10, 'rsm': 0.9888297634746737}. Best is trial 51 with value: 558.7834737621889.\u001b[0m\n"
     ]
    },
    {
     "name": "stdout",
     "output_type": "stream",
     "text": [
      "0:\tlearn: 3636.5982802\ttest: 3635.0794033\tbest: 3635.0794033 (0)\ttotal: 89.8ms\tremaining: 3m 11s\n",
      "200:\tlearn: 690.0143054\ttest: 703.2508540\tbest: 703.2508540 (200)\ttotal: 19.9s\tremaining: 3m 10s\n",
      "400:\tlearn: 634.9454965\ttest: 658.6165143\tbest: 658.6165143 (400)\ttotal: 39.9s\tremaining: 2m 52s\n",
      "600:\tlearn: 603.0681806\ttest: 635.2170560\tbest: 635.2170560 (600)\ttotal: 59.6s\tremaining: 2m 31s\n",
      "800:\tlearn: 580.9729960\ttest: 620.3812589\tbest: 620.3812589 (800)\ttotal: 1m 19s\tremaining: 2m 12s\n",
      "1000:\tlearn: 563.2000752\ttest: 609.5665628\tbest: 609.5665628 (1000)\ttotal: 1m 39s\tremaining: 1m 52s\n",
      "1200:\tlearn: 547.8541644\ttest: 601.5464510\tbest: 601.5464510 (1200)\ttotal: 2m\tremaining: 1m 33s\n",
      "1400:\tlearn: 534.6439650\ttest: 594.3285129\tbest: 594.3285129 (1400)\ttotal: 2m 20s\tremaining: 1m 13s\n",
      "1600:\tlearn: 523.5138143\ttest: 588.9402502\tbest: 588.9402502 (1600)\ttotal: 2m 41s\tremaining: 53.6s\n",
      "1800:\tlearn: 512.9447473\ttest: 584.0928510\tbest: 584.0928510 (1800)\ttotal: 3m 1s\tremaining: 33.4s\n",
      "2000:\tlearn: 503.6005225\ttest: 580.3898885\tbest: 580.3898885 (2000)\ttotal: 3m 21s\tremaining: 13.3s\n",
      "2132:\tlearn: 497.7771793\ttest: 577.8477376\tbest: 577.8477376 (2132)\ttotal: 3m 34s\tremaining: 0us\n",
      "\n",
      "bestTest = 577.8477376\n",
      "bestIteration = 2132\n",
      "\n"
     ]
    },
    {
     "name": "stderr",
     "output_type": "stream",
     "text": [
      "\u001b[32m[I 2021-05-06 04:26:57,445]\u001b[0m Trial 55 finished with value: 577.8477375778106 and parameters: {'n_estimators': 2133, 'learning_rate': 0.08042967119236419, 'depth': 10, 'rsm': 0.9988073075703942}. Best is trial 51 with value: 558.7834737621889.\u001b[0m\n"
     ]
    },
    {
     "name": "stdout",
     "output_type": "stream",
     "text": [
      "0:\tlearn: 3206.1441339\ttest: 3205.3362808\tbest: 3205.3362808 (0)\ttotal: 100ms\tremaining: 2m 50s\n",
      "200:\tlearn: 621.8669930\ttest: 648.7494026\tbest: 648.7494026 (200)\ttotal: 20.8s\tremaining: 2m 35s\n",
      "400:\tlearn: 567.0425860\ttest: 613.3552593\tbest: 613.3552593 (400)\ttotal: 42s\tremaining: 2m 16s\n",
      "600:\tlearn: 532.3956656\ttest: 595.7824441\tbest: 595.7693301 (599)\ttotal: 1m 4s\tremaining: 1m 58s\n",
      "800:\tlearn: 506.6942913\ttest: 583.7272898\tbest: 583.7272898 (800)\ttotal: 1m 25s\tremaining: 1m 36s\n",
      "1000:\tlearn: 485.8674112\ttest: 576.3248658\tbest: 576.3248658 (1000)\ttotal: 1m 45s\tremaining: 1m 14s\n",
      "1200:\tlearn: 468.0932932\ttest: 570.3183053\tbest: 570.3183053 (1200)\ttotal: 2m 5s\tremaining: 52.7s\n",
      "1400:\tlearn: 453.2992988\ttest: 566.1588815\tbest: 566.1588815 (1400)\ttotal: 2m 25s\tremaining: 31.5s\n",
      "1600:\tlearn: 440.2243828\ttest: 562.8155475\tbest: 562.8155475 (1600)\ttotal: 2m 45s\tremaining: 10.6s\n",
      "1703:\tlearn: 433.9801159\ttest: 561.6070001\tbest: 561.6070001 (1703)\ttotal: 2m 55s\tremaining: 0us\n",
      "\n",
      "bestTest = 561.6070001\n",
      "bestIteration = 1703\n",
      "\n"
     ]
    },
    {
     "name": "stderr",
     "output_type": "stream",
     "text": [
      "\u001b[32m[I 2021-05-06 04:29:54,594]\u001b[0m Trial 56 finished with value: 561.6070000870513 and parameters: {'n_estimators': 1704, 'learning_rate': 0.20526003185149572, 'depth': 10, 'rsm': 0.9797471361911365}. Best is trial 51 with value: 558.7834737621889.\u001b[0m\n"
     ]
    },
    {
     "name": "stdout",
     "output_type": "stream",
     "text": [
      "0:\tlearn: 3847.0491838\ttest: 3845.8455470\tbest: 3845.8455470 (0)\ttotal: 90ms\tremaining: 2m 36s\n",
      "200:\tlearn: 850.8134545\ttest: 856.3865067\tbest: 856.3865067 (200)\ttotal: 19.8s\tremaining: 2m 31s\n",
      "400:\tlearn: 756.7425381\ttest: 764.8038568\tbest: 764.8038568 (400)\ttotal: 40s\tremaining: 2m 13s\n",
      "600:\tlearn: 714.1216760\ttest: 724.9703493\tbest: 724.9703493 (600)\ttotal: 1m\tremaining: 1m 53s\n",
      "800:\tlearn: 687.4133660\ttest: 701.1222347\tbest: 701.1222347 (800)\ttotal: 1m 20s\tremaining: 1m 33s\n",
      "1000:\tlearn: 668.0706068\ttest: 684.4069006\tbest: 684.4069006 (1000)\ttotal: 1m 40s\tremaining: 1m 13s\n",
      "1200:\tlearn: 652.3151805\ttest: 671.0736712\tbest: 671.0736712 (1200)\ttotal: 1m 59s\tremaining: 53.4s\n",
      "1400:\tlearn: 639.8071841\ttest: 661.2639658\tbest: 661.2639658 (1400)\ttotal: 2m 19s\tremaining: 33.4s\n",
      "1600:\tlearn: 629.0422075\ttest: 653.1908886\tbest: 653.1908886 (1600)\ttotal: 2m 39s\tremaining: 13.6s\n",
      "1736:\tlearn: 622.2566904\ttest: 648.0524691\tbest: 648.0524691 (1736)\ttotal: 2m 53s\tremaining: 0us\n",
      "\n",
      "bestTest = 648.0524691\n",
      "bestIteration = 1736\n",
      "\n"
     ]
    },
    {
     "name": "stderr",
     "output_type": "stream",
     "text": [
      "\u001b[32m[I 2021-05-06 04:32:49,573]\u001b[0m Trial 57 finished with value: 648.0524691260966 and parameters: {'n_estimators': 1737, 'learning_rate': 0.020430968794169058, 'depth': 10, 'rsm': 0.9818090274985284}. Best is trial 51 with value: 558.7834737621889.\u001b[0m\n"
     ]
    },
    {
     "name": "stdout",
     "output_type": "stream",
     "text": [
      "0:\tlearn: 3264.2890625\ttest: 3263.4382032\tbest: 3263.4382032 (0)\ttotal: 91.5ms\tremaining: 2m 7s\n",
      "200:\tlearn: 629.2030828\ttest: 655.3258537\tbest: 655.3258537 (200)\ttotal: 19.9s\tremaining: 1m 58s\n",
      "400:\tlearn: 573.8904733\ttest: 617.3112794\tbest: 617.3112794 (400)\ttotal: 39.8s\tremaining: 1m 38s\n",
      "600:\tlearn: 539.6150068\ttest: 599.3089984\tbest: 599.3089984 (600)\ttotal: 59.6s\tremaining: 1m 18s\n",
      "800:\tlearn: 513.5872116\ttest: 586.7777839\tbest: 586.7777839 (800)\ttotal: 1m 19s\tremaining: 59s\n",
      "1000:\tlearn: 492.7291293\ttest: 579.2326226\tbest: 579.2109757 (999)\ttotal: 1m 39s\tremaining: 39.3s\n",
      "1200:\tlearn: 475.6184750\ttest: 573.6515205\tbest: 573.6515205 (1200)\ttotal: 1m 59s\tremaining: 19.5s\n",
      "1396:\tlearn: 461.0438308\ttest: 569.7457298\tbest: 569.7457298 (1396)\ttotal: 2m 18s\tremaining: 0us\n",
      "\n",
      "bestTest = 569.7457298\n",
      "bestIteration = 1396\n",
      "\n"
     ]
    },
    {
     "name": "stderr",
     "output_type": "stream",
     "text": [
      "\u001b[32m[I 2021-05-06 04:35:09,631]\u001b[0m Trial 58 finished with value: 569.7457297531107 and parameters: {'n_estimators': 1397, 'learning_rate': 0.18827119390174873, 'depth': 10, 'rsm': 0.9764935384763614}. Best is trial 51 with value: 558.7834737621889.\u001b[0m\n"
     ]
    },
    {
     "name": "stdout",
     "output_type": "stream",
     "text": [
      "0:\tlearn: 3082.4393688\ttest: 3081.1235818\tbest: 3081.1235818 (0)\ttotal: 107ms\tremaining: 3m 6s\n",
      "200:\tlearn: 611.4945719\ttest: 641.0882454\tbest: 641.0882454 (200)\ttotal: 20.4s\tremaining: 2m 36s\n",
      "400:\tlearn: 554.7328511\ttest: 606.6164365\tbest: 606.6164365 (400)\ttotal: 40.7s\tremaining: 2m 15s\n",
      "600:\tlearn: 519.0583419\ttest: 589.7662768\tbest: 589.7662768 (600)\ttotal: 1m\tremaining: 1m 54s\n",
      "800:\tlearn: 491.7223122\ttest: 579.6132242\tbest: 579.6132242 (800)\ttotal: 1m 20s\tremaining: 1m 34s\n",
      "1000:\tlearn: 470.9476153\ttest: 573.0462442\tbest: 573.0462442 (1000)\ttotal: 1m 40s\tremaining: 1m 14s\n",
      "1200:\tlearn: 453.9985584\ttest: 568.7179547\tbest: 568.7179547 (1200)\ttotal: 2m\tremaining: 54s\n",
      "1400:\tlearn: 438.4584990\ttest: 565.1918876\tbest: 565.1918876 (1400)\ttotal: 2m 21s\tremaining: 34s\n",
      "1600:\tlearn: 425.0069043\ttest: 562.5176195\tbest: 562.5145468 (1599)\ttotal: 2m 42s\tremaining: 13.8s\n",
      "1736:\tlearn: 416.2518803\ttest: 560.9202592\tbest: 560.9202592 (1736)\ttotal: 2m 56s\tremaining: 0us\n",
      "\n",
      "bestTest = 560.9202592\n",
      "bestIteration = 1736\n",
      "\n"
     ]
    },
    {
     "name": "stderr",
     "output_type": "stream",
     "text": [
      "\u001b[32m[I 2021-05-06 04:38:07,377]\u001b[0m Trial 59 finished with value: 560.9202592394391 and parameters: {'n_estimators': 1737, 'learning_rate': 0.24121552169718385, 'depth': 10, 'rsm': 0.996564306549791}. Best is trial 51 with value: 558.7834737621889.\u001b[0m\n"
     ]
    },
    {
     "name": "stdout",
     "output_type": "stream",
     "text": [
      "0:\tlearn: 3128.0537232\ttest: 3126.0975337\tbest: 3126.0975337 (0)\ttotal: 91.5ms\tremaining: 2m 24s\n",
      "200:\tlearn: 618.6096113\ttest: 647.4311095\tbest: 647.4311095 (200)\ttotal: 20s\tremaining: 2m 17s\n",
      "400:\tlearn: 561.1810421\ttest: 610.5923760\tbest: 610.5923760 (400)\ttotal: 40s\tremaining: 1m 57s\n",
      "600:\tlearn: 524.7883128\ttest: 591.7887616\tbest: 591.7887616 (600)\ttotal: 59.7s\tremaining: 1m 37s\n",
      "800:\tlearn: 497.0312485\ttest: 580.5706128\tbest: 580.5706128 (800)\ttotal: 1m 19s\tremaining: 1m 17s\n",
      "1000:\tlearn: 476.4796943\ttest: 573.5843533\tbest: 573.5843533 (1000)\ttotal: 1m 39s\tremaining: 58s\n",
      "1200:\tlearn: 458.5032685\ttest: 569.0473526\tbest: 569.0473526 (1200)\ttotal: 1m 59s\tremaining: 38.1s\n",
      "1400:\tlearn: 443.6014933\ttest: 565.5347118\tbest: 565.5347118 (1400)\ttotal: 2m 19s\tremaining: 18.1s\n",
      "1582:\tlearn: 431.4443333\ttest: 562.7915261\tbest: 562.7915261 (1582)\ttotal: 2m 38s\tremaining: 0us\n",
      "\n",
      "bestTest = 562.7915261\n",
      "bestIteration = 1582\n",
      "\n"
     ]
    },
    {
     "name": "stderr",
     "output_type": "stream",
     "text": [
      "\u001b[32m[I 2021-05-06 04:40:47,072]\u001b[0m Trial 60 finished with value: 562.7915261196371 and parameters: {'n_estimators': 1583, 'learning_rate': 0.2276397889300607, 'depth': 10, 'rsm': 0.9978137269746153}. Best is trial 51 with value: 558.7834737621889.\u001b[0m\n"
     ]
    },
    {
     "name": "stdout",
     "output_type": "stream",
     "text": [
      "0:\tlearn: 2920.2974001\ttest: 2919.1203788\tbest: 2919.1203788 (0)\ttotal: 90.7ms\tremaining: 2m 32s\n",
      "200:\tlearn: 599.1436072\ttest: 634.9086276\tbest: 634.9086276 (200)\ttotal: 19.6s\tremaining: 2m 24s\n",
      "400:\tlearn: 540.8955107\ttest: 601.0313011\tbest: 601.0313011 (400)\ttotal: 39.2s\tremaining: 2m 5s\n",
      "600:\tlearn: 503.8236525\ttest: 585.5800771\tbest: 585.5266768 (597)\ttotal: 58.7s\tremaining: 1m 45s\n",
      "800:\tlearn: 476.6937154\ttest: 577.4685329\tbest: 577.4685329 (800)\ttotal: 1m 18s\tremaining: 1m 26s\n",
      "1000:\tlearn: 454.7843854\ttest: 571.6724410\tbest: 571.6707286 (998)\ttotal: 1m 38s\tremaining: 1m 7s\n",
      "1200:\tlearn: 436.1108799\ttest: 567.1584605\tbest: 567.1284562 (1198)\ttotal: 1m 58s\tremaining: 47.6s\n",
      "1400:\tlearn: 421.0010580\ttest: 564.7570099\tbest: 564.7387055 (1399)\ttotal: 2m 18s\tremaining: 27.8s\n",
      "1600:\tlearn: 407.6933641\ttest: 562.9729572\tbest: 562.9729572 (1600)\ttotal: 2m 37s\tremaining: 8.08s\n",
      "1682:\tlearn: 402.6998835\ttest: 562.3687736\tbest: 562.3687736 (1682)\ttotal: 2m 45s\tremaining: 0us\n",
      "\n",
      "bestTest = 562.3687736\n",
      "bestIteration = 1682\n",
      "\n"
     ]
    },
    {
     "name": "stderr",
     "output_type": "stream",
     "text": [
      "\u001b[32m[I 2021-05-06 04:43:34,446]\u001b[0m Trial 61 finished with value: 562.3687736222263 and parameters: {'n_estimators': 1683, 'learning_rate': 0.2877304240028649, 'depth': 10, 'rsm': 0.9520837338257916}. Best is trial 51 with value: 558.7834737621889.\u001b[0m\n"
     ]
    },
    {
     "name": "stdout",
     "output_type": "stream",
     "text": [
      "0:\tlearn: 3054.3032389\ttest: 3052.2948056\tbest: 3052.2948056 (0)\ttotal: 95.7ms\tremaining: 3m 16s\n",
      "200:\tlearn: 611.4828702\ttest: 642.9302971\tbest: 642.9302971 (200)\ttotal: 19.9s\tremaining: 3m 3s\n",
      "400:\tlearn: 553.6955034\ttest: 609.0289499\tbest: 609.0289499 (400)\ttotal: 40.2s\tremaining: 2m 45s\n",
      "600:\tlearn: 516.2571780\ttest: 589.8923290\tbest: 589.8752922 (599)\ttotal: 1m\tremaining: 2m 26s\n",
      "800:\tlearn: 489.0293536\ttest: 579.0778149\tbest: 579.0778149 (800)\ttotal: 1m 20s\tremaining: 2m 5s\n",
      "1000:\tlearn: 468.2933827\ttest: 572.7346969\tbest: 572.7181504 (999)\ttotal: 1m 40s\tremaining: 1m 45s\n",
      "1200:\tlearn: 450.5352938\ttest: 568.4124105\tbest: 568.4124105 (1200)\ttotal: 2m\tremaining: 1m 25s\n",
      "1400:\tlearn: 435.3432724\ttest: 564.6458881\tbest: 564.6458881 (1400)\ttotal: 2m 20s\tremaining: 1m 5s\n",
      "1600:\tlearn: 421.7149832\ttest: 562.4539819\tbest: 562.4373065 (1597)\ttotal: 2m 40s\tremaining: 45.6s\n",
      "1800:\tlearn: 410.0398901\ttest: 560.6785405\tbest: 560.6785405 (1800)\ttotal: 3m\tremaining: 25.5s\n",
      "2000:\tlearn: 398.7769094\ttest: 559.1611374\tbest: 559.1611374 (2000)\ttotal: 3m 21s\tremaining: 5.42s\n",
      "2054:\tlearn: 396.1186572\ttest: 558.6976856\tbest: 558.6922812 (2045)\ttotal: 3m 26s\tremaining: 0us\n",
      "\n",
      "bestTest = 558.6922812\n",
      "bestIteration = 2045\n",
      "\n",
      "Shrink model to first 2046 iterations.\n"
     ]
    },
    {
     "name": "stderr",
     "output_type": "stream",
     "text": [
      "\u001b[32m[I 2021-05-06 04:47:02,598]\u001b[0m Trial 62 finished with value: 558.6922812177805 and parameters: {'n_estimators': 2055, 'learning_rate': 0.24931282465854374, 'depth': 10, 'rsm': 0.998170898295687}. Best is trial 62 with value: 558.6922812177805.\u001b[0m\n"
     ]
    },
    {
     "name": "stdout",
     "output_type": "stream",
     "text": [
      "0:\tlearn: 3544.3435276\ttest: 3542.9613136\tbest: 3542.9613136 (0)\ttotal: 95.2ms\tremaining: 3m 15s\n",
      "200:\tlearn: 667.9843350\ttest: 684.6837879\tbest: 684.6837879 (200)\ttotal: 19.7s\tremaining: 3m 2s\n",
      "400:\tlearn: 614.5247990\ttest: 642.9170277\tbest: 642.9170277 (400)\ttotal: 39.3s\tremaining: 2m 42s\n",
      "600:\tlearn: 582.3714221\ttest: 621.0721447\tbest: 621.0721447 (600)\ttotal: 59.3s\tremaining: 2m 23s\n",
      "800:\tlearn: 559.3045206\ttest: 606.9999250\tbest: 606.9999250 (800)\ttotal: 1m 19s\tremaining: 2m 4s\n",
      "1000:\tlearn: 539.7431480\ttest: 596.1025605\tbest: 596.1025605 (1000)\ttotal: 1m 39s\tremaining: 1m 44s\n",
      "1200:\tlearn: 523.9801108\ttest: 588.5866012\tbest: 588.5866012 (1200)\ttotal: 1m 59s\tremaining: 1m 25s\n",
      "1400:\tlearn: 510.8162703\ttest: 582.9939383\tbest: 582.9903808 (1398)\ttotal: 2m 18s\tremaining: 1m 5s\n",
      "1600:\tlearn: 498.8332473\ttest: 578.0526211\tbest: 578.0526211 (1600)\ttotal: 2m 38s\tremaining: 45.4s\n",
      "1800:\tlearn: 488.3799065\ttest: 573.9493908\tbest: 573.9493908 (1800)\ttotal: 2m 58s\tremaining: 25.6s\n",
      "2000:\tlearn: 478.7313032\ttest: 570.4435018\tbest: 570.4435018 (2000)\ttotal: 3m 18s\tremaining: 5.74s\n",
      "2058:\tlearn: 476.1924900\ttest: 569.6210210\tbest: 569.6210210 (2058)\ttotal: 3m 23s\tremaining: 0us\n",
      "\n",
      "bestTest = 569.621021\n",
      "bestIteration = 2058\n",
      "\n"
     ]
    },
    {
     "name": "stderr",
     "output_type": "stream",
     "text": [
      "\u001b[32m[I 2021-05-06 04:50:28,247]\u001b[0m Trial 63 finished with value: 569.6210210036783 and parameters: {'n_estimators': 2059, 'learning_rate': 0.10740778732143133, 'depth': 10, 'rsm': 0.9578242698075362}. Best is trial 62 with value: 558.6922812177805.\u001b[0m\n"
     ]
    },
    {
     "name": "stdout",
     "output_type": "stream",
     "text": [
      "0:\tlearn: 3207.8012478\ttest: 3205.9052956\tbest: 3205.9052956 (0)\ttotal: 93.4ms\tremaining: 2m 21s\n",
      "200:\tlearn: 623.5310319\ttest: 650.9313852\tbest: 650.9313852 (200)\ttotal: 20.1s\tremaining: 2m 11s\n",
      "400:\tlearn: 567.4728661\ttest: 613.0621341\tbest: 613.0621341 (400)\ttotal: 40.3s\tremaining: 1m 51s\n",
      "600:\tlearn: 532.7919355\ttest: 594.7038910\tbest: 594.7038910 (600)\ttotal: 1m\tremaining: 1m 32s\n",
      "800:\tlearn: 507.4380422\ttest: 583.4942132\tbest: 583.4942132 (800)\ttotal: 1m 20s\tremaining: 1m 11s\n",
      "1000:\tlearn: 486.5489096\ttest: 576.3938036\tbest: 576.3938036 (1000)\ttotal: 1m 40s\tremaining: 51.5s\n",
      "1200:\tlearn: 468.9613325\ttest: 570.7983963\tbest: 570.7983963 (1200)\ttotal: 2m\tremaining: 31.4s\n",
      "1400:\tlearn: 453.9455972\ttest: 566.2049401\tbest: 566.2049401 (1400)\ttotal: 2m 21s\tremaining: 11.4s\n",
      "1513:\tlearn: 446.5004337\ttest: 564.4354014\tbest: 564.4354014 (1513)\ttotal: 2m 32s\tremaining: 0us\n",
      "\n",
      "bestTest = 564.4354014\n",
      "bestIteration = 1513\n",
      "\n"
     ]
    },
    {
     "name": "stderr",
     "output_type": "stream",
     "text": [
      "\u001b[32m[I 2021-05-06 04:53:02,167]\u001b[0m Trial 64 finished with value: 564.4354014130241 and parameters: {'n_estimators': 1514, 'learning_rate': 0.20431134444447227, 'depth': 10, 'rsm': 0.9992325196204184}. Best is trial 62 with value: 558.6922812177805.\u001b[0m\n"
     ]
    },
    {
     "name": "stdout",
     "output_type": "stream",
     "text": [
      "0:\tlearn: 3012.9131752\ttest: 3012.3848912\tbest: 3012.3848912 (0)\ttotal: 92.6ms\tremaining: 2m 53s\n",
      "200:\tlearn: 608.4922962\ttest: 643.0439491\tbest: 643.0439491 (200)\ttotal: 19.7s\tremaining: 2m 44s\n",
      "400:\tlearn: 549.7079789\ttest: 605.9683061\tbest: 605.9683061 (400)\ttotal: 39.1s\tremaining: 2m 23s\n",
      "600:\tlearn: 513.0485419\ttest: 589.2590016\tbest: 589.2590016 (600)\ttotal: 58.7s\tremaining: 2m 4s\n",
      "800:\tlearn: 485.5284048\ttest: 578.8086944\tbest: 578.8086944 (800)\ttotal: 1m 18s\tremaining: 1m 45s\n",
      "1000:\tlearn: 464.8447415\ttest: 572.5266927\tbest: 572.5266927 (1000)\ttotal: 1m 38s\tremaining: 1m 26s\n",
      "1200:\tlearn: 446.2672066\ttest: 568.0641044\tbest: 568.0487419 (1199)\ttotal: 1m 57s\tremaining: 1m 6s\n",
      "1400:\tlearn: 431.1289130\ttest: 564.7222141\tbest: 564.7222141 (1400)\ttotal: 2m 17s\tremaining: 46.7s\n",
      "1600:\tlearn: 417.6560985\ttest: 562.4899704\tbest: 562.4899704 (1600)\ttotal: 2m 37s\tremaining: 27.1s\n",
      "1800:\tlearn: 405.2048541\ttest: 560.9008754\tbest: 560.8750069 (1795)\ttotal: 2m 57s\tremaining: 7.47s\n",
      "1876:\tlearn: 400.7877609\ttest: 560.4574462\tbest: 560.4338211 (1873)\ttotal: 3m 4s\tremaining: 0us\n",
      "\n",
      "bestTest = 560.4338211\n",
      "bestIteration = 1873\n",
      "\n",
      "Shrink model to first 1874 iterations.\n"
     ]
    },
    {
     "name": "stderr",
     "output_type": "stream",
     "text": [
      "\u001b[32m[I 2021-05-06 04:56:08,239]\u001b[0m Trial 65 finished with value: 560.4338210753704 and parameters: {'n_estimators': 1877, 'learning_rate': 0.2608636126253002, 'depth': 10, 'rsm': 0.9344454369874629}. Best is trial 62 with value: 558.6922812177805.\u001b[0m\n"
     ]
    },
    {
     "name": "stdout",
     "output_type": "stream",
     "text": [
      "0:\tlearn: 3026.2907838\ttest: 3025.6371773\tbest: 3025.6371773 (0)\ttotal: 88.6ms\tremaining: 2m 44s\n",
      "200:\tlearn: 608.0865034\ttest: 641.1402691\tbest: 641.1402691 (200)\ttotal: 19.4s\tremaining: 2m 39s\n",
      "400:\tlearn: 549.9843834\ttest: 604.6769366\tbest: 604.6769366 (400)\ttotal: 39.1s\tremaining: 2m 21s\n",
      "600:\tlearn: 514.0522727\ttest: 588.7855510\tbest: 588.7855510 (600)\ttotal: 58.4s\tremaining: 2m 1s\n",
      "800:\tlearn: 487.3384909\ttest: 578.9142331\tbest: 578.9136945 (796)\ttotal: 1m 17s\tremaining: 1m 42s\n",
      "1000:\tlearn: 465.5930249\ttest: 571.0342340\tbest: 571.0342340 (1000)\ttotal: 1m 37s\tremaining: 1m 23s\n",
      "1200:\tlearn: 448.5762969\ttest: 567.6988093\tbest: 567.6963136 (1199)\ttotal: 1m 56s\tremaining: 1m 3s\n",
      "1400:\tlearn: 433.4882700\ttest: 564.1794727\tbest: 564.1794727 (1400)\ttotal: 2m 16s\tremaining: 44.3s\n",
      "1600:\tlearn: 420.2082841\ttest: 561.9543910\tbest: 561.9543910 (1600)\ttotal: 2m 36s\tremaining: 24.9s\n",
      "1800:\tlearn: 408.0382198\ttest: 559.9080667\tbest: 559.9080667 (1800)\ttotal: 2m 56s\tremaining: 5.37s\n",
      "1855:\tlearn: 405.0795305\ttest: 559.6485828\tbest: 559.6217866 (1844)\ttotal: 3m 1s\tremaining: 0us\n",
      "\n",
      "bestTest = 559.6217866\n",
      "bestIteration = 1844\n",
      "\n",
      "Shrink model to first 1845 iterations.\n"
     ]
    },
    {
     "name": "stderr",
     "output_type": "stream",
     "text": [
      "\u001b[32m[I 2021-05-06 04:59:11,259]\u001b[0m Trial 66 finished with value: 559.6217865622624 and parameters: {'n_estimators': 1856, 'learning_rate': 0.2570968597118356, 'depth': 10, 'rsm': 0.925611301874558}. Best is trial 62 with value: 558.6922812177805.\u001b[0m\n"
     ]
    },
    {
     "name": "stdout",
     "output_type": "stream",
     "text": [
      "0:\tlearn: 2916.5443511\ttest: 2915.9829092\tbest: 2915.9829092 (0)\ttotal: 88.4ms\tremaining: 2m 51s\n",
      "200:\tlearn: 601.3582145\ttest: 637.0411813\tbest: 637.0411813 (200)\ttotal: 19.5s\tremaining: 2m 49s\n",
      "400:\tlearn: 542.1232693\ttest: 602.9218520\tbest: 602.9218520 (400)\ttotal: 38.9s\tremaining: 2m 29s\n",
      "600:\tlearn: 504.7548049\ttest: 587.5444415\tbest: 587.5444415 (600)\ttotal: 58.4s\tremaining: 2m 10s\n",
      "800:\tlearn: 477.9897704\ttest: 577.6046468\tbest: 577.6046468 (800)\ttotal: 1m 17s\tremaining: 1m 51s\n",
      "1000:\tlearn: 456.5257236\ttest: 572.1552688\tbest: 572.1549951 (999)\ttotal: 1m 37s\tremaining: 1m 32s\n",
      "1200:\tlearn: 438.0030985\ttest: 567.8087220\tbest: 567.8087220 (1200)\ttotal: 1m 57s\tremaining: 1m 12s\n",
      "1400:\tlearn: 422.0419024\ttest: 565.2675249\tbest: 565.2598759 (1398)\ttotal: 2m 16s\tremaining: 52.9s\n",
      "1600:\tlearn: 408.7295707\ttest: 563.8192482\tbest: 563.8133638 (1599)\ttotal: 2m 36s\tremaining: 33.4s\n",
      "1800:\tlearn: 396.7371315\ttest: 562.5625533\tbest: 562.5566726 (1799)\ttotal: 2m 55s\tremaining: 14s\n",
      "1943:\tlearn: 388.8056445\ttest: 561.7612084\tbest: 561.7612084 (1943)\ttotal: 3m 9s\tremaining: 0us\n",
      "\n",
      "bestTest = 561.7612084\n",
      "bestIteration = 1943\n",
      "\n"
     ]
    },
    {
     "name": "stderr",
     "output_type": "stream",
     "text": [
      "\u001b[32m[I 2021-05-06 05:02:22,777]\u001b[0m Trial 67 finished with value: 561.7612083724796 and parameters: {'n_estimators': 1944, 'learning_rate': 0.2895309617596829, 'depth': 10, 'rsm': 0.9266262581979815}. Best is trial 62 with value: 558.6922812177805.\u001b[0m\n"
     ]
    },
    {
     "name": "stdout",
     "output_type": "stream",
     "text": [
      "0:\tlearn: 3353.2670746\ttest: 3351.4426368\tbest: 3351.4426368 (0)\ttotal: 93ms\tremaining: 2m 53s\n",
      "200:\tlearn: 641.4896856\ttest: 664.2500371\tbest: 664.2500371 (200)\ttotal: 19.6s\tremaining: 2m 42s\n",
      "400:\tlearn: 586.0796267\ttest: 625.4324744\tbest: 625.4324744 (400)\ttotal: 39.3s\tremaining: 2m 23s\n",
      "600:\tlearn: 551.8689198\ttest: 605.1809347\tbest: 605.1809347 (600)\ttotal: 59.3s\tremaining: 2m 4s\n",
      "800:\tlearn: 527.4903646\ttest: 592.8219459\tbest: 592.8219459 (800)\ttotal: 1m 19s\tremaining: 1m 45s\n",
      "1000:\tlearn: 507.3986015\ttest: 584.3484690\tbest: 584.3484690 (1000)\ttotal: 1m 38s\tremaining: 1m 25s\n",
      "1200:\tlearn: 490.4300517\ttest: 577.8477609\tbest: 577.8477609 (1200)\ttotal: 1m 58s\tremaining: 1m 5s\n",
      "1400:\tlearn: 475.7786430\ttest: 572.7526199\tbest: 572.7526199 (1400)\ttotal: 2m 18s\tremaining: 45.6s\n",
      "1600:\tlearn: 462.8243461\ttest: 568.3467574\tbest: 568.3467574 (1600)\ttotal: 2m 38s\tremaining: 25.9s\n",
      "1800:\tlearn: 451.1939284\ttest: 565.4023635\tbest: 565.3869698 (1799)\ttotal: 2m 58s\tremaining: 6.13s\n",
      "1862:\tlearn: 447.7338930\ttest: 564.5084000\tbest: 564.4905046 (1861)\ttotal: 3m 4s\tremaining: 0us\n",
      "\n",
      "bestTest = 564.4905046\n",
      "bestIteration = 1861\n",
      "\n",
      "Shrink model to first 1862 iterations.\n"
     ]
    },
    {
     "name": "stderr",
     "output_type": "stream",
     "text": [
      "\u001b[32m[I 2021-05-06 05:05:28,397]\u001b[0m Trial 68 finished with value: 564.4905046104296 and parameters: {'n_estimators': 1863, 'learning_rate': 0.16243380326616114, 'depth': 10, 'rsm': 0.9435674367842287}. Best is trial 62 with value: 558.6922812177805.\u001b[0m\n"
     ]
    },
    {
     "name": "stdout",
     "output_type": "stream",
     "text": [
      "0:\tlearn: 3025.2374725\ttest: 3023.6546256\tbest: 3023.6546256 (0)\ttotal: 93.5ms\tremaining: 3m 11s\n",
      "200:\tlearn: 608.5852177\ttest: 641.5438458\tbest: 641.5438458 (200)\ttotal: 19.2s\tremaining: 2m 56s\n",
      "400:\tlearn: 550.5302660\ttest: 605.5687577\tbest: 605.5687577 (400)\ttotal: 38.7s\tremaining: 2m 39s\n",
      "600:\tlearn: 514.4717509\ttest: 589.0851357\tbest: 589.0851357 (600)\ttotal: 57.9s\tremaining: 2m 19s\n",
      "800:\tlearn: 488.2695889\ttest: 579.6932566\tbest: 579.6828084 (799)\ttotal: 1m 17s\tremaining: 2m\n",
      "1000:\tlearn: 468.1124855\ttest: 573.2416109\tbest: 573.2416109 (1000)\ttotal: 1m 36s\tremaining: 1m 41s\n",
      "1200:\tlearn: 449.8446721\ttest: 569.3402358\tbest: 569.3402358 (1200)\ttotal: 1m 55s\tremaining: 1m 21s\n",
      "1400:\tlearn: 433.9436800\ttest: 565.3745067\tbest: 565.3404832 (1397)\ttotal: 2m 15s\tremaining: 1m 2s\n",
      "1600:\tlearn: 420.4781094\ttest: 562.8966271\tbest: 562.8966271 (1600)\ttotal: 2m 35s\tremaining: 43.7s\n",
      "1800:\tlearn: 408.5545444\ttest: 561.2929885\tbest: 561.2638174 (1796)\ttotal: 2m 54s\tremaining: 24.3s\n",
      "2000:\tlearn: 397.4483898\ttest: 559.6645545\tbest: 559.6645545 (2000)\ttotal: 3m 14s\tremaining: 4.86s\n",
      "2050:\tlearn: 395.1708768\ttest: 559.5015309\tbest: 559.4854583 (2048)\ttotal: 3m 19s\tremaining: 0us\n",
      "\n",
      "bestTest = 559.4854583\n",
      "bestIteration = 2048\n",
      "\n",
      "Shrink model to first 2049 iterations.\n"
     ]
    },
    {
     "name": "stderr",
     "output_type": "stream",
     "text": [
      "\u001b[32m[I 2021-05-06 05:08:49,474]\u001b[0m Trial 69 finished with value: 559.4854583286649 and parameters: {'n_estimators': 2051, 'learning_rate': 0.2552137739507473, 'depth': 10, 'rsm': 0.8968444212233038}. Best is trial 62 with value: 558.6922812177805.\u001b[0m\n"
     ]
    },
    {
     "name": "stdout",
     "output_type": "stream",
     "text": [
      "0:\tlearn: 3083.9677046\ttest: 3083.0710107\tbest: 3083.0710107 (0)\ttotal: 41.5ms\tremaining: 1m 24s\n",
      "200:\tlearn: 774.2172968\ttest: 780.6542612\tbest: 780.6542612 (200)\ttotal: 8.73s\tremaining: 1m 19s\n",
      "400:\tlearn: 730.7027822\ttest: 739.0243322\tbest: 739.0243322 (400)\ttotal: 17.5s\tremaining: 1m 11s\n",
      "600:\tlearn: 708.1082066\ttest: 718.6366847\tbest: 718.6366847 (600)\ttotal: 26s\tremaining: 1m 2s\n",
      "800:\tlearn: 690.7518392\ttest: 703.2202625\tbest: 703.2202625 (800)\ttotal: 34.6s\tremaining: 53.5s\n",
      "1000:\tlearn: 677.1507531\ttest: 691.7538988\tbest: 691.7538988 (1000)\ttotal: 43s\tremaining: 44.6s\n",
      "1200:\tlearn: 667.3699208\ttest: 683.6779821\tbest: 683.6779821 (1200)\ttotal: 51.7s\tremaining: 36.1s\n",
      "1400:\tlearn: 658.9913865\ttest: 676.4634474\tbest: 676.4634474 (1400)\ttotal: 1m\tremaining: 27.4s\n",
      "1600:\tlearn: 651.4498268\ttest: 670.0508445\tbest: 670.0508445 (1600)\ttotal: 1m 8s\tremaining: 18.8s\n",
      "1800:\tlearn: 644.9849228\ttest: 664.6439395\tbest: 664.6439395 (1800)\ttotal: 1m 17s\tremaining: 10.2s\n",
      "2000:\tlearn: 638.8537199\ttest: 659.6313192\tbest: 659.6313192 (2000)\ttotal: 1m 25s\tremaining: 1.63s\n"
     ]
    },
    {
     "name": "stderr",
     "output_type": "stream",
     "text": [
      "\u001b[32m[I 2021-05-06 05:10:17,820]\u001b[0m Trial 70 finished with value: 658.95512274664 and parameters: {'n_estimators': 2039, 'learning_rate': 0.25979848380217874, 'depth': 4, 'rsm': 0.9028048790972693}. Best is trial 62 with value: 558.6922812177805.\u001b[0m\n"
     ]
    },
    {
     "name": "stdout",
     "output_type": "stream",
     "text": [
      "2038:\tlearn: 638.0454632\ttest: 658.9551227\tbest: 658.9551227 (2038)\ttotal: 1m 27s\tremaining: 0us\n",
      "\n",
      "bestTest = 658.9551227\n",
      "bestIteration = 2038\n",
      "\n",
      "0:\tlearn: 2882.9332129\ttest: 2882.4012749\tbest: 2882.4012749 (0)\ttotal: 91.8ms\tremaining: 3m 20s\n",
      "200:\tlearn: 599.1628251\ttest: 636.2050084\tbest: 636.2050084 (200)\ttotal: 19.5s\tremaining: 3m 12s\n",
      "400:\tlearn: 538.3735356\ttest: 600.3261822\tbest: 600.3261822 (400)\ttotal: 39.1s\tremaining: 2m 54s\n",
      "600:\tlearn: 501.7939371\ttest: 584.2033246\tbest: 584.2033246 (600)\ttotal: 58.5s\tremaining: 2m 34s\n",
      "800:\tlearn: 474.2053212\ttest: 574.4554137\tbest: 574.4554137 (800)\ttotal: 1m 18s\tremaining: 2m 15s\n",
      "1000:\tlearn: 452.5995537\ttest: 568.4873934\tbest: 568.4817805 (998)\ttotal: 1m 38s\tremaining: 1m 56s\n",
      "1200:\tlearn: 433.9882055\ttest: 564.2307554\tbest: 564.2298411 (1199)\ttotal: 1m 57s\tremaining: 1m 36s\n",
      "1400:\tlearn: 418.6383548\ttest: 561.3675123\tbest: 561.3675123 (1400)\ttotal: 2m 17s\tremaining: 1m 17s\n",
      "1600:\tlearn: 405.0416485\ttest: 559.8761635\tbest: 559.8232418 (1593)\ttotal: 2m 37s\tremaining: 57.3s\n",
      "1800:\tlearn: 392.6911494\ttest: 558.9371336\tbest: 558.9371336 (1800)\ttotal: 2m 56s\tremaining: 37.6s\n",
      "2000:\tlearn: 381.3669186\ttest: 558.2408506\tbest: 558.0906441 (1952)\ttotal: 3m 16s\tremaining: 18s\n",
      "2184:\tlearn: 371.9390147\ttest: 557.6209129\tbest: 557.5452163 (2167)\ttotal: 3m 33s\tremaining: 0us\n",
      "\n",
      "bestTest = 557.5452163\n",
      "bestIteration = 2167\n",
      "\n",
      "Shrink model to first 2168 iterations.\n"
     ]
    },
    {
     "name": "stderr",
     "output_type": "stream",
     "text": [
      "\u001b[32m[I 2021-05-06 05:13:53,367]\u001b[0m Trial 71 finished with value: 557.5452163298231 and parameters: {'n_estimators': 2185, 'learning_rate': 0.29951577488968534, 'depth': 10, 'rsm': 0.9269434445566951}. Best is trial 71 with value: 557.5452163298231.\u001b[0m\n"
     ]
    },
    {
     "name": "stdout",
     "output_type": "stream",
     "text": [
      "0:\tlearn: 3029.3534044\ttest: 3028.6973126\tbest: 3028.6973126 (0)\ttotal: 87.4ms\tremaining: 3m 11s\n",
      "200:\tlearn: 610.4703632\ttest: 643.3104405\tbest: 643.3104405 (200)\ttotal: 19.3s\tremaining: 3m 11s\n",
      "400:\tlearn: 552.2016044\ttest: 607.7988380\tbest: 607.7988380 (400)\ttotal: 38.7s\tremaining: 2m 53s\n",
      "600:\tlearn: 515.6423956\ttest: 589.9453375\tbest: 589.9453375 (600)\ttotal: 58.1s\tremaining: 2m 34s\n",
      "800:\tlearn: 488.2435198\ttest: 579.3457352\tbest: 579.3457352 (800)\ttotal: 1m 17s\tremaining: 2m 15s\n",
      "1000:\tlearn: 466.3259676\ttest: 571.9132933\tbest: 571.9132933 (1000)\ttotal: 1m 37s\tremaining: 1m 56s\n",
      "1200:\tlearn: 448.8993526\ttest: 567.9246666\tbest: 567.9246666 (1200)\ttotal: 1m 56s\tremaining: 1m 36s\n",
      "1400:\tlearn: 433.5401289\ttest: 564.8973528\tbest: 564.8973528 (1400)\ttotal: 2m 15s\tremaining: 1m 17s\n",
      "1600:\tlearn: 420.3543743\ttest: 562.9553369\tbest: 562.9553369 (1600)\ttotal: 2m 35s\tremaining: 57.9s\n",
      "1800:\tlearn: 408.4176276\ttest: 560.7795188\tbest: 560.7795188 (1800)\ttotal: 2m 55s\tremaining: 38.5s\n",
      "2000:\tlearn: 397.7690069\ttest: 559.1798703\tbest: 559.1650616 (1997)\ttotal: 3m 14s\tremaining: 19s\n",
      "2196:\tlearn: 387.9354341\ttest: 558.1831969\tbest: 558.1831969 (2196)\ttotal: 3m 33s\tremaining: 0us\n",
      "\n",
      "bestTest = 558.1831969\n",
      "bestIteration = 2196\n",
      "\n"
     ]
    },
    {
     "name": "stderr",
     "output_type": "stream",
     "text": [
      "\u001b[32m[I 2021-05-06 05:17:28,498]\u001b[0m Trial 72 finished with value: 558.1831969464845 and parameters: {'n_estimators': 2197, 'learning_rate': 0.25619523207840544, 'depth': 10, 'rsm': 0.9293550076625782}. Best is trial 71 with value: 557.5452163298231.\u001b[0m\n"
     ]
    },
    {
     "name": "stdout",
     "output_type": "stream",
     "text": [
      "0:\tlearn: 3466.8112760\ttest: 3465.3617800\tbest: 3465.3617800 (0)\ttotal: 87ms\tremaining: 3m 22s\n",
      "200:\tlearn: 654.6524331\ttest: 673.9966813\tbest: 673.9966813 (200)\ttotal: 19.2s\tremaining: 3m 22s\n",
      "400:\tlearn: 601.2704391\ttest: 634.2484788\tbest: 634.2484788 (400)\ttotal: 38.6s\tremaining: 3m 5s\n",
      "600:\tlearn: 567.6183662\ttest: 612.1890693\tbest: 612.1890693 (600)\ttotal: 58s\tremaining: 2m 46s\n",
      "800:\tlearn: 543.4800984\ttest: 598.9914490\tbest: 598.9914490 (800)\ttotal: 1m 17s\tremaining: 2m 27s\n",
      "1000:\tlearn: 524.9402215\ttest: 589.3732496\tbest: 589.3732496 (1000)\ttotal: 1m 36s\tremaining: 2m 7s\n",
      "1200:\tlearn: 508.9579026\ttest: 582.2512721\tbest: 582.2512721 (1200)\ttotal: 1m 55s\tremaining: 1m 48s\n",
      "1400:\tlearn: 495.6228496\ttest: 577.5249606\tbest: 577.5249606 (1400)\ttotal: 2m 14s\tremaining: 1m 29s\n",
      "1600:\tlearn: 483.4793331\ttest: 573.0060175\tbest: 573.0060175 (1600)\ttotal: 2m 33s\tremaining: 1m 9s\n",
      "1800:\tlearn: 472.8308687\ttest: 569.3823566\tbest: 569.3823566 (1800)\ttotal: 2m 52s\tremaining: 50.6s\n",
      "2000:\tlearn: 463.1816476\ttest: 566.4029355\tbest: 566.4029355 (2000)\ttotal: 3m 12s\tremaining: 31.4s\n",
      "2200:\tlearn: 453.8016953\ttest: 564.0477472\tbest: 564.0477472 (2200)\ttotal: 3m 31s\tremaining: 12.2s\n",
      "2327:\tlearn: 448.0822251\ttest: 562.5857405\tbest: 562.5857405 (2327)\ttotal: 3m 43s\tremaining: 0us\n",
      "\n",
      "bestTest = 562.5857405\n",
      "bestIteration = 2327\n",
      "\n"
     ]
    },
    {
     "name": "stderr",
     "output_type": "stream",
     "text": [
      "\u001b[32m[I 2021-05-06 05:21:14,042]\u001b[0m Trial 73 finished with value: 562.5857404953939 and parameters: {'n_estimators': 2328, 'learning_rate': 0.12797876719238402, 'depth': 10, 'rsm': 0.8925145297822277}. Best is trial 71 with value: 557.5452163298231.\u001b[0m\n"
     ]
    },
    {
     "name": "stdout",
     "output_type": "stream",
     "text": [
      "0:\tlearn: 3308.4708388\ttest: 3307.0785707\tbest: 3307.0785707 (0)\ttotal: 72.8ms\tremaining: 2m 39s\n",
      "200:\tlearn: 657.3155043\ttest: 677.3664458\tbest: 677.3664458 (200)\ttotal: 15.6s\tremaining: 2m 34s\n",
      "400:\tlearn: 606.0808667\ttest: 637.9179774\tbest: 637.9179774 (400)\ttotal: 31.5s\tremaining: 2m 20s\n",
      "600:\tlearn: 574.8486653\ttest: 617.0021495\tbest: 617.0021495 (600)\ttotal: 47.2s\tremaining: 2m 4s\n",
      "800:\tlearn: 552.3268276\ttest: 603.1360243\tbest: 603.1360243 (800)\ttotal: 1m 2s\tremaining: 1m 48s\n",
      "1000:\tlearn: 534.3805149\ttest: 594.1238614\tbest: 594.1238614 (1000)\ttotal: 1m 18s\tremaining: 1m 33s\n",
      "1200:\tlearn: 519.3836653\ttest: 587.0876810\tbest: 587.0876810 (1200)\ttotal: 1m 34s\tremaining: 1m 17s\n",
      "1400:\tlearn: 506.2441277\ttest: 581.1241967\tbest: 581.1241967 (1400)\ttotal: 1m 50s\tremaining: 1m 1s\n",
      "1600:\tlearn: 494.9093211\ttest: 577.0284957\tbest: 577.0284957 (1600)\ttotal: 2m 6s\tremaining: 46.2s\n",
      "1800:\tlearn: 484.4157549\ttest: 572.8267892\tbest: 572.8241264 (1799)\ttotal: 2m 22s\tremaining: 30.4s\n",
      "2000:\tlearn: 475.3895965\ttest: 569.4867215\tbest: 569.4867215 (2000)\ttotal: 2m 37s\tremaining: 14.6s\n",
      "2185:\tlearn: 467.7706692\ttest: 567.1406251\tbest: 567.1406251 (2185)\ttotal: 2m 52s\tremaining: 0us\n",
      "\n",
      "bestTest = 567.1406251\n",
      "bestIteration = 2185\n",
      "\n"
     ]
    },
    {
     "name": "stderr",
     "output_type": "stream",
     "text": [
      "\u001b[32m[I 2021-05-06 05:24:07,818]\u001b[0m Trial 74 finished with value: 567.1406251031452 and parameters: {'n_estimators': 2186, 'learning_rate': 0.17522077229329588, 'depth': 9, 'rsm': 0.8690569183170753}. Best is trial 71 with value: 557.5452163298231.\u001b[0m\n"
     ]
    },
    {
     "name": "stdout",
     "output_type": "stream",
     "text": [
      "0:\tlearn: 3178.4675425\ttest: 3177.7104923\tbest: 3177.7104923 (0)\ttotal: 66.5ms\tremaining: 2m 44s\n",
      "200:\tlearn: 645.8143327\ttest: 668.3554561\tbest: 668.3554561 (200)\ttotal: 16s\tremaining: 3m 1s\n",
      "400:\tlearn: 591.5361731\ttest: 628.3668769\tbest: 628.3668769 (400)\ttotal: 32.2s\tremaining: 2m 47s\n",
      "600:\tlearn: 559.5374733\ttest: 608.4108431\tbest: 608.4108431 (600)\ttotal: 48.1s\tremaining: 2m 30s\n",
      "800:\tlearn: 535.3623663\ttest: 595.8573432\tbest: 595.8573432 (800)\ttotal: 1m 4s\tremaining: 2m 14s\n",
      "1000:\tlearn: 516.4385616\ttest: 586.9066344\tbest: 586.9066344 (1000)\ttotal: 1m 20s\tremaining: 1m 59s\n",
      "1200:\tlearn: 500.9933375\ttest: 580.8772237\tbest: 580.8772237 (1200)\ttotal: 1m 36s\tremaining: 1m 43s\n",
      "1400:\tlearn: 488.0156344\ttest: 576.2690877\tbest: 576.2690877 (1400)\ttotal: 1m 52s\tremaining: 1m 26s\n",
      "1600:\tlearn: 475.5798802\ttest: 572.1005296\tbest: 572.1005296 (1600)\ttotal: 2m 9s\tremaining: 1m 10s\n",
      "1800:\tlearn: 465.5080167\ttest: 569.4619502\tbest: 569.4583830 (1799)\ttotal: 2m 25s\tremaining: 54.7s\n",
      "2000:\tlearn: 456.0989669\ttest: 567.0649457\tbest: 567.0393470 (1998)\ttotal: 2m 41s\tremaining: 38.6s\n",
      "2200:\tlearn: 447.5880458\ttest: 564.6620633\tbest: 564.6620633 (2200)\ttotal: 2m 57s\tremaining: 22.5s\n",
      "2400:\tlearn: 439.3516717\ttest: 562.5219476\tbest: 562.5219476 (2400)\ttotal: 3m 13s\tremaining: 6.36s\n",
      "2479:\tlearn: 436.6037577\ttest: 562.0548082\tbest: 562.0297907 (2478)\ttotal: 3m 19s\tremaining: 0us\n",
      "\n",
      "bestTest = 562.0297907\n",
      "bestIteration = 2478\n",
      "\n",
      "Shrink model to first 2479 iterations.\n"
     ]
    },
    {
     "name": "stderr",
     "output_type": "stream",
     "text": [
      "\u001b[32m[I 2021-05-06 05:27:29,101]\u001b[0m Trial 75 finished with value: 562.0297906798547 and parameters: {'n_estimators': 2480, 'learning_rate': 0.2148361524982499, 'depth': 9, 'rsm': 0.924881272302524}. Best is trial 71 with value: 557.5452163298231.\u001b[0m\n"
     ]
    },
    {
     "name": "stdout",
     "output_type": "stream",
     "text": [
      "0:\tlearn: 3732.3945642\ttest: 3731.0824773\tbest: 3731.0824773 (0)\ttotal: 87.5ms\tremaining: 3m 5s\n",
      "200:\tlearn: 726.8844137\ttest: 737.2837065\tbest: 737.2837065 (200)\ttotal: 19.8s\tremaining: 3m 9s\n",
      "400:\tlearn: 663.9439601\ttest: 681.4285745\tbest: 681.4285745 (400)\ttotal: 39.5s\tremaining: 2m 49s\n",
      "600:\tlearn: 631.1807636\ttest: 654.9834615\tbest: 654.9834615 (600)\ttotal: 59.2s\tremaining: 2m 29s\n",
      "800:\tlearn: 608.5065281\ttest: 638.3052248\tbest: 638.3052248 (800)\ttotal: 1m 18s\tremaining: 2m 10s\n",
      "1000:\tlearn: 591.7539407\ttest: 626.6246915\tbest: 626.6246915 (1000)\ttotal: 1m 38s\tremaining: 1m 50s\n",
      "1200:\tlearn: 577.8046861\ttest: 617.7881808\tbest: 617.7881808 (1200)\ttotal: 1m 59s\tremaining: 1m 31s\n",
      "1400:\tlearn: 565.8366028\ttest: 610.6620145\tbest: 610.6620145 (1400)\ttotal: 2m 18s\tremaining: 1m 11s\n",
      "1600:\tlearn: 554.8063734\ttest: 604.2210120\tbest: 604.2210120 (1600)\ttotal: 2m 38s\tremaining: 51.7s\n",
      "1800:\tlearn: 545.1383620\ttest: 598.9832107\tbest: 598.9832107 (1800)\ttotal: 2m 58s\tremaining: 31.8s\n",
      "2000:\tlearn: 536.6301921\ttest: 594.6760372\tbest: 594.6760372 (2000)\ttotal: 3m 18s\tremaining: 12s\n",
      "2121:\tlearn: 531.7696126\ttest: 592.1867494\tbest: 592.1867494 (2121)\ttotal: 3m 30s\tremaining: 0us\n",
      "\n",
      "bestTest = 592.1867494\n",
      "bestIteration = 2121\n",
      "\n"
     ]
    },
    {
     "name": "stderr",
     "output_type": "stream",
     "text": [
      "\u001b[32m[I 2021-05-06 05:31:01,762]\u001b[0m Trial 76 finished with value: 592.1867494426917 and parameters: {'n_estimators': 2122, 'learning_rate': 0.05329487175289521, 'depth': 10, 'rsm': 0.9598643482893137}. Best is trial 71 with value: 557.5452163298231.\u001b[0m\n"
     ]
    },
    {
     "name": "stdout",
     "output_type": "stream",
     "text": [
      "0:\tlearn: 1245.7433196\ttest: 1247.5777882\tbest: 1247.5777882 (0)\ttotal: 88.8ms\tremaining: 3m 23s\n",
      "200:\tlearn: 533.7264865\ttest: 629.4634118\tbest: 629.4634118 (200)\ttotal: 19.6s\tremaining: 3m 24s\n",
      "400:\tlearn: 464.3596945\ttest: 620.7914106\tbest: 619.7821361 (375)\ttotal: 39s\tremaining: 3m 4s\n",
      "Stopped by overfitting detector  (100 iterations wait)\n",
      "\n",
      "bestTest = 619.7821361\n",
      "bestIteration = 375\n",
      "\n",
      "Shrink model to first 376 iterations.\n"
     ]
    },
    {
     "name": "stderr",
     "output_type": "stream",
     "text": [
      "\u001b[32m[I 2021-05-06 05:31:48,680]\u001b[0m Trial 77 finished with value: 619.7821361451506 and parameters: {'n_estimators': 2297, 'learning_rate': 0.9734001616117436, 'depth': 10, 'rsm': 0.9037824414611816}. Best is trial 71 with value: 557.5452163298231.\u001b[0m\n"
     ]
    },
    {
     "name": "stdout",
     "output_type": "stream",
     "text": [
      "0:\tlearn: 3040.5832537\ttest: 3038.4785887\tbest: 3038.4785887 (0)\ttotal: 64.5ms\tremaining: 2m 21s\n",
      "200:\tlearn: 635.2890973\ttest: 659.4087393\tbest: 659.4087393 (200)\ttotal: 14.9s\tremaining: 2m 27s\n",
      "400:\tlearn: 580.5247189\ttest: 620.4863544\tbest: 620.4863544 (400)\ttotal: 29.9s\tremaining: 2m 14s\n",
      "600:\tlearn: 546.4474730\ttest: 600.8164265\tbest: 600.8164265 (600)\ttotal: 45.2s\tremaining: 2m\n",
      "800:\tlearn: 522.5720751\ttest: 589.4123987\tbest: 589.4123987 (800)\ttotal: 1m\tremaining: 1m 45s\n",
      "1000:\tlearn: 503.5433360\ttest: 581.9252364\tbest: 581.9252364 (1000)\ttotal: 1m 15s\tremaining: 1m 30s\n",
      "1200:\tlearn: 487.9445881\ttest: 576.2175526\tbest: 576.2175526 (1200)\ttotal: 1m 31s\tremaining: 1m 15s\n",
      "1400:\tlearn: 474.5641345\ttest: 572.7719262\tbest: 572.7719262 (1400)\ttotal: 1m 46s\tremaining: 1m\n",
      "1600:\tlearn: 462.4579475\ttest: 568.6707467\tbest: 568.6707467 (1600)\ttotal: 2m 1s\tremaining: 45.5s\n",
      "1800:\tlearn: 451.7130347\ttest: 566.3146947\tbest: 566.2703899 (1798)\ttotal: 2m 16s\tremaining: 30.3s\n",
      "2000:\tlearn: 442.1073943\ttest: 564.5440410\tbest: 564.5440410 (2000)\ttotal: 2m 31s\tremaining: 15.1s\n",
      "2200:\tlearn: 433.5126835\ttest: 562.9541010\tbest: 562.9541010 (2200)\ttotal: 2m 46s\tremaining: 0us\n",
      "\n",
      "bestTest = 562.954101\n",
      "bestIteration = 2200\n",
      "\n"
     ]
    },
    {
     "name": "stderr",
     "output_type": "stream",
     "text": [
      "\u001b[32m[I 2021-05-06 05:34:36,417]\u001b[0m Trial 78 finished with value: 562.9541010246235 and parameters: {'n_estimators': 2201, 'learning_rate': 0.25405635213116073, 'depth': 9, 'rsm': 0.9413430441454261}. Best is trial 71 with value: 557.5452163298231.\u001b[0m\n"
     ]
    },
    {
     "name": "stdout",
     "output_type": "stream",
     "text": [
      "0:\tlearn: 2737.8417459\ttest: 2737.4576691\tbest: 2737.4576691 (0)\ttotal: 89.1ms\tremaining: 3m 5s\n",
      "200:\tlearn: 586.8044941\ttest: 627.0463976\tbest: 627.0463976 (200)\ttotal: 19.3s\tremaining: 3m\n",
      "400:\tlearn: 527.7769269\ttest: 596.2673959\tbest: 596.2673959 (400)\ttotal: 38.7s\tremaining: 2m 42s\n",
      "600:\tlearn: 489.3447142\ttest: 581.3001401\tbest: 581.2921440 (599)\ttotal: 57.9s\tremaining: 2m 22s\n",
      "800:\tlearn: 462.2218762\ttest: 574.6761610\tbest: 574.6495480 (799)\ttotal: 1m 17s\tremaining: 2m 3s\n",
      "1000:\tlearn: 440.5891994\ttest: 570.2466997\tbest: 570.2330780 (998)\ttotal: 1m 36s\tremaining: 1m 44s\n",
      "1200:\tlearn: 422.8776726\ttest: 566.9990505\tbest: 566.9990505 (1200)\ttotal: 1m 56s\tremaining: 1m 25s\n",
      "1400:\tlearn: 406.7172938\ttest: 565.2465473\tbest: 565.2439319 (1395)\ttotal: 2m 15s\tremaining: 1m 6s\n",
      "1600:\tlearn: 392.6348831\ttest: 563.8399557\tbest: 563.8178858 (1598)\ttotal: 2m 34s\tremaining: 46.6s\n",
      "1800:\tlearn: 379.9520177\ttest: 563.3322986\tbest: 563.2854844 (1757)\ttotal: 2m 53s\tremaining: 27.2s\n",
      "Stopped by overfitting detector  (100 iterations wait)\n",
      "\n",
      "bestTest = 563.2854844\n",
      "bestIteration = 1757\n",
      "\n",
      "Shrink model to first 1758 iterations.\n"
     ]
    },
    {
     "name": "stderr",
     "output_type": "stream",
     "text": [
      "\u001b[32m[I 2021-05-06 05:37:37,382]\u001b[0m Trial 79 finished with value: 563.2854843925178 and parameters: {'n_estimators': 2083, 'learning_rate': 0.34344400020238147, 'depth': 10, 'rsm': 0.8791809075749464}. Best is trial 71 with value: 557.5452163298231.\u001b[0m\n"
     ]
    },
    {
     "name": "stdout",
     "output_type": "stream",
     "text": [
      "0:\tlearn: 2872.0496191\ttest: 2870.4383929\tbest: 2870.4383929 (0)\ttotal: 66.4ms\tremaining: 2m 55s\n",
      "200:\tlearn: 620.5709751\ttest: 647.8991153\tbest: 647.8991153 (200)\ttotal: 14.3s\tremaining: 2m 54s\n",
      "400:\tlearn: 565.7925554\ttest: 612.0395213\tbest: 612.0395213 (400)\ttotal: 28.6s\tremaining: 2m 40s\n",
      "600:\tlearn: 533.4889660\ttest: 594.3606851\tbest: 594.3606851 (600)\ttotal: 42.9s\tremaining: 2m 26s\n",
      "800:\tlearn: 508.8748616\ttest: 584.7969906\tbest: 584.7969906 (800)\ttotal: 57.3s\tremaining: 2m 12s\n",
      "1000:\tlearn: 489.3506222\ttest: 577.7906462\tbest: 577.7906462 (1000)\ttotal: 1m 11s\tremaining: 1m 57s\n",
      "1200:\tlearn: 473.7296853\ttest: 573.2479573\tbest: 573.2479573 (1200)\ttotal: 1m 25s\tremaining: 1m 43s\n",
      "1400:\tlearn: 459.7359722\ttest: 569.0644286\tbest: 569.0644286 (1400)\ttotal: 1m 39s\tremaining: 1m 28s\n",
      "1600:\tlearn: 447.7452646\ttest: 566.2063459\tbest: 566.2063459 (1600)\ttotal: 1m 54s\tremaining: 1m 14s\n",
      "1800:\tlearn: 436.9532232\ttest: 563.9889584\tbest: 563.9889584 (1800)\ttotal: 2m 8s\tremaining: 1m\n",
      "2000:\tlearn: 426.6705228\ttest: 562.6740624\tbest: 562.6636564 (1998)\ttotal: 2m 22s\tremaining: 46.4s\n",
      "2200:\tlearn: 417.9105791\ttest: 561.4645621\tbest: 561.4455326 (2182)\ttotal: 2m 36s\tremaining: 32.1s\n",
      "2400:\tlearn: 409.3456750\ttest: 560.5616847\tbest: 560.5546822 (2386)\ttotal: 2m 51s\tremaining: 17.8s\n",
      "2600:\tlearn: 402.0998387\ttest: 559.6884618\tbest: 559.6768998 (2599)\ttotal: 3m 5s\tremaining: 3.57s\n",
      "2650:\tlearn: 400.1558818\ttest: 559.7304307\tbest: 559.6281051 (2615)\ttotal: 3m 9s\tremaining: 0us\n",
      "\n",
      "bestTest = 559.6281051\n",
      "bestIteration = 2615\n",
      "\n",
      "Shrink model to first 2616 iterations.\n"
     ]
    },
    {
     "name": "stderr",
     "output_type": "stream",
     "text": [
      "\u001b[32m[I 2021-05-06 05:40:48,557]\u001b[0m Trial 80 finished with value: 559.6281050867814 and parameters: {'n_estimators': 2651, 'learning_rate': 0.30557759772971305, 'depth': 9, 'rsm': 0.9674624001122452}. Best is trial 71 with value: 557.5452163298231.\u001b[0m\n"
     ]
    },
    {
     "name": "stdout",
     "output_type": "stream",
     "text": [
      "0:\tlearn: 2884.0026436\ttest: 2883.4704194\tbest: 2883.4704194 (0)\ttotal: 92.2ms\tremaining: 4m 12s\n",
      "200:\tlearn: 599.2583732\ttest: 636.2964590\tbest: 636.2964590 (200)\ttotal: 20.2s\tremaining: 4m 15s\n",
      "400:\tlearn: 539.5194622\ttest: 601.1209056\tbest: 601.1209056 (400)\ttotal: 40.3s\tremaining: 3m 55s\n",
      "600:\tlearn: 501.8654459\ttest: 584.4618365\tbest: 584.4618365 (600)\ttotal: 1m\tremaining: 3m 34s\n",
      "800:\tlearn: 474.4750979\ttest: 575.3096744\tbest: 575.3096744 (800)\ttotal: 1m 20s\tremaining: 3m 14s\n",
      "1000:\tlearn: 453.7732274\ttest: 570.1401724\tbest: 570.1233863 (999)\ttotal: 1m 39s\tremaining: 2m 53s\n",
      "1200:\tlearn: 435.5836368\ttest: 566.5359338\tbest: 566.5359338 (1200)\ttotal: 1m 59s\tremaining: 2m 33s\n",
      "1400:\tlearn: 420.1273578\ttest: 563.8217475\tbest: 563.8068951 (1399)\ttotal: 2m 19s\tremaining: 2m 13s\n",
      "1600:\tlearn: 406.4254002\ttest: 562.6104342\tbest: 562.6094818 (1596)\ttotal: 2m 39s\tremaining: 1m 53s\n",
      "1800:\tlearn: 394.2976227\ttest: 561.6461877\tbest: 561.6410474 (1799)\ttotal: 2m 59s\tremaining: 1m 33s\n",
      "2000:\tlearn: 383.7072832\ttest: 561.1909014\tbest: 561.1909014 (2000)\ttotal: 3m 19s\tremaining: 1m 13s\n",
      "2200:\tlearn: 373.4288908\ttest: 560.8175241\tbest: 560.8098035 (2191)\ttotal: 3m 39s\tremaining: 53.8s\n",
      "2400:\tlearn: 364.0925580\ttest: 560.4214354\tbest: 560.3941653 (2362)\ttotal: 3m 59s\tremaining: 33.9s\n",
      "Stopped by overfitting detector  (100 iterations wait)\n",
      "\n",
      "bestTest = 560.3941653\n",
      "bestIteration = 2362\n",
      "\n",
      "Shrink model to first 2363 iterations.\n"
     ]
    },
    {
     "name": "stderr",
     "output_type": "stream",
     "text": [
      "\u001b[32m[I 2021-05-06 05:44:56,207]\u001b[0m Trial 81 finished with value: 560.3941652802089 and parameters: {'n_estimators': 2741, 'learning_rate': 0.30049869095657367, 'depth': 10, 'rsm': 0.9673304099052725}. Best is trial 71 with value: 557.5452163298231.\u001b[0m\n"
     ]
    },
    {
     "name": "stdout",
     "output_type": "stream",
     "text": [
      "0:\tlearn: 3002.3094888\ttest: 3000.1737615\tbest: 3000.1737615 (0)\ttotal: 66.2ms\tremaining: 3m 13s\n",
      "200:\tlearn: 629.5283751\ttest: 654.3979256\tbest: 654.3979256 (200)\ttotal: 15.9s\tremaining: 3m 35s\n",
      "400:\tlearn: 577.1358324\ttest: 618.0004953\tbest: 618.0004953 (400)\ttotal: 31.5s\tremaining: 3m 18s\n",
      "600:\tlearn: 544.4291445\ttest: 599.7344073\tbest: 599.7344073 (600)\ttotal: 47.2s\tremaining: 3m 2s\n",
      "800:\tlearn: 521.0073779\ttest: 588.9140316\tbest: 588.9140316 (800)\ttotal: 1m 2s\tremaining: 2m 47s\n",
      "1000:\tlearn: 502.5921846\ttest: 581.7515366\tbest: 581.7492878 (999)\ttotal: 1m 18s\tremaining: 2m 30s\n",
      "1200:\tlearn: 486.1193299\ttest: 575.6646031\tbest: 575.6302761 (1199)\ttotal: 1m 33s\tremaining: 2m 14s\n",
      "1400:\tlearn: 472.0576338\ttest: 570.9368546\tbest: 570.9368546 (1400)\ttotal: 1m 49s\tremaining: 1m 58s\n",
      "1600:\tlearn: 459.3281651\ttest: 567.2745960\tbest: 567.2703913 (1599)\ttotal: 2m 4s\tremaining: 1m 43s\n",
      "1800:\tlearn: 448.4696831\ttest: 564.8953535\tbest: 564.8708236 (1798)\ttotal: 2m 19s\tremaining: 1m 27s\n",
      "2000:\tlearn: 438.2867066\ttest: 563.1049066\tbest: 563.1049066 (2000)\ttotal: 2m 35s\tremaining: 1m 11s\n",
      "2200:\tlearn: 429.3173747\ttest: 561.6188314\tbest: 561.5751126 (2199)\ttotal: 2m 51s\tremaining: 56.4s\n",
      "2400:\tlearn: 421.1224607\ttest: 560.5222382\tbest: 560.5099637 (2397)\ttotal: 3m 6s\tremaining: 40.9s\n",
      "2600:\tlearn: 413.5165015\ttest: 559.3562473\tbest: 559.3528241 (2596)\ttotal: 3m 21s\tremaining: 25.3s\n",
      "2800:\tlearn: 406.3311592\ttest: 558.2856204\tbest: 558.2676775 (2797)\ttotal: 3m 37s\tremaining: 9.8s\n",
      "2926:\tlearn: 401.9670638\ttest: 557.8998758\tbest: 557.8971850 (2925)\ttotal: 3m 47s\tremaining: 0us\n",
      "\n",
      "bestTest = 557.897185\n",
      "bestIteration = 2925\n",
      "\n",
      "Shrink model to first 2926 iterations.\n"
     ]
    },
    {
     "name": "stderr",
     "output_type": "stream",
     "text": [
      "\u001b[32m[I 2021-05-06 05:48:45,425]\u001b[0m Trial 82 finished with value: 557.8971850042583 and parameters: {'n_estimators': 2927, 'learning_rate': 0.26539235969555935, 'depth': 9, 'rsm': 0.9481607511321599}. Best is trial 71 with value: 557.5452163298231.\u001b[0m\n"
     ]
    },
    {
     "name": "stdout",
     "output_type": "stream",
     "text": [
      "0:\tlearn: 2828.0145685\ttest: 2827.5488119\tbest: 2827.5488119 (0)\ttotal: 81.8ms\tremaining: 4m 3s\n",
      "200:\tlearn: 618.4628031\ttest: 647.7649438\tbest: 647.7649438 (200)\ttotal: 15s\tremaining: 3m 27s\n",
      "400:\tlearn: 563.3544508\ttest: 609.9974808\tbest: 609.9974808 (400)\ttotal: 30.3s\tremaining: 3m 14s\n",
      "600:\tlearn: 528.9160322\ttest: 592.8873178\tbest: 592.8851886 (599)\ttotal: 45.3s\tremaining: 2m 59s\n",
      "800:\tlearn: 505.1719472\ttest: 582.9341319\tbest: 582.9213331 (799)\ttotal: 1m\tremaining: 2m 44s\n",
      "1000:\tlearn: 485.8087044\ttest: 576.6842001\tbest: 576.6842001 (1000)\ttotal: 1m 15s\tremaining: 2m 28s\n",
      "1200:\tlearn: 469.3068152\ttest: 571.1671776\tbest: 571.0982159 (1198)\ttotal: 1m 30s\tremaining: 2m 13s\n",
      "1400:\tlearn: 454.9546176\ttest: 567.7677629\tbest: 567.7352395 (1386)\ttotal: 1m 45s\tremaining: 1m 58s\n",
      "1600:\tlearn: 443.0255065\ttest: 565.7259556\tbest: 565.7259556 (1600)\ttotal: 2m\tremaining: 1m 43s\n",
      "1800:\tlearn: 432.3074068\ttest: 563.6365465\tbest: 563.6136544 (1798)\ttotal: 2m 15s\tremaining: 1m 28s\n",
      "2000:\tlearn: 422.2028286\ttest: 561.8917175\tbest: 561.8917175 (2000)\ttotal: 2m 30s\tremaining: 1m 13s\n",
      "2200:\tlearn: 413.4703397\ttest: 560.6389394\tbest: 560.6104602 (2197)\ttotal: 2m 45s\tremaining: 58.5s\n",
      "2400:\tlearn: 405.3103999\ttest: 559.5873486\tbest: 559.5846514 (2399)\ttotal: 3m 1s\tremaining: 43.4s\n",
      "2600:\tlearn: 397.8949025\ttest: 558.4505736\tbest: 558.4505736 (2600)\ttotal: 3m 16s\tremaining: 28.4s\n",
      "Stopped by overfitting detector  (100 iterations wait)\n",
      "\n",
      "bestTest = 558.4143963\n",
      "bestIteration = 2606\n",
      "\n",
      "Shrink model to first 2607 iterations.\n"
     ]
    },
    {
     "name": "stderr",
     "output_type": "stream",
     "text": [
      "\u001b[32m[I 2021-05-06 05:52:11,664]\u001b[0m Trial 83 finished with value: 558.4143962649359 and parameters: {'n_estimators': 2977, 'learning_rate': 0.3196548372913913, 'depth': 9, 'rsm': 0.9249453566588246}. Best is trial 71 with value: 557.5452163298231.\u001b[0m\n"
     ]
    },
    {
     "name": "stdout",
     "output_type": "stream",
     "text": [
      "0:\tlearn: 2816.6873468\ttest: 2816.2320170\tbest: 2816.2320170 (0)\ttotal: 66.6ms\tremaining: 3m 17s\n",
      "200:\tlearn: 615.4782195\ttest: 643.7451075\tbest: 643.7451075 (200)\ttotal: 15.6s\tremaining: 3m 35s\n",
      "400:\tlearn: 561.0648733\ttest: 608.1799224\tbest: 608.1799224 (400)\ttotal: 31.6s\tremaining: 3m 22s\n",
      "600:\tlearn: 528.6757270\ttest: 592.0870075\tbest: 592.0870075 (600)\ttotal: 47.3s\tremaining: 3m 6s\n",
      "800:\tlearn: 504.3396043\ttest: 582.7209246\tbest: 582.7209246 (800)\ttotal: 1m 2s\tremaining: 2m 49s\n",
      "1000:\tlearn: 485.4313458\ttest: 575.4428843\tbest: 575.4428843 (1000)\ttotal: 1m 18s\tremaining: 2m 33s\n",
      "1200:\tlearn: 468.9358893\ttest: 571.2668644\tbest: 571.2668644 (1200)\ttotal: 1m 33s\tremaining: 2m 18s\n",
      "1400:\tlearn: 454.7559832\ttest: 567.8600948\tbest: 567.8310877 (1396)\ttotal: 1m 49s\tremaining: 2m 2s\n",
      "1600:\tlearn: 442.7203685\ttest: 565.3247050\tbest: 565.3245325 (1597)\ttotal: 2m 5s\tremaining: 1m 46s\n",
      "1800:\tlearn: 431.8532796\ttest: 563.1274852\tbest: 563.1274852 (1800)\ttotal: 2m 20s\tremaining: 1m 31s\n",
      "2000:\tlearn: 421.8364231\ttest: 561.7731114\tbest: 561.7177030 (1994)\ttotal: 2m 36s\tremaining: 1m 15s\n",
      "2200:\tlearn: 412.9632301\ttest: 560.3158874\tbest: 560.3133754 (2189)\ttotal: 2m 51s\tremaining: 59.8s\n",
      "2400:\tlearn: 404.5413183\ttest: 559.4618988\tbest: 559.4618988 (2400)\ttotal: 3m 7s\tremaining: 44.2s\n",
      "2600:\tlearn: 397.3145422\ttest: 558.8312404\tbest: 558.8244860 (2597)\ttotal: 3m 22s\tremaining: 28.6s\n",
      "2800:\tlearn: 390.3461292\ttest: 558.2455742\tbest: 558.2047172 (2761)\ttotal: 3m 38s\tremaining: 13s\n",
      "2967:\tlearn: 384.5751223\ttest: 558.1010667\tbest: 558.0837628 (2958)\ttotal: 3m 51s\tremaining: 0us\n",
      "\n",
      "bestTest = 558.0837628\n",
      "bestIteration = 2958\n",
      "\n",
      "Shrink model to first 2959 iterations.\n"
     ]
    },
    {
     "name": "stderr",
     "output_type": "stream",
     "text": [
      "\u001b[32m[I 2021-05-06 05:56:05,173]\u001b[0m Trial 84 finished with value: 558.0837628149585 and parameters: {'n_estimators': 2968, 'learning_rate': 0.32309238048103006, 'depth': 9, 'rsm': 0.926867144420686}. Best is trial 71 with value: 557.5452163298231.\u001b[0m\n"
     ]
    },
    {
     "name": "stdout",
     "output_type": "stream",
     "text": [
      "0:\tlearn: 2708.9942572\ttest: 2706.9445442\tbest: 2706.9445442 (0)\ttotal: 69.7ms\tremaining: 3m 28s\n",
      "200:\tlearn: 610.0500681\ttest: 641.3920092\tbest: 641.3920092 (200)\ttotal: 15.8s\tremaining: 3m 39s\n",
      "400:\tlearn: 556.0811894\ttest: 609.6334253\tbest: 609.6334253 (400)\ttotal: 31.7s\tremaining: 3m 25s\n",
      "600:\tlearn: 522.7439155\ttest: 592.2326414\tbest: 592.2326414 (600)\ttotal: 47.4s\tremaining: 3m 8s\n",
      "800:\tlearn: 498.9915787\ttest: 584.2513167\tbest: 584.2513167 (800)\ttotal: 1m 3s\tremaining: 2m 53s\n",
      "1000:\tlearn: 479.4919184\ttest: 577.9916995\tbest: 577.9916995 (1000)\ttotal: 1m 19s\tremaining: 2m 37s\n",
      "1200:\tlearn: 462.4835371\ttest: 574.0877602\tbest: 574.0877602 (1200)\ttotal: 1m 34s\tremaining: 2m 21s\n",
      "1400:\tlearn: 447.8919250\ttest: 571.3546790\tbest: 571.3213428 (1395)\ttotal: 1m 50s\tremaining: 2m 5s\n",
      "1600:\tlearn: 435.8314923\ttest: 569.6121749\tbest: 569.6017149 (1599)\ttotal: 2m 6s\tremaining: 1m 49s\n",
      "1800:\tlearn: 424.5550189\ttest: 568.3057400\tbest: 568.2839398 (1797)\ttotal: 2m 22s\tremaining: 1m 33s\n",
      "2000:\tlearn: 414.6469423\ttest: 567.5553748\tbest: 567.4278709 (1950)\ttotal: 2m 38s\tremaining: 1m 18s\n",
      "2200:\tlearn: 405.3479342\ttest: 566.8838091\tbest: 566.8739150 (2196)\ttotal: 2m 53s\tremaining: 1m 2s\n",
      "2400:\tlearn: 396.5971865\ttest: 565.7461282\tbest: 565.7412141 (2398)\ttotal: 3m 9s\tremaining: 46.7s\n",
      "2600:\tlearn: 388.8571829\ttest: 565.4124208\tbest: 565.3513426 (2581)\ttotal: 3m 25s\tremaining: 30.9s\n",
      "2800:\tlearn: 381.6757633\ttest: 565.2339853\tbest: 565.1404999 (2706)\ttotal: 3m 41s\tremaining: 15.1s\n",
      "Stopped by overfitting detector  (100 iterations wait)\n",
      "\n",
      "bestTest = 565.1404999\n",
      "bestIteration = 2706\n",
      "\n",
      "Shrink model to first 2707 iterations.\n"
     ]
    },
    {
     "name": "stderr",
     "output_type": "stream",
     "text": [
      "\u001b[32m[I 2021-05-06 05:59:48,808]\u001b[0m Trial 85 finished with value: 565.1404998505086 and parameters: {'n_estimators': 2992, 'learning_rate': 0.3586639666085937, 'depth': 9, 'rsm': 0.9164338925111073}. Best is trial 71 with value: 557.5452163298231.\u001b[0m\n"
     ]
    },
    {
     "name": "stdout",
     "output_type": "stream",
     "text": [
      "0:\tlearn: 2972.0574749\ttest: 2971.4650824\tbest: 2971.4650824 (0)\ttotal: 65ms\tremaining: 3m 13s\n",
      "200:\tlearn: 628.4853957\ttest: 654.3375507\tbest: 654.3375507 (200)\ttotal: 16.1s\tremaining: 3m 41s\n",
      "400:\tlearn: 573.5485464\ttest: 617.7312472\tbest: 617.7312472 (400)\ttotal: 31.9s\tremaining: 3m 24s\n",
      "600:\tlearn: 540.3433617\ttest: 599.9506337\tbest: 599.9506337 (600)\ttotal: 47.9s\tremaining: 3m 9s\n",
      "800:\tlearn: 516.8186084\ttest: 588.8271508\tbest: 588.8271508 (800)\ttotal: 1m 3s\tremaining: 2m 52s\n",
      "1000:\tlearn: 498.3301725\ttest: 581.1693854\tbest: 581.1693854 (1000)\ttotal: 1m 19s\tremaining: 2m 36s\n",
      "1200:\tlearn: 482.1808223\ttest: 575.4263801\tbest: 575.4263801 (1200)\ttotal: 1m 34s\tremaining: 2m 19s\n",
      "1400:\tlearn: 467.9640189\ttest: 571.0191655\tbest: 571.0191655 (1400)\ttotal: 1m 50s\tremaining: 2m 3s\n",
      "1600:\tlearn: 455.3074176\ttest: 567.7931262\tbest: 567.7849794 (1599)\ttotal: 2m 5s\tremaining: 1m 47s\n",
      "1800:\tlearn: 444.4661214\ttest: 565.1449555\tbest: 565.1449555 (1800)\ttotal: 2m 21s\tremaining: 1m 32s\n",
      "2000:\tlearn: 434.9526518\ttest: 563.3574989\tbest: 563.3395489 (1999)\ttotal: 2m 36s\tremaining: 1m 16s\n",
      "2200:\tlearn: 426.0684396\ttest: 561.6609918\tbest: 561.6425951 (2195)\ttotal: 2m 52s\tremaining: 1m\n",
      "2400:\tlearn: 418.0936209\ttest: 560.6222016\tbest: 560.6047510 (2398)\ttotal: 3m 8s\tremaining: 44.9s\n",
      "2600:\tlearn: 410.1813690\ttest: 559.5348450\tbest: 559.5269524 (2599)\ttotal: 3m 23s\tremaining: 29.2s\n",
      "2800:\tlearn: 403.0985558\ttest: 558.3169810\tbest: 558.3007438 (2790)\ttotal: 3m 39s\tremaining: 13.5s\n",
      "2973:\tlearn: 397.3500444\ttest: 557.7477787\tbest: 557.7422264 (2970)\ttotal: 3m 52s\tremaining: 0us\n",
      "\n",
      "bestTest = 557.7422264\n",
      "bestIteration = 2970\n",
      "\n",
      "Shrink model to first 2971 iterations.\n"
     ]
    },
    {
     "name": "stderr",
     "output_type": "stream",
     "text": [
      "\u001b[32m[I 2021-05-06 06:03:43,619]\u001b[0m Trial 86 finished with value: 557.7422263517151 and parameters: {'n_estimators': 2974, 'learning_rate': 0.27623562525751333, 'depth': 9, 'rsm': 0.9294777716113432}. Best is trial 71 with value: 557.5452163298231.\u001b[0m\n"
     ]
    },
    {
     "name": "stdout",
     "output_type": "stream",
     "text": [
      "0:\tlearn: 2785.6419132\ttest: 2783.8390624\tbest: 2783.8390624 (0)\ttotal: 63.8ms\tremaining: 3m 9s\n",
      "200:\tlearn: 639.9734142\ttest: 662.0140064\tbest: 662.0140064 (200)\ttotal: 14s\tremaining: 3m 13s\n",
      "400:\tlearn: 589.6844860\ttest: 626.0920322\tbest: 626.0920322 (400)\ttotal: 28.1s\tremaining: 3m\n",
      "600:\tlearn: 561.1861737\ttest: 608.2800667\tbest: 608.2800667 (600)\ttotal: 42s\tremaining: 2m 46s\n",
      "800:\tlearn: 538.3388010\ttest: 595.2244498\tbest: 595.2036433 (799)\ttotal: 56.1s\tremaining: 2m 32s\n",
      "1000:\tlearn: 520.8819941\ttest: 587.7991495\tbest: 587.7991495 (1000)\ttotal: 1m 10s\tremaining: 2m 19s\n",
      "1200:\tlearn: 505.8756354\ttest: 581.5293014\tbest: 581.5293014 (1200)\ttotal: 1m 24s\tremaining: 2m 5s\n",
      "1400:\tlearn: 493.4652807\ttest: 577.1051104\tbest: 577.0933535 (1399)\ttotal: 1m 38s\tremaining: 1m 50s\n",
      "1600:\tlearn: 482.6438666\ttest: 574.2460959\tbest: 574.2460959 (1600)\ttotal: 1m 52s\tremaining: 1m 36s\n",
      "1800:\tlearn: 472.7401712\ttest: 571.1534043\tbest: 571.1534043 (1800)\ttotal: 2m 6s\tremaining: 1m 22s\n",
      "2000:\tlearn: 464.1613028\ttest: 568.9162922\tbest: 568.9162922 (2000)\ttotal: 2m 20s\tremaining: 1m 8s\n",
      "2200:\tlearn: 456.2247794\ttest: 567.6350983\tbest: 567.5980621 (2186)\ttotal: 2m 34s\tremaining: 54.7s\n",
      "2400:\tlearn: 448.7564458\ttest: 566.4793780\tbest: 566.4638556 (2391)\ttotal: 2m 48s\tremaining: 40.6s\n",
      "2600:\tlearn: 441.7973931\ttest: 565.2739502\tbest: 565.2739502 (2600)\ttotal: 3m 2s\tremaining: 26.6s\n",
      "2800:\tlearn: 435.4006783\ttest: 564.0129591\tbest: 564.0129591 (2800)\ttotal: 3m 16s\tremaining: 12.6s\n",
      "2979:\tlearn: 430.0004149\ttest: 562.9763946\tbest: 562.9563954 (2961)\ttotal: 3m 28s\tremaining: 0us\n",
      "\n",
      "bestTest = 562.9563954\n",
      "bestIteration = 2961\n",
      "\n",
      "Shrink model to first 2962 iterations.\n"
     ]
    },
    {
     "name": "stderr",
     "output_type": "stream",
     "text": [
      "\u001b[32m[I 2021-05-06 06:07:13,782]\u001b[0m Trial 87 finished with value: 562.9563953715449 and parameters: {'n_estimators': 2980, 'learning_rate': 0.3324090163475053, 'depth': 8, 'rsm': 0.8965846806317033}. Best is trial 71 with value: 557.5452163298231.\u001b[0m\n"
     ]
    },
    {
     "name": "stdout",
     "output_type": "stream",
     "text": [
      "0:\tlearn: 2931.6090300\ttest: 2929.8660555\tbest: 2929.8660555 (0)\ttotal: 87.6ms\tremaining: 4m 9s\n",
      "200:\tlearn: 625.2406892\ttest: 650.6920010\tbest: 650.6920010 (200)\ttotal: 16.5s\tremaining: 3m 38s\n",
      "400:\tlearn: 572.1345352\ttest: 615.9439810\tbest: 615.9439810 (400)\ttotal: 33.1s\tremaining: 3m 22s\n",
      "600:\tlearn: 538.7263236\ttest: 597.4664946\tbest: 597.4664946 (600)\ttotal: 49.4s\tremaining: 3m 5s\n",
      "800:\tlearn: 514.6581948\ttest: 586.9014212\tbest: 586.9014212 (800)\ttotal: 1m 5s\tremaining: 2m 48s\n",
      "1000:\tlearn: 495.1786631\ttest: 579.0971680\tbest: 579.0598743 (996)\ttotal: 1m 21s\tremaining: 2m 31s\n",
      "1200:\tlearn: 479.1792637\ttest: 573.9170456\tbest: 573.9170456 (1200)\ttotal: 1m 38s\tremaining: 2m 15s\n",
      "1400:\tlearn: 466.0854508\ttest: 570.3441015\tbest: 570.3441015 (1400)\ttotal: 1m 54s\tremaining: 1m 58s\n",
      "1600:\tlearn: 454.1819055\ttest: 567.5234067\tbest: 567.5063230 (1599)\ttotal: 2m 10s\tremaining: 1m 42s\n",
      "1800:\tlearn: 443.7264372\ttest: 564.9900054\tbest: 564.9856857 (1799)\ttotal: 2m 27s\tremaining: 1m 25s\n",
      "2000:\tlearn: 433.5698604\ttest: 563.5173056\tbest: 563.5145724 (1998)\ttotal: 2m 43s\tremaining: 1m 9s\n",
      "2200:\tlearn: 424.8209274\ttest: 562.1367873\tbest: 562.1367873 (2200)\ttotal: 2m 59s\tremaining: 53.2s\n",
      "2400:\tlearn: 416.6464765\ttest: 560.5597498\tbest: 560.5597498 (2400)\ttotal: 3m 15s\tremaining: 36.9s\n",
      "2600:\tlearn: 409.3380428\ttest: 560.0495139\tbest: 560.0367451 (2599)\ttotal: 3m 32s\tremaining: 20.6s\n",
      "2800:\tlearn: 401.9968473\ttest: 559.1554922\tbest: 559.0593184 (2767)\ttotal: 3m 48s\tremaining: 4.25s\n",
      "2852:\tlearn: 400.1592804\ttest: 559.0617577\tbest: 559.0447842 (2836)\ttotal: 3m 52s\tremaining: 0us\n",
      "\n",
      "bestTest = 559.0447842\n",
      "bestIteration = 2836\n",
      "\n",
      "Shrink model to first 2837 iterations.\n"
     ]
    },
    {
     "name": "stderr",
     "output_type": "stream",
     "text": [
      "\u001b[32m[I 2021-05-06 06:11:08,549]\u001b[0m Trial 88 finished with value: 559.0447842415177 and parameters: {'n_estimators': 2853, 'learning_rate': 0.2857766128873724, 'depth': 9, 'rsm': 0.8553385570749759}. Best is trial 71 with value: 557.5452163298231.\u001b[0m\n"
     ]
    },
    {
     "name": "stdout",
     "output_type": "stream",
     "text": [
      "0:\tlearn: 2968.6805110\ttest: 2966.5921708\tbest: 2966.5921708 (0)\ttotal: 76.3ms\tremaining: 3m 37s\n",
      "200:\tlearn: 656.1957756\ttest: 674.8842070\tbest: 674.8842070 (200)\ttotal: 14s\tremaining: 3m 4s\n",
      "400:\tlearn: 604.7690258\ttest: 635.9355912\tbest: 635.9355912 (400)\ttotal: 28.1s\tremaining: 2m 51s\n",
      "600:\tlearn: 575.4125986\ttest: 616.2861616\tbest: 616.2861616 (600)\ttotal: 42.3s\tremaining: 2m 38s\n",
      "800:\tlearn: 552.5147571\ttest: 602.7478228\tbest: 602.7478228 (800)\ttotal: 56.4s\tremaining: 2m 24s\n",
      "1000:\tlearn: 534.3081968\ttest: 592.8183476\tbest: 592.8183476 (1000)\ttotal: 1m 10s\tremaining: 2m 10s\n",
      "1200:\tlearn: 520.1609433\ttest: 585.9050418\tbest: 585.9050418 (1200)\ttotal: 1m 25s\tremaining: 1m 57s\n",
      "1400:\tlearn: 508.2048069\ttest: 580.8329224\tbest: 580.8329224 (1400)\ttotal: 1m 39s\tremaining: 1m 43s\n",
      "1600:\tlearn: 497.7144812\ttest: 577.2495274\tbest: 577.2234603 (1599)\ttotal: 1m 53s\tremaining: 1m 28s\n",
      "1800:\tlearn: 488.5079643\ttest: 573.8046124\tbest: 573.8046124 (1800)\ttotal: 2m 7s\tremaining: 1m 14s\n",
      "2000:\tlearn: 480.0278432\ttest: 571.3878121\tbest: 571.3878121 (2000)\ttotal: 2m 21s\tremaining: 1m\n",
      "2200:\tlearn: 472.3811170\ttest: 569.0448734\tbest: 569.0448734 (2200)\ttotal: 2m 36s\tremaining: 46.1s\n",
      "2400:\tlearn: 465.1151070\ttest: 567.0177933\tbest: 567.0177933 (2400)\ttotal: 2m 50s\tremaining: 31.9s\n",
      "2600:\tlearn: 458.3680513\ttest: 565.4889489\tbest: 565.4889489 (2600)\ttotal: 3m 4s\tremaining: 17.7s\n",
      "2800:\tlearn: 452.4893613\ttest: 564.4367981\tbest: 564.4367981 (2800)\ttotal: 3m 18s\tremaining: 3.54s\n",
      "2850:\tlearn: 450.9901617\ttest: 564.1193050\tbest: 564.1056723 (2846)\ttotal: 3m 22s\tremaining: 0us\n",
      "\n",
      "bestTest = 564.1056723\n",
      "bestIteration = 2846\n",
      "\n",
      "Shrink model to first 2847 iterations.\n"
     ]
    },
    {
     "name": "stderr",
     "output_type": "stream",
     "text": [
      "\u001b[32m[I 2021-05-06 06:14:31,786]\u001b[0m Trial 89 finished with value: 564.1056722589951 and parameters: {'n_estimators': 2851, 'learning_rate': 0.27743484536157653, 'depth': 8, 'rsm': 0.7237519946277916}. Best is trial 71 with value: 557.5452163298231.\u001b[0m\n"
     ]
    },
    {
     "name": "stdout",
     "output_type": "stream",
     "text": [
      "0:\tlearn: 2785.7449512\ttest: 2784.4076399\tbest: 2784.4076399 (0)\ttotal: 83ms\tremaining: 4m 3s\n",
      "200:\tlearn: 617.6092615\ttest: 646.7030102\tbest: 646.7030102 (200)\ttotal: 16.8s\tremaining: 3m 48s\n",
      "400:\tlearn: 562.8804626\ttest: 612.8054604\tbest: 612.8054604 (400)\ttotal: 33.6s\tremaining: 3m 31s\n",
      "600:\tlearn: 528.9176635\ttest: 595.1761418\tbest: 595.1761418 (600)\ttotal: 50.3s\tremaining: 3m 15s\n",
      "800:\tlearn: 504.9708441\ttest: 585.2761636\tbest: 585.2761636 (800)\ttotal: 1m 6s\tremaining: 2m 57s\n",
      "1000:\tlearn: 485.2520138\ttest: 577.9802365\tbest: 577.9802365 (1000)\ttotal: 1m 23s\tremaining: 2m 40s\n",
      "1200:\tlearn: 469.2671054\ttest: 573.3242564\tbest: 573.3242564 (1200)\ttotal: 1m 40s\tremaining: 2m 24s\n",
      "1400:\tlearn: 455.3817393\ttest: 569.8826297\tbest: 569.8826297 (1400)\ttotal: 1m 56s\tremaining: 2m 7s\n",
      "1600:\tlearn: 442.9468132\ttest: 567.5894935\tbest: 567.5894935 (1600)\ttotal: 2m 13s\tremaining: 1m 51s\n",
      "1800:\tlearn: 431.7097820\ttest: 565.6377838\tbest: 565.5255179 (1791)\ttotal: 2m 30s\tremaining: 1m 34s\n",
      "2000:\tlearn: 421.7936840\ttest: 564.2102594\tbest: 564.2102594 (2000)\ttotal: 2m 47s\tremaining: 1m 17s\n",
      "2200:\tlearn: 412.6404099\ttest: 563.0488706\tbest: 563.0488706 (2200)\ttotal: 3m 3s\tremaining: 1m\n",
      "2400:\tlearn: 404.6138105\ttest: 562.2112563\tbest: 562.2096480 (2399)\ttotal: 3m 20s\tremaining: 44.3s\n",
      "2600:\tlearn: 396.6204657\ttest: 561.8166572\tbest: 561.7646078 (2542)\ttotal: 3m 37s\tremaining: 27.6s\n",
      "2800:\tlearn: 389.4072543\ttest: 561.1554071\tbest: 561.1535023 (2793)\ttotal: 3m 53s\tremaining: 10.9s\n",
      "2930:\tlearn: 384.9324179\ttest: 560.8505936\tbest: 560.8495550 (2896)\ttotal: 4m 4s\tremaining: 0us\n",
      "\n",
      "bestTest = 560.849555\n",
      "bestIteration = 2896\n",
      "\n",
      "Shrink model to first 2897 iterations.\n"
     ]
    },
    {
     "name": "stderr",
     "output_type": "stream",
     "text": [
      "\u001b[32m[I 2021-05-06 06:18:38,608]\u001b[0m Trial 90 finished with value: 560.8495549792037 and parameters: {'n_estimators': 2931, 'learning_rate': 0.32843194374011586, 'depth': 9, 'rsm': 0.8110294285999974}. Best is trial 71 with value: 557.5452163298231.\u001b[0m\n"
     ]
    },
    {
     "name": "stdout",
     "output_type": "stream",
     "text": [
      "0:\tlearn: 1269.2749841\ttest: 1272.8875912\tbest: 1272.8875912 (0)\ttotal: 88ms\tremaining: 4m 9s\n",
      "200:\tlearn: 572.0260790\ttest: 637.0622796\tbest: 637.0622796 (200)\ttotal: 16.2s\tremaining: 3m 32s\n",
      "400:\tlearn: 512.0738082\ttest: 617.3895963\tbest: 617.3807796 (399)\ttotal: 32.2s\tremaining: 3m 15s\n",
      "600:\tlearn: 474.5994711\ttest: 611.3971157\tbest: 611.3971157 (600)\ttotal: 48.3s\tremaining: 2m 59s\n",
      "800:\tlearn: 446.1161674\ttest: 609.3762938\tbest: 609.3762938 (800)\ttotal: 1m 4s\tremaining: 2m 43s\n",
      "Stopped by overfitting detector  (100 iterations wait)\n",
      "\n",
      "bestTest = 609.3469973\n",
      "bestIteration = 802\n",
      "\n",
      "Shrink model to first 803 iterations.\n"
     ]
    },
    {
     "name": "stderr",
     "output_type": "stream",
     "text": [
      "\u001b[32m[I 2021-05-06 06:19:51,944]\u001b[0m Trial 91 finished with value: 609.3469972697483 and parameters: {'n_estimators': 2834, 'learning_rate': 0.9176652391919591, 'depth': 9, 'rsm': 0.8523930189389561}. Best is trial 71 with value: 557.5452163298231.\u001b[0m\n"
     ]
    },
    {
     "name": "stdout",
     "output_type": "stream",
     "text": [
      "0:\tlearn: 2967.4915990\ttest: 2965.9591301\tbest: 2965.9591301 (0)\ttotal: 78.8ms\tremaining: 3m 49s\n",
      "200:\tlearn: 627.1107760\ttest: 652.3175807\tbest: 652.3175807 (200)\ttotal: 17s\tremaining: 3m 48s\n",
      "400:\tlearn: 574.5623924\ttest: 616.7325115\tbest: 616.7325115 (400)\ttotal: 33.6s\tremaining: 3m 30s\n",
      "600:\tlearn: 540.9096448\ttest: 598.4099518\tbest: 598.4099518 (600)\ttotal: 50.1s\tremaining: 3m 12s\n",
      "800:\tlearn: 517.7993898\ttest: 587.4426043\tbest: 587.4152341 (799)\ttotal: 1m 6s\tremaining: 2m 54s\n",
      "1000:\tlearn: 498.3603158\ttest: 579.6633196\tbest: 579.6633196 (1000)\ttotal: 1m 22s\tremaining: 2m 37s\n",
      "1200:\tlearn: 482.6323038\ttest: 574.2734433\tbest: 574.2734433 (1200)\ttotal: 1m 39s\tremaining: 2m 21s\n",
      "1400:\tlearn: 468.5713747\ttest: 570.0999372\tbest: 570.0999372 (1400)\ttotal: 1m 55s\tremaining: 2m 4s\n",
      "1600:\tlearn: 456.4145612\ttest: 566.8209582\tbest: 566.8192070 (1599)\ttotal: 2m 12s\tremaining: 1m 48s\n",
      "1800:\tlearn: 445.4116731\ttest: 564.6061439\tbest: 564.6061439 (1800)\ttotal: 2m 28s\tremaining: 1m 31s\n",
      "2000:\tlearn: 435.9682137\ttest: 562.1851396\tbest: 562.1851396 (2000)\ttotal: 2m 45s\tremaining: 1m 15s\n",
      "2200:\tlearn: 426.9934006\ttest: 560.5961644\tbest: 560.5954089 (2196)\ttotal: 3m 2s\tremaining: 58.7s\n",
      "2400:\tlearn: 418.5295968\ttest: 559.9103295\tbest: 559.8647607 (2391)\ttotal: 3m 19s\tremaining: 42.2s\n",
      "2600:\tlearn: 410.7276506\ttest: 559.0341043\tbest: 558.9991875 (2591)\ttotal: 3m 36s\tremaining: 25.5s\n",
      "2800:\tlearn: 403.4864616\ttest: 558.0846811\tbest: 558.0623103 (2795)\ttotal: 3m 52s\tremaining: 8.9s\n",
      "2907:\tlearn: 399.9172238\ttest: 557.4896813\tbest: 557.4821953 (2906)\ttotal: 4m 1s\tremaining: 0us\n",
      "\n",
      "bestTest = 557.4821953\n",
      "bestIteration = 2906\n",
      "\n",
      "Shrink model to first 2907 iterations.\n"
     ]
    },
    {
     "name": "stderr",
     "output_type": "stream",
     "text": [
      "\u001b[32m[I 2021-05-06 06:23:55,470]\u001b[0m Trial 92 finished with value: 557.4821953237079 and parameters: {'n_estimators': 2908, 'learning_rate': 0.27751412081419524, 'depth': 9, 'rsm': 0.9097284463105668}. Best is trial 92 with value: 557.4821953237079.\u001b[0m\n"
     ]
    },
    {
     "name": "stdout",
     "output_type": "stream",
     "text": [
      "0:\tlearn: 2586.9486523\ttest: 2585.3997542\tbest: 2585.3997542 (0)\ttotal: 69.7ms\tremaining: 3m 14s\n",
      "200:\tlearn: 604.6011013\ttest: 638.1863431\tbest: 638.1863431 (200)\ttotal: 16.2s\tremaining: 3m 27s\n",
      "400:\tlearn: 551.2134083\ttest: 605.0039359\tbest: 605.0039359 (400)\ttotal: 32.2s\tremaining: 3m 11s\n",
      "600:\tlearn: 516.0672199\ttest: 589.8828064\tbest: 589.8828064 (600)\ttotal: 48.2s\tremaining: 2m 55s\n",
      "800:\tlearn: 491.3782053\ttest: 581.1061180\tbest: 581.1061180 (800)\ttotal: 1m 4s\tremaining: 2m 38s\n",
      "1000:\tlearn: 471.3003966\ttest: 575.5004501\tbest: 575.5004501 (1000)\ttotal: 1m 19s\tremaining: 2m 22s\n",
      "1200:\tlearn: 454.0198103\ttest: 571.6470542\tbest: 571.6443431 (1199)\ttotal: 1m 35s\tremaining: 2m 6s\n",
      "1400:\tlearn: 439.5812038\ttest: 568.7237249\tbest: 568.7039866 (1397)\ttotal: 1m 51s\tremaining: 1m 50s\n",
      "1600:\tlearn: 427.1534098\ttest: 567.3428154\tbest: 567.3323189 (1599)\ttotal: 2m 7s\tremaining: 1m 34s\n",
      "1800:\tlearn: 416.3157097\ttest: 566.2770484\tbest: 566.2770484 (1800)\ttotal: 2m 23s\tremaining: 1m 18s\n",
      "2000:\tlearn: 406.2390948\ttest: 565.2050562\tbest: 565.1850458 (1990)\ttotal: 2m 40s\tremaining: 1m 3s\n",
      "2200:\tlearn: 396.9160801\ttest: 564.6040294\tbest: 564.5559253 (2160)\ttotal: 2m 56s\tremaining: 47s\n",
      "2400:\tlearn: 388.5527483\ttest: 564.2356293\tbest: 564.2024381 (2351)\ttotal: 3m 12s\tremaining: 31s\n",
      "Stopped by overfitting detector  (100 iterations wait)\n",
      "\n",
      "bestTest = 564.2024381\n",
      "bestIteration = 2351\n",
      "\n",
      "Shrink model to first 2352 iterations.\n"
     ]
    },
    {
     "name": "stderr",
     "output_type": "stream",
     "text": [
      "\u001b[32m[I 2021-05-06 06:27:13,468]\u001b[0m Trial 93 finished with value: 564.2024381216833 and parameters: {'n_estimators': 2788, 'learning_rate': 0.39354207672428265, 'depth': 9, 'rsm': 0.9099295119747146}. Best is trial 92 with value: 557.4821953237079.\u001b[0m\n"
     ]
    },
    {
     "name": "stdout",
     "output_type": "stream",
     "text": [
      "0:\tlearn: 2929.8692287\ttest: 2929.2165433\tbest: 2929.2165433 (0)\ttotal: 66.5ms\tremaining: 3m 2s\n",
      "200:\tlearn: 626.5659145\ttest: 652.8526718\tbest: 652.8466879 (199)\ttotal: 16.1s\tremaining: 3m 23s\n",
      "400:\tlearn: 572.0532369\ttest: 616.2453597\tbest: 616.2453597 (400)\ttotal: 32.4s\tremaining: 3m 8s\n",
      "600:\tlearn: 539.8094112\ttest: 599.6067629\tbest: 599.6067629 (600)\ttotal: 48.4s\tremaining: 2m 52s\n",
      "800:\tlearn: 515.1784412\ttest: 588.5299736\tbest: 588.5299736 (800)\ttotal: 1m 4s\tremaining: 2m 36s\n",
      "1000:\tlearn: 495.9622654\ttest: 580.7758598\tbest: 580.7758598 (1000)\ttotal: 1m 20s\tremaining: 2m 20s\n",
      "1200:\tlearn: 479.9118130\ttest: 575.2969404\tbest: 575.2969404 (1200)\ttotal: 1m 36s\tremaining: 2m 4s\n",
      "1400:\tlearn: 466.4210708\ttest: 571.2014590\tbest: 571.1968735 (1399)\ttotal: 1m 52s\tremaining: 1m 47s\n",
      "1600:\tlearn: 453.7966546\ttest: 568.5254290\tbest: 568.5254290 (1600)\ttotal: 2m 8s\tremaining: 1m 31s\n",
      "1800:\tlearn: 442.9997607\ttest: 565.6509690\tbest: 565.6509690 (1800)\ttotal: 2m 24s\tremaining: 1m 15s\n",
      "2000:\tlearn: 433.3769122\ttest: 563.7192502\tbest: 563.7192502 (2000)\ttotal: 2m 40s\tremaining: 59.5s\n",
      "2200:\tlearn: 424.0791563\ttest: 561.7528299\tbest: 561.7464160 (2199)\ttotal: 2m 56s\tremaining: 43.4s\n",
      "2400:\tlearn: 415.7380809\ttest: 560.6712567\tbest: 560.6700057 (2398)\ttotal: 3m 12s\tremaining: 27.3s\n",
      "2600:\tlearn: 408.2076647\ttest: 559.9668929\tbest: 559.9668929 (2600)\ttotal: 3m 28s\tremaining: 11.3s\n",
      "2741:\tlearn: 402.9978666\ttest: 559.3605840\tbest: 559.3430336 (2737)\ttotal: 3m 39s\tremaining: 0us\n",
      "\n",
      "bestTest = 559.3430336\n",
      "bestIteration = 2737\n",
      "\n",
      "Shrink model to first 2738 iterations.\n"
     ]
    },
    {
     "name": "stderr",
     "output_type": "stream",
     "text": [
      "\u001b[32m[I 2021-05-06 06:30:55,131]\u001b[0m Trial 94 finished with value: 559.3430336148721 and parameters: {'n_estimators': 2742, 'learning_rate': 0.2859994528157047, 'depth': 9, 'rsm': 0.8778266307724232}. Best is trial 92 with value: 557.4821953237079.\u001b[0m\n"
     ]
    },
    {
     "name": "stdout",
     "output_type": "stream",
     "text": [
      "0:\tlearn: 2685.0380358\ttest: 2682.8327989\tbest: 2682.8327989 (0)\ttotal: 62.2ms\tremaining: 3m 1s\n",
      "200:\tlearn: 632.9186525\ttest: 656.6573551\tbest: 656.6573551 (200)\ttotal: 12.8s\tremaining: 2m 53s\n",
      "400:\tlearn: 582.7492757\ttest: 620.6066822\tbest: 620.6066822 (400)\ttotal: 25.6s\tremaining: 2m 41s\n",
      "600:\tlearn: 554.1624698\ttest: 604.6479202\tbest: 604.6401913 (599)\ttotal: 38.6s\tremaining: 2m 28s\n",
      "800:\tlearn: 531.9309527\ttest: 593.9974525\tbest: 593.9974525 (800)\ttotal: 51.5s\tremaining: 2m 16s\n",
      "1000:\tlearn: 514.3905137\ttest: 585.9344345\tbest: 585.9344345 (1000)\ttotal: 1m 4s\tremaining: 2m 3s\n",
      "1200:\tlearn: 499.5744226\ttest: 580.7137391\tbest: 580.7137391 (1200)\ttotal: 1m 17s\tremaining: 1m 50s\n",
      "1400:\tlearn: 486.7782924\ttest: 576.5033533\tbest: 576.4938362 (1399)\ttotal: 1m 30s\tremaining: 1m 37s\n",
      "1600:\tlearn: 476.0734527\ttest: 573.5450622\tbest: 573.5450622 (1600)\ttotal: 1m 43s\tremaining: 1m 24s\n",
      "1800:\tlearn: 465.9365856\ttest: 571.1481597\tbest: 571.1481597 (1800)\ttotal: 1m 55s\tremaining: 1m 12s\n",
      "2000:\tlearn: 456.6555858\ttest: 568.9998466\tbest: 568.9992562 (1999)\ttotal: 2m 8s\tremaining: 59.2s\n",
      "2200:\tlearn: 448.7514694\ttest: 567.3781555\tbest: 567.3611834 (2199)\ttotal: 2m 22s\tremaining: 46.4s\n",
      "2400:\tlearn: 441.0531238\ttest: 566.0895421\tbest: 566.0877730 (2399)\ttotal: 2m 35s\tremaining: 33.6s\n",
      "2600:\tlearn: 434.2031950\ttest: 564.6068245\tbest: 564.5846550 (2595)\ttotal: 2m 48s\tremaining: 20.6s\n",
      "2800:\tlearn: 427.7074975\ttest: 563.7457183\tbest: 563.7457183 (2800)\ttotal: 3m 1s\tremaining: 7.7s\n",
      "2919:\tlearn: 424.2820860\ttest: 563.3738529\tbest: 563.3068791 (2913)\ttotal: 3m 8s\tremaining: 0us\n",
      "\n",
      "bestTest = 563.3068791\n",
      "bestIteration = 2913\n",
      "\n",
      "Shrink model to first 2914 iterations.\n"
     ]
    },
    {
     "name": "stderr",
     "output_type": "stream",
     "text": [
      "\u001b[32m[I 2021-05-06 06:34:05,197]\u001b[0m Trial 95 finished with value: 563.3068791268397 and parameters: {'n_estimators': 2920, 'learning_rate': 0.36538998510334314, 'depth': 8, 'rsm': 0.9480873970251005}. Best is trial 92 with value: 557.4821953237079.\u001b[0m\n"
     ]
    },
    {
     "name": "stdout",
     "output_type": "stream",
     "text": [
      "0:\tlearn: 3116.7342042\ttest: 3116.0245392\tbest: 3116.0245392 (0)\ttotal: 68.4ms\tremaining: 3m 16s\n",
      "200:\tlearn: 637.8564412\ttest: 659.7774941\tbest: 659.7774941 (200)\ttotal: 15.5s\tremaining: 3m 26s\n",
      "400:\tlearn: 586.0977695\ttest: 623.3728558\tbest: 623.3728558 (400)\ttotal: 31.4s\tremaining: 3m 13s\n",
      "600:\tlearn: 552.0776711\ttest: 603.6930142\tbest: 603.6930142 (600)\ttotal: 47.4s\tremaining: 2m 59s\n",
      "800:\tlearn: 528.8781251\ttest: 593.1299553\tbest: 593.1193249 (799)\ttotal: 1m 3s\tremaining: 2m 43s\n",
      "1000:\tlearn: 509.5800425\ttest: 585.1392474\tbest: 585.1392474 (1000)\ttotal: 1m 18s\tremaining: 2m 27s\n",
      "1200:\tlearn: 494.0374616\ttest: 578.9400315\tbest: 578.9400315 (1200)\ttotal: 1m 34s\tremaining: 2m 12s\n",
      "1400:\tlearn: 480.6746658\ttest: 574.5129430\tbest: 574.5129430 (1400)\ttotal: 1m 50s\tremaining: 1m 56s\n",
      "1600:\tlearn: 468.7627359\ttest: 570.4788580\tbest: 570.4788580 (1600)\ttotal: 2m 6s\tremaining: 1m 41s\n",
      "1800:\tlearn: 458.4965635\ttest: 568.0099808\tbest: 568.0099808 (1800)\ttotal: 2m 22s\tremaining: 1m 25s\n",
      "2000:\tlearn: 448.9329276\ttest: 565.4508344\tbest: 565.4409461 (1998)\ttotal: 2m 38s\tremaining: 1m 9s\n",
      "2200:\tlearn: 440.4787616\ttest: 563.7451510\tbest: 563.7451510 (2200)\ttotal: 2m 54s\tremaining: 53.5s\n",
      "2400:\tlearn: 432.5459212\ttest: 562.2077321\tbest: 562.2077321 (2400)\ttotal: 3m 9s\tremaining: 37.6s\n",
      "2600:\tlearn: 425.0367403\ttest: 560.8655762\tbest: 560.8655762 (2600)\ttotal: 3m 25s\tremaining: 21.8s\n",
      "2800:\tlearn: 418.3701965\ttest: 559.6300320\tbest: 559.6067445 (2797)\ttotal: 3m 40s\tremaining: 5.99s\n",
      "2876:\tlearn: 415.7744120\ttest: 559.2970855\tbest: 559.2814065 (2875)\ttotal: 3m 46s\tremaining: 0us\n",
      "\n",
      "bestTest = 559.2814065\n",
      "bestIteration = 2875\n",
      "\n",
      "Shrink model to first 2876 iterations.\n"
     ]
    },
    {
     "name": "stderr",
     "output_type": "stream",
     "text": [
      "\u001b[32m[I 2021-05-06 06:37:53,951]\u001b[0m Trial 96 finished with value: 559.2814064801444 and parameters: {'n_estimators': 2877, 'learning_rate': 0.2331097805732047, 'depth': 9, 'rsm': 0.9270623400908581}. Best is trial 92 with value: 557.4821953237079.\u001b[0m\n"
     ]
    },
    {
     "name": "stdout",
     "output_type": "stream",
     "text": [
      "0:\tlearn: 2846.2744979\ttest: 2844.1436286\tbest: 2844.1436286 (0)\ttotal: 57.5ms\tremaining: 2m 52s\n",
      "200:\tlearn: 641.3487670\ttest: 663.6263976\tbest: 663.6263976 (200)\ttotal: 13.3s\tremaining: 3m 4s\n",
      "400:\tlearn: 592.3265817\ttest: 628.1392000\tbest: 628.1392000 (400)\ttotal: 26.1s\tremaining: 2m 48s\n",
      "600:\tlearn: 562.6241787\ttest: 610.0645157\tbest: 610.0645157 (600)\ttotal: 39.2s\tremaining: 2m 36s\n",
      "800:\tlearn: 540.6175540\ttest: 598.2665878\tbest: 598.2439551 (799)\ttotal: 52.1s\tremaining: 2m 22s\n",
      "1000:\tlearn: 523.2738516\ttest: 590.1217948\tbest: 590.1217948 (1000)\ttotal: 1m 5s\tremaining: 2m 9s\n",
      "1200:\tlearn: 509.2623584\ttest: 584.5439429\tbest: 584.5439429 (1200)\ttotal: 1m 18s\tremaining: 1m 57s\n",
      "1400:\tlearn: 497.4104891\ttest: 580.3053356\tbest: 580.3053356 (1400)\ttotal: 1m 31s\tremaining: 1m 43s\n",
      "1600:\tlearn: 486.1343108\ttest: 576.9413545\tbest: 576.9413545 (1600)\ttotal: 1m 44s\tremaining: 1m 30s\n",
      "1800:\tlearn: 476.4631384\ttest: 573.4757040\tbest: 573.4757040 (1800)\ttotal: 1m 57s\tremaining: 1m 17s\n",
      "2000:\tlearn: 467.8984753\ttest: 571.4515286\tbest: 571.4515286 (2000)\ttotal: 2m 10s\tremaining: 1m 4s\n",
      "2200:\tlearn: 459.5143117\ttest: 569.4208877\tbest: 569.4152691 (2197)\ttotal: 2m 23s\tremaining: 51.7s\n",
      "2400:\tlearn: 452.1807759\ttest: 567.2901918\tbest: 567.2889178 (2399)\ttotal: 2m 36s\tremaining: 38.7s\n",
      "2600:\tlearn: 445.6186159\ttest: 565.9435318\tbest: 565.9435318 (2600)\ttotal: 2m 49s\tremaining: 25.7s\n",
      "2800:\tlearn: 438.9711480\ttest: 564.6662943\tbest: 564.6662943 (2800)\ttotal: 3m 2s\tremaining: 12.7s\n",
      "2994:\tlearn: 433.2873634\ttest: 564.0379182\tbest: 564.0379182 (2994)\ttotal: 3m 15s\tremaining: 0us\n",
      "\n",
      "bestTest = 564.0379182\n",
      "bestIteration = 2994\n",
      "\n"
     ]
    },
    {
     "name": "stderr",
     "output_type": "stream",
     "text": [
      "\u001b[32m[I 2021-05-06 06:41:10,801]\u001b[0m Trial 97 finished with value: 564.0379182123477 and parameters: {'n_estimators': 2995, 'learning_rate': 0.3158225354422536, 'depth': 8, 'rsm': 0.9424393569237287}. Best is trial 92 with value: 557.4821953237079.\u001b[0m\n"
     ]
    },
    {
     "name": "stdout",
     "output_type": "stream",
     "text": [
      "0:\tlearn: 2972.4584610\ttest: 2972.0817099\tbest: 2972.0817099 (0)\ttotal: 66.8ms\tremaining: 2m 52s\n",
      "200:\tlearn: 626.5172918\ttest: 652.2209376\tbest: 652.2209376 (200)\ttotal: 15.8s\tremaining: 3m 6s\n",
      "400:\tlearn: 575.4612863\ttest: 617.2921884\tbest: 617.2921884 (400)\ttotal: 31.6s\tremaining: 2m 51s\n",
      "600:\tlearn: 542.6432442\ttest: 598.7729320\tbest: 598.7729320 (600)\ttotal: 47.4s\tremaining: 2m 35s\n",
      "800:\tlearn: 519.3279949\ttest: 588.1102249\tbest: 588.1102249 (800)\ttotal: 1m 2s\tremaining: 2m 19s\n",
      "1000:\tlearn: 499.5952317\ttest: 580.6955613\tbest: 580.6955613 (1000)\ttotal: 1m 18s\tremaining: 2m 3s\n",
      "1200:\tlearn: 482.8380915\ttest: 574.5858331\tbest: 574.5858331 (1200)\ttotal: 1m 34s\tremaining: 1m 47s\n",
      "1400:\tlearn: 468.9077256\ttest: 571.0175938\tbest: 571.0175938 (1400)\ttotal: 1m 49s\tremaining: 1m 32s\n",
      "1600:\tlearn: 456.3779531\ttest: 567.4208847\tbest: 567.4208847 (1600)\ttotal: 2m 5s\tremaining: 1m 16s\n",
      "1800:\tlearn: 445.2100741\ttest: 565.1734331\tbest: 565.1734331 (1800)\ttotal: 2m 21s\tremaining: 1m\n",
      "2000:\tlearn: 435.5672609\ttest: 563.2600373\tbest: 563.2464103 (1999)\ttotal: 2m 36s\tremaining: 45.1s\n",
      "2200:\tlearn: 426.3825358\ttest: 561.9602851\tbest: 561.9342341 (2195)\ttotal: 2m 52s\tremaining: 29.4s\n",
      "2400:\tlearn: 417.9011423\ttest: 560.7008520\tbest: 560.7008520 (2400)\ttotal: 3m 8s\tremaining: 13.7s\n",
      "2575:\tlearn: 410.9036577\ttest: 559.4188204\tbest: 559.4148325 (2574)\ttotal: 3m 22s\tremaining: 0us\n",
      "\n",
      "bestTest = 559.4148325\n",
      "bestIteration = 2574\n",
      "\n",
      "Shrink model to first 2575 iterations.\n"
     ]
    },
    {
     "name": "stderr",
     "output_type": "stream",
     "text": [
      "\u001b[32m[I 2021-05-06 06:44:34,547]\u001b[0m Trial 98 finished with value: 559.4148324656448 and parameters: {'n_estimators': 2576, 'learning_rate': 0.2763094289655646, 'depth': 9, 'rsm': 0.9358389412411411}. Best is trial 92 with value: 557.4821953237079.\u001b[0m\n"
     ]
    },
    {
     "name": "stdout",
     "output_type": "stream",
     "text": [
      "0:\tlearn: 2753.4045616\ttest: 2751.8514001\tbest: 2751.8514001 (0)\ttotal: 88.1ms\tremaining: 4m 19s\n",
      "200:\tlearn: 612.7814593\ttest: 642.3400761\tbest: 642.3400761 (200)\ttotal: 15.3s\tremaining: 3m 28s\n",
      "400:\tlearn: 559.4765695\ttest: 607.9779240\tbest: 607.9779240 (400)\ttotal: 30.5s\tremaining: 3m 13s\n",
      "600:\tlearn: 525.4230737\ttest: 592.5305147\tbest: 592.5305147 (600)\ttotal: 45.5s\tremaining: 2m 58s\n",
      "800:\tlearn: 499.8136231\ttest: 583.2426825\tbest: 583.2426825 (800)\ttotal: 1m\tremaining: 2m 43s\n",
      "1000:\tlearn: 481.0578798\ttest: 577.4951573\tbest: 577.4951573 (1000)\ttotal: 1m 16s\tremaining: 2m 28s\n",
      "1200:\tlearn: 464.4940257\ttest: 572.5165124\tbest: 572.5165124 (1200)\ttotal: 1m 31s\tremaining: 2m 12s\n",
      "1400:\tlearn: 450.4204439\ttest: 569.7188350\tbest: 569.7188350 (1400)\ttotal: 1m 46s\tremaining: 1m 57s\n",
      "1600:\tlearn: 438.2891277\ttest: 567.8671782\tbest: 567.8671782 (1600)\ttotal: 2m 1s\tremaining: 1m 42s\n",
      "1800:\tlearn: 427.0727479\ttest: 566.1048568\tbest: 566.0993026 (1799)\ttotal: 2m 17s\tremaining: 1m 27s\n",
      "2000:\tlearn: 417.1209068\ttest: 564.8928524\tbest: 564.8824509 (1998)\ttotal: 2m 32s\tremaining: 1m 12s\n",
      "2200:\tlearn: 408.1315753\ttest: 563.9983596\tbest: 563.9740852 (2175)\ttotal: 2m 47s\tremaining: 57.1s\n",
      "2400:\tlearn: 399.9327469\ttest: 563.4608832\tbest: 563.4085554 (2319)\ttotal: 3m 2s\tremaining: 41.9s\n",
      "Stopped by overfitting detector  (100 iterations wait)\n",
      "\n",
      "bestTest = 563.4085554\n",
      "bestIteration = 2319\n",
      "\n",
      "Shrink model to first 2320 iterations.\n"
     ]
    },
    {
     "name": "stderr",
     "output_type": "stream",
     "text": [
      "\u001b[32m[I 2021-05-06 06:47:40,355]\u001b[0m Trial 99 finished with value: 563.4085554206642 and parameters: {'n_estimators': 2951, 'learning_rate': 0.342249656894165, 'depth': 9, 'rsm': 0.9123736457258511}. Best is trial 92 with value: 557.4821953237079.\u001b[0m\n"
     ]
    }
   ],
   "source": [
    "#Set to False if you want to skip it\n",
    "OPTUNA_OPTIMIZATION = True\n",
    "N_TRIALS = 100 \n",
    "\n",
    "if OPTUNA_OPTIMIZATION:\n",
    "    study = optuna.create_study(study_name = 'CAT', direction=\"minimize\") \n",
    "    \n",
    "    study.optimize(objective, n_trials=N_TRIALS)"
   ]
  },
  {
   "cell_type": "code",
   "execution_count": null,
   "metadata": {},
   "outputs": [],
   "source": []
  },
  {
   "cell_type": "code",
   "execution_count": null,
   "metadata": {},
   "outputs": [],
   "source": []
  },
  {
   "cell_type": "code",
   "execution_count": null,
   "metadata": {},
   "outputs": [],
   "source": []
  },
  {
   "cell_type": "code",
   "execution_count": null,
   "metadata": {},
   "outputs": [],
   "source": []
  },
  {
   "cell_type": "code",
   "execution_count": null,
   "metadata": {},
   "outputs": [],
   "source": []
  },
  {
   "cell_type": "code",
   "execution_count": null,
   "metadata": {},
   "outputs": [],
   "source": []
  },
  {
   "cell_type": "code",
   "execution_count": null,
   "metadata": {},
   "outputs": [],
   "source": []
  },
  {
   "cell_type": "code",
   "execution_count": null,
   "metadata": {},
   "outputs": [],
   "source": []
  },
  {
   "cell_type": "code",
   "execution_count": null,
   "metadata": {},
   "outputs": [],
   "source": []
  },
  {
   "cell_type": "markdown",
   "metadata": {},
   "source": [
    "params = {'n_estimators': 1573, 'learning_rate': 0.47014065599594035,\n",
    " 'max_depth': 8, 'reg_alpha': 198.326716938535, 'reg_lambda': 125.91594195807608, \n",
    " 'colsample_bytree': 0.9543001032773433, 'colsample_bylevel': 0.675896785667841, \n",
    " 'colsample_bynode': 0.8506402529997479, 'subsample': 0.9973968191944973, 'min_child_weight': 98}\n",
    "\n",
    "xgb = XGBRegressor(random_state=1, tree_method = 'gpu_hist', **params)"
   ]
  },
  {
   "cell_type": "code",
   "execution_count": 155,
   "metadata": {},
   "outputs": [],
   "source": [
    "test['Predictions'] = xgb_preds\n",
    "test.loc[ test['Open'] == 0, 'Predictions'] = 0\n",
    "preds = test['Predictions']\n",
    "\n",
    "index = [i for i in range(test.shape[0])]\n",
    "\n",
    "d = list(zip(index, preds))\n",
    "\n",
    "ss = pd.DataFrame(d, columns = ['index', 'Sales'])\n",
    "\n",
    "ss.to_csv(path + \"\\\\new_feats.csv\", index = False)"
   ]
  },
  {
   "cell_type": "code",
   "execution_count": 161,
   "metadata": {},
   "outputs": [],
   "source": [
    "\n",
    "ss.to_csv(path + \"\\\\new_feats.csv\", index = False)"
   ]
  },
  {
   "cell_type": "code",
   "execution_count": null,
   "metadata": {},
   "outputs": [],
   "source": []
  }
 ],
 "metadata": {
  "kernelspec": {
   "display_name": "Python 3",
   "language": "python",
   "name": "python3"
  },
  "language_info": {
   "codemirror_mode": {
    "name": "ipython",
    "version": 3
   },
   "file_extension": ".py",
   "mimetype": "text/x-python",
   "name": "python",
   "nbconvert_exporter": "python",
   "pygments_lexer": "ipython3",
   "version": "3.7.6"
  }
 },
 "nbformat": 4,
 "nbformat_minor": 4
}
