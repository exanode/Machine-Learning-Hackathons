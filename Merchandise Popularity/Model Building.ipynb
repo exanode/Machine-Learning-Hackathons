{
 "cells": [
  {
   "cell_type": "code",
   "execution_count": 592,
   "metadata": {},
   "outputs": [],
   "source": [
    "import numpy as np\n",
    "import pandas as pd\n",
    "import matplotlib.pyplot as plt\n",
    "import seaborn as sns\n",
    "sns.set(style='whitegrid')\n",
    "\n",
    "import os\n",
    "\n",
    "from sklearn.preprocessing import MinMaxScaler, StandardScaler, LabelEncoder\n",
    "from sklearn.model_selection import StratifiedKFold, KFold, train_test_split\n",
    "from scipy.stats import boxcox\n",
    "from sklearn.linear_model import LogisticRegression\n",
    "from sklearn.neighbors import KNeighborsClassifier\n",
    "from sklearn.tree import DecisionTreeClassifier\n",
    "from sklearn.ensemble import RandomForestClassifier,AdaBoostClassifier, BaggingClassifier, ExtraTreesClassifier, GradientBoostingClassifier, StackingClassifier\n",
    "from xgboost import XGBClassifier\n",
    "from lightgbm import LGBMClassifier\n",
    "from catboost import CatBoostClassifier\n",
    "from sklearn.svm import SVC\n",
    "\n",
    "from sklearn.metrics import log_loss, accuracy_score, f1_score, plot_confusion_matrix, confusion_matrix\n",
    "\n",
    "from imblearn.over_sampling import SMOTE\n",
    "\n",
    "seed = 1\n",
    "\n",
    "le = LabelEncoder()"
   ]
  },
  {
   "cell_type": "code",
   "execution_count": 593,
   "metadata": {},
   "outputs": [],
   "source": [
    "path = 'C:\\\\Users\\\\sunil\\\\Projects\\\\Machine Hack\\\\Merchandise Popularity Prediction\\\\Dataset'\n",
    "\n",
    "train = pd.read_csv(path + '\\\\Train.csv')\n",
    "test = pd.read_csv(path + '\\\\Test.csv')\n",
    "sample_sub = pd.read_csv(path + '\\\\sample_submission.csv')"
   ]
  },
  {
   "cell_type": "code",
   "execution_count": 594,
   "metadata": {},
   "outputs": [],
   "source": [
    "target = 'popularity'\n",
    "features = [col for col in train.columns if col not in [target]]"
   ]
  },
  {
   "cell_type": "code",
   "execution_count": 595,
   "metadata": {},
   "outputs": [],
   "source": [
    "train[target].replace({0:0, 1:1, 3:2, 4:3, 5:4}, inplace = True)"
   ]
  },
  {
   "cell_type": "code",
   "execution_count": 596,
   "metadata": {},
   "outputs": [],
   "source": [
    "#removing lowest in Score_2\n",
    "\n",
    "train.drop(15372, axis = 0, inplace = True)"
   ]
  },
  {
   "cell_type": "code",
   "execution_count": 597,
   "metadata": {},
   "outputs": [],
   "source": [
    "test.loc[ test['Score_2'] == 0, 'Score_2'] = 0.1"
   ]
  },
  {
   "cell_type": "code",
   "execution_count": 598,
   "metadata": {},
   "outputs": [],
   "source": [
    "df = pd.concat( [train, test], axis = 0).reset_index(drop=True)"
   ]
  },
  {
   "cell_type": "code",
   "execution_count": 599,
   "metadata": {},
   "outputs": [],
   "source": [
    "df['Score_2'] = np.log(df['Score_2'])"
   ]
  },
  {
   "cell_type": "code",
   "execution_count": 600,
   "metadata": {},
   "outputs": [],
   "source": [
    "df['time'] = np.log(df['time'])"
   ]
  },
  {
   "cell_type": "code",
   "execution_count": 601,
   "metadata": {},
   "outputs": [],
   "source": [
    "df.loc[df['Store_Score']<0, 'Store_Score'] = df[df['Store_Score']<0]['Store_Score']*-1\n",
    "df['Store_Score'] = np.log(df['Store_Score'])"
   ]
  },
  {
   "cell_type": "code",
   "execution_count": 602,
   "metadata": {},
   "outputs": [],
   "source": [
    "train, test = df[:train.shape[0]].copy(), df[train.shape[0]:].copy()"
   ]
  },
  {
   "cell_type": "code",
   "execution_count": 603,
   "metadata": {},
   "outputs": [],
   "source": [
    "test = test.reset_index(drop=True)"
   ]
  },
  {
   "cell_type": "markdown",
   "metadata": {},
   "source": [
    "---\n",
    "# Predicting For Duplicate Values"
   ]
  },
  {
   "cell_type": "code",
   "execution_count": 561,
   "metadata": {},
   "outputs": [],
   "source": [
    "test.drop('popularity', axis = 1, inplace=True)"
   ]
  },
  {
   "cell_type": "code",
   "execution_count": 562,
   "metadata": {},
   "outputs": [],
   "source": [
    "test[target] = None"
   ]
  },
  {
   "cell_type": "code",
   "execution_count": 563,
   "metadata": {},
   "outputs": [],
   "source": [
    "def Fill_Duplicates(row):\n",
    "    tmp = train[ (train['Store_Ratio'] == row['Store_Ratio']) &\n",
    "                 (train['Basket_Ratio'] == row['Basket_Ratio']) &\n",
    "                 (train['Category_1'] == row['Category_1']) &\n",
    "                 (train['Store_Score'] == row['Store_Score']) &\n",
    "                 (train['Category_2'] == row['Category_2']) &\n",
    "                 (train['Store_Presence'] == row['Store_Presence']) &\n",
    "                 (train['Score_1'] == row['Score_1']) & \n",
    "                 (train['Score_2'] == row['Score_2']) &\n",
    "                 (train['Score_3'] == row['Score_3']) &\n",
    "                 (train['Score_4'] == row['Score_4'])]\n",
    "    if tmp.shape[0] == 0:\n",
    "        return None\n",
    "    return tmp[target].mode()[0]"
   ]
  },
  {
   "cell_type": "code",
   "execution_count": 564,
   "metadata": {
    "collapsed": true
   },
   "outputs": [
    {
     "ename": "KeyboardInterrupt",
     "evalue": "",
     "output_type": "error",
     "traceback": [
      "\u001b[1;31m---------------------------------------------------------------------------\u001b[0m",
      "\u001b[1;31mKeyboardInterrupt\u001b[0m                         Traceback (most recent call last)",
      "\u001b[1;32m<ipython-input-564-b14e2b8cf3a8>\u001b[0m in \u001b[0;36m<module>\u001b[1;34m\u001b[0m\n\u001b[1;32m----> 1\u001b[1;33m \u001b[0mtest\u001b[0m\u001b[1;33m[\u001b[0m\u001b[0mtarget\u001b[0m\u001b[1;33m]\u001b[0m \u001b[1;33m=\u001b[0m \u001b[0mtest\u001b[0m\u001b[1;33m.\u001b[0m\u001b[0mapply\u001b[0m\u001b[1;33m(\u001b[0m\u001b[1;32mlambda\u001b[0m \u001b[0mx\u001b[0m\u001b[1;33m:\u001b[0m \u001b[0mFill_Duplicates\u001b[0m\u001b[1;33m(\u001b[0m\u001b[0mx\u001b[0m\u001b[1;33m)\u001b[0m\u001b[1;33m,\u001b[0m \u001b[0maxis\u001b[0m \u001b[1;33m=\u001b[0m \u001b[1;36m1\u001b[0m\u001b[1;33m)\u001b[0m\u001b[1;33m\u001b[0m\u001b[1;33m\u001b[0m\u001b[0m\n\u001b[0m",
      "\u001b[1;32m~\\anaconda3\\lib\\site-packages\\pandas\\core\\frame.py\u001b[0m in \u001b[0;36mapply\u001b[1;34m(self, func, axis, raw, result_type, args, **kwds)\u001b[0m\n\u001b[0;32m   6876\u001b[0m             \u001b[0mkwds\u001b[0m\u001b[1;33m=\u001b[0m\u001b[0mkwds\u001b[0m\u001b[1;33m,\u001b[0m\u001b[1;33m\u001b[0m\u001b[1;33m\u001b[0m\u001b[0m\n\u001b[0;32m   6877\u001b[0m         )\n\u001b[1;32m-> 6878\u001b[1;33m         \u001b[1;32mreturn\u001b[0m \u001b[0mop\u001b[0m\u001b[1;33m.\u001b[0m\u001b[0mget_result\u001b[0m\u001b[1;33m(\u001b[0m\u001b[1;33m)\u001b[0m\u001b[1;33m\u001b[0m\u001b[1;33m\u001b[0m\u001b[0m\n\u001b[0m\u001b[0;32m   6879\u001b[0m \u001b[1;33m\u001b[0m\u001b[0m\n\u001b[0;32m   6880\u001b[0m     \u001b[1;32mdef\u001b[0m \u001b[0mapplymap\u001b[0m\u001b[1;33m(\u001b[0m\u001b[0mself\u001b[0m\u001b[1;33m,\u001b[0m \u001b[0mfunc\u001b[0m\u001b[1;33m)\u001b[0m \u001b[1;33m->\u001b[0m \u001b[1;34m\"DataFrame\"\u001b[0m\u001b[1;33m:\u001b[0m\u001b[1;33m\u001b[0m\u001b[1;33m\u001b[0m\u001b[0m\n",
      "\u001b[1;32m~\\anaconda3\\lib\\site-packages\\pandas\\core\\apply.py\u001b[0m in \u001b[0;36mget_result\u001b[1;34m(self)\u001b[0m\n\u001b[0;32m    184\u001b[0m             \u001b[1;32mreturn\u001b[0m \u001b[0mself\u001b[0m\u001b[1;33m.\u001b[0m\u001b[0mapply_raw\u001b[0m\u001b[1;33m(\u001b[0m\u001b[1;33m)\u001b[0m\u001b[1;33m\u001b[0m\u001b[1;33m\u001b[0m\u001b[0m\n\u001b[0;32m    185\u001b[0m \u001b[1;33m\u001b[0m\u001b[0m\n\u001b[1;32m--> 186\u001b[1;33m         \u001b[1;32mreturn\u001b[0m \u001b[0mself\u001b[0m\u001b[1;33m.\u001b[0m\u001b[0mapply_standard\u001b[0m\u001b[1;33m(\u001b[0m\u001b[1;33m)\u001b[0m\u001b[1;33m\u001b[0m\u001b[1;33m\u001b[0m\u001b[0m\n\u001b[0m\u001b[0;32m    187\u001b[0m \u001b[1;33m\u001b[0m\u001b[0m\n\u001b[0;32m    188\u001b[0m     \u001b[1;32mdef\u001b[0m \u001b[0mapply_empty_result\u001b[0m\u001b[1;33m(\u001b[0m\u001b[0mself\u001b[0m\u001b[1;33m)\u001b[0m\u001b[1;33m:\u001b[0m\u001b[1;33m\u001b[0m\u001b[1;33m\u001b[0m\u001b[0m\n",
      "\u001b[1;32m~\\anaconda3\\lib\\site-packages\\pandas\\core\\apply.py\u001b[0m in \u001b[0;36mapply_standard\u001b[1;34m(self)\u001b[0m\n\u001b[0;32m    294\u001b[0m             \u001b[1;32mtry\u001b[0m\u001b[1;33m:\u001b[0m\u001b[1;33m\u001b[0m\u001b[1;33m\u001b[0m\u001b[0m\n\u001b[0;32m    295\u001b[0m                 result = libreduction.compute_reduction(\n\u001b[1;32m--> 296\u001b[1;33m                     \u001b[0mvalues\u001b[0m\u001b[1;33m,\u001b[0m \u001b[0mself\u001b[0m\u001b[1;33m.\u001b[0m\u001b[0mf\u001b[0m\u001b[1;33m,\u001b[0m \u001b[0maxis\u001b[0m\u001b[1;33m=\u001b[0m\u001b[0mself\u001b[0m\u001b[1;33m.\u001b[0m\u001b[0maxis\u001b[0m\u001b[1;33m,\u001b[0m \u001b[0mdummy\u001b[0m\u001b[1;33m=\u001b[0m\u001b[0mdummy\u001b[0m\u001b[1;33m,\u001b[0m \u001b[0mlabels\u001b[0m\u001b[1;33m=\u001b[0m\u001b[0mlabels\u001b[0m\u001b[1;33m\u001b[0m\u001b[1;33m\u001b[0m\u001b[0m\n\u001b[0m\u001b[0;32m    297\u001b[0m                 )\n\u001b[0;32m    298\u001b[0m             \u001b[1;32mexcept\u001b[0m \u001b[0mValueError\u001b[0m \u001b[1;32mas\u001b[0m \u001b[0merr\u001b[0m\u001b[1;33m:\u001b[0m\u001b[1;33m\u001b[0m\u001b[1;33m\u001b[0m\u001b[0m\n",
      "\u001b[1;32mpandas\\_libs\\reduction.pyx\u001b[0m in \u001b[0;36mpandas._libs.reduction.compute_reduction\u001b[1;34m()\u001b[0m\n",
      "\u001b[1;32mpandas\\_libs\\reduction.pyx\u001b[0m in \u001b[0;36mpandas._libs.reduction.Reducer.get_result\u001b[1;34m()\u001b[0m\n",
      "\u001b[1;32m<ipython-input-564-b14e2b8cf3a8>\u001b[0m in \u001b[0;36m<lambda>\u001b[1;34m(x)\u001b[0m\n\u001b[1;32m----> 1\u001b[1;33m \u001b[0mtest\u001b[0m\u001b[1;33m[\u001b[0m\u001b[0mtarget\u001b[0m\u001b[1;33m]\u001b[0m \u001b[1;33m=\u001b[0m \u001b[0mtest\u001b[0m\u001b[1;33m.\u001b[0m\u001b[0mapply\u001b[0m\u001b[1;33m(\u001b[0m\u001b[1;32mlambda\u001b[0m \u001b[0mx\u001b[0m\u001b[1;33m:\u001b[0m \u001b[0mFill_Duplicates\u001b[0m\u001b[1;33m(\u001b[0m\u001b[0mx\u001b[0m\u001b[1;33m)\u001b[0m\u001b[1;33m,\u001b[0m \u001b[0maxis\u001b[0m \u001b[1;33m=\u001b[0m \u001b[1;36m1\u001b[0m\u001b[1;33m)\u001b[0m\u001b[1;33m\u001b[0m\u001b[1;33m\u001b[0m\u001b[0m\n\u001b[0m",
      "\u001b[1;32m<ipython-input-563-d79deddf2197>\u001b[0m in \u001b[0;36mFill_Duplicates\u001b[1;34m(row)\u001b[0m\n\u001b[0;32m      8\u001b[0m                  \u001b[1;33m(\u001b[0m\u001b[0mtrain\u001b[0m\u001b[1;33m[\u001b[0m\u001b[1;34m'Score_1'\u001b[0m\u001b[1;33m]\u001b[0m \u001b[1;33m==\u001b[0m \u001b[0mrow\u001b[0m\u001b[1;33m[\u001b[0m\u001b[1;34m'Score_1'\u001b[0m\u001b[1;33m]\u001b[0m\u001b[1;33m)\u001b[0m \u001b[1;33m&\u001b[0m\u001b[1;33m\u001b[0m\u001b[1;33m\u001b[0m\u001b[0m\n\u001b[0;32m      9\u001b[0m                  \u001b[1;33m(\u001b[0m\u001b[0mtrain\u001b[0m\u001b[1;33m[\u001b[0m\u001b[1;34m'Score_2'\u001b[0m\u001b[1;33m]\u001b[0m \u001b[1;33m==\u001b[0m \u001b[0mrow\u001b[0m\u001b[1;33m[\u001b[0m\u001b[1;34m'Score_2'\u001b[0m\u001b[1;33m]\u001b[0m\u001b[1;33m)\u001b[0m \u001b[1;33m&\u001b[0m\u001b[1;33m\u001b[0m\u001b[1;33m\u001b[0m\u001b[0m\n\u001b[1;32m---> 10\u001b[1;33m                  \u001b[1;33m(\u001b[0m\u001b[0mtrain\u001b[0m\u001b[1;33m[\u001b[0m\u001b[1;34m'Score_3'\u001b[0m\u001b[1;33m]\u001b[0m \u001b[1;33m==\u001b[0m \u001b[0mrow\u001b[0m\u001b[1;33m[\u001b[0m\u001b[1;34m'Score_3'\u001b[0m\u001b[1;33m]\u001b[0m\u001b[1;33m)\u001b[0m \u001b[1;33m&\u001b[0m\u001b[1;33m\u001b[0m\u001b[1;33m\u001b[0m\u001b[0m\n\u001b[0m\u001b[0;32m     11\u001b[0m                  (train['Score_4'] == row['Score_4'])]\n\u001b[0;32m     12\u001b[0m     \u001b[1;32mif\u001b[0m \u001b[0mtmp\u001b[0m\u001b[1;33m.\u001b[0m\u001b[0mshape\u001b[0m\u001b[1;33m[\u001b[0m\u001b[1;36m0\u001b[0m\u001b[1;33m]\u001b[0m \u001b[1;33m==\u001b[0m \u001b[1;36m0\u001b[0m\u001b[1;33m:\u001b[0m\u001b[1;33m\u001b[0m\u001b[1;33m\u001b[0m\u001b[0m\n",
      "\u001b[1;32m~\\anaconda3\\lib\\site-packages\\pandas\\core\\ops\\common.py\u001b[0m in \u001b[0;36mnew_method\u001b[1;34m(self, other)\u001b[0m\n\u001b[0;32m     62\u001b[0m         \u001b[0mother\u001b[0m \u001b[1;33m=\u001b[0m \u001b[0mitem_from_zerodim\u001b[0m\u001b[1;33m(\u001b[0m\u001b[0mother\u001b[0m\u001b[1;33m)\u001b[0m\u001b[1;33m\u001b[0m\u001b[1;33m\u001b[0m\u001b[0m\n\u001b[0;32m     63\u001b[0m \u001b[1;33m\u001b[0m\u001b[0m\n\u001b[1;32m---> 64\u001b[1;33m         \u001b[1;32mreturn\u001b[0m \u001b[0mmethod\u001b[0m\u001b[1;33m(\u001b[0m\u001b[0mself\u001b[0m\u001b[1;33m,\u001b[0m \u001b[0mother\u001b[0m\u001b[1;33m)\u001b[0m\u001b[1;33m\u001b[0m\u001b[1;33m\u001b[0m\u001b[0m\n\u001b[0m\u001b[0;32m     65\u001b[0m \u001b[1;33m\u001b[0m\u001b[0m\n\u001b[0;32m     66\u001b[0m     \u001b[1;32mreturn\u001b[0m \u001b[0mnew_method\u001b[0m\u001b[1;33m\u001b[0m\u001b[1;33m\u001b[0m\u001b[0m\n",
      "\u001b[1;32m~\\anaconda3\\lib\\site-packages\\pandas\\core\\ops\\__init__.py\u001b[0m in \u001b[0;36mwrapper\u001b[1;34m(self, other)\u001b[0m\n\u001b[0;32m    524\u001b[0m         \u001b[0mrvalues\u001b[0m \u001b[1;33m=\u001b[0m \u001b[0mextract_array\u001b[0m\u001b[1;33m(\u001b[0m\u001b[0mother\u001b[0m\u001b[1;33m,\u001b[0m \u001b[0mextract_numpy\u001b[0m\u001b[1;33m=\u001b[0m\u001b[1;32mTrue\u001b[0m\u001b[1;33m)\u001b[0m\u001b[1;33m\u001b[0m\u001b[1;33m\u001b[0m\u001b[0m\n\u001b[0;32m    525\u001b[0m \u001b[1;33m\u001b[0m\u001b[0m\n\u001b[1;32m--> 526\u001b[1;33m         \u001b[0mres_values\u001b[0m \u001b[1;33m=\u001b[0m \u001b[0mcomparison_op\u001b[0m\u001b[1;33m(\u001b[0m\u001b[0mlvalues\u001b[0m\u001b[1;33m,\u001b[0m \u001b[0mrvalues\u001b[0m\u001b[1;33m,\u001b[0m \u001b[0mop\u001b[0m\u001b[1;33m)\u001b[0m\u001b[1;33m\u001b[0m\u001b[1;33m\u001b[0m\u001b[0m\n\u001b[0m\u001b[0;32m    527\u001b[0m \u001b[1;33m\u001b[0m\u001b[0m\n\u001b[0;32m    528\u001b[0m         \u001b[1;32mreturn\u001b[0m \u001b[0m_construct_result\u001b[0m\u001b[1;33m(\u001b[0m\u001b[0mself\u001b[0m\u001b[1;33m,\u001b[0m \u001b[0mres_values\u001b[0m\u001b[1;33m,\u001b[0m \u001b[0mindex\u001b[0m\u001b[1;33m=\u001b[0m\u001b[0mself\u001b[0m\u001b[1;33m.\u001b[0m\u001b[0mindex\u001b[0m\u001b[1;33m,\u001b[0m \u001b[0mname\u001b[0m\u001b[1;33m=\u001b[0m\u001b[0mres_name\u001b[0m\u001b[1;33m)\u001b[0m\u001b[1;33m\u001b[0m\u001b[1;33m\u001b[0m\u001b[0m\n",
      "\u001b[1;32m~\\anaconda3\\lib\\site-packages\\pandas\\core\\ops\\array_ops.py\u001b[0m in \u001b[0;36mcomparison_op\u001b[1;34m(left, right, op)\u001b[0m\n\u001b[0;32m    251\u001b[0m         \u001b[0mmethod\u001b[0m \u001b[1;33m=\u001b[0m \u001b[0mgetattr\u001b[0m\u001b[1;33m(\u001b[0m\u001b[0mlvalues\u001b[0m\u001b[1;33m,\u001b[0m \u001b[0mop_name\u001b[0m\u001b[1;33m)\u001b[0m\u001b[1;33m\u001b[0m\u001b[1;33m\u001b[0m\u001b[0m\n\u001b[0;32m    252\u001b[0m         \u001b[1;32mwith\u001b[0m \u001b[0mnp\u001b[0m\u001b[1;33m.\u001b[0m\u001b[0merrstate\u001b[0m\u001b[1;33m(\u001b[0m\u001b[0mall\u001b[0m\u001b[1;33m=\u001b[0m\u001b[1;34m\"ignore\"\u001b[0m\u001b[1;33m)\u001b[0m\u001b[1;33m:\u001b[0m\u001b[1;33m\u001b[0m\u001b[1;33m\u001b[0m\u001b[0m\n\u001b[1;32m--> 253\u001b[1;33m             \u001b[0mres_values\u001b[0m \u001b[1;33m=\u001b[0m \u001b[0mmethod\u001b[0m\u001b[1;33m(\u001b[0m\u001b[0mrvalues\u001b[0m\u001b[1;33m)\u001b[0m\u001b[1;33m\u001b[0m\u001b[1;33m\u001b[0m\u001b[0m\n\u001b[0m\u001b[0;32m    254\u001b[0m \u001b[1;33m\u001b[0m\u001b[0m\n\u001b[0;32m    255\u001b[0m         \u001b[1;32mif\u001b[0m \u001b[0mres_values\u001b[0m \u001b[1;32mis\u001b[0m \u001b[0mNotImplemented\u001b[0m\u001b[1;33m:\u001b[0m\u001b[1;33m\u001b[0m\u001b[1;33m\u001b[0m\u001b[0m\n",
      "\u001b[1;31mKeyboardInterrupt\u001b[0m: "
     ]
    }
   ],
   "source": [
    "test[target] = test.apply(lambda x: Fill_Duplicates(x), axis = 1)"
   ]
  },
  {
   "cell_type": "code",
   "execution_count": null,
   "metadata": {},
   "outputs": [],
   "source": [
    "filled_test_index = test[~test[target].isna()].index\n",
    "filled_test_values = test[~test[target].isna()][target].to_list()"
   ]
  },
  {
   "cell_type": "markdown",
   "metadata": {},
   "source": [
    "---\n",
    "# Data Preprocessing"
   ]
  },
  {
   "cell_type": "code",
   "execution_count": 532,
   "metadata": {},
   "outputs": [],
   "source": [
    "trn, val = train_test_split(train, test_size = 0.2, random_state = 1, stratify = train[target])\n",
    "\n",
    "#### Input for model\n",
    "X_trn, X_val = trn[features], val[features]\n",
    "\n",
    "#### Target column\n",
    "y_trn, y_val = trn[target], val[target]\n",
    "\n",
    "#### Features for test data that we will be predicting\n",
    "X_test = test[features]"
   ]
  },
  {
   "cell_type": "code",
   "execution_count": 533,
   "metadata": {},
   "outputs": [
    {
     "data": {
      "text/plain": [
       "0.4800260762354447"
      ]
     },
     "execution_count": 533,
     "metadata": {},
     "output_type": "execute_result"
    }
   ],
   "source": [
    "ext = ExtraTreesClassifier(random_state = 1)\n",
    "_ = ext.fit(X_trn, y_trn)\n",
    "\n",
    "preds_val = ext.predict_proba(X_val)\n",
    "\n",
    "log_loss(y_val, preds_val)"
   ]
  },
  {
   "cell_type": "code",
   "execution_count": 450,
   "metadata": {},
   "outputs": [
    {
     "data": {
      "text/plain": [
       "0.3383218697845813"
      ]
     },
     "execution_count": 450,
     "metadata": {},
     "output_type": "execute_result"
    }
   ],
   "source": [
    "ext = ExtraTreesClassifier(random_state = 1, n_estimators = 2000, max_depth = 35)\n",
    "_ = ext.fit(X_trn, y_trn)\n",
    "\n",
    "preds_val = ext.predict_proba(X_val)\n",
    "\n",
    "log_loss(y_val, preds_val)"
   ]
  },
  {
   "cell_type": "markdown",
   "metadata": {},
   "source": [
    "---\n",
    "# Final Step"
   ]
  },
  {
   "cell_type": "code",
   "execution_count": 80,
   "metadata": {},
   "outputs": [],
   "source": [
    "preds = ext.predict_proba(test[features])"
   ]
  },
  {
   "cell_type": "code",
   "execution_count": 81,
   "metadata": {},
   "outputs": [],
   "source": [
    "# Filling Probabilities for Manually Predicted Indexes\n",
    "def Manual_Probability_Filling():\n",
    "    for i, (index,target_value) in enumerate(zip(preds[filled_test_index], filled_test_values)):\n",
    "        tmp_ls = []\n",
    "        tmp_ls = [v for v in range(0,5) if v not in [target_value]]\n",
    "        preds[filled_test_index[i]][int(target_value)] = 1\n",
    "        for v in tmp_ls:\n",
    "            preds[filled_test_index[i]][int(v)] = 0\n",
    "    return 'Done'"
   ]
  },
  {
   "cell_type": "code",
   "execution_count": 82,
   "metadata": {},
   "outputs": [
    {
     "data": {
      "text/plain": [
       "'Done'"
      ]
     },
     "execution_count": 82,
     "metadata": {},
     "output_type": "execute_result"
    }
   ],
   "source": [
    "test[target] = test.apply(lambda x: Fill_Duplicates(x), axis = 1)\n",
    "\n",
    "filled_test_index = test[~test[target].isna()].index\n",
    "filled_test_values = test[~test[target].isna()][target].to_list()\n",
    "\n",
    "Manual_Probability_Filling()"
   ]
  },
  {
   "cell_type": "code",
   "execution_count": 83,
   "metadata": {},
   "outputs": [],
   "source": [
    "sample = pd.DataFrame(preds)\n",
    "sample.to_csv(path+'\\\\ext_outlier.csv', index=False)"
   ]
  },
  {
   "cell_type": "markdown",
   "metadata": {},
   "source": [
    "# Feature Engineering"
   ]
  },
  {
   "cell_type": "code",
   "execution_count": 604,
   "metadata": {},
   "outputs": [],
   "source": [
    "def join(train, test):\n",
    "    df = pd.concat([train, test], axis = 0).reset_index(drop=True)\n",
    "    return df\n",
    "\n",
    "def split(df):\n",
    "    train_new, test_new = df[:train.shape[0]], df[train.shape[0]:]\n",
    "    feats = [col for col in train_new.columns if col not in [target]]\n",
    "    return train_new, test_new, feats"
   ]
  },
  {
   "cell_type": "code",
   "execution_count": 605,
   "metadata": {},
   "outputs": [],
   "source": [
    "df = join(train,test)"
   ]
  },
  {
   "cell_type": "code",
   "execution_count": 606,
   "metadata": {},
   "outputs": [],
   "source": [
    "df['mean_presence_per_store'] = df.groupby('Store_Ratio')['Store_Presence'].transform('mean')\n",
    "df['min_presence_per_store'] = df.groupby('Store_Ratio')['Store_Presence'].transform('min')\n",
    "df['max_presence_per_store'] = df.groupby('Store_Ratio')['Store_Presence'].transform('max')"
   ]
  },
  {
   "cell_type": "code",
   "execution_count": 607,
   "metadata": {},
   "outputs": [],
   "source": [
    "train, test, features = split(df)"
   ]
  },
  {
   "cell_type": "code",
   "execution_count": 608,
   "metadata": {},
   "outputs": [],
   "source": [
    "trn, val = train_test_split(train, test_size = 0.2, random_state = 1, stratify = train[target])\n",
    "\n",
    "#### Input for model\n",
    "X_trn, X_val = trn[features], val[features]\n",
    "\n",
    "#### Target column\n",
    "y_trn, y_val = trn[target], val[target]\n",
    "\n",
    "#### Features for test data that we will be predicting\n",
    "X_test = test[features]"
   ]
  },
  {
   "cell_type": "code",
   "execution_count": 609,
   "metadata": {},
   "outputs": [
    {
     "data": {
      "text/plain": [
       "0.4132708015231751"
      ]
     },
     "execution_count": 609,
     "metadata": {},
     "output_type": "execute_result"
    }
   ],
   "source": [
    "ext = ExtraTreesClassifier(random_state = 1)\n",
    "_ = ext.fit(X_trn, y_trn)\n",
    "\n",
    "preds_val = ext.predict_proba(X_val)\n",
    "\n",
    "log_loss(y_val, preds_val)"
   ]
  },
  {
   "cell_type": "code",
   "execution_count": 539,
   "metadata": {},
   "outputs": [],
   "source": [
    "df = join(train,test)"
   ]
  },
  {
   "cell_type": "code",
   "execution_count": 546,
   "metadata": {},
   "outputs": [],
   "source": [
    "df['mean_presence_per_store_score'] = df.groupby('Store_Score')['Store_Presence'].transform('mean')\n",
    "df['min_presence_per_store_score'] = df.groupby('Store_Score')['Store_Presence'].transform('min')\n",
    "df['max_presence_per_store_score'] = df.groupby('Store_Score')['Store_Presence'].transform('max')"
   ]
  },
  {
   "cell_type": "code",
   "execution_count": 547,
   "metadata": {},
   "outputs": [],
   "source": [
    "train, test, features = split(df)\n",
    "\n",
    "trn, val = train_test_split(train, test_size = 0.2, random_state = 1, stratify = train[target])\n",
    "\n",
    "#### Input for model\n",
    "X_trn, X_val = trn[features], val[features]\n",
    "\n",
    "#### Target column\n",
    "y_trn, y_val = trn[target], val[target]\n",
    "\n",
    "#### Features for test data that we will be predicting\n",
    "X_test = test[features]"
   ]
  },
  {
   "cell_type": "code",
   "execution_count": 548,
   "metadata": {},
   "outputs": [
    {
     "data": {
      "text/plain": [
       "0.44049723392382617"
      ]
     },
     "execution_count": 548,
     "metadata": {},
     "output_type": "execute_result"
    }
   ],
   "source": [
    "ext = ExtraTreesClassifier(random_state = 1)\n",
    "_ = ext.fit(X_trn, y_trn)\n",
    "\n",
    "preds_val = ext.predict_proba(X_val)\n",
    "\n",
    "log_loss(y_val, preds_val)"
   ]
  },
  {
   "cell_type": "code",
   "execution_count": 266,
   "metadata": {
    "collapsed": true
   },
   "outputs": [
    {
     "data": {
      "text/html": [
       "<div>\n",
       "<style scoped>\n",
       "    .dataframe tbody tr th:only-of-type {\n",
       "        vertical-align: middle;\n",
       "    }\n",
       "\n",
       "    .dataframe tbody tr th {\n",
       "        vertical-align: top;\n",
       "    }\n",
       "\n",
       "    .dataframe thead th {\n",
       "        text-align: right;\n",
       "    }\n",
       "</style>\n",
       "<table border=\"1\" class=\"dataframe\">\n",
       "  <thead>\n",
       "    <tr style=\"text-align: right;\">\n",
       "      <th></th>\n",
       "      <th>Store_Ratio</th>\n",
       "      <th>Basket_Ratio</th>\n",
       "      <th>Category_1</th>\n",
       "      <th>Store_Score</th>\n",
       "      <th>Category_2</th>\n",
       "      <th>Store_Presence</th>\n",
       "      <th>Score_1</th>\n",
       "      <th>Score_2</th>\n",
       "      <th>Score_3</th>\n",
       "      <th>Score_4</th>\n",
       "      <th>time</th>\n",
       "      <th>popularity</th>\n",
       "      <th>mean_presence_per_store</th>\n",
       "      <th>min_presence_per_store</th>\n",
       "      <th>max_presence_per_store</th>\n",
       "      <th>Store_mean_encoding</th>\n",
       "    </tr>\n",
       "  </thead>\n",
       "  <tbody>\n",
       "    <tr>\n",
       "      <th>0</th>\n",
       "      <td>0.407</td>\n",
       "      <td>0.00380</td>\n",
       "      <td>2</td>\n",
       "      <td>3.579762</td>\n",
       "      <td>1</td>\n",
       "      <td>0.99200</td>\n",
       "      <td>0.944000</td>\n",
       "      <td>-2.314658</td>\n",
       "      <td>0.1100</td>\n",
       "      <td>113.911</td>\n",
       "      <td>12.150163</td>\n",
       "      <td>3.0</td>\n",
       "      <td>0.732370</td>\n",
       "      <td>0.000074</td>\n",
       "      <td>0.995</td>\n",
       "      <td>1.573718</td>\n",
       "    </tr>\n",
       "    <tr>\n",
       "      <th>1</th>\n",
       "      <td>0.234</td>\n",
       "      <td>0.10500</td>\n",
       "      <td>0</td>\n",
       "      <td>2.989915</td>\n",
       "      <td>1</td>\n",
       "      <td>0.94400</td>\n",
       "      <td>0.900000</td>\n",
       "      <td>-2.047943</td>\n",
       "      <td>0.0382</td>\n",
       "      <td>76.332</td>\n",
       "      <td>12.136256</td>\n",
       "      <td>3.0</td>\n",
       "      <td>0.743490</td>\n",
       "      <td>0.000003</td>\n",
       "      <td>0.995</td>\n",
       "      <td>1.314413</td>\n",
       "    </tr>\n",
       "    <tr>\n",
       "      <th>2</th>\n",
       "      <td>0.668</td>\n",
       "      <td>0.72600</td>\n",
       "      <td>9</td>\n",
       "      <td>2.016502</td>\n",
       "      <td>1</td>\n",
       "      <td>0.03870</td>\n",
       "      <td>0.000000</td>\n",
       "      <td>-2.009915</td>\n",
       "      <td>0.4530</td>\n",
       "      <td>124.075</td>\n",
       "      <td>12.056081</td>\n",
       "      <td>3.0</td>\n",
       "      <td>0.378823</td>\n",
       "      <td>0.000075</td>\n",
       "      <td>0.986</td>\n",
       "      <td>0.886485</td>\n",
       "    </tr>\n",
       "    <tr>\n",
       "      <th>3</th>\n",
       "      <td>0.184</td>\n",
       "      <td>0.00561</td>\n",
       "      <td>4</td>\n",
       "      <td>3.536806</td>\n",
       "      <td>1</td>\n",
       "      <td>0.84900</td>\n",
       "      <td>0.931000</td>\n",
       "      <td>-2.198225</td>\n",
       "      <td>0.0641</td>\n",
       "      <td>79.037</td>\n",
       "      <td>12.122691</td>\n",
       "      <td>4.0</td>\n",
       "      <td>0.768343</td>\n",
       "      <td>0.000827</td>\n",
       "      <td>0.995</td>\n",
       "      <td>1.554834</td>\n",
       "    </tr>\n",
       "    <tr>\n",
       "      <th>4</th>\n",
       "      <td>0.231</td>\n",
       "      <td>0.13100</td>\n",
       "      <td>6</td>\n",
       "      <td>3.128601</td>\n",
       "      <td>1</td>\n",
       "      <td>0.93700</td>\n",
       "      <td>0.000000</td>\n",
       "      <td>-2.216407</td>\n",
       "      <td>0.0677</td>\n",
       "      <td>109.560</td>\n",
       "      <td>12.136224</td>\n",
       "      <td>2.0</td>\n",
       "      <td>0.759000</td>\n",
       "      <td>0.000002</td>\n",
       "      <td>0.981</td>\n",
       "      <td>1.375381</td>\n",
       "    </tr>\n",
       "    <tr>\n",
       "      <th>...</th>\n",
       "      <td>...</td>\n",
       "      <td>...</td>\n",
       "      <td>...</td>\n",
       "      <td>...</td>\n",
       "      <td>...</td>\n",
       "      <td>...</td>\n",
       "      <td>...</td>\n",
       "      <td>...</td>\n",
       "      <td>...</td>\n",
       "      <td>...</td>\n",
       "      <td>...</td>\n",
       "      <td>...</td>\n",
       "      <td>...</td>\n",
       "      <td>...</td>\n",
       "      <td>...</td>\n",
       "      <td>...</td>\n",
       "    </tr>\n",
       "    <tr>\n",
       "      <th>30342</th>\n",
       "      <td>0.171</td>\n",
       "      <td>0.11800</td>\n",
       "      <td>2</td>\n",
       "      <td>3.233173</td>\n",
       "      <td>1</td>\n",
       "      <td>0.86100</td>\n",
       "      <td>0.871000</td>\n",
       "      <td>-2.373008</td>\n",
       "      <td>0.0539</td>\n",
       "      <td>78.303</td>\n",
       "      <td>12.165454</td>\n",
       "      <td>NaN</td>\n",
       "      <td>0.729218</td>\n",
       "      <td>0.000106</td>\n",
       "      <td>0.986</td>\n",
       "      <td>1.421353</td>\n",
       "    </tr>\n",
       "    <tr>\n",
       "      <th>30343</th>\n",
       "      <td>0.744</td>\n",
       "      <td>0.85900</td>\n",
       "      <td>11</td>\n",
       "      <td>1.152469</td>\n",
       "      <td>1</td>\n",
       "      <td>0.02560</td>\n",
       "      <td>0.000063</td>\n",
       "      <td>-2.429283</td>\n",
       "      <td>0.7870</td>\n",
       "      <td>91.977</td>\n",
       "      <td>12.357879</td>\n",
       "      <td>NaN</td>\n",
       "      <td>0.332461</td>\n",
       "      <td>0.002150</td>\n",
       "      <td>0.941</td>\n",
       "      <td>0.506643</td>\n",
       "    </tr>\n",
       "    <tr>\n",
       "      <th>30344</th>\n",
       "      <td>0.572</td>\n",
       "      <td>0.85200</td>\n",
       "      <td>6</td>\n",
       "      <td>1.550112</td>\n",
       "      <td>0</td>\n",
       "      <td>0.00105</td>\n",
       "      <td>0.000000</td>\n",
       "      <td>-2.472188</td>\n",
       "      <td>0.3780</td>\n",
       "      <td>129.969</td>\n",
       "      <td>12.284935</td>\n",
       "      <td>NaN</td>\n",
       "      <td>0.355290</td>\n",
       "      <td>0.000071</td>\n",
       "      <td>0.996</td>\n",
       "      <td>0.681453</td>\n",
       "    </tr>\n",
       "    <tr>\n",
       "      <th>30345</th>\n",
       "      <td>0.761</td>\n",
       "      <td>0.52500</td>\n",
       "      <td>11</td>\n",
       "      <td>1.931521</td>\n",
       "      <td>1</td>\n",
       "      <td>0.44000</td>\n",
       "      <td>0.000007</td>\n",
       "      <td>-2.384880</td>\n",
       "      <td>0.5310</td>\n",
       "      <td>80.870</td>\n",
       "      <td>12.383403</td>\n",
       "      <td>NaN</td>\n",
       "      <td>0.380058</td>\n",
       "      <td>0.028100</td>\n",
       "      <td>0.922</td>\n",
       "      <td>0.849126</td>\n",
       "    </tr>\n",
       "    <tr>\n",
       "      <th>30346</th>\n",
       "      <td>0.341</td>\n",
       "      <td>0.19700</td>\n",
       "      <td>9</td>\n",
       "      <td>2.962692</td>\n",
       "      <td>1</td>\n",
       "      <td>0.98600</td>\n",
       "      <td>0.963000</td>\n",
       "      <td>-2.525729</td>\n",
       "      <td>0.9650</td>\n",
       "      <td>115.107</td>\n",
       "      <td>11.198215</td>\n",
       "      <td>NaN</td>\n",
       "      <td>0.674519</td>\n",
       "      <td>0.000080</td>\n",
       "      <td>0.995</td>\n",
       "      <td>1.302445</td>\n",
       "    </tr>\n",
       "  </tbody>\n",
       "</table>\n",
       "<p>30347 rows × 16 columns</p>\n",
       "</div>"
      ],
      "text/plain": [
       "       Store_Ratio  Basket_Ratio  Category_1  Store_Score  Category_2  \\\n",
       "0            0.407       0.00380           2     3.579762           1   \n",
       "1            0.234       0.10500           0     2.989915           1   \n",
       "2            0.668       0.72600           9     2.016502           1   \n",
       "3            0.184       0.00561           4     3.536806           1   \n",
       "4            0.231       0.13100           6     3.128601           1   \n",
       "...            ...           ...         ...          ...         ...   \n",
       "30342        0.171       0.11800           2     3.233173           1   \n",
       "30343        0.744       0.85900          11     1.152469           1   \n",
       "30344        0.572       0.85200           6     1.550112           0   \n",
       "30345        0.761       0.52500          11     1.931521           1   \n",
       "30346        0.341       0.19700           9     2.962692           1   \n",
       "\n",
       "       Store_Presence   Score_1   Score_2  Score_3  Score_4       time  \\\n",
       "0             0.99200  0.944000 -2.314658   0.1100  113.911  12.150163   \n",
       "1             0.94400  0.900000 -2.047943   0.0382   76.332  12.136256   \n",
       "2             0.03870  0.000000 -2.009915   0.4530  124.075  12.056081   \n",
       "3             0.84900  0.931000 -2.198225   0.0641   79.037  12.122691   \n",
       "4             0.93700  0.000000 -2.216407   0.0677  109.560  12.136224   \n",
       "...               ...       ...       ...      ...      ...        ...   \n",
       "30342         0.86100  0.871000 -2.373008   0.0539   78.303  12.165454   \n",
       "30343         0.02560  0.000063 -2.429283   0.7870   91.977  12.357879   \n",
       "30344         0.00105  0.000000 -2.472188   0.3780  129.969  12.284935   \n",
       "30345         0.44000  0.000007 -2.384880   0.5310   80.870  12.383403   \n",
       "30346         0.98600  0.963000 -2.525729   0.9650  115.107  11.198215   \n",
       "\n",
       "       popularity  mean_presence_per_store  min_presence_per_store  \\\n",
       "0             3.0                 0.732370                0.000074   \n",
       "1             3.0                 0.743490                0.000003   \n",
       "2             3.0                 0.378823                0.000075   \n",
       "3             4.0                 0.768343                0.000827   \n",
       "4             2.0                 0.759000                0.000002   \n",
       "...           ...                      ...                     ...   \n",
       "30342         NaN                 0.729218                0.000106   \n",
       "30343         NaN                 0.332461                0.002150   \n",
       "30344         NaN                 0.355290                0.000071   \n",
       "30345         NaN                 0.380058                0.028100   \n",
       "30346         NaN                 0.674519                0.000080   \n",
       "\n",
       "       max_presence_per_store  Store_mean_encoding  \n",
       "0                       0.995             1.573718  \n",
       "1                       0.995             1.314413  \n",
       "2                       0.986             0.886485  \n",
       "3                       0.995             1.554834  \n",
       "4                       0.981             1.375381  \n",
       "...                       ...                  ...  \n",
       "30342                   0.986             1.421353  \n",
       "30343                   0.941             0.506643  \n",
       "30344                   0.996             0.681453  \n",
       "30345                   0.922             0.849126  \n",
       "30346                   0.995             1.302445  \n",
       "\n",
       "[30347 rows x 16 columns]"
      ]
     },
     "execution_count": 266,
     "metadata": {},
     "output_type": "execute_result"
    }
   ],
   "source": [
    "df"
   ]
  },
  {
   "cell_type": "code",
   "execution_count": null,
   "metadata": {},
   "outputs": [
    {
     "name": "stderr",
     "output_type": "stream",
     "text": [
      "\u001b[32m[I 2021-02-07 15:37:56,224]\u001b[0m A new study created in memory with name: no-name-0a4aad0f-4874-4fae-ad87-0e14cec99d82\u001b[0m\n",
      "\u001b[32m[I 2021-02-07 15:38:40,450]\u001b[0m Trial 0 finished with value: 0.47798236320959087 and parameters: {'n_estimators': 692, 'max_depth': 29, 'learning_rate': 0.8867298976002695, 'colsample_bytree': 0.9457676004613931, 'reg_alpha': 127.02018140473285, 'reg_lambda': 86.82718043513862}. Best is trial 0 with value: 0.47798236320959087.\u001b[0m\n",
      "\u001b[32m[I 2021-02-07 15:39:43,550]\u001b[0m Trial 1 finished with value: 0.46986859049663393 and parameters: {'n_estimators': 1432, 'max_depth': 24, 'learning_rate': 0.5701483271973637, 'colsample_bytree': 0.5058617990223292, 'reg_alpha': 68.601617373017, 'reg_lambda': 170.6828399494092}. Best is trial 1 with value: 0.46986859049663393.\u001b[0m\n",
      "\u001b[32m[I 2021-02-07 15:40:31,766]\u001b[0m Trial 2 finished with value: 0.4792628825494579 and parameters: {'n_estimators': 994, 'max_depth': 13, 'learning_rate': 0.46085627291137693, 'colsample_bytree': 0.7280812101526112, 'reg_alpha': 128.50132127512606, 'reg_lambda': 66.40441611808096}. Best is trial 1 with value: 0.46986859049663393.\u001b[0m\n",
      "\u001b[32m[I 2021-02-07 15:41:17,437]\u001b[0m Trial 3 finished with value: 0.47876830582589575 and parameters: {'n_estimators': 937, 'max_depth': 15, 'learning_rate': 0.6409322679187625, 'colsample_bytree': 0.592748525704199, 'reg_alpha': 116.68969021567071, 'reg_lambda': 178.0861243044977}. Best is trial 1 with value: 0.46986859049663393.\u001b[0m\n",
      "\u001b[32m[I 2021-02-07 15:44:28,339]\u001b[0m Trial 4 finished with value: 0.39386064418269523 and parameters: {'n_estimators': 560, 'max_depth': 22, 'learning_rate': 0.04382952684641338, 'colsample_bytree': 0.6512239182259857, 'reg_alpha': 7.908001891952128, 'reg_lambda': 5.636681818261152}. Best is trial 4 with value: 0.39386064418269523.\u001b[0m\n",
      "\u001b[32m[I 2021-02-07 15:45:21,332]\u001b[0m Trial 5 finished with value: 0.48674412565886466 and parameters: {'n_estimators': 850, 'max_depth': 21, 'learning_rate': 0.2201084211154742, 'colsample_bytree': 0.9549027576437326, 'reg_alpha': 190.03349867399876, 'reg_lambda': 57.9992646555746}. Best is trial 4 with value: 0.39386064418269523.\u001b[0m\n",
      "\u001b[32m[I 2021-02-07 15:47:05,450]\u001b[0m Trial 6 finished with value: 0.42288039655295995 and parameters: {'n_estimators': 1039, 'max_depth': 14, 'learning_rate': 0.19487875686721068, 'colsample_bytree': 0.31658263138590725, 'reg_alpha': 9.950885616570536, 'reg_lambda': 127.78408074125562}. Best is trial 4 with value: 0.39386064418269523.\u001b[0m\n",
      "\u001b[32m[I 2021-02-07 15:47:45,555]\u001b[0m Trial 7 finished with value: 0.4846115890840226 and parameters: {'n_estimators': 560, 'max_depth': 10, 'learning_rate': 0.15263732929687235, 'colsample_bytree': 0.5515018852376988, 'reg_alpha': 166.54202723474333, 'reg_lambda': 192.32681582396808}. Best is trial 4 with value: 0.39386064418269523.\u001b[0m\n",
      "\u001b[32m[I 2021-02-07 15:48:58,045]\u001b[0m Trial 8 finished with value: 0.47632775947439315 and parameters: {'n_estimators': 1453, 'max_depth': 5, 'learning_rate': 0.2809748752942575, 'colsample_bytree': 0.970733543639638, 'reg_alpha': 107.40649152773473, 'reg_lambda': 58.31833364407407}. Best is trial 4 with value: 0.39386064418269523.\u001b[0m\n",
      "\u001b[32m[I 2021-02-07 15:49:33,774]\u001b[0m Trial 9 finished with value: 0.4713278023136764 and parameters: {'n_estimators': 760, 'max_depth': 21, 'learning_rate': 0.8471509095633618, 'colsample_bytree': 0.384782809662011, 'reg_alpha': 55.35593874642916, 'reg_lambda': 19.95171963925081}. Best is trial 4 with value: 0.39386064418269523.\u001b[0m\n",
      "\u001b[32m[I 2021-02-07 15:52:39,008]\u001b[0m Trial 10 finished with value: 0.41764596065243387 and parameters: {'n_estimators': 495, 'max_depth': 29, 'learning_rate': 0.027341176852269843, 'colsample_bytree': 0.771507838305483, 'reg_alpha': 12.017742552982636, 'reg_lambda': 5.33965876407115}. Best is trial 4 with value: 0.39386064418269523.\u001b[0m\n",
      "\u001b[32m[I 2021-02-07 15:55:59,346]\u001b[0m Trial 11 finished with value: 0.37665214462753027 and parameters: {'n_estimators': 426, 'max_depth': 30, 'learning_rate': 0.03755266371927243, 'colsample_bytree': 0.7758997214287253, 'reg_alpha': 3.5371921763140026, 'reg_lambda': 6.940837297466158}. Best is trial 11 with value: 0.37665214462753027.\u001b[0m\n",
      "\u001b[32m[I 2021-02-07 15:57:47,497]\u001b[0m Trial 12 finished with value: 0.45852686960758643 and parameters: {'n_estimators': 409, 'max_depth': 25, 'learning_rate': 0.03281289524222998, 'colsample_bytree': 0.814342523617021, 'reg_alpha': 38.27645858005013, 'reg_lambda': 1.030563984757391}. Best is trial 11 with value: 0.37665214462753027.\u001b[0m\n",
      "\u001b[32m[I 2021-02-07 15:58:50,711]\u001b[0m Trial 13 finished with value: 0.3977248682527946 and parameters: {'n_estimators': 607, 'max_depth': 30, 'learning_rate': 0.34224461785430815, 'colsample_bytree': 0.6961991123815278, 'reg_alpha': 7.963456547849651, 'reg_lambda': 28.021111028061764}. Best is trial 11 with value: 0.37665214462753027.\u001b[0m\n",
      "\u001b[32m[I 2021-02-07 16:02:08,927]\u001b[0m Trial 14 finished with value: 0.4570810140428496 and parameters: {'n_estimators': 1218, 'max_depth': 19, 'learning_rate': 0.029740494100039438, 'colsample_bytree': 0.8564257541405778, 'reg_alpha': 34.95262054529212, 'reg_lambda': 124.80410944877075}. Best is trial 11 with value: 0.37665214462753027.\u001b[0m\n",
      "\u001b[32m[I 2021-02-07 16:02:35,661]\u001b[0m Trial 15 finished with value: 0.4713698410779745 and parameters: {'n_estimators': 408, 'max_depth': 25, 'learning_rate': 0.4178274837365325, 'colsample_bytree': 0.6401775272123733, 'reg_alpha': 80.70512401712995, 'reg_lambda': 35.955144729693146}. Best is trial 11 with value: 0.37665214462753027.\u001b[0m\n",
      "\u001b[32m[I 2021-02-07 16:03:22,425]\u001b[0m Trial 16 finished with value: 0.45497722450983463 and parameters: {'n_estimators': 418, 'max_depth': 27, 'learning_rate': 0.12264229614323352, 'colsample_bytree': 0.5115028683116019, 'reg_alpha': 31.194384850509593, 'reg_lambda': 4.065908533658888}. Best is trial 11 with value: 0.37665214462753027.\u001b[0m\n",
      "\u001b[32m[I 2021-02-07 16:04:30,183]\u001b[0m Trial 17 finished with value: 0.4074083862375774 and parameters: {'n_estimators': 670, 'max_depth': 19, 'learning_rate': 0.7363436723636052, 'colsample_bytree': 0.8769965202883117, 'reg_alpha': 4.054721389065305, 'reg_lambda': 34.95617223018256}. Best is trial 11 with value: 0.37665214462753027.\u001b[0m\n",
      "\u001b[32m[I 2021-02-07 16:05:29,040]\u001b[0m Trial 18 finished with value: 0.46524348688245115 and parameters: {'n_estimators': 514, 'max_depth': 22, 'learning_rate': 0.09831991096655746, 'colsample_bytree': 0.6664863790161362, 'reg_alpha': 52.227251478279676, 'reg_lambda': 102.46577814640966}. Best is trial 11 with value: 0.37665214462753027.\u001b[0m\n",
      "\u001b[32m[I 2021-02-07 16:06:32,164]\u001b[0m Trial 19 finished with value: 0.47509041295198334 and parameters: {'n_estimators': 1187, 'max_depth': 9, 'learning_rate': 0.320780716298258, 'colsample_bytree': 0.4484950004678311, 'reg_alpha': 88.25418396929757, 'reg_lambda': 13.69823539567372}. Best is trial 11 with value: 0.37665214462753027.\u001b[0m\n",
      "\u001b[32m[I 2021-02-07 16:09:11,678]\u001b[0m Trial 20 finished with value: 0.4819992525000161 and parameters: {'n_estimators': 793, 'max_depth': 17, 'learning_rate': 0.022106353885261495, 'colsample_bytree': 0.7490832153014507, 'reg_alpha': 152.70350791074495, 'reg_lambda': 52.30687030956757}. Best is trial 11 with value: 0.37665214462753027.\u001b[0m\n",
      "\u001b[32m[I 2021-02-07 16:09:57,380]\u001b[0m Trial 21 finished with value: 0.43187717776832524 and parameters: {'n_estimators': 616, 'max_depth': 30, 'learning_rate': 0.3757522970622291, 'colsample_bytree': 0.6861421028704563, 'reg_alpha': 18.249121576569934, 'reg_lambda': 29.12852019732305}. Best is trial 11 with value: 0.37665214462753027.\u001b[0m\n",
      "\u001b[32m[I 2021-02-07 16:11:10,884]\u001b[0m Trial 22 finished with value: 0.3869210059943881 and parameters: {'n_estimators': 519, 'max_depth': 27, 'learning_rate': 0.2404446760321231, 'colsample_bytree': 0.6109207992352637, 'reg_alpha': 5.357939785883747, 'reg_lambda': 2.132453084069456}. Best is trial 11 with value: 0.37665214462753027.\u001b[0m\n",
      "\u001b[32m[I 2021-02-07 16:13:03,401]\u001b[0m Trial 23 finished with value: 0.4601408149890536 and parameters: {'n_estimators': 489, 'max_depth': 27, 'learning_rate': 0.23588640856357523, 'colsample_bytree': 0.6086174246699122, 'reg_alpha': 0.46995156498132484, 'reg_lambda': 1.8207980361707756}. Best is trial 11 with value: 0.37665214462753027.\u001b[0m\n"
     ]
    },
    {
     "name": "stderr",
     "output_type": "stream",
     "text": [
      "\u001b[32m[I 2021-02-07 16:14:02,055]\u001b[0m Trial 24 finished with value: 0.4504117705155572 and parameters: {'n_estimators': 414, 'max_depth': 27, 'learning_rate': 0.10949565391513089, 'colsample_bytree': 0.8025141346888667, 'reg_alpha': 28.034446822484128, 'reg_lambda': 43.149800580853636}. Best is trial 11 with value: 0.37665214462753027.\u001b[0m\n",
      "\u001b[32m[I 2021-02-07 16:19:40,062]\u001b[0m Trial 25 finished with value: 0.38163182338218754 and parameters: {'n_estimators': 661, 'max_depth': 23, 'learning_rate': 0.0897155944285809, 'colsample_bytree': 0.581012166072796, 'reg_alpha': 0.5089267417404582, 'reg_lambda': 83.59003228016928}. Best is trial 11 with value: 0.37665214462753027.\u001b[0m\n",
      "\u001b[32m[I 2021-02-07 16:20:31,497]\u001b[0m Trial 26 finished with value: 0.4632839312190146 and parameters: {'n_estimators': 716, 'max_depth': 24, 'learning_rate': 0.19510130132789089, 'colsample_bytree': 0.5790764829616019, 'reg_alpha': 46.508581836629546, 'reg_lambda': 140.74135650486807}. Best is trial 11 with value: 0.37665214462753027.\u001b[0m\n",
      "\u001b[32m[I 2021-02-07 16:21:29,389]\u001b[0m Trial 27 finished with value: 0.45025009494781315 and parameters: {'n_estimators': 901, 'max_depth': 28, 'learning_rate': 0.27437350044384157, 'colsample_bytree': 0.47993131791395693, 'reg_alpha': 23.99958072760714, 'reg_lambda': 75.97285375920104}. Best is trial 11 with value: 0.37665214462753027.\u001b[0m\n",
      "\u001b[32m[I 2021-02-07 16:22:02,208]\u001b[0m Trial 28 finished with value: 0.47151513287091085 and parameters: {'n_estimators': 636, 'max_depth': 26, 'learning_rate': 0.5057998062752552, 'colsample_bytree': 0.40135215628128446, 'reg_alpha': 68.21907475229573, 'reg_lambda': 100.84789597280415}. Best is trial 11 with value: 0.37665214462753027.\u001b[0m\n",
      "\u001b[32m[I 2021-02-07 16:23:42,907]\u001b[0m Trial 29 finished with value: 0.44045447972873 and parameters: {'n_estimators': 712, 'max_depth': 30, 'learning_rate': 0.09198385150754798, 'colsample_bytree': 0.9058211076951557, 'reg_alpha': 22.576628268740414, 'reg_lambda': 92.94192621547862}. Best is trial 11 with value: 0.37665214462753027.\u001b[0m\n",
      "\u001b[32m[I 2021-02-07 16:24:10,373]\u001b[0m Trial 30 finished with value: 0.4621968083469869 and parameters: {'n_estimators': 483, 'max_depth': 23, 'learning_rate': 0.9672146576504153, 'colsample_bytree': 0.7235352906746254, 'reg_alpha': 40.670558126665526, 'reg_lambda': 116.15583153404168}. Best is trial 11 with value: 0.37665214462753027.\u001b[0m\n",
      "\u001b[32m[I 2021-02-07 16:28:37,499]\u001b[0m Trial 31 finished with value: 0.4004729777395912 and parameters: {'n_estimators': 554, 'max_depth': 19, 'learning_rate': 0.06865780553214705, 'colsample_bytree': 0.6476631553628077, 'reg_alpha': 0.26010296249055376, 'reg_lambda': 16.524009528354917}. Best is trial 11 with value: 0.37665214462753027.\u001b[0m\n",
      "\u001b[32m[I 2021-02-07 16:31:47,242]\u001b[0m Trial 32 finished with value: 0.453375050577058 and parameters: {'n_estimators': 550, 'max_depth': 23, 'learning_rate': 0.010240621967681052, 'colsample_bytree': 0.5482600737401753, 'reg_alpha': 3.7948754682328225, 'reg_lambda': 79.55843475776922}. Best is trial 11 with value: 0.37665214462753027.\u001b[0m\n",
      "\u001b[32m[I 2021-02-07 16:33:21,212]\u001b[0m Trial 33 finished with value: 0.42958706183641926 and parameters: {'n_estimators': 467, 'max_depth': 21, 'learning_rate': 0.13358022899892638, 'colsample_bytree': 0.6295343889746283, 'reg_alpha': 15.011928457122101, 'reg_lambda': 156.09944504027388}. Best is trial 11 with value: 0.37665214462753027.\u001b[0m\n",
      "\u001b[32m[I 2021-02-07 16:37:01,626]\u001b[0m Trial 34 finished with value: 0.38970011467118265 and parameters: {'n_estimators': 614, 'max_depth': 28, 'learning_rate': 0.15673133678762874, 'colsample_bytree': 0.5570040326690711, 'reg_alpha': 2.4836299910190336, 'reg_lambda': 45.153799200336316}. Best is trial 11 with value: 0.37665214462753027.\u001b[0m\n",
      "\u001b[32m[I 2021-02-07 16:37:55,503]\u001b[0m Trial 35 finished with value: 0.46874984612433146 and parameters: {'n_estimators': 833, 'max_depth': 28, 'learning_rate': 0.16779545429774867, 'colsample_bytree': 0.5531939076725044, 'reg_alpha': 63.74900570731113, 'reg_lambda': 50.37558468481394}. Best is trial 11 with value: 0.37665214462753027.\u001b[0m\n",
      "\u001b[32m[I 2021-02-07 16:42:39,029]\u001b[0m Trial 36 finished with value: 0.42038225869137175 and parameters: {'n_estimators': 656, 'max_depth': 29, 'learning_rate': 0.2619780643114159, 'colsample_bytree': 0.4956729390094546, 'reg_alpha': 0.5459307063790946, 'reg_lambda': 68.7136103620949}. Best is trial 11 with value: 0.37665214462753027.\u001b[0m\n",
      "\u001b[32m[I 2021-02-07 16:43:45,333]\u001b[0m Trial 37 finished with value: 0.44484677066577843 and parameters: {'n_estimators': 595, 'max_depth': 25, 'learning_rate': 0.5846428796794203, 'colsample_bytree': 0.5976722798516527, 'reg_alpha': 20.747055205002972, 'reg_lambda': 88.20044679306855}. Best is trial 11 with value: 0.37665214462753027.\u001b[0m\n",
      "\u001b[32m[I 2021-02-07 16:45:27,704]\u001b[0m Trial 38 finished with value: 0.48976707157894533 and parameters: {'n_estimators': 1056, 'max_depth': 28, 'learning_rate': 0.17286942484256101, 'colsample_bytree': 0.4289880881684564, 'reg_alpha': 195.4764188506837, 'reg_lambda': 66.31658485168354}. Best is trial 11 with value: 0.37665214462753027.\u001b[0m\n",
      "\u001b[32m[I 2021-02-07 16:46:34,129]\u001b[0m Trial 39 finished with value: 0.47991815981151015 and parameters: {'n_estimators': 729, 'max_depth': 26, 'learning_rate': 0.4485395086079863, 'colsample_bytree': 0.518316393228525, 'reg_alpha': 126.74959560074713, 'reg_lambda': 41.278501318393594}. Best is trial 11 with value: 0.37665214462753027.\u001b[0m\n",
      "\u001b[32m[I 2021-02-07 16:51:10,838]\u001b[0m Trial 40 finished with value: 0.4738155259490893 and parameters: {'n_estimators': 447, 'max_depth': 30, 'learning_rate': 0.3307319992733543, 'colsample_bytree': 0.7062213112620208, 'reg_alpha': 0.11427490644233762, 'reg_lambda': 18.577963892345227}. Best is trial 11 with value: 0.37665214462753027.\u001b[0m\n",
      "\u001b[32m[I 2021-02-07 18:54:41,235]\u001b[0m Trial 41 finished with value: 0.4163862494098274 and parameters: {'n_estimators': 558, 'max_depth': 24, 'learning_rate': 0.06220821212516862, 'colsample_bytree': 0.5719694439598104, 'reg_alpha': 12.665762256351023, 'reg_lambda': 12.938682267771256}. Best is trial 11 with value: 0.37665214462753027.\u001b[0m\n",
      "\u001b[32m[I 2021-02-07 18:56:26,655]\u001b[0m Trial 42 finished with value: 0.4176934773436333 and parameters: {'n_estimators': 532, 'max_depth': 21, 'learning_rate': 0.22005047853016757, 'colsample_bytree': 0.6141629307128239, 'reg_alpha': 12.740384061683924, 'reg_lambda': 27.52772973897656}. Best is trial 11 with value: 0.37665214462753027.\u001b[0m\n",
      "\u001b[32m[I 2021-02-07 18:58:14,545]\u001b[0m Trial 43 finished with value: 0.4517383936972175 and parameters: {'n_estimators': 772, 'max_depth': 23, 'learning_rate': 0.14765729945904768, 'colsample_bytree': 0.6739955080359187, 'reg_alpha': 29.640268450507413, 'reg_lambda': 2.773627459505893}. Best is trial 11 with value: 0.37665214462753027.\u001b[0m\n",
      "\u001b[32m[I 2021-02-07 19:14:27,425]\u001b[0m Trial 44 finished with value: 0.4004265228912426 and parameters: {'n_estimators': 604, 'max_depth': 17, 'learning_rate': 0.059901599994494716, 'colsample_bytree': 0.7657999745880602, 'reg_alpha': 7.886542974349126, 'reg_lambda': 61.25665096242193}. Best is trial 11 with value: 0.37665214462753027.\u001b[0m\n",
      "\u001b[32m[I 2021-02-07 19:15:17,103]\u001b[0m Trial 45 finished with value: 0.46189150888502467 and parameters: {'n_estimators': 654, 'max_depth': 20, 'learning_rate': 0.2035489551287633, 'colsample_bytree': 0.5442024823571853, 'reg_alpha': 41.77125061685926, 'reg_lambda': 10.728267964411831}. Best is trial 11 with value: 0.37665214462753027.\u001b[0m\n",
      "\u001b[32m[I 2021-02-07 19:18:07,329]\u001b[0m Trial 46 finished with value: 0.42740611165027326 and parameters: {'n_estimators': 447, 'max_depth': 26, 'learning_rate': 0.06964352050653438, 'colsample_bytree': 0.7986547571047953, 'reg_alpha': 17.155602402047943, 'reg_lambda': 23.219193444583645}. Best is trial 11 with value: 0.37665214462753027.\u001b[0m\n",
      "\u001b[32m[I 2021-02-07 19:21:41,987]\u001b[0m Trial 47 finished with value: 0.461806309342679 and parameters: {'n_estimators': 583, 'max_depth': 29, 'learning_rate': 0.019195542282972707, 'colsample_bytree': 0.47004026822989087, 'reg_alpha': 32.265670965569896, 'reg_lambda': 48.30327036307723}. Best is trial 11 with value: 0.37665214462753027.\u001b[0m\n",
      "\u001b[32m[I 2021-02-07 19:22:55,192]\u001b[0m Trial 48 finished with value: 0.4670249873542566 and parameters: {'n_estimators': 521, 'max_depth': 22, 'learning_rate': 0.1420160140844266, 'colsample_bytree': 0.5253239941477287, 'reg_alpha': 55.717489780322566, 'reg_lambda': 109.35416420144087}. Best is trial 11 with value: 0.37665214462753027.\u001b[0m\n"
     ]
    },
    {
     "name": "stderr",
     "output_type": "stream",
     "text": [
      "\u001b[32m[I 2021-02-07 19:25:00,728]\u001b[0m Trial 49 finished with value: 0.4026052386053464 and parameters: {'n_estimators': 687, 'max_depth': 25, 'learning_rate': 0.2490690162036857, 'colsample_bytree': 0.9912956868710169, 'reg_alpha': 9.510323059695155, 'reg_lambda': 36.65718965628574}. Best is trial 11 with value: 0.37665214462753027.\u001b[0m\n",
      "\u001b[32m[I 2021-02-07 19:25:49,690]\u001b[0m Trial 50 finished with value: 0.48272684348383404 and parameters: {'n_estimators': 404, 'max_depth': 24, 'learning_rate': 0.30792528494057947, 'colsample_bytree': 0.8336076708798796, 'reg_alpha': 164.54899880682137, 'reg_lambda': 76.91599338106357}. Best is trial 11 with value: 0.37665214462753027.\u001b[0m\n",
      "\u001b[32m[I 2021-02-07 20:24:05,699]\u001b[0m Trial 51 finished with value: 0.39670424756551287 and parameters: {'n_estimators': 605, 'max_depth': 30, 'learning_rate': 0.36660563170238564, 'colsample_bytree': 0.698114668965117, 'reg_alpha': 7.518584552871392, 'reg_lambda': 29.829213215077058}. Best is trial 11 with value: 0.37665214462753027.\u001b[0m\n",
      "\u001b[32m[I 2021-02-07 20:25:31,976]\u001b[0m Trial 52 finished with value: 0.4133576144653273 and parameters: {'n_estimators': 507, 'max_depth': 28, 'learning_rate': 0.3528628709513115, 'colsample_bytree': 0.730309789273789, 'reg_alpha': 2.5579192920412184, 'reg_lambda': 6.854004031137777}. Best is trial 11 with value: 0.37665214462753027.\u001b[0m\n",
      "\u001b[32m[I 2021-02-07 20:27:43,569]\u001b[0m Trial 53 finished with value: 0.44271845109090596 and parameters: {'n_estimators': 1382, 'max_depth': 30, 'learning_rate': 0.3920673754798694, 'colsample_bytree': 0.6561627796508744, 'reg_alpha': 23.188772085947974, 'reg_lambda': 24.4167033579718}. Best is trial 11 with value: 0.37665214462753027.\u001b[0m\n",
      "\u001b[32m[I 2021-02-07 20:29:54,012]\u001b[0m Trial 54 finished with value: 0.40055711811714195 and parameters: {'n_estimators': 823, 'max_depth': 27, 'learning_rate': 0.30614693801663595, 'colsample_bytree': 0.6251383612197733, 'reg_alpha': 8.43002391943124, 'reg_lambda': 31.672885142050596}. Best is trial 11 with value: 0.37665214462753027.\u001b[0m\n",
      "\u001b[32m[I 2021-02-07 20:31:46,444]\u001b[0m Trial 55 finished with value: 0.4883000513457645 and parameters: {'n_estimators': 627, 'max_depth': 15, 'learning_rate': 0.4879035510845877, 'colsample_bytree': 0.7059565060866779, 'reg_alpha': 0.3432341108942808, 'reg_lambda': 0.6914277140183038}. Best is trial 11 with value: 0.37665214462753027.\u001b[0m\n",
      "\u001b[32m[I 2021-02-07 20:33:46,327]\u001b[0m Trial 56 finished with value: 0.4308945169716877 and parameters: {'n_estimators': 891, 'max_depth': 29, 'learning_rate': 0.18127826059416083, 'colsample_bytree': 0.5747249266141446, 'reg_alpha': 17.293817840503547, 'reg_lambda': 10.027049040926919}. Best is trial 11 with value: 0.37665214462753027.\u001b[0m\n",
      "\u001b[32m[I 2021-02-07 20:35:13,555]\u001b[0m Trial 57 finished with value: 0.4558444664008103 and parameters: {'n_estimators': 437, 'max_depth': 26, 'learning_rate': 0.10488863013966054, 'colsample_bytree': 0.768414279185049, 'reg_alpha': 34.45246538381494, 'reg_lambda': 0.15220751592510773}. Best is trial 11 with value: 0.37665214462753027.\u001b[0m\n",
      "\u001b[32m[I 2021-02-07 22:12:37,663]\u001b[0m Trial 58 finished with value: 0.47506347161008416 and parameters: {'n_estimators': 579, 'max_depth': 28, 'learning_rate': 0.23180904181586182, 'colsample_bytree': 0.6858442616902798, 'reg_alpha': 105.7467242601287, 'reg_lambda': 40.34295281435635}. Best is trial 11 with value: 0.37665214462753027.\u001b[0m\n",
      "\u001b[32m[I 2021-02-07 22:14:48,398]\u001b[0m Trial 59 finished with value: 0.4727449309110511 and parameters: {'n_estimators': 754, 'max_depth': 4, 'learning_rate': 0.04563011184327347, 'colsample_bytree': 0.599272094021752, 'reg_alpha': 83.51853875496352, 'reg_lambda': 17.586175268615705}. Best is trial 11 with value: 0.37665214462753027.\u001b[0m\n",
      "\u001b[32m[I 2021-02-07 22:15:28,464]\u001b[0m Trial 60 finished with value: 0.4514335360167258 and parameters: {'n_estimators': 669, 'max_depth': 12, 'learning_rate': 0.27943550955924085, 'colsample_bytree': 0.6589968207460988, 'reg_alpha': 27.820464762899476, 'reg_lambda': 55.88439685568718}. Best is trial 11 with value: 0.37665214462753027.\u001b[0m\n",
      "\u001b[32m[I 2021-02-07 22:16:26,671]\u001b[0m Trial 61 finished with value: 0.3970916193423115 and parameters: {'n_estimators': 618, 'max_depth': 30, 'learning_rate': 0.36758296018164094, 'colsample_bytree': 0.7396891129534027, 'reg_alpha': 7.361231117047772, 'reg_lambda': 31.70409190805897}. Best is trial 11 with value: 0.37665214462753027.\u001b[0m\n",
      "\u001b[32m[I 2021-02-07 22:17:36,400]\u001b[0m Trial 62 finished with value: 0.398611303082642 and parameters: {'n_estimators': 485, 'max_depth': 30, 'learning_rate': 0.5578101896970165, 'colsample_bytree': 0.8242009113999771, 'reg_alpha': 7.134009376259168, 'reg_lambda': 198.7694268823371}. Best is trial 11 with value: 0.37665214462753027.\u001b[0m\n",
      "\u001b[32m[I 2021-02-07 22:18:21,996]\u001b[0m Trial 63 finished with value: 0.4189238052744729 and parameters: {'n_estimators': 622, 'max_depth': 29, 'learning_rate': 0.3795390648123971, 'colsample_bytree': 0.7414299499373881, 'reg_alpha': 13.068803484838934, 'reg_lambda': 32.06674234313147}. Best is trial 11 with value: 0.37665214462753027.\u001b[0m\n",
      "\u001b[32m[I 2021-02-07 22:21:22,996]\u001b[0m Trial 64 finished with value: 0.4767318693293639 and parameters: {'n_estimators': 702, 'max_depth': 27, 'learning_rate': 0.40983186531014687, 'colsample_bytree': 0.7943719359601551, 'reg_alpha': 0.4054280305451803, 'reg_lambda': 25.61689937787006}. Best is trial 11 with value: 0.37665214462753027.\u001b[0m\n",
      "\u001b[32m[I 2021-02-07 22:21:59,472]\u001b[0m Trial 65 finished with value: 0.44600419535725466 and parameters: {'n_estimators': 531, 'max_depth': 30, 'learning_rate': 0.44066821743959705, 'colsample_bytree': 0.7110055479042016, 'reg_alpha': 22.953127684812294, 'reg_lambda': 47.635709934585826}. Best is trial 11 with value: 0.37665214462753027.\u001b[0m\n",
      "\u001b[32m[I 2021-02-07 22:24:22,173]\u001b[0m Trial 66 finished with value: 0.3886261697307925 and parameters: {'n_estimators': 567, 'max_depth': 27, 'learning_rate': 0.10054564419686249, 'colsample_bytree': 0.6375978829055526, 'reg_alpha': 6.666501826581969, 'reg_lambda': 18.32802110231732}. Best is trial 11 with value: 0.37665214462753027.\u001b[0m\n",
      "\u001b[32m[I 2021-02-07 22:25:36,954]\u001b[0m Trial 67 finished with value: 0.4338412994373845 and parameters: {'n_estimators': 572, 'max_depth': 25, 'learning_rate': 0.09921699626882091, 'colsample_bytree': 0.6386166310888707, 'reg_alpha': 18.309466776214467, 'reg_lambda': 7.841473153698054}. Best is trial 11 with value: 0.37665214462753027.\u001b[0m\n",
      "\u001b[32m[I 2021-02-07 22:27:40,262]\u001b[0m Trial 68 finished with value: 0.38842485632838025 and parameters: {'n_estimators': 491, 'max_depth': 18, 'learning_rate': 0.12650853012958246, 'colsample_bytree': 0.5859870983301286, 'reg_alpha': 5.998106387678442, 'reg_lambda': 20.524133974979858}. Best is trial 11 with value: 0.37665214462753027.\u001b[0m\n",
      "\u001b[32m[I 2021-02-07 22:29:34,819]\u001b[0m Trial 69 finished with value: 0.47473545631343145 and parameters: {'n_estimators': 459, 'max_depth': 18, 'learning_rate': 0.01322095558106107, 'colsample_bytree': 0.5842237760004962, 'reg_alpha': 49.642547813189296, 'reg_lambda': 20.592408703982166}. Best is trial 11 with value: 0.37665214462753027.\u001b[0m\n",
      "\u001b[32m[I 2021-02-07 22:30:19,191]\u001b[0m Trial 70 finished with value: 0.45081121099826826 and parameters: {'n_estimators': 405, 'max_depth': 16, 'learning_rate': 0.1370714670011816, 'colsample_bytree': 0.56001187833302, 'reg_alpha': 26.798433803631006, 'reg_lambda': 13.961497589553083}. Best is trial 11 with value: 0.37665214462753027.\u001b[0m\n",
      "\u001b[32m[I 2021-02-07 22:33:28,580]\u001b[0m Trial 71 finished with value: 0.38414967235831166 and parameters: {'n_estimators': 514, 'max_depth': 22, 'learning_rate': 0.0917641695231597, 'colsample_bytree': 0.5311725562776748, 'reg_alpha': 3.668447799082361, 'reg_lambda': 19.531795247380362}. Best is trial 11 with value: 0.37665214462753027.\u001b[0m\n",
      "\u001b[32m[I 2021-02-07 22:36:11,290]\u001b[0m Trial 72 finished with value: 0.39758850141645813 and parameters: {'n_estimators': 501, 'max_depth': 20, 'learning_rate': 0.08376898839814736, 'colsample_bytree': 0.5287851435734329, 'reg_alpha': 1.7076501535933382, 'reg_lambda': 0.4699026023691324}. Best is trial 11 with value: 0.37665214462753027.\u001b[0m\n",
      "\u001b[32m[I 2021-02-07 22:37:23,385]\u001b[0m Trial 73 finished with value: 0.4238435621588217 and parameters: {'n_estimators': 547, 'max_depth': 20, 'learning_rate': 0.11751068979661737, 'colsample_bytree': 0.5019425726930989, 'reg_alpha': 14.525314674192742, 'reg_lambda': 7.680276066674407}. Best is trial 11 with value: 0.37665214462753027.\u001b[0m\n"
     ]
    },
    {
     "name": "stderr",
     "output_type": "stream",
     "text": [
      "\u001b[32m[I 2021-02-07 22:41:39,857]\u001b[0m Trial 74 finished with value: 0.37518409185278234 and parameters: {'n_estimators': 482, 'max_depth': 22, 'learning_rate': 0.044751285509061475, 'colsample_bytree': 0.6100117137361897, 'reg_alpha': 0.10412908424624456, 'reg_lambda': 20.154156504159438}. Best is trial 74 with value: 0.37518409185278234.\u001b[0m\n",
      "\u001b[32m[I 2021-02-07 22:43:28,395]\u001b[0m Trial 75 finished with value: 0.38776719364218937 and parameters: {'n_estimators': 433, 'max_depth': 22, 'learning_rate': 0.16238167052043545, 'colsample_bytree': 0.6092113292704374, 'reg_alpha': 5.586817064417612, 'reg_lambda': 19.2277125755026}. Best is trial 74 with value: 0.37518409185278234.\u001b[0m\n",
      "\u001b[32m[I 2021-02-07 22:47:05,053]\u001b[0m Trial 76 finished with value: 0.4062017558842889 and parameters: {'n_estimators': 430, 'max_depth': 22, 'learning_rate': 0.048813406570809806, 'colsample_bytree': 0.6179869036340861, 'reg_alpha': 0.12902850545923894, 'reg_lambda': 180.0245660345456}. Best is trial 74 with value: 0.37518409185278234.\u001b[0m\n",
      "\u001b[32m[I 2021-02-07 22:47:52,642]\u001b[0m Trial 77 finished with value: 0.4386730125063682 and parameters: {'n_estimators': 474, 'max_depth': 18, 'learning_rate': 0.20124906010267074, 'colsample_bytree': 0.5970051334860043, 'reg_alpha': 20.67819367060476, 'reg_lambda': 20.20861371499451}. Best is trial 74 with value: 0.37518409185278234.\u001b[0m\n",
      "\u001b[32m[I 2021-02-07 22:49:05,035]\u001b[0m Trial 78 finished with value: 0.46006534943514166 and parameters: {'n_estimators': 515, 'max_depth': 23, 'learning_rate': 0.08100618592722378, 'colsample_bytree': 0.6376793713334183, 'reg_alpha': 37.6035596884254, 'reg_lambda': 142.4723352514047}. Best is trial 74 with value: 0.37518409185278234.\u001b[0m\n",
      "\u001b[32m[I 2021-02-07 22:50:33,783]\u001b[0m Trial 79 finished with value: 0.4188186510934642 and parameters: {'n_estimators': 477, 'max_depth': 21, 'learning_rate': 0.12197768017015607, 'colsample_bytree': 0.5358545410968792, 'reg_alpha': 12.36845767805201, 'reg_lambda': 37.81897315063282}. Best is trial 74 with value: 0.37518409185278234.\u001b[0m\n",
      "\u001b[32m[I 2021-02-07 22:53:20,469]\u001b[0m Trial 80 finished with value: 0.4420780774207969 and parameters: {'n_estimators': 408, 'max_depth': 22, 'learning_rate': 0.011792911889659752, 'colsample_bytree': 0.6752666406521692, 'reg_alpha': 5.885871241711101, 'reg_lambda': 14.65686023878124}. Best is trial 74 with value: 0.37518409185278234.\u001b[0m\n",
      "\u001b[32m[I 2021-02-07 22:55:52,764]\u001b[0m Trial 81 finished with value: 0.3865392477184701 and parameters: {'n_estimators': 540, 'max_depth': 24, 'learning_rate': 0.14787843561491493, 'colsample_bytree': 0.5550508913247506, 'reg_alpha': 4.626646625719755, 'reg_lambda': 24.187845146779296}. Best is trial 74 with value: 0.37518409185278234.\u001b[0m\n",
      "\u001b[32m[I 2021-02-07 22:57:03,702]\u001b[0m Trial 82 finished with value: 0.41564300247461405 and parameters: {'n_estimators': 545, 'max_depth': 24, 'learning_rate': 0.1758720791216153, 'colsample_bytree': 0.5723525719756157, 'reg_alpha': 12.031467337432431, 'reg_lambda': 23.728583062171023}. Best is trial 74 with value: 0.37518409185278234.\u001b[0m\n",
      "\u001b[32m[I 2021-02-07 23:00:18,561]\u001b[0m Trial 83 finished with value: 0.3838487805021567 and parameters: {'n_estimators': 443, 'max_depth': 23, 'learning_rate': 0.042114783257741595, 'colsample_bytree': 0.48564118379703936, 'reg_alpha': 3.8255876332358523, 'reg_lambda': 16.837788989047905}. Best is trial 74 with value: 0.37518409185278234.\u001b[0m\n",
      "\u001b[32m[I 2021-02-07 23:02:23,865]\u001b[0m Trial 84 finished with value: 0.4395425590138859 and parameters: {'n_estimators': 452, 'max_depth': 23, 'learning_rate': 0.03469717683472888, 'colsample_bytree': 0.47964945286578814, 'reg_alpha': 17.687938732591203, 'reg_lambda': 6.087386196402686}. Best is trial 74 with value: 0.37518409185278234.\u001b[0m\n",
      "\u001b[32m[I 2021-02-07 23:03:10,838]\u001b[0m Trial 85 finished with value: 0.4043486846773297 and parameters: {'n_estimators': 433, 'max_depth': 24, 'learning_rate': 0.7714153318692873, 'colsample_bytree': 0.32111389488956105, 'reg_alpha': 4.231492491884692, 'reg_lambda': 12.320432953301877}. Best is trial 74 with value: 0.37518409185278234.\u001b[0m\n",
      "\u001b[32m[I 2021-02-07 23:04:02,157]\u001b[0m Trial 86 finished with value: 0.44981653170454994 and parameters: {'n_estimators': 505, 'max_depth': 21, 'learning_rate': 0.1503858970652401, 'colsample_bytree': 0.498593180786847, 'reg_alpha': 24.8459852203179, 'reg_lambda': 25.11282619534906}. Best is trial 74 with value: 0.37518409185278234.\u001b[0m\n",
      "\u001b[32m[I 2021-02-07 23:22:54,114]\u001b[0m Trial 87 finished with value: 0.4168139886374738 and parameters: {'n_estimators': 1019, 'max_depth': 20, 'learning_rate': 0.07211666200426492, 'colsample_bytree': 0.4220250886432133, 'reg_alpha': 11.386757533930687, 'reg_lambda': 3.8664830859971104}. Best is trial 74 with value: 0.37518409185278234.\u001b[0m\n",
      "\u001b[32m[I 2021-02-07 23:26:27,091]\u001b[0m Trial 88 finished with value: 0.3963437461206143 and parameters: {'n_estimators': 468, 'max_depth': 22, 'learning_rate': 0.12418024510065889, 'colsample_bytree': 0.6118303564427859, 'reg_alpha': 0.8862487250922468, 'reg_lambda': 35.11575776889634}. Best is trial 74 with value: 0.37518409185278234.\u001b[0m\n",
      "\u001b[32m[I 2021-02-07 23:27:11,667]\u001b[0m Trial 89 finished with value: 0.4351700095201985 and parameters: {'n_estimators': 493, 'max_depth': 23, 'learning_rate': 0.21792546992322004, 'colsample_bytree': 0.5610264645304942, 'reg_alpha': 18.405942785367145, 'reg_lambda': 15.043747992255163}. Best is trial 74 with value: 0.37518409185278234.\u001b[0m\n",
      "\u001b[32m[I 2021-02-07 23:30:04,042]\u001b[0m Trial 90 finished with value: 0.3948564800775035 and parameters: {'n_estimators': 406, 'max_depth': 19, 'learning_rate': 0.04774713550604767, 'colsample_bytree': 0.5118354608234525, 'reg_alpha': 3.904313482457804, 'reg_lambda': 44.1506651461204}. Best is trial 74 with value: 0.37518409185278234.\u001b[0m\n",
      "\u001b[32m[I 2021-02-08 00:01:04,415]\u001b[0m Trial 91 finished with value: 0.388188283824029 and parameters: {'n_estimators': 570, 'max_depth': 25, 'learning_rate': 0.09512082862239704, 'colsample_bytree': 0.5876987220981533, 'reg_alpha': 6.302351674011603, 'reg_lambda': 18.524150013221636}. Best is trial 74 with value: 0.37518409185278234.\u001b[0m\n",
      "\u001b[32m[I 2021-02-08 00:02:41,111]\u001b[0m Trial 92 finished with value: 0.4124657817808919 and parameters: {'n_estimators': 539, 'max_depth': 26, 'learning_rate': 0.16625029514372305, 'colsample_bytree': 0.5974034190975716, 'reg_alpha': 11.473561629401532, 'reg_lambda': 21.23317728608393}. Best is trial 74 with value: 0.37518409185278234.\u001b[0m\n",
      "\u001b[32m[I 2021-02-08 00:07:08,305]\u001b[0m Trial 93 finished with value: 0.38381078117505485 and parameters: {'n_estimators': 520, 'max_depth': 25, 'learning_rate': 0.09430318626767316, 'colsample_bytree': 0.5449247153573044, 'reg_alpha': 4.936162650885471, 'reg_lambda': 11.179836378314421}. Best is trial 74 with value: 0.37518409185278234.\u001b[0m\n",
      "\u001b[32m[I 2021-02-08 00:12:10,298]\u001b[0m Trial 94 finished with value: 0.3828836561149629 and parameters: {'n_estimators': 434, 'max_depth': 25, 'learning_rate': 0.08402651580194903, 'colsample_bytree': 0.4746997658616555, 'reg_alpha': 0.1575981418829695, 'reg_lambda': 27.839584291043806}. Best is trial 74 with value: 0.37518409185278234.\u001b[0m\n",
      "\u001b[32m[I 2021-02-08 02:18:14,411]\u001b[0m Trial 95 finished with value: 0.40071444432037573 and parameters: {'n_estimators': 430, 'max_depth': 23, 'learning_rate': 0.010826962584355171, 'colsample_bytree': 0.4481866919407244, 'reg_alpha': 0.23835074541902745, 'reg_lambda': 7.864014958303088}. Best is trial 74 with value: 0.37518409185278234.\u001b[0m\n",
      "\u001b[32m[I 2021-02-08 02:20:58,905]\u001b[0m Trial 96 finished with value: 0.42638920281625686 and parameters: {'n_estimators': 459, 'max_depth': 24, 'learning_rate': 0.06885931773554942, 'colsample_bytree': 0.5376927558184964, 'reg_alpha': 14.452270438899868, 'reg_lambda': 27.720955994269787}. Best is trial 74 with value: 0.37518409185278234.\u001b[0m\n",
      "\u001b[32m[I 2021-02-08 02:24:11,087]\u001b[0m Trial 97 finished with value: 0.4811110272942189 and parameters: {'n_estimators': 1090, 'max_depth': 25, 'learning_rate': 0.034151054449810196, 'colsample_bytree': 0.4477623581914762, 'reg_alpha': 145.508936971489, 'reg_lambda': 11.406542318947185}. Best is trial 74 with value: 0.37518409185278234.\u001b[0m\n",
      "\u001b[32m[I 2021-02-08 02:27:32,990]\u001b[0m Trial 98 finished with value: 0.438266354079692 and parameters: {'n_estimators': 520, 'max_depth': 24, 'learning_rate': 0.19191844900062355, 'colsample_bytree': 0.4808576181515836, 'reg_alpha': 0.6213084816004537, 'reg_lambda': 0.7736330297356293}. Best is trial 74 with value: 0.37518409185278234.\u001b[0m\n"
     ]
    },
    {
     "name": "stderr",
     "output_type": "stream",
     "text": [
      "\u001b[32m[I 2021-02-08 04:29:50,484]\u001b[0m Trial 99 finished with value: 0.40635298626220884 and parameters: {'n_estimators': 402, 'max_depth': 22, 'learning_rate': 0.1506389782945895, 'colsample_bytree': 0.5460006542018415, 'reg_alpha': 9.958786722869824, 'reg_lambda': 30.958353416545897}. Best is trial 74 with value: 0.37518409185278234.\u001b[0m\n",
      "\u001b[32m[I 2021-02-08 04:33:03,030]\u001b[0m Trial 100 finished with value: 0.437265205326209 and parameters: {'n_estimators': 426, 'max_depth': 26, 'learning_rate': 0.053777149008927695, 'colsample_bytree': 0.9138224289605952, 'reg_alpha': 21.35420312732817, 'reg_lambda': 40.320585984745605}. Best is trial 74 with value: 0.37518409185278234.\u001b[0m\n",
      "\u001b[32m[I 2021-02-08 04:38:07,241]\u001b[0m Trial 101 finished with value: 0.3852343656875915 and parameters: {'n_estimators': 587, 'max_depth': 25, 'learning_rate': 0.10382209604983741, 'colsample_bytree': 0.5151009637778122, 'reg_alpha': 4.9012943873035475, 'reg_lambda': 17.379908316612376}. Best is trial 74 with value: 0.37518409185278234.\u001b[0m\n",
      "\u001b[32m[I 2021-02-08 06:43:29,812]\u001b[0m Trial 102 finished with value: 0.3840044461556093 and parameters: {'n_estimators': 598, 'max_depth': 24, 'learning_rate': 0.0816136107725862, 'colsample_bytree': 0.5111078825126144, 'reg_alpha': 4.139745660058643, 'reg_lambda': 10.486261519052995}. Best is trial 74 with value: 0.37518409185278234.\u001b[0m\n",
      "\u001b[32m[I 2021-02-08 06:46:00,935]\u001b[0m Trial 103 finished with value: 0.4326077525813948 and parameters: {'n_estimators': 646, 'max_depth': 25, 'learning_rate': 0.08569335559323572, 'colsample_bytree': 0.4631436216328616, 'reg_alpha': 16.743127263157273, 'reg_lambda': 4.480370637386546}. Best is trial 74 with value: 0.37518409185278234.\u001b[0m\n",
      "\u001b[32m[I 2021-02-08 08:52:27,254]\u001b[0m Trial 104 finished with value: 0.40791445502974766 and parameters: {'n_estimators': 594, 'max_depth': 26, 'learning_rate': 0.032421255528395934, 'colsample_bytree': 0.5168853525445073, 'reg_alpha': 9.228764344336163, 'reg_lambda': 10.89958934770413}. Best is trial 74 with value: 0.37518409185278234.\u001b[0m\n",
      "\u001b[32m[I 2021-02-08 08:53:22,151]\u001b[0m Trial 105 finished with value: 0.4577507432573213 and parameters: {'n_estimators': 525, 'max_depth': 24, 'learning_rate': 0.11014789066810123, 'colsample_bytree': 0.3817827360352951, 'reg_alpha': 31.11836591586827, 'reg_lambda': 15.152990807224445}. Best is trial 74 with value: 0.37518409185278234.\u001b[0m\n",
      "\u001b[32m[I 2021-02-08 09:01:01,101]\u001b[0m Trial 106 finished with value: 0.3777202660609492 and parameters: {'n_estimators': 594, 'max_depth': 23, 'learning_rate': 0.059428533229286824, 'colsample_bytree': 0.48666632755265654, 'reg_alpha': 2.7933745238116985, 'reg_lambda': 25.994796473971263}. Best is trial 74 with value: 0.37518409185278234.\u001b[0m\n"
     ]
    }
   ],
   "source": [
    "import optuna\n",
    "def objective(trial):\n",
    "  param = {'n_estimators': trial.suggest_int('n_estimators', 400, 1500),\n",
    "           'max_depth': trial.suggest_int('max_depth', 4, 30),\n",
    "           #'min_samples_split': trial.suggest_int('min_samples_split', 5, 200),\n",
    "           #'min_samples_leaf': trial.suggest_int('min_samples_leaf', 1, 10),\n",
    "           'learning_rate': trial.suggest_uniform('learning_rate', 0.01, 1),\n",
    "           'colsample_bytree': trial.suggest_uniform('colsample_bytree', 0.3, 1),\n",
    "           #'num_leaves' : trial.suggest_uniform('num_leaves', 5, 1000),\n",
    "           'reg_alpha': trial.suggest_uniform('reg_alpha', 0.1, 200),\n",
    "           'reg_lambda': trial.suggest_uniform('reg_lambda', 0.1, 200)\n",
    "          }\n",
    "\n",
    "  skf = StratifiedKFold(n_splits = 5, shuffle=True, random_state=42) \n",
    "\n",
    "  for fold, (tr_ind, val_ind) in enumerate(skf.split(train[features], train[target])):\n",
    "\n",
    "    X_train, X_val     = train[features].loc[tr_ind], train[features].loc[val_ind]\n",
    "    y_train, y_val     = train[target][tr_ind], train[target][val_ind]\n",
    "    \n",
    "    model              = XGBClassifier(**param,\n",
    "                                              random_state=42, n_jobs=-1, eval_metric = 'mlogloss', use_label_encoder = False) \n",
    "    model.fit(X_train, y_train)\n",
    "    val_pred           = model.predict_proba(X_val) \n",
    "    accuracy           = log_loss(y_val, val_pred)\n",
    "    #print(f'\\nlog loss score for validation set is {accuracy}')\n",
    "\n",
    "  return accuracy\n",
    "  \n",
    "study = optuna.create_study(direction=\"minimize\") \n",
    "study.optimize(objective, n_trials=250)"
   ]
  },
  {
   "cell_type": "code",
   "execution_count": null,
   "metadata": {},
   "outputs": [],
   "source": []
  },
  {
   "cell_type": "code",
   "execution_count": null,
   "metadata": {},
   "outputs": [],
   "source": []
  }
 ],
 "metadata": {
  "kernelspec": {
   "display_name": "Python 3",
   "language": "python",
   "name": "python3"
  },
  "language_info": {
   "codemirror_mode": {
    "name": "ipython",
    "version": 3
   },
   "file_extension": ".py",
   "mimetype": "text/x-python",
   "name": "python",
   "nbconvert_exporter": "python",
   "pygments_lexer": "ipython3",
   "version": "3.7.6"
  }
 },
 "nbformat": 4,
 "nbformat_minor": 4
}
